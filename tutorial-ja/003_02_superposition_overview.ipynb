{
 "nbformat": 4,
 "nbformat_minor": 2,
 "metadata": {
  "language_info": {
   "name": "python",
   "codemirror_mode": {
    "name": "ipython",
    "version": 3
   }
  },
  "orig_nbformat": 2,
  "file_extension": ".py",
  "mimetype": "text/x-python",
  "name": "python",
  "npconvert_exporter": "python",
  "pygments_lexer": "ipython3",
  "version": 3
 },
 "cells": [
  {
   "cell_type": "markdown",
   "metadata": {},
   "source": [
    "# 量子重ね合わせと測定（概要）"
   ]
  },
  {
   "cell_type": "markdown",
   "metadata": {},
   "source": [
    "## Hゲート\n",
    "今回はアダマールゲートと呼ばれるHゲートを使います。\n",
    "\n",
    "Hゲートは以下のような行列になります。\n",
    "\n",
    "<img src=\"./img/003/003_02_0.png\" width=\"18%\">\n",
    "\n",
    "0,1 にHゲートを施すと以下のようになります。\n",
    "\n",
    "<img src=\"./img/003/003_02_1.png\" width=\"45%\">\n",
    "\n",
    "この状態にはもう一つ名前が付いていてそれぞれ + 状態、 - 状態と言います。"
   ]
  },
  {
   "cell_type": "markdown",
   "metadata": {},
   "source": [
    "## 重ね合わせの状態\n",
    "上で述べたHゲートを 0,1 に施すと1量子ビットに 0,1 が組み合わさっている状態になります。   \n",
    "このような状態のことを重ね合わせの状態と言います。\n",
    "\n",
    "上の状態で観測をすると 0,1 がそれぞれ 1/2 で出力されることがわかります。"
   ]
  },
  {
   "cell_type": "markdown",
   "metadata": {},
   "source": [
    "## マイナス状態の観測\n",
    "\\- 状態を観測した場合、上でも述べたように 0,1 がそれぞれ 1/2 で出力されます。これは + 状態と同じ結果になります。\n",
    "\n",
    "状態ベクトルを考える場合はベクトルを考えるので - も考慮されますが   \n",
    "観測は各係数の絶対値をとって計算するのでマイナスの係数は区別されません。"
   ]
  },
  {
   "cell_type": "code",
   "execution_count": null,
   "metadata": {},
   "outputs": [],
   "source": []
  }
 ]
}