{
  "nbformat": 4,
  "nbformat_minor": 0,
  "metadata": {
    "colab": {
      "name": "tutorial001_basic_circuit.ipynb",
      "version": "0.3.2",
      "provenance": []
    },
    "kernelspec": {
      "display_name": "Python 3",
      "language": "python",
      "name": "python3"
    }
  },
  "cells": [
    {
      "metadata": {
        "colab_type": "text",
        "id": "NjHnSAbHrInP"
      },
      "cell_type": "markdown",
      "source": [
        "# １量子ビットの基本の操作を覚える\n",
        "ここでは一番最初の量子コンピュータの計算の基本を確認したいと思います。\n",
        "blueqatがまだインストールされていない場合には、下記でインストールをしてください。"
      ]
    },
    {
      "cell_type": "code",
      "execution_count": null,
      "metadata": {},
      "outputs": [],
      "source": [
        "!pip install blueqat"
      ]
    },
    {
      "metadata": {
        "colab_type": "text",
        "id": "PKhFYi-drld1"
      },
      "cell_type": "markdown",
      "source": [
        "## 回路の作成\n",
        "量子状態に様々なゲートを施した一覧の流れを量子回路と言います。\n",
        "量子回路の初期値は全てのビットで $|0\\rangle$ です。"
      ]
    },
    {
      "cell_type": "code",
      "execution_count": null,
      "metadata": {},
      "outputs": [],
      "source": [
        "from blueqat import Circuit\n",
        "\n",
        "#回路を準備はこれで終わりです。\n",
        "Circuit()"
      ]
    },
    {
      "metadata": {
        "colab_type": "text",
        "id": "xP6vOtYi-uHz"
      },
      "cell_type": "markdown",
      "source": [
        "## 回路はゲートと呼ばれるものをつなげます。\n",
        "ゲートは種類が決まっています。まずはxゲートを準備し0番目の量子ビットにかけてみましょう。  \n",
        ".x[\"ここに量子ビットの番号\"]\n",
        "こんな感じでどんどん繋げていきます。"
      ]
    },
    {
      "cell_type": "code",
      "execution_count": null,
      "metadata": {},
      "outputs": [],
      "source": [
        "Circuit().x[0]"
      ]
    },
    {
      "cell_type": "markdown",
      "metadata": {},
      "source": [
        "xゲートとzゲートを繋げた場合は以下のようになります。"
      ]
    },
    {
      "cell_type": "code",
      "execution_count": null,
      "metadata": {},
      "outputs": [],
      "source": [
        "Circuit().x[0].z[0]"
      ]
    },
    {
      "cell_type": "markdown",
      "metadata": {},
      "source": [
        "このとき量子回路は以下のようになります。\n",
        "\n",
        "<img src=\"./img/001/001_0.png\" width=\"40%\">"
      ]
    },
    {
      "metadata": {
        "colab_type": "text",
        "id": "wHrRyYvfuCMC"
      },
      "cell_type": "markdown",
      "source": [
        "## 測定と実行\n",
        "量子コンピュータでは確率的に 0,1 が出力されます。\n",
        "答えを確定させるために測定が必要です。測定は.m[:]で行いましょう。   \n",
        "また、作ったCircuitはrun()で実行することができます。  \n",
        "run()の中のshots=1は1回だけ計算をするということです。"
      ]
    },
    {
      "metadata": {
        "colab_type": "code",
        "id": "s4nPf83otvoG",
        "outputId": "606fb557-85c4-41e9-a98d-bfccf3c1d3a8",
        "colab": {
          "base_uri": "https://localhost:8080/",
          "height": 34
        }
      },
      "cell_type": "code",
      "source": [
        "Circuit().x[0].m[:].run(shots=1)"
      ],
      "execution_count": 12,
      "outputs": [
        {
          "output_type": "execute_result",
          "data": {
            "text/plain": [
              "Counter({'1': 1})"
            ]
          },
          "metadata": {
            "tags": []
          },
          "execution_count": 12
        }
      ]
    },
    {
      "metadata": {
        "id": "bnQKAJQuBKNS",
        "colab_type": "text"
      },
      "cell_type": "markdown",
      "source": [
        "こちらは1という答えが1回出ました。\n",
        "つまり1が100%観測されたことになります。\n",
        "このように計算します。"
      ]
    },
    {
      "metadata": {
        "id": "j7qObHmWBWoX",
        "colab_type": "text"
      },
      "cell_type": "markdown",
      "source": [
        "## （応用）状態ベクトル\n",
        "中級者以上は状態ベクトルという答えの分布を求めたいことがあります。  \n",
        "状態ベクトルは回路の測定をせずに.run()メソッドを実行します。"
      ]
    },
    {
      "metadata": {
        "id": "uzaQ3WSwBYgf",
        "colab_type": "code",
        "colab": {
          "base_uri": "https://localhost:8080/",
          "height": 34
        },
        "outputId": "609e3c4f-4f8c-4216-8231-327b5ce589ae"
      },
      "cell_type": "code",
      "source": [
        "Circuit().h[0].run()"
      ],
      "execution_count": 13,
      "outputs": [
        {
          "output_type": "execute_result",
          "data": {
            "text/plain": [
              "array([0.70710678+0.j, 0.70710678+0.j])"
            ]
          },
          "metadata": {
            "tags": []
          },
          "execution_count": 13
        }
      ]
    },
    {
      "metadata": {
        "id": "7SL_2kj7BnuQ",
        "colab_type": "text"
      },
      "cell_type": "markdown",
      "source": [
        "このように状態ベクトルと呼ばれる確率分布が求まりました。以上です。"
      ]
    }
  ]
}