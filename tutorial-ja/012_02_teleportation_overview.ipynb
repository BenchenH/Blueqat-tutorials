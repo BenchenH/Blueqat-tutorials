{
 "nbformat": 4,
 "nbformat_minor": 2,
 "metadata": {
  "language_info": {
   "name": "python",
   "codemirror_mode": {
    "name": "ipython",
    "version": 3
   }
  },
  "orig_nbformat": 2,
  "file_extension": ".py",
  "mimetype": "text/x-python",
  "name": "python",
  "npconvert_exporter": "python",
  "pygments_lexer": "ipython3",
  "version": 3
 },
 "cells": [
  {
   "cell_type": "markdown",
   "metadata": {},
   "source": [
    "# 量子テレポーテーション\n",
    "ここでは量子テレポーテーションについて説明します。"
   ]
  },
  {
   "cell_type": "markdown",
   "metadata": {},
   "source": [
    "量子テレポーテーションは量子もつれを用いて作られます。その名の通り情報を瞬間移動のように相手に送ることができます。   \n",
    "量子もつれを用いるためにまずは Bell基底について説明します。"
   ]
  },
  {
   "cell_type": "markdown",
   "metadata": {},
   "source": [
    "## Bell状態（２量子ビットもつれ）\n",
    "２量子ビットのもつれ状態にはBell状態という特別な状態があります。\n",
    "\n",
    "Bell状態は以下の４つの状態です。\n",
    "\n",
    "<img src=\"./img/004/004_02_2.png\" width=\"40%\">\n",
    "\n",
    "量子テレポーテーションはこの基底を使って計算します。"
   ]
  },
  {
   "cell_type": "markdown",
   "metadata": {},
   "source": [
    "## 回路の作成\n",
    "まずは送る情報ともつれの生成・復元に関して、送る情報は自由なので状態を以下で定めます。 \n",
    "\n",
    "<img src=\"./img/012_02/012_02_0.png\" width=\"13%\">\n",
    "\n",
    "2量子ビットのもつれの生成はもつれの回で説明した通り、片方に Hゲートを施してその後 CXゲートを施します。   \n",
    "すなわち 00 の場合\n",
    "\n",
    "<img src=\"./img/012_02/012_02_1.png\" width=\"15%\">\n",
    "\n",
    "逆にもつれ状態から戻すのには上と逆の操作をすればいいので、Bell 状態は\n",
    "\n",
    "<img src=\"./img/012_02/012_02_2.png\" width=\"32%\">\n",
    "\n",
    "となります。\n",
    "\n",
    "量子テレポーテーションはこれらの性質を使います。\n",
    "\n",
    "回路は以下のようになります。\n",
    "\n",
    "<img src=\"./img/012_02/012_02_3.png\" width=\"60%\">\n",
    "\n",
    "$\\psi_1$ について   \n",
    "この 0, 1番目のビットを 4つの Bell 基底で書き直すと以下のようになります。\n",
    "\n",
    "<img src=\"./img/012_02/012_02_4.png\" width=\"55%\">\n",
    "\n",
    "Bell 基底が4つ表示されたことがわかります。\n",
    "\n",
    "また 3ビット目に $\\psi$ らしきものが見えるので情報が移動してるのがわかります。   \n",
    "このように一瞬で情報が移動しているのでテレポーテーションと呼ばれています。\n",
    "\n",
    "$\\psi_2$ について   \n",
    "上のもつれを戻す操作から $\\psi_2$ は以下のように考えられます。\n",
    "\n",
    "<img src=\"./img/012_02/012_02_5.png\" width=\"45%\">\n",
    "\n",
    "以上から $\\psi_3, \\psi_4$ は\n",
    "\n",
    "<img src=\"./img/012_02/012_02_6.png\" width=\"23%\">\n",
    "\n",
    "となります。"
   ]
  },
  {
   "cell_type": "markdown",
   "metadata": {},
   "source": []
  }
 ]
}