{
 "nbformat": 4,
 "nbformat_minor": 2,
 "metadata": {
  "language_info": {
   "name": "python",
   "codemirror_mode": {
    "name": "ipython",
    "version": 3
   }
  },
  "orig_nbformat": 2,
  "file_extension": ".py",
  "mimetype": "text/x-python",
  "name": "python",
  "npconvert_exporter": "python",
  "pygments_lexer": "ipython3",
  "version": 3
 },
 "cells": [
  {
   "cell_type": "markdown",
   "metadata": {},
   "source": [
    "# 重ね合わせを使った足し算（概要）\n",
    "ここでは量子コンピュータの特徴を使って重ね合わせを利用した加算回路を説明します。"
   ]
  },
  {
   "cell_type": "markdown",
   "metadata": {},
   "source": [
    "## 回路の実装\n",
    "前回4つのパターンを実装しましたがこれらは全て X ゲートで操作しています。   \n",
    "量子の重ね合わせを用いると4パターンを一気に操作することができます。\n",
    "\n",
    "式としては以下の物を考えます。\n",
    "\n",
    "<img src=\"./img/009/009_02_0.png\" width=\"35%\">\n",
    "\n",
    "見てわかる通り右辺に入力の4パターンが出てきました。\n",
    "この性質を用いて実装します。\n",
    "\n",
    "回路は以下のようになります。\n",
    "\n",
    "<img src=\"./img/009/009_02_1.png\" width=\"35%\">\n",
    "\n",
    "今まで Xゲートを施していた部分を Hゲートにして 4パターンを作っています。"
   ]
  },
  {
   "cell_type": "code",
   "execution_count": null,
   "metadata": {},
   "outputs": [],
   "source": []
  }
 ]
}