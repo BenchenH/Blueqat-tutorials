{
 "nbformat": 4,
 "nbformat_minor": 2,
 "metadata": {
  "language_info": {
   "name": "python",
   "codemirror_mode": {
    "name": "ipython",
    "version": 3
   }
  },
  "orig_nbformat": 2,
  "file_extension": ".py",
  "mimetype": "text/x-python",
  "name": "python",
  "npconvert_exporter": "python",
  "pygments_lexer": "ipython3",
  "version": 3
 },
 "cells": [
  {
   "cell_type": "markdown",
   "metadata": {},
   "source": [
    "# 量子のもつれ（概要）\n",
    "ここでは量子もつれ(entanglement)について説明します。"
   ]
  },
  {
   "cell_type": "markdown",
   "metadata": {},
   "source": [
    "## もつれと重ね合わせ\n",
    "２量子ビットを用いて以下の状態をそれぞれ考えます。\n",
    "\n",
    "<img src=\"./img/004/004_02_0.png\" width=\"50%\">\n",
    "\n",
    "左の状態は1量子ビットのテンソル積で書かれています。これは重ね合わせの状態です。\n",
    "\n",
    "では右の状態はどうでしょう。右の式はこれ以上テンソル積で分解できません。   \n",
    "このように量子ビット同士が分解できず、絡み合っている状態のことをもつれと言います。\n",
    "\n",
    "量子もつれは式からわかるように情報を少なくすることができます。\n",
    "\n",
    "左の状態は観測させた場合 00, 01, 10, 11 がそれぞれ 1/4 で出力されるのに対し、   \n",
    "右の状態は観測させた場合 00, 11 がそれぞれ 1/2 で出力されます。\n",
    "\n",
    "このことから量子もつれを作ることで欲しい情報の確率を引き上げることができます。 "
   ]
  },
  {
   "cell_type": "markdown",
   "metadata": {},
   "source": [
    "## 回路の作成\n",
    "量子もつれは Hゲートと CXゲートで作ることができます。\n",
    "\n",
    "式は以下のようになります。\n",
    "\n",
    "<img src=\"./img/004/004_02_1.png\" width=\"50%\">"
   ]
  },
  {
   "cell_type": "markdown",
   "metadata": {},
   "source": [
    "## Bell状態（２量子ビットもつれ）\n",
    "２量子ビットのもつれ状態にはBell状態という特別な状態があります。\n",
    "\n",
    "Bell状態は以下の４つの状態です。\n",
    "\n",
    "<img src=\"./img/004/004_02_2.png\" width=\"40%\">\n",
    "\n",
    "量子の世界ではこのもつれた状態を軸（基底）としてを考えると式が簡単になる場合があります。"
   ]
  },
  {
   "cell_type": "code",
   "execution_count": null,
   "metadata": {},
   "outputs": [],
   "source": []
  }
 ]
}