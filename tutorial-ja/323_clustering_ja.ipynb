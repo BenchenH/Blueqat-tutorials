{
 "cells": [
  {
   "cell_type": "markdown",
   "metadata": {},
   "source": [
    "# クラスタリング\n",
    "最適化問題として分類を行ってクラスタに分けます。\n",
    "\n",
    "## 今回学ぶこと\n",
    "1. 量子アニーリングでのクラスタリング\n",
    "2. QAOAでのクラスタリング\n",
    "\n",
    "## Blueqatのインストール\n",
    "pipからBlueqatをインストールします。今回はobaqも使います。"
   ]
  },
  {
   "cell_type": "code",
   "execution_count": 91,
   "metadata": {},
   "outputs": [
    {
     "name": "stdout",
     "output_type": "stream",
     "text": [
      "Requirement already satisfied: blueqat in /home/ec2-user/anaconda3/envs/python3/lib/python3.6/site-packages (0.3.13)\n",
      "Collecting obaq\n",
      "  Downloading https://files.pythonhosted.org/packages/12/c5/d0e4050f7818c927c58527f4825a301939ef811547a00c8fd09956549f10/obaq-0.0.11.dev0.tar.gz\n",
      "Requirement already satisfied: scipy>=1.1.0 in /home/ec2-user/anaconda3/envs/python3/lib/python3.6/site-packages (from blueqat) (1.1.0)\n",
      "Requirement already satisfied: numpy~=1.12 in /home/ec2-user/anaconda3/envs/python3/lib/python3.6/site-packages (from blueqat) (1.18.4)\n",
      "Building wheels for collected packages: obaq\n",
      "  Running setup.py bdist_wheel for obaq ... \u001b[?25ldone\n",
      "\u001b[?25h  Stored in directory: /home/ec2-user/.cache/pip/wheels/02/53/e8/9fb845068fabcc484f785a1b36f63c271a1c72ed9c03e599d6\n",
      "Successfully built obaq\n",
      "\u001b[31mdwave-cloud-client 0.7.2 has requirement click>=7.0, but you'll have click 6.7 which is incompatible.\u001b[0m\n",
      "Installing collected packages: obaq\n",
      "Successfully installed obaq-0.0.11.dev0\n",
      "\u001b[33mYou are using pip version 10.0.1, however version 20.1 is available.\n",
      "You should consider upgrading via the 'pip install --upgrade pip' command.\u001b[0m\n"
     ]
    }
   ],
   "source": [
    "!pip install blueqat obaq"
   ]
  },
  {
   "cell_type": "markdown",
   "metadata": {},
   "source": [
    "## 概要\n",
    "最適化問題におけるクラスタリングは、\n",
    "\n",
    "青はクラスタ、赤は量子ビット、黒の太い線は赤い量子ビットの３つのうちどれかが選ばれるように選ばれます。黄色は距離などでノード間の重み付けに使います。\n",
    "\n",
    "今回はランダムに設定した点をD-WaveのLeap2でクラスタリングしてみたいと思います。\n",
    "\n",
    "## 例題\n",
    "4ノードを2つのクラスタに分けます。必要な量子ビット数は4*2=8です。q0,q1,q2,q3とq4,q5,q6,q7の二つのクラスタを作り、q0とq4、q1とq5、q2とq6、q3とq7は同じノードを表し、所属する方のクラスタの値が1になり、それ以外は0になります。\n",
    "\n",
    "ノードとエッジは例題の途中のネットワーク図1を参照します。"
   ]
  },
  {
   "cell_type": "markdown",
   "metadata": {},
   "source": [
    "クラスタ内のノード間の距離の総数の小さい方が選ばれます。\n",
    "$$\n",
    "Cost = \\sum d_{ij} x_i x_j\n",
    "$$\n",
    "\n",
    "制約条件は、クローンされたクラスタのうち対応するノード1つだけが1となり、残りは0になります。\n",
    "$$\n",
    "Constraint = \\sum(\\sum_{i=k}^n x_i - 1)^2\n",
    "$$\n",
    "\n",
    "まず、ツール読み込みます。"
   ]
  },
  {
   "cell_type": "code",
   "execution_count": 127,
   "metadata": {},
   "outputs": [],
   "source": [
    "import numpy as np\n",
    "import pandas as pd\n",
    "import networkx as nx\n",
    "from blueqat.opt import *\n",
    "import matplotlib.pyplot as plt\n",
    "%matplotlib inline"
   ]
  },
  {
   "cell_type": "markdown",
   "metadata": {},
   "source": [
    "まず、データを作ります。今回は4ノードを2クラスタに分ける簡単な問題をやってみます。"
   ]
  },
  {
   "cell_type": "code",
   "execution_count": 128,
   "metadata": {},
   "outputs": [
    {
     "name": "stdout",
     "output_type": "stream",
     "text": [
      "nodes 4\n",
      "clusters 2\n",
      "qubits 8\n"
     ]
    }
   ],
   "source": [
    "n_node = 4\n",
    "n_cluster = 2\n",
    "N = n_node*n_cluster\n",
    "\n",
    "print('nodes',n_node)\n",
    "print('clusters',n_cluster)\n",
    "print('qubits',N)"
   ]
  },
  {
   "cell_type": "markdown",
   "metadata": {},
   "source": [
    "程よくばらけるように座標でデータを作ります。"
   ]
  },
  {
   "cell_type": "code",
   "execution_count": 129,
   "metadata": {},
   "outputs": [
    {
     "data": {
      "text/html": [
       "<div>\n",
       "<style scoped>\n",
       "    .dataframe tbody tr th:only-of-type {\n",
       "        vertical-align: middle;\n",
       "    }\n",
       "\n",
       "    .dataframe tbody tr th {\n",
       "        vertical-align: top;\n",
       "    }\n",
       "\n",
       "    .dataframe thead th {\n",
       "        text-align: right;\n",
       "    }\n",
       "</style>\n",
       "<table border=\"1\" class=\"dataframe\">\n",
       "  <thead>\n",
       "    <tr style=\"text-align: right;\">\n",
       "      <th></th>\n",
       "      <th>x</th>\n",
       "      <th>y</th>\n",
       "    </tr>\n",
       "  </thead>\n",
       "  <tbody>\n",
       "    <tr>\n",
       "      <th>0</th>\n",
       "      <td>17.185806</td>\n",
       "      <td>8.627046</td>\n",
       "    </tr>\n",
       "    <tr>\n",
       "      <th>1</th>\n",
       "      <td>18.668083</td>\n",
       "      <td>10.208109</td>\n",
       "    </tr>\n",
       "    <tr>\n",
       "      <th>2</th>\n",
       "      <td>3.824307</td>\n",
       "      <td>12.236875</td>\n",
       "    </tr>\n",
       "    <tr>\n",
       "      <th>3</th>\n",
       "      <td>6.172536</td>\n",
       "      <td>10.587912</td>\n",
       "    </tr>\n",
       "  </tbody>\n",
       "</table>\n",
       "</div>"
      ],
      "text/plain": [
       "           x          y\n",
       "0  17.185806   8.627046\n",
       "1  18.668083  10.208109\n",
       "2   3.824307  12.236875\n",
       "3   6.172536  10.587912"
      ]
     },
     "execution_count": 129,
     "metadata": {},
     "output_type": "execute_result"
    }
   ],
   "source": [
    "x,y = [],[]\n",
    "\n",
    "for i in range(n_cluster):\n",
    "    x = np.append(x, np.random.normal(np.random.randint(0,n_cluster*10), 1.5, int(n_node/n_cluster)))\n",
    "    y = np.append(y, np.random.normal(np.random.randint(0,n_cluster*10), 1.5, int(n_node/n_cluster)))\n",
    "\n",
    "df = pd.DataFrame({'x':x,'y':y})\n",
    "df"
   ]
  },
  {
   "cell_type": "markdown",
   "metadata": {},
   "source": [
    "作った座標の点の分布を確認します。"
   ]
  },
  {
   "cell_type": "code",
   "execution_count": 130,
   "metadata": {},
   "outputs": [
    {
     "data": {
      "text/plain": [
       "<matplotlib.collections.PathCollection at 0x7f3aa797d710>"
      ]
     },
     "execution_count": 130,
     "metadata": {},
     "output_type": "execute_result"
    },
    {
     "data": {
      "image/png": "[encoded data removed]",
      "text/plain": [
       "<Figure size 432x288 with 1 Axes>"
      ]
     },
     "metadata": {},
     "output_type": "display_data"
    }
   ],
   "source": [
    "#plot\n",
    "plt.scatter(df['x'], df['y'])"
   ]
  },
  {
   "cell_type": "markdown",
   "metadata": {},
   "source": [
    "まず距離を設定したQUBO matrixを準備します。"
   ]
  },
  {
   "cell_type": "code",
   "execution_count": 131,
   "metadata": {},
   "outputs": [],
   "source": [
    "def initCost(data, n_cluster):\n",
    "    #距離の行列を作ります。\n",
    "    n_node = len(data)\n",
    "    d = np.zeros((n_node, n_node))\n",
    "\n",
    "    #データのX座標とY座標から距離を求めます。\n",
    "    for i in range(0, n_node-1):\n",
    "        for j in range(i+1, n_node):\n",
    "            a = np.array([data['x'][i], data['y'][i]])\n",
    "            b = np.array([data['x'][j], data['y'][j]])\n",
    "            d[i][j] = np.linalg.norm(a-b)\n",
    "\n",
    "    #QUBO matrixは量子ビット数*量子ビット数のサイズになります。\n",
    "    N = n_node*n_cluster\n",
    "    A = np.zeros((N, N))\n",
    "\n",
    "    #クラスタの数だけ距離を複製して入れます。\n",
    "    for i in range(0, n_node-1):\n",
    "        for j in range(i+1, n_node):\n",
    "            for k in range(n_cluster):\n",
    "                A[i+k*n_node][j+k*n_node] = d[i][j]\n",
    "    \n",
    "    return A, d"
   ]
  },
  {
   "cell_type": "code",
   "execution_count": 132,
   "metadata": {},
   "outputs": [
    {
     "data": {
      "text/plain": [
       "array([[ 0.        ,  2.16723441, 13.84053936, 11.18646999,  0.        ,\n",
       "         0.        ,  0.        ,  0.        ],\n",
       "       [ 0.        ,  0.        , 14.98177572, 12.50131812,  0.        ,\n",
       "         0.        ,  0.        ,  0.        ],\n",
       "       [ 0.        ,  0.        ,  0.        ,  2.86936555,  0.        ,\n",
       "         0.        ,  0.        ,  0.        ],\n",
       "       [ 0.        ,  0.        ,  0.        ,  0.        ,  0.        ,\n",
       "         0.        ,  0.        ,  0.        ],\n",
       "       [ 0.        ,  0.        ,  0.        ,  0.        ,  0.        ,\n",
       "         2.16723441, 13.84053936, 11.18646999],\n",
       "       [ 0.        ,  0.        ,  0.        ,  0.        ,  0.        ,\n",
       "         0.        , 14.98177572, 12.50131812],\n",
       "       [ 0.        ,  0.        ,  0.        ,  0.        ,  0.        ,\n",
       "         0.        ,  0.        ,  2.86936555],\n",
       "       [ 0.        ,  0.        ,  0.        ,  0.        ,  0.        ,\n",
       "         0.        ,  0.        ,  0.        ]])"
      ]
     },
     "execution_count": 132,
     "metadata": {},
     "output_type": "execute_result"
    }
   ],
   "source": [
    "A,d = initCost(df, n_cluster)\n",
    "A"
   ]
  },
  {
   "cell_type": "markdown",
   "metadata": {},
   "source": [
    "今回はそれぞれ$q_0$と$q_4$,$q_1$と$q_5$,$q_2$と$q_6$,$q_3$と$q_7$の間に制約条件を設定します。どちらかのクラスタにしか属さないので、それぞれの値のどちらかが1で、どちらかが0になります。\n",
    "\n",
    "$$\n",
    "(q_0+q_4 - 1)^2 = -q_0-q_4+2q_0q_4\\\\\n",
    "(q_1+q_5 - 1)^2 = -q_1-q_5+2q_1q_5\\\\\n",
    "(q_2+q_6 - 1)^2 = -q_2-q_6+2q_2q_6\\\\\n",
    "(q_3+q_7 - 1)^2 = -q_3-q_7+2q_3q_7\\\\\n",
    "$$"
   ]
  },
  {
   "cell_type": "code",
   "execution_count": 133,
   "metadata": {},
   "outputs": [
    {
     "data": {
      "text/plain": [
       "array([[-1,  0,  0,  0,  2,  0,  0,  0],\n",
       "       [ 0, -1,  0,  0,  0,  2,  0,  0],\n",
       "       [ 0,  0, -1,  0,  0,  0,  2,  0],\n",
       "       [ 0,  0,  0, -1,  0,  0,  0,  2],\n",
       "       [ 0,  0,  0,  0, -1,  0,  0,  0],\n",
       "       [ 0,  0,  0,  0,  0, -1,  0,  0],\n",
       "       [ 0,  0,  0,  0,  0,  0, -1,  0],\n",
       "       [ 0,  0,  0,  0,  0,  0,  0, -1]])"
      ]
     },
     "execution_count": 133,
     "metadata": {},
     "output_type": "execute_result"
    }
   ],
   "source": [
    "B = np.diag([-1]*N)\n",
    "\n",
    "for i in range(n_node):\n",
    "    B[i][i+n_node] = 2\n",
    "B"
   ]
  },
  {
   "cell_type": "markdown",
   "metadata": {},
   "source": [
    "ネットワーク図1\n"
   ]
  },
  {
   "cell_type": "code",
   "execution_count": 134,
   "metadata": {},
   "outputs": [
    {
     "name": "stderr",
     "output_type": "stream",
     "text": [
      "/home/ec2-user/anaconda3/envs/python3/lib/python3.6/site-packages/networkx/drawing/nx_pylab.py:611: MatplotlibDeprecationWarning: isinstance(..., numbers.Number)\n",
      "  if cb.is_numlike(alpha):\n"
     ]
    },
    {
     "data": {
      "image/png": "[encoded data removed]",
      "text/plain": [
       "<Figure size 432x288 with 1 Axes>"
      ]
     },
     "metadata": {},
     "output_type": "display_data"
    }
   ],
   "source": [
    "#QUBOを作ります。\n",
    "M = 1\n",
    "qubo = A+B*M\n",
    "\n",
    "#ネットワーク図で確認\n",
    "G = nx.from_numpy_matrix(qubo)\n",
    "nx.draw_networkx(G)\n",
    "plt.show()"
   ]
  },
  {
   "cell_type": "markdown",
   "metadata": {},
   "source": [
    "Mの値を決めて計算をします。"
   ]
  },
  {
   "cell_type": "code",
   "execution_count": 135,
   "metadata": {},
   "outputs": [
    {
     "data": {
      "text/plain": [
       "[0, 0, 1, 1, 1, 1, 0, 0]"
      ]
     },
     "execution_count": 135,
     "metadata": {},
     "output_type": "execute_result"
    }
   ],
   "source": [
    "#blueqatで\n",
    "M = 10\n",
    "qubo = A+B*M\n",
    "\n",
    "a = Opt()\n",
    "a.qubo = qubo\n",
    "res = a.run()\n",
    "\n",
    "res"
   ]
  },
  {
   "cell_type": "markdown",
   "metadata": {},
   "source": [
    "計算結果を確認してみます。"
   ]
  },
  {
   "cell_type": "code",
   "execution_count": 145,
   "metadata": {},
   "outputs": [
    {
     "data": {
      "text/plain": [
       "<matplotlib.collections.PathCollection at 0x7f3aa77a2518>"
      ]
     },
     "execution_count": 145,
     "metadata": {},
     "output_type": "execute_result"
    },
    {
     "data": {
      "image/png": "[encoded data removed]",
      "text/plain": [
       "<Figure size 432x288 with 1 Axes>"
      ]
     },
     "metadata": {},
     "output_type": "display_data"
    }
   ],
   "source": [
    "df['cluster'] = res[:4]\n",
    "plt.scatter(df['x'], df['y'], c=df['cluster'])"
   ]
  },
  {
   "cell_type": "markdown",
   "metadata": {},
   "source": [
    "## 次にQAOAで解いてみます"
   ]
  },
  {
   "cell_type": "code",
   "execution_count": 146,
   "metadata": {},
   "outputs": [],
   "source": [
    "import numpy as np\n",
    "import networkx as nx\n",
    "import matplotlib.pyplot as plt\n",
    "import pandas as pd\n",
    "\n",
    "import blueqat\n",
    "from blueqat import vqe,opt\n",
    "from obaq.ansatz import *\n",
    "\n",
    "%matplotlib inline"
   ]
  },
  {
   "cell_type": "code",
   "execution_count": 147,
   "metadata": {},
   "outputs": [
    {
     "name": "stderr",
     "output_type": "stream",
     "text": [
      "/home/ec2-user/anaconda3/envs/python3/lib/python3.6/site-packages/networkx/drawing/nx_pylab.py:611: MatplotlibDeprecationWarning: isinstance(..., numbers.Number)\n",
      "  if cb.is_numlike(alpha):\n"
     ]
    },
    {
     "data": {
      "image/png": "[encoded data removed]",
      "text/plain": [
       "<Figure size 432x288 with 1 Axes>"
      ]
     },
     "metadata": {},
     "output_type": "display_data"
    }
   ],
   "source": [
    "#QUBOを作ります。\n",
    "qubo = A\n",
    "\n",
    "#ネットワーク図で確認\n",
    "G = nx.from_numpy_matrix(qubo)\n",
    "nx.draw_networkx(G)\n",
    "plt.show()"
   ]
  },
  {
   "cell_type": "markdown",
   "metadata": {},
   "source": [
    "今回は制約条件はいりません。"
   ]
  },
  {
   "cell_type": "markdown",
   "metadata": {},
   "source": [
    "制約条件をミキサーで決めます。\n",
    "1. 初期のもつれを決める\n",
    "2. XYミキサーを作る"
   ]
  },
  {
   "cell_type": "code",
   "execution_count": 148,
   "metadata": {},
   "outputs": [
    {
     "name": "stdout",
     "output_type": "stream",
     "text": [
      "0.5*X[0]*X[4] + 0.5*Y[0]*Y[4] + 0.5*X[1]*X[5] + 0.5*Y[1]*Y[5] + 0.5*X[2]*X[6] + 0.5*Y[2]*Y[6] + 0.5*X[3]*X[7] + 0.5*Y[3]*Y[7]\n",
      "Circuit(8).h[0].cx[0, 4].x[0].h[1].cx[1, 5].x[1].h[2].cx[2, 6].x[2].h[3].cx[3, 7].x[3]\n"
     ]
    },
    {
     "data": {
      "text/plain": [
       "(0, 0, 1, 1, 1, 1, 0, 0)"
      ]
     },
     "execution_count": 148,
     "metadata": {},
     "output_type": "execute_result"
    }
   ],
   "source": [
    "q = opt.pauli(qubo)\n",
    "step = 2\n",
    "\n",
    "#mixer and init state\n",
    "for i in range(n_node):\n",
    "    if i==0:\n",
    "        mixer = 0.5*X[0]*X[n_node] + 0.5*Y[0]*Y[n_node]\n",
    "        init = Circuit().h[0].cx[0,n_node].x[0]\n",
    "    else:\n",
    "        mixer += 0.5*X[i]*X[i+n_node] + 0.5*Y[i]*Y[i+n_node]\n",
    "        init.h[i].cx[i,i+n_node].x[i]\n",
    "\n",
    "print(mixer)\n",
    "print(init)\n",
    "\n",
    "result = Vqe(QaoaQaoaAnsatz(q, step, init, mixer)).run()\n",
    "res_qaoa = result.most_common(1)[0][0]\n",
    "res_qaoa"
   ]
  },
  {
   "cell_type": "code",
   "execution_count": 149,
   "metadata": {},
   "outputs": [
    {
     "data": {
      "text/plain": [
       "<matplotlib.collections.PathCollection at 0x7f3aa7c57cf8>"
      ]
     },
     "execution_count": 149,
     "metadata": {},
     "output_type": "execute_result"
    },
    {
     "data": {
      "image/png": "[encoded data removed]",
      "text/plain": [
       "<Figure size 432x288 with 1 Axes>"
      ]
     },
     "metadata": {},
     "output_type": "display_data"
    }
   ],
   "source": [
    "resc = []\n",
    "\n",
    "for i in range(N):\n",
    "    if res_qaoa[i] == 1:\n",
    "        resc.append(int(i/n_node))\n",
    "\n",
    "df['cluster_qaoa'] = resc\n",
    "\n",
    "plt.scatter(df['x'], df['y'], c=df['cluster_qaoa'])"
   ]
  },
  {
   "cell_type": "code",
   "execution_count": 150,
   "metadata": {},
   "outputs": [
    {
     "data": {
      "text/plain": [
       "Circuit(8).h[0].cx[0, 4].x[0].h[1].cx[1, 5].x[1].h[2].cx[2, 6].x[2].h[3].cx[3, 7].x[3].cx[0, 1].rz(-23.13118889729867)[1].cx[0, 1].cx[0, 2].rz(-147.72196729110493)[2].cx[0, 2].cx[0, 3].rz(-119.39472239286386)[3].cx[0, 3].rz(290.24787858126746)[0].cx[1, 2].rz(-159.90253883786704)[2].cx[1, 2].cx[1, 3].rz(-133.42827602112513)[3].cx[1, 3].rz(316.4620037562908)[1].cx[2, 3].rz(-30.625130524539596)[3].cx[2, 3].rz(338.2496366535116)[2].rz(283.44812893852855)[3].cx[4, 5].rz(-23.13118889729867)[5].cx[4, 5].cx[4, 6].rz(-147.72196729110493)[6].cx[4, 6].cx[4, 7].rz(-119.39472239286386)[7].cx[4, 7].rz(290.24787858126746)[4].cx[5, 6].rz(-159.90253883786704)[6].cx[5, 6].cx[5, 7].rz(-133.42827602112513)[7].cx[5, 7].rz(316.4620037562908)[5].cx[6, 7].rz(-30.625130524539596)[7].cx[6, 7].rz(338.2496366535116)[6].rz(283.44812893852855)[7].h[0].h[4].cx[0, 4].rz(-38.25828713614918)[4].cx[0, 4].h[0].h[4].h[1].h[5].cx[1, 5].rz(-38.25828713614918)[5].cx[1, 5].h[1].h[5].h[2].h[6].cx[2, 6].rz(-38.25828713614918)[6].cx[2, 6].h[2].h[6].h[3].h[7].cx[3, 7].rz(-38.25828713614918)[7].cx[3, 7].h[3].h[7].rx(-1.5707963267948966)[0].rx(-1.5707963267948966)[4].cx[0, 4].rz(-38.25828713614918)[4].cx[0, 4].rx(1.5707963267948966)[0].rx(1.5707963267948966)[4].rx(-1.5707963267948966)[1].rx(-1.5707963267948966)[5].cx[1, 5].rz(-38.25828713614918)[5].cx[1, 5].rx(1.5707963267948966)[1].rx(1.5707963267948966)[5].rx(-1.5707963267948966)[2].rx(-1.5707963267948966)[6].cx[2, 6].rz(-38.25828713614918)[6].cx[2, 6].rx(1.5707963267948966)[2].rx(1.5707963267948966)[6].rx(-1.5707963267948966)[3].rx(-1.5707963267948966)[7].cx[3, 7].rz(-38.25828713614918)[7].cx[3, 7].rx(1.5707963267948966)[3].rx(1.5707963267948966)[7].cx[0, 1].rz(-6.766684065844575)[1].cx[0, 1].cx[0, 2].rz(-43.21385669720885)[2].cx[0, 2].cx[0, 3].rz(-34.92714400235943)[3].cx[0, 3].rz(84.90768476541284)[0].cx[1, 2].rz(-46.777101101303465)[2].cx[1, 2].cx[1, 3].rz(-39.03245065759238)[3].cx[1, 3].rz(92.57623582474042)[1].cx[2, 3].rz(-8.958924837582101)[3].cx[2, 3].rz(98.94988263609442)[2].rz(82.91851949753391)[3].cx[4, 5].rz(-6.766684065844575)[5].cx[4, 5].cx[4, 6].rz(-43.21385669720885)[6].cx[4, 6].cx[4, 7].rz(-34.92714400235943)[7].cx[4, 7].rz(84.90768476541284)[4].cx[5, 6].rz(-46.777101101303465)[6].cx[5, 6].cx[5, 7].rz(-39.03245065759238)[7].cx[5, 7].rz(92.57623582474042)[5].cx[6, 7].rz(-8.958924837582101)[7].cx[6, 7].rz(98.94988263609442)[6].rz(82.91851949753391)[7].h[0].h[4].cx[0, 4].rz(-7.5360575639890275)[4].cx[0, 4].h[0].h[4].h[1].h[5].cx[1, 5].rz(-7.5360575639890275)[5].cx[1, 5].h[1].h[5].h[2].h[6].cx[2, 6].rz(-7.5360575639890275)[6].cx[2, 6].h[2].h[6].h[3].h[7].cx[3, 7].rz(-7.5360575639890275)[7].cx[3, 7].h[3].h[7].rx(-1.5707963267948966)[0].rx(-1.5707963267948966)[4].cx[0, 4].rz(-7.5360575639890275)[4].cx[0, 4].rx(1.5707963267948966)[0].rx(1.5707963267948966)[4].rx(-1.5707963267948966)[1].rx(-1.5707963267948966)[5].cx[1, 5].rz(-7.5360575639890275)[5].cx[1, 5].rx(1.5707963267948966)[1].rx(1.5707963267948966)[5].rx(-1.5707963267948966)[2].rx(-1.5707963267948966)[6].cx[2, 6].rz(-7.5360575639890275)[6].cx[2, 6].rx(1.5707963267948966)[2].rx(1.5707963267948966)[6].rx(-1.5707963267948966)[3].rx(-1.5707963267948966)[7].cx[3, 7].rz(-7.5360575639890275)[7].cx[3, 7].rx(1.5707963267948966)[3].rx(1.5707963267948966)[7]"
      ]
     },
     "execution_count": 150,
     "metadata": {},
     "output_type": "execute_result"
    }
   ],
   "source": [
    "result.circuit"
   ]
  },
  {
   "cell_type": "code",
   "execution_count": null,
   "metadata": {},
   "outputs": [],
   "source": []
  }
 ],
 "metadata": {
  "kernelspec": {
   "display_name": "conda_python3",
   "language": "python",
   "name": "conda_python3"
  },
  "language_info": {
   "codemirror_mode": {
    "name": "ipython",
    "version": 3
   },
   "file_extension": ".py",
   "mimetype": "text/x-python",
   "name": "python",
   "nbconvert_exporter": "python",
   "pygments_lexer": "ipython3",
   "version": "3.6.5"
  }
 },
 "nbformat": 4,
 "nbformat_minor": 4
}
