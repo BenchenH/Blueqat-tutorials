{
 "nbformat": 4,
 "nbformat_minor": 2,
 "metadata": {
  "language_info": {
   "name": "python",
   "codemirror_mode": {
    "name": "ipython",
    "version": 3
   }
  },
  "orig_nbformat": 2,
  "file_extension": ".py",
  "mimetype": "text/x-python",
  "name": "python",
  "npconvert_exporter": "python",
  "pygments_lexer": "ipython3",
  "version": 3
 },
 "cells": [
  {
   "cell_type": "markdown",
   "metadata": {},
   "source": [
    "# ２量子ビットの基本の操作を覚える（概要）\n",
    "ここでは２量子ビットの計算を説明します。\n",
    "\n",
    "## 量子ビット\n",
    "２量子ビットの場合は 00, 01, 10, 11 は以下のような状態ベクトルで表します。\n",
    "\n",
    "<img src=\"./img/002/002_02_0.png\" width=\"50%\">\n",
    "\n",
    "00 の状態ベクトルはテンソル積を用いると以下のように計算できます。\n",
    "\n",
    "<img src=\"./img/002/002_02_1.png\" width=\"50%\">"
   ]
  },
  {
   "cell_type": "markdown",
   "metadata": {},
   "source": [
    "## CX回路\n",
    "CXゲートはコントロールビットが1ならばターゲットビットにXゲートを施すものです。\n",
    "\n",
    "CXゲートは以下のような行列です。\n",
    "\n",
    "<img src=\"./img/002/002_02_2.png\" width=\"20%\">\n",
    "\n",
    "00 にCXゲートを施すと以下のようになります。\n",
    "\n",
    "<img src=\"./img/002/002_02_3.png\" width=\"43%\">\n",
    "\n",
    "この場合コントロールビットは0なので何も変化しません。\n",
    "\n",
    "次に 10 にCXゲートを施すと以下のようになります。\n",
    "\n",
    "<img src=\"./img/002/002_02_4.png\" width=\"43%\">\n",
    "\n",
    "この場合コントロールビットは1なのでターゲットビットが反転して1になっているのがわかります。"
   ]
  },
  {
   "cell_type": "markdown",
   "metadata": {},
   "source": [
    "## 観測\n",
    "２量子ビットの場合の観測は 00, 01, 10, 11 が確率的に観測されます。   \n",
    "それぞれ出力される確率は１量子ビットの場合と同じように各係数の絶対値の2乗となります。\n",
    "\n",
    "例えば以下のような状態ベクトルを考えます。\n",
    "\n",
    "<img src=\"./img/002/002_02_5.png\" width=\"40%\">\n",
    "\n",
    "これを1回観測すると 00, 01, 10, 11 が出力される確率は 1/4 となります。"
   ]
  },
  {
   "cell_type": "markdown",
   "metadata": {},
   "source": [
    "## 2量子ビット以上の場合\n",
    "３量子ビットの場合で最初の２量子ビットにCXゲートをかけるとします。\n",
    "100 にCXを施したとき計算は以下のようになります。\n",
    "\n",
    "<img src=\"./img/002/002_02_6.png\" width=\"45%\">\n",
    "\n",
    "上の式から最後のビットには何も変化しない行列Iを施して計算していることがわかります。"
   ]
  },
  {
   "cell_type": "code",
   "execution_count": null,
   "metadata": {},
   "outputs": [],
   "source": []
  }
 ]
}