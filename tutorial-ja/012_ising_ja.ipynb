{
 "cells": [
  {
   "cell_type": "markdown",
   "metadata": {
    "colab_type": "text",
    "id": "NjHnSAbHrInP"
   },
   "source": [
    "# イジングゲート\n",
    "二量子ビットを同時に回転させる、イジングゲートを学びます"
   ]
  },
  {
   "cell_type": "markdown",
   "metadata": {},
   "source": [
    "## 今回学ぶこと\n",
    "1. Rxx,Ryy,Rzzゲートについて\n",
    "2. 回路を作成"
   ]
  },
  {
   "cell_type": "markdown",
   "metadata": {},
   "source": [
    "## Blueqatのインストール\n",
    "pipからBlueqatをインストールを行います。"
   ]
  },
  {
   "cell_type": "code",
   "execution_count": 1,
   "metadata": {
    "colab": {
     "base_uri": "https://localhost:8080/",
     "height": 136
    },
    "colab_type": "code",
    "id": "Z2z6oBnToiqa",
    "outputId": "413f3f56-1b22-40f7-fcff-4621af4596d4",
    "scrolled": true
   },
   "outputs": [
    {
     "name": "stdout",
     "output_type": "stream",
     "text": [
      "Requirement already satisfied: blueqat in /home/ec2-user/anaconda3/envs/python3/lib/python3.6/site-packages (0.3.14)\n",
      "Requirement already satisfied: scipy>=1.1.0 in /home/ec2-user/anaconda3/envs/python3/lib/python3.6/site-packages (from blueqat) (1.1.0)\n",
      "Requirement already satisfied: numpy~=1.12 in /home/ec2-user/anaconda3/envs/python3/lib/python3.6/site-packages (from blueqat) (1.14.6)\n",
      "\u001b[31mnumba 0.49.0 has requirement numpy>=1.15, but you'll have numpy 1.14.6 which is incompatible.\u001b[0m\n",
      "\u001b[33mYou are using pip version 10.0.1, however version 20.1 is available.\n",
      "You should consider upgrading via the 'pip install --upgrade pip' command.\u001b[0m\n"
     ]
    }
   ],
   "source": [
    "!pip install blueqat"
   ]
  },
  {
   "cell_type": "markdown",
   "metadata": {},
   "source": [
    "### Rxx, Ryy, Rzz\n",
    "Rxx,Ryy,Rzz ゲートは下記で実行できます。\n",
    "\n",
    "| Rxx | Ryy | Rzz |\n",
    "|:-:|:-:|:-:|\n",
    "|`rxx(θ)`|`ryy(θ)`|`rzz(θ)`|"
   ]
  },
  {
   "cell_type": "markdown",
   "metadata": {},
   "source": [
    "###### RXX ゲート"
   ]
  },
  {
   "cell_type": "code",
   "execution_count": 2,
   "metadata": {},
   "outputs": [
    {
     "data": {
      "text/plain": [
       "Counter({'11': 57, '00': 43})"
      ]
     },
     "execution_count": 2,
     "metadata": {},
     "output_type": "execute_result"
    }
   ],
   "source": [
    "from blueqat import Circuit\n",
    "import math\n",
    "\n",
    "Circuit(2).rxx(math.pi/2)[0,1].m[:].run(shots=100)"
   ]
  },
  {
   "cell_type": "markdown",
   "metadata": {},
   "source": [
    "###### RYY ゲート"
   ]
  },
  {
   "cell_type": "code",
   "execution_count": 3,
   "metadata": {},
   "outputs": [
    {
     "data": {
      "text/plain": [
       "Counter({'00': 52, '11': 48})"
      ]
     },
     "execution_count": 3,
     "metadata": {},
     "output_type": "execute_result"
    }
   ],
   "source": [
    "from blueqat import Circuit\n",
    "import math\n",
    "\n",
    "Circuit(2).ryy(math.pi/2)[0,1].m[:].run(shots=100)"
   ]
  },
  {
   "cell_type": "markdown",
   "metadata": {},
   "source": [
    "###### RZZ ゲート"
   ]
  },
  {
   "cell_type": "code",
   "execution_count": 4,
   "metadata": {},
   "outputs": [
    {
     "data": {
      "text/plain": [
       "Counter({'00': 100})"
      ]
     },
     "execution_count": 4,
     "metadata": {},
     "output_type": "execute_result"
    }
   ],
   "source": [
    "from blueqat import Circuit\n",
    "import math\n",
    "\n",
    "Circuit().rzz(math.pi/2)[0,1].m[:].run(shots=100)"
   ]
  },
  {
   "cell_type": "markdown",
   "metadata": {},
   "source": [
    "## Rxx, Ryy, Rzzゲート\n",
    "1量子ビットの回転は $\\left|0\\right>, \\left|1\\right>$ の2つの状態を基準に表していました。\n",
    "\n",
    "2量子ビットの回転は $\\left|00\\right>, \\left|01\\right>, \\left|10\\right>, \\left|11\\right>$の4つの状態を基準に回転を表しています。"
   ]
  },
  {
   "cell_type": "markdown",
   "metadata": {},
   "source": [
    "#### Rxx ゲート\n",
    "\n",
    "$$\n",
    "Rxx(\\theta) := e^{iXX\\theta} = \n",
    "\\cos(\\theta) I\\otimes I - i\\sin(\\theta) X \\otimes X \\\\\n",
    "= e^{i(HH)(ZZ)(HH)\\theta} = (H\\otimes H)e^{iZZ\\theta}(H\\otimes H)\\\\\n",
    "= (H\\otimes H)\\cdot CX\\cdot (I\\otimes Rz(\\theta))\\cdot CX\\cdot (H\\otimes H)\n",
    "$$\n",
    "\n",
    "行列で表すと以下のようになります。\n",
    "\n",
    "$$\n",
    "Rxx(\\theta) = \\left(\\begin{array}{cccc}\n",
    "\\cos\\theta &0&0&-i\\sin\\theta\\\\\n",
    "0& \\cos\\theta &-i\\sin\\theta&0\\\\\n",
    "0&-i\\sin\\theta& \\cos\\theta &0\\\\\n",
    "-i\\sin\\theta&0&0& \\cos\\theta\n",
    "\\end{array}\\right)\\\\\n",
    "$$\n",
    "\n",
    "また各ビットへの対応は\n",
    "\n",
    "$$\n",
    "Rxx(\\theta)\\left|00\\right> =\n",
    "\\cos\\theta\\left|00\\right>-i\\sin\\theta\\left|11\\right>\\ ,\\ \n",
    "Rxx(\\theta)\\left|01\\right> =\n",
    "\\cos\\theta\\left|01\\right>-i\\sin\\theta\\left|10\\right>\\\\\n",
    "Rxx(\\theta)\\left|10\\right> =\n",
    "\\cos\\theta\\left|10\\right>-i\\sin\\theta\\left|01\\right>\\ ,\\ \n",
    "Rxx(\\theta)\\left|11\\right> =\n",
    "\\cos\\theta\\left|11\\right>-i\\sin\\theta\\left|00\\right>\n",
    "$$"
   ]
  },
  {
   "cell_type": "markdown",
   "metadata": {},
   "source": [
    "#### Ryy ゲート\n",
    "\n",
    "$$\n",
    "Ryy(\\theta) := e^{iYY\\theta} = \n",
    "\\cos(\\theta) I\\otimes I - i\\sin(\\theta) Y \\otimes Y \\\\\n",
    "= e^{i(SH\\otimes SH)(ZZ)(HS^{\\dagger}\\otimes HS^{\\dagger})\\theta} = \n",
    "(SH\\otimes SH)e^{iZZ\\theta}(HS^{\\dagger}\\otimes HS^{\\dagger})\\\\\n",
    "= (SH\\otimes SH)\\cdot CX\\cdot (I\\otimes Rz(\\theta))\\cdot CX\\cdot (HS^{\\dagger}\\otimes HS^{\\dagger})\n",
    "$$\n",
    "\n",
    "行列で表すと以下のようになります。\n",
    "\n",
    "$$\n",
    "Ryy(\\theta) = \\left(\\begin{array}{cccc}\n",
    "\\cos\\theta &0&0&i\\sin\\theta\\\\\n",
    "0& \\cos\\theta &-i\\sin\\theta&0\\\\\n",
    "0&-i\\sin\\theta& \\cos\\theta &0\\\\\n",
    "i\\sin\\theta&0&0& \\cos\\theta\n",
    "\\end{array}\\right)\n",
    "$$\n",
    "\n",
    "また各ビットへの対応は\n",
    "\n",
    "$$\n",
    "Ryy(\\theta)\\left|00\\right> =\n",
    "\\cos\\theta\\left|00\\right>+i\\sin\\theta\\left|11\\right>\\ ,\\ \n",
    "Ryy(\\theta)\\left|01\\right> =\n",
    "\\cos\\theta\\left|01\\right>+i\\sin\\theta\\left|10\\right>\\\\\n",
    "Ryy(\\theta)\\left|10\\right> =\n",
    "\\cos\\theta\\left|10\\right>+i\\sin\\theta\\left|01\\right>\\ ,\\ \n",
    "Ryy(\\theta)\\left|11\\right> =\n",
    "\\cos\\theta\\left|11\\right>+i\\sin\\theta\\left|00\\right>\n",
    "$$"
   ]
  },
  {
   "cell_type": "markdown",
   "metadata": {},
   "source": [
    "#### Rzz ゲート\n",
    "\n",
    "$$\n",
    "Rzz(\\theta) := e^{iZZ\\theta} = \\cos(\\theta) I\\otimes I - i\\sin(\\theta) Z \\otimes Z = CX\\cdot (I\\otimes Rz(\\theta))\\cdot CX \\\\\n",
    "$$\n",
    "\n",
    "行列で表すと以下のようになります。\n",
    "\n",
    "$$\n",
    "Rzz(\\theta) = \\left(\\begin{array}{cccc}\n",
    "e^{\\frac{\\theta}{2}i} &0&0&0\\\\\n",
    "0& e^{-\\frac{\\theta}{2}i} &0&0\\\\\n",
    "0&0& e^{-\\frac{\\theta}{2}i} &0\\\\\n",
    "0&0&0& e^{\\frac{\\theta}{2}i}\n",
    "\\end{array}\\right)\n",
    "$$\n",
    "\n",
    "また、各ビットへの対応は、\n",
    "\n",
    "$$\n",
    "Rzz(\\theta)\\left|00\\right> = e^{\\frac{\\theta}{2}i}\\left|00\\right>, Rzz(\\theta)\\left|01\\right> = e^{-\\frac{\\theta}{2}i}\\left|01\\right>\\\\\n",
    "Rzz(\\theta)\\left|10\\right> = e^{-\\frac{\\theta}{2}i}\\left|10\\right>, Rzz(\\theta)\\left|11\\right> = e^{\\frac{\\theta}{2}i}\\left|11\\right>\n",
    "$$"
   ]
  },
  {
   "cell_type": "code",
   "execution_count": null,
   "metadata": {},
   "outputs": [],
   "source": []
  }
 ],
 "metadata": {
  "colab": {
   "collapsed_sections": [],
   "name": "007_02_fullgate.ipynb",
   "provenance": []
  },
  "kernelspec": {
   "display_name": "conda_python3",
   "language": "python",
   "name": "conda_python3"
  },
  "language_info": {
   "codemirror_mode": {
    "name": "ipython",
    "version": 3
   },
   "file_extension": ".py",
   "mimetype": "text/x-python",
   "name": "python",
   "nbconvert_exporter": "python",
   "pygments_lexer": "ipython3",
   "version": "3.6.5"
  }
 },
 "nbformat": 4,
 "nbformat_minor": 1
}
