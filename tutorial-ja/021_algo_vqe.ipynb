{
 "cells": [
  {
   "cell_type": "code",
   "execution_count": 1,
   "metadata": {},
   "outputs": [],
   "source": [
    "!pip install -q blueqat"
   ]
  },
  {
   "cell_type": "markdown",
   "metadata": {},
   "source": [
    "## 概要\n",
    "理想的な誤り訂正量子コンピュータを想定した汎用アルゴリズムの一方で、NISQ向けの変分アルゴリズムがあります。\n",
    "\n",
    "1. 汎用 (グローバー、ショア、位相推定、量子フーリエ変換、HHL、量子サポートベクターマシン、その他)\n",
    "2. 変分（VQE,QAOA）\n",
    "\n",
    "VQEは短い量子回路を利用して、既存計算機とのハイブリッドで問題を解くアルゴリズムです。"
   ]
  },
  {
   "cell_type": "markdown",
   "metadata": {},
   "source": [
    "## 固有値固有ベクトル\n",
    "固有値問題を解くことで様々な問題が解けます。固有値を$E_0$、固有ベクトルを$\\mid \\psi \\rangle$としたとき、\n",
    "\n",
    "$$\n",
    "H \\mid \\psi \\rangle = E_0 \\mid \\psi \\rangle\n",
    "$$\n",
    "\n",
    "$E_0$を求めるのが目的です。"
   ]
  },
  {
   "cell_type": "markdown",
   "metadata": {},
   "source": [
    "## Z測定\n",
    "$E_0$の期待値を求める際にZ測定を使います。\n",
    "\n",
    "$$\n",
    "\\langle \\psi \\mid H \\mid \\psi \\rangle = \n",
    "\\begin{bmatrix}\n",
    "\\alpha^* & \\beta^*\n",
    "\\end{bmatrix}\n",
    "\\begin{bmatrix}\n",
    "1&0\\\\\n",
    "0&-1\n",
    "\\end{bmatrix}\n",
    "\\begin{bmatrix}\n",
    "\\alpha\\\\\n",
    "\\beta\n",
    "\\end{bmatrix}\n",
    "= |\\alpha|^2 - |\\beta|^2\n",
    "$$\n",
    "\n",
    "$|\\alpha|^2$と$|\\beta|^2$はそれぞれ、0と1のでる確率です。"
   ]
  },
  {
   "cell_type": "markdown",
   "metadata": {},
   "source": [
    "## X測定、Y測定\n",
    "ときたい行列が$X$を含む際には、こちらを使います。\n",
    "\n",
    "$$\n",
    "\\langle \\psi \\mid H \\mid \\psi \\rangle = \n",
    "\\begin{bmatrix}\n",
    "\\alpha^* & \\beta^*\n",
    "\\end{bmatrix}\n",
    "\\begin{bmatrix}\n",
    "0&1\\\\\n",
    "1&0\n",
    "\\end{bmatrix}\n",
    "\\begin{bmatrix}\n",
    "\\alpha\\\\\n",
    "\\beta\n",
    "\\end{bmatrix}\n",
    "= \\alpha^* \\beta + \\alpha \\beta^*\n",
    "$$\n",
    "\n",
    "この式は直接は測定できないので、軸の回転を利用してZ測定に落とし込みます。$X=HZH$の式変形を利用します。\n",
    "\n",
    "$$\n",
    "\\langle \\psi \\mid X \\mid \\psi \\rangle \\\\\n",
    "= \\langle \\psi \\mid HZH \\mid \\psi \\rangle\\\\\n",
    "= \\langle \\psi' \\mid Z \\mid \\psi' \\rangle\n",
    "$$\n",
    "\n",
    "$Y$には、$Y = RX(-\\pi/2) Z RX(\\pi/2)$\n",
    "\n",
    "$$\n",
    "\\langle \\psi \\mid Y \\mid \\psi \\rangle \\\\\n",
    "= \\langle \\psi \\mid RX(-\\pi/2) Z RX(\\pi/2) \\mid \\psi \\rangle\\\\\n",
    "= \\langle \\psi'' \\mid Z \\mid \\psi'' \\rangle\n",
    "$$\n",
    "\n",
    "こちらは、測定の直前に対応する回転ゲートを入れればできます。"
   ]
  },
  {
   "cell_type": "markdown",
   "metadata": {},
   "source": [
    "## 線形結合\n",
    "問題設定となるハミルトニアン$H$はエルミート行列と呼ばれる形で渡されます。これはユニタリー行列の和の形になっているので分解できます。\n",
    "\n",
    "$$\n",
    "\\langle \\psi \\mid aH_1 + bH_2 \\mid \\psi \\rangle \\\\ = \\langle \\psi \\mid aH_1 \\mid \\psi \\rangle + \\langle \\psi \\mid bH_2 \\mid \\psi \\rangle \\\\ = a\\langle \\psi \\mid H_1 \\mid \\psi \\rangle + b\\langle \\psi \\mid H_2 \\mid \\psi \\rangle\n",
    "$$\n",
    "\n",
    "これを使って、例えば、\n",
    "\n",
    "$$\n",
    "H = 1.2 X_0 Z_2 + 2.5 Z_0 X_1 Y_2 - 3.4 Z_2 X_1\n",
    "$$\n",
    "\n",
    "この式の期待値は下記のように求まります。\n",
    "\n",
    "$$\n",
    "\\langle \\psi \\mid 1.2 X_0 Z_2 + 2.5 Z_0 X_1 Y_2 - 3.4 Z_2 X_1 \\mid \\psi \\rangle\\\\\n",
    "= 1.2\\langle \\psi \\mid X_0 Z_2 \\mid \\psi \\rangle + 2.5 \\langle \\psi \\mid Z_0 X_1 Y_2\\mid \\psi \\rangle - 3.4 \\langle \\psi \\mid Z_2 X_1 \\mid \\psi \\rangle\n",
    "$$"
   ]
  },
  {
   "cell_type": "markdown",
   "metadata": {},
   "source": [
    "## 量子変分原理\n",
    "どのような状態ベクトルにおいても、期待値は下記を満たします。\n",
    "\n",
    "$$\n",
    "\\langle \\psi (\\theta) \\mid H \\mid \\psi (\\theta) \\rangle \\geq E_0\n",
    "$$\n",
    "\n",
    "VQEではこの原理を利用し、ベクトルをランダムからスタートし、既存計算機の最適化アルゴリズムを利用し、最小値を探していきます。"
   ]
  },
  {
   "cell_type": "markdown",
   "metadata": {},
   "source": [
    "## Ansatz(アンザッツ)\n",
    "最小値を効率的に探すための量子回路をAnsatzと呼びます。量子化学や組合せ最適化問題にはそれぞれのAnsatzがあります。今回は簡単な問題で、Ansatzを適当なもので見てみます。問題設定を適当に置きます。"
   ]
  },
  {
   "cell_type": "code",
   "execution_count": 4,
   "metadata": {},
   "outputs": [
    {
     "data": {
      "text/plain": [
       "array([[ 3.57+0.j  , -4.56-2.45j],\n",
       "       [-4.56+2.45j, -1.11+0.j  ]])"
      ]
     },
     "execution_count": 4,
     "metadata": {},
     "output_type": "execute_result"
    }
   ],
   "source": [
    "from blueqat.pauli import X, Y, Z, I\n",
    "\n",
    "h = 1.23 * I - 4.56 * X(0) + 2.45 * Y(0) + 2.34 * Z(0)\n",
    "h.to_matrix()"
   ]
  },
  {
   "cell_type": "markdown",
   "metadata": {},
   "source": [
    "今回は1量子ビットだけ使う問題なので、下記のように2つの角度を使ってAnsatzを置きます。\n",
    "\n",
    "$$\n",
    "RZ(b)RX(a)\n",
    "$$"
   ]
  },
  {
   "cell_type": "markdown",
   "metadata": {},
   "source": [
    "## 手順\n",
    "\n",
    "1. 回転ゲートの角度をパラメータにしてAnsatzを作ります。（量子）\n",
    "2. 実行の結果から次を計算します。 $\\langle \\psi (\\theta) \\mid H \\mid \\psi (\\theta) \\rangle$ (古典)\n",
    "3. 次の角度パラメータを試します。"
   ]
  },
  {
   "cell_type": "code",
   "execution_count": 5,
   "metadata": {},
   "outputs": [
    {
     "name": "stdout",
     "output_type": "stream",
     "text": [
      "Result by VQE\n",
      "-4.4507992838702055\n",
      "Result by numpy\n",
      "-4.450818602983201\n"
     ]
    }
   ],
   "source": [
    "import numpy as np\n",
    "from blueqat import Circuit\n",
    "from blueqat.pauli import X, Y, Z, I\n",
    "from blueqat.vqe import AnsatzBase, Vqe\n",
    "\n",
    "class OneQubitAnsatz(AnsatzBase):\n",
    "    def __init__(self, hamiltonian):\n",
    "        super().__init__(hamiltonian.to_expr(), 2)\n",
    "        self.step = 1\n",
    "\n",
    "    def get_circuit(self, params):\n",
    "        a, b = params\n",
    "        return Circuit().rx(a)[0].rz(b)[0]\n",
    "\n",
    "# hamiltonian\n",
    "h = 1.23 * I - 4.56 * X(0) + 2.45 * Y(0) + 2.34 * Z(0)\n",
    "runner = Vqe(OneQubitAnsatz(h))\n",
    "result = runner.run()\n",
    "\n",
    "print('Result by VQE')\n",
    "print(runner.ansatz.get_energy(result.circuit, runner.sampler))\n",
    "\n",
    "# This is for check\n",
    "mat = h.to_matrix()\n",
    "print('Result by numpy')\n",
    "print(np.linalg.eigh(mat)[0][0])"
   ]
  },
  {
   "cell_type": "markdown",
   "metadata": {},
   "source": [
    "これがVQEです。例題を2つやってみます。"
   ]
  },
  {
   "cell_type": "markdown",
   "metadata": {},
   "source": [
    "## 量子化学計算\n",
    "UCCと呼ばれる理論によってAnsatzが与えられます。追加のインストールをして水素分子の最小エネルギーの計算を試してみます。"
   ]
  },
  {
   "cell_type": "code",
   "execution_count": 6,
   "metadata": {},
   "outputs": [],
   "source": [
    "!pip install -q openfermionblueqat openfermion"
   ]
  },
  {
   "cell_type": "markdown",
   "metadata": {},
   "source": [
    "## コード"
   ]
  },
  {
   "cell_type": "code",
   "execution_count": 7,
   "metadata": {},
   "outputs": [
    {
     "data": {
      "text/plain": [
       "[<matplotlib.lines.Line2D at 0x7f5dad75b4e0>]"
      ]
     },
     "execution_count": 7,
     "metadata": {},
     "output_type": "execute_result"
    },
    {
     "data": {
      "image/png": "[encoded data removed]",
      "text/plain": [
       "<Figure size 432x288 with 1 Axes>"
      ]
     },
     "metadata": {},
     "output_type": "display_data"
    }
   ],
   "source": [
    "from blueqat import *\n",
    "from openfermion import *\n",
    "from openfermionblueqat import*\n",
    "import numpy as np\n",
    "\n",
    "# return the data prepared in openfermion\n",
    "def get_molecule(bond_len):\n",
    "  geometry = [('H',(0.,0.,0.)),('H',(0.,0.,bond_len))]\n",
    "\n",
    "  description = format(bond_len)\n",
    "  molecule = MolecularData(geometry, \"sto-3g\",1,description=description)\n",
    "\n",
    "  molecule.load()\n",
    "  return molecule\n",
    "\n",
    "#array to put the result in\n",
    "x = [];e=[];fullci=[]\n",
    "\n",
    "# bond length of hydrogen atom from 0.2 to 2.5\n",
    "for bond_len in np.arange(0.2,2.5,0.1):\n",
    "  m = get_molecule(\"{:.2}\".format(bond_len))\n",
    "  \n",
    "  #comverting hamiltonian two times on chemistry theory\n",
    "  h = bravyi_kitaev(get_fermion_operator(m.get_molecular_hamiltonian()))\n",
    "  \n",
    "  #put the hamiltonian into UCCansatz\n",
    "  runner = vqe.Vqe(UCCAnsatz(h,6,Circuit().x[0]))\n",
    "  result = runner.run()\n",
    "  x.append(bond_len)\n",
    "  e.append(runner.ansatz.get_energy(result.circuit,runner.sampler))\n",
    "  fullci.append(m.fci_energy)\n",
    "\n",
    "#draw\n",
    "%matplotlib inline\n",
    "import matplotlib.pyplot as plt\n",
    "plt.plot(x,fullci)\n",
    "plt.plot(x,e,\"o\")"
   ]
  },
  {
   "cell_type": "markdown",
   "metadata": {},
   "source": [
    "## 簡単なチェック\n",
    "\n",
    "原子間距離が0.4の例題をみてみます。\n",
    "\n",
    "```python\n",
    "m = get_molecule(0.4)\n",
    "m.get_molecular_hamiltonian()\n",
    "```\n",
    "\n",
    "準備されたものからハミルトニアンを見てみます。\n",
    "\n",
    "```python\n",
    "() 1.322943021475\n",
    "((0, 1), (0, 0)) -1.4820918858979102\n",
    "((1, 1), (1, 0)) -1.4820918858979102\n",
    "((2, 1), (2, 0)) -0.1187350527865787\n",
    "((3, 1), (3, 0)) -0.1187350527865787\n",
    "((0, 1), (0, 1), (0, 0), (0, 0)) 0.36843967630348756\n",
    "((0, 1), (0, 1), (2, 0), (2, 0)) 0.08225771204699692\n",
    "((0, 1), (1, 1), (1, 0), (0, 0)) 0.36843967630348756\n",
    "((0, 1), (1, 1), (3, 0), (2, 0)) 0.08225771204699692\n",
    "((0, 1), (2, 1), (0, 0), (2, 0)) 0.082257712046997\n",
    "((0, 1), (2, 1), (2, 0), (0, 0)) 0.3626667179796745\n",
    "((0, 1), (3, 1), (1, 0), (2, 0)) 0.082257712046997\n",
    "((0, 1), (3, 1), (3, 0), (0, 0)) 0.3626667179796745\n",
    "((1, 1), (0, 1), (0, 0), (1, 0)) 0.36843967630348756\n",
    "((1, 1), (0, 1), (2, 0), (3, 0)) 0.08225771204699692\n",
    "((1, 1), (1, 1), (1, 0), (1, 0)) 0.36843967630348756\n",
    "((1, 1), (1, 1), (3, 0), (3, 0)) 0.08225771204699692\n",
    "((1, 1), (2, 1), (0, 0), (3, 0)) 0.082257712046997\n",
    "((1, 1), (2, 1), (2, 0), (1, 0)) 0.3626667179796745\n",
    "((1, 1), (3, 1), (1, 0), (3, 0)) 0.082257712046997\n",
    "((1, 1), (3, 1), (3, 0), (1, 0)) 0.3626667179796745\n",
    "((2, 1), (0, 1), (0, 0), (2, 0)) 0.36266671797967454\n",
    "((2, 1), (0, 1), (2, 0), (0, 0)) 0.08225771204699726\n",
    "((2, 1), (1, 1), (1, 0), (2, 0)) 0.36266671797967454\n",
    "((2, 1), (1, 1), (3, 0), (0, 0)) 0.08225771204699726\n",
    "((2, 1), (2, 1), (0, 0), (0, 0)) 0.08225771204699728\n",
    "((2, 1), (2, 1), (2, 0), (2, 0)) 0.38272169831413727\n",
    "((2, 1), (3, 1), (1, 0), (0, 0)) 0.08225771204699728\n",
    "((2, 1), (3, 1), (3, 0), (2, 0)) 0.38272169831413727\n",
    "((3, 1), (0, 1), (0, 0), (3, 0)) 0.36266671797967454\n",
    "((3, 1), (0, 1), (2, 0), (1, 0)) 0.08225771204699726\n",
    "((3, 1), (1, 1), (1, 0), (3, 0)) 0.36266671797967454\n",
    "((3, 1), (1, 1), (3, 0), (1, 0)) 0.08225771204699726\n",
    "((3, 1), (2, 1), (0, 0), (1, 0)) 0.08225771204699728\n",
    "((3, 1), (2, 1), (2, 0), (3, 0)) 0.38272169831413727\n",
    "((3, 1), (3, 1), (1, 0), (1, 0)) 0.08225771204699728\n",
    "((3, 1), (3, 1), (3, 0), (3, 0)) 0.38272169831413727\n",
    "```\n",
    "\n",
    "これは私たちの知っている形のハミルトニアンではないので、変換を利用して解ける形に持っていきます。\n",
    "\n",
    "```python\n",
    "h = bravyi_kitaev(get_fermion_operator(m.get_molecular_hamiltonian()))\n",
    "```\n",
    "\n",
    "このように自動変換されました。\n",
    "\n",
    "```python\n",
    "print(h)\n",
    "\n",
    "(0.7407724940116754+0j)*I + (0.23528824284103544+0j)*Z[0] + (0.23528824284103542+0j)*Z[0]*Z[1] + (-0.45353118471995524+0j)*Z[2] + (-0.45353118471995524+0j)*Z[1]*Z[2]*Z[3] + (0.18421983815174378+0j)*Z[1] + (0.041128856023498556+0j)*Y[0]*Z[1]*Y[2]*Z[3] + (0.041128856023498556+0j)*X[0]*Z[1]*X[2] + (0.041128856023498556+0j)*X[0]*Z[1]*X[2]*Z[3] + (0.041128856023498556+0j)*Y[0]*Z[1]*Y[2] + (0.14020450296633868+0j)*Z[0]*Z[2] + (0.18133335898983727+0j)*Z[0]*Z[1]*Z[2]*Z[3] + (0.18133335898983727+0j)*Z[0]*Z[1]*Z[2] + (0.14020450296633868+0j)*Z[0]*Z[2]*Z[3] + (0.19136084915706864+0j)*Z[1]*Z[3]\n",
    "```\n",
    "\n",
    "これはXやYなどで書かれているので、量子コンピュータで解けます。AnsatzはUCC理論に基づいて作られますが、openfermionblueqatに搭載されているものを使ってみます。\n",
    "\n",
    "```python\n",
    "runner = vqe.Vqe(UCCAnsatz(h,2,Circuit().x[0]))\n",
    "result = runner.run(verbose = True)\n",
    "```\n",
    "\n",
    "あとは、自動的に解かれます。\n",
    "\n",
    "\n",
    "```python\n",
    "params: [0.00803084 0.88310007] val: -0.3685674394653079\n",
    "params: [0.00803084 0.88310007] val: -0.3685674394653079\n",
    "\n",
    "...\n",
    "        \n",
    "params: [-0.0024937  -0.00256402] val: -0.9043519838381495\n",
    "params: [-0.0024937  -0.16023561] val: -0.885812805585636\n",
    "```\n",
    "\n",
    "原子間距離0.4の時の最小値はこのように計算されました。\n",
    "\n",
    "```python\n",
    "runner.ansatz.get_energy(result.circuit,runner.sampler)\n",
    "\n",
    "-0.9043519838381495\n",
    "```"
   ]
  },
  {
   "cell_type": "markdown",
   "metadata": {},
   "source": [
    "## 組合せ最適化問題\n",
    "VQEで組合せ最適化を解くこともできます。やってみます。ハミルトニアンは自分で作りますが、ルールはZ演算子を使うということです。やってみましょう。\n",
    "\n",
    "```python\n",
    "h = -Z(0) - Z(0)*Z(1)\n",
    "```\n",
    "\n",
    "Zの後ろは量子ビットの通し番号です。Z(0)の前の数字はバイアス、Z(0) * Z(1)の前の数字はウェイトです。\n",
    "\n",
    "Zは期待値として+1か-1をとります。この組合せで答えを出します。\n",
    "\n",
    "\n",
    "Z(0) | Z(1) | h\n",
    "--:|:----:|:--\n",
    "-1|-1|0\n",
    "-1|1|2\n",
    "1|-1|0\n",
    "1|1|-2\n",
    "\n",
    "VQEでZ(0)=Z(1)=1 の時に、hの最小値-2を計算で探します。Ansatzは適当に、\n",
    "\n",
    "```python\n",
    "Circuit().ry[a].ry[b].cx[0,1]\n",
    "```\n",
    "\n",
    "でやってみます。"
   ]
  },
  {
   "cell_type": "code",
   "execution_count": 12,
   "metadata": {},
   "outputs": [
    {
     "name": "stdout",
     "output_type": "stream",
     "text": [
      "Result by VQE\n",
      "-1.9999967180044036\n"
     ]
    }
   ],
   "source": [
    "import numpy as np\n",
    "from blueqat import Circuit\n",
    "from blueqat.pauli import X, Y, Z, I\n",
    "from blueqat.vqe import AnsatzBase, Vqe\n",
    "\n",
    "class OneQubitAnsatz(AnsatzBase):\n",
    "    def __init__(self, hamiltonian):\n",
    "        super().__init__(hamiltonian.to_expr(), 2)\n",
    "        self.step = 1\n",
    "\n",
    "    def get_circuit(self, params):\n",
    "        a, b = params\n",
    "        return Circuit().ry(a)[0].ry(b)[1].cx[0,1]\n",
    "\n",
    "# Hamiltonian\n",
    "h = -Z(0) - Z(0)*Z(1)\n",
    "runner = Vqe(OneQubitAnsatz(h))\n",
    "result = runner.run()\n",
    "\n",
    "print('Result by VQE')\n",
    "print(runner.ansatz.get_energy(result.circuit, runner.sampler))"
   ]
  },
  {
   "cell_type": "markdown",
   "metadata": {},
   "source": [
    "例えばこの問題は、下記の設定をしたmaxcut問題と同じです。このように組合せ最適化問題が解けました。\n",
    "\n",
    "1. Z(0)をアリス、Z(1)をボブとする\n",
    "2. アリスはグループ1に属する(バイアス設定)\n",
    "3. ボブはアリスと同じグループに属する(ウェイト設定)"
   ]
  },
  {
   "cell_type": "markdown",
   "metadata": {},
   "source": [
    "## QUBO\n",
    "Zの期待値は-1か+1でしたが、産業界では0と1を使うことが多いので、Zの式を01のバイナリ値に変換したのがQUBOです。\n",
    "\n",
    "$$\n",
    "q = \\frac{Z + 1}{2}\n",
    "$$\n",
    "\n",
    "$0^2=0$ や $1^2=1$ などの便利なルールが使えます。ハミルトニアンは下記のように自動的に変換できます。\n",
    "\n",
    "```python\n",
    "h = -Z(0) - Z(0)*Z(1)\n",
    "```\n",
    "\n",
    "を\n",
    "\n",
    "```python\n",
    "h = -(2*q(0)-1)-(2*q(0)-1)*(2*q(1)-1) = 2*q(1)-4*q(0)*q(1)\n",
    "```\n",
    "\n",
    "これを解きます。"
   ]
  },
  {
   "cell_type": "code",
   "execution_count": 16,
   "metadata": {},
   "outputs": [
    {
     "name": "stdout",
     "output_type": "stream",
     "text": [
      "Result by VQE\n",
      "-1.9912118061203703\n"
     ]
    }
   ],
   "source": [
    "import numpy as np\n",
    "from blueqat import Circuit\n",
    "from blueqat.pauli import X, Y, Z, I\n",
    "from blueqat.pauli import qubo_bit as q\n",
    "from blueqat.vqe import AnsatzBase, Vqe\n",
    "\n",
    "class QubitAnsatz(AnsatzBase):\n",
    "    def __init__(self, hamiltonian):\n",
    "        super().__init__(hamiltonian, 2)\n",
    "        self.step = 1\n",
    "\n",
    "    def get_circuit(self, params):\n",
    "        a, b = params\n",
    "        return Circuit().ry(a)[0].ry(b)[1].cx[0,1]\n",
    "\n",
    "h = 2*q(1)-4*q(0)*q(1)\n",
    "runner = Vqe(QubitAnsatz(h))\n",
    "result = runner.run()\n",
    "\n",
    "print('Result by VQE')\n",
    "print(runner.ansatz.get_energy(result.circuit, runner.sampler))"
   ]
  }
 ],
 "metadata": {
  "kernelspec": {
   "display_name": "conda_python3",
   "language": "python",
   "name": "conda_python3"
  },
  "language_info": {
   "codemirror_mode": {
    "name": "ipython",
    "version": 3
   },
   "file_extension": ".py",
   "mimetype": "text/x-python",
   "name": "python",
   "nbconvert_exporter": "python",
   "pygments_lexer": "ipython3",
   "version": "3.6.5"
  }
 },
 "nbformat": 4,
 "nbformat_minor": 4
}
