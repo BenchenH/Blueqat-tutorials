{
 "cells": [
  {
   "cell_type": "markdown",
   "metadata": {
    "colab_type": "text",
    "id": "NjHnSAbHrInP"
   },
   "source": [
    "# 時間発展\n",
    "量子状態が時間によって変化することを時間発展と言います。   \n",
    "量子ゲートの時間発展演算子を実装してみます。"
   ]
  },
  {
   "cell_type": "markdown",
   "metadata": {},
   "source": [
    "## 時間発展演算子\n",
    "時間に依存しないハミルトニアンを $H$ とします。このとき量子状態は以下の式に従って変化します。\n",
    "\n",
    "$$\n",
    "|\\phi(t)\\rangle = e^{iHt}|\\phi(0)\\rangle\n",
    "$$\n",
    "\n",
    "この $e^{iHt}$ を $H$ の時間発展演算子と言います。"
   ]
  },
  {
   "cell_type": "markdown",
   "metadata": {},
   "source": [
    "## インストール\n",
    "Blueqatのインストールは簡単です。pipからインストールを行います。"
   ]
  },
  {
   "cell_type": "code",
   "execution_count": 2,
   "metadata": {
    "colab": {
     "base_uri": "https://localhost:8080/",
     "height": 136
    },
    "colab_type": "code",
    "collapsed": true,
    "id": "Z2z6oBnToiqa",
    "outputId": "413f3f56-1b22-40f7-fcff-4621af4596d4"
   },
   "outputs": [
    {
     "name": "stdout",
     "output_type": "stream",
     "text": [
      "Requirement already satisfied: blueqat in /home/ec2-user/anaconda3/envs/python3/lib/python3.6/site-packages (0.3.13)\n",
      "Requirement already satisfied: scipy>=1.1.0 in /home/ec2-user/anaconda3/envs/python3/lib/python3.6/site-packages (from blueqat) (1.1.0)\n",
      "Requirement already satisfied: numpy~=1.12 in /home/ec2-user/anaconda3/envs/python3/lib/python3.6/site-packages (from blueqat) (1.18.3)\n",
      "\u001b[33mWARNING: You are using pip version 20.0.2; however, version 20.1 is available.\n",
      "You should consider upgrading via the '/home/ec2-user/anaconda3/envs/python3/bin/python -m pip install --upgrade pip' command.\u001b[0m\n"
     ]
    }
   ],
   "source": [
    "!pip install blueqat"
   ]
  },
  {
   "cell_type": "markdown",
   "metadata": {},
   "source": [
    "## X, Y, Z ゲート\n",
    "\n",
    "X, Y, Z ゲートの時間発展はそれぞれ以下のようになります。\n",
    "\n",
    "$$\n",
    "e^{iX\\theta} = \\cos\\theta I - i\\sin\\theta X = Rx(2\\theta)\\\\\n",
    "e^{iY\\theta} = \\cos\\theta I - i\\sin\\theta Y = Ry(2\\theta)\\\\\n",
    "e^{iZ\\theta} = \\cos\\theta I - i\\sin\\theta Z = Rz(2\\theta)\\\\\n",
    "$$\n",
    "\n",
    "時間発展を行うためには `get_time_evolution()` を使います。\n",
    "### Rx ゲート"
   ]
  },
  {
   "cell_type": "code",
   "execution_count": 68,
   "metadata": {},
   "outputs": [
    {
     "output_type": "execute_result",
     "data": {
      "text/plain": "Counter({'0': 55, '1': 45})"
     },
     "metadata": {},
     "execution_count": 68
    }
   ],
   "source": [
    "from blueqat import Circuit\n",
    "import math\n",
    "\n",
    "evo = X[0].to_term().get_time_evolution()\n",
    "\n",
    "c = Circuit()\n",
    "evo(c, math.pi/4)\n",
    "c.m[:].run(shots=100)"
   ]
  },
  {
   "cell_type": "markdown",
   "metadata": {},
   "source": [
    "### Ry ゲート"
   ]
  },
  {
   "cell_type": "code",
   "execution_count": 69,
   "metadata": {},
   "outputs": [
    {
     "output_type": "execute_result",
     "data": {
      "text/plain": "Counter({'0': 48, '1': 52})"
     },
     "metadata": {},
     "execution_count": 69
    }
   ],
   "source": [
    "from blueqat import Circuit\n",
    "import math\n",
    "\n",
    "evo = Y[0].to_term().get_time_evolution()\n",
    "\n",
    "c = Circuit()\n",
    "evo(c, math.pi/4)\n",
    "c.m[:].run(shots=100)"
   ]
  },
  {
   "cell_type": "markdown",
   "metadata": {},
   "source": [
    "### Rz ゲート"
   ]
  },
  {
   "cell_type": "code",
   "execution_count": 70,
   "metadata": {},
   "outputs": [
    {
     "output_type": "execute_result",
     "data": {
      "text/plain": "Counter({'0': 100})"
     },
     "metadata": {},
     "execution_count": 70
    }
   ],
   "source": [
    "from blueqat import Circuit\n",
    "import math\n",
    "\n",
    "evo = Z[0].to_term().get_time_evolution()\n",
    "\n",
    "c = Circuit()\n",
    "evo(c, math.pi/4)\n",
    "c.m[:].run(shots=100)"
   ]
  },
  {
   "cell_type": "markdown",
   "metadata": {},
   "source": [
    "上手く時間発展できました。"
   ]
  },
  {
   "cell_type": "markdown",
   "metadata": {},
   "source": [
    "## XX, YY, ZZ ゲート\n",
    "\n",
    "XX, YY, ZZ ゲートの時間発展はそれぞれ以下のようになります。\n",
    "\n",
    "$$\n",
    "e^{iXX\\theta} = \\cos\\theta I - i\\sin\\theta XX = (HH)e^{iZZ\\theta}(HH)\\\\\n",
    "e^{iYY\\theta} = \\cos\\theta I - i\\sin\\theta YY = (SHSH)e^{iZZ\\theta}(HS^\\dagger HS^\\dagger)\\\\\n",
    "e^{iZZ\\theta} = \\cos\\theta I - i\\sin\\theta ZZ = CXRz(2\\theta)CX\\\\\n",
    "$$\n",
    "\n",
    "X, Y, Z ゲートと同じように実装します。\n",
    "\n",
    "### Rxx ゲート"
   ]
  },
  {
   "cell_type": "code",
   "execution_count": 86,
   "metadata": {},
   "outputs": [
    {
     "output_type": "execute_result",
     "data": {
      "text/plain": "Counter({'11': 45, '00': 55})"
     },
     "metadata": {},
     "execution_count": 86
    }
   ],
   "source": [
    "from blueqat import Circuit\n",
    "\n",
    "evo = (X[0]*X[1]).to_term().get_time_evolution()\n",
    "\n",
    "c = Circuit()\n",
    "evo(c, math.pi/4)\n",
    "c.m[:].run(shots=100)"
   ]
  },
  {
   "cell_type": "markdown",
   "metadata": {},
   "source": [
    "### Ryy ゲート"
   ]
  },
  {
   "cell_type": "code",
   "execution_count": 87,
   "metadata": {},
   "outputs": [
    {
     "output_type": "execute_result",
     "data": {
      "text/plain": "Counter({'11': 50, '00': 50})"
     },
     "metadata": {},
     "execution_count": 87
    }
   ],
   "source": [
    "from blueqat import Circuit\n",
    "\n",
    "evo = (Y[0]*Y[1]).to_term().get_time_evolution()\n",
    "\n",
    "c = Circuit()\n",
    "evo(c, math.pi/4)\n",
    "c.m[:].run(shots=100)"
   ]
  },
  {
   "cell_type": "markdown",
   "metadata": {},
   "source": [
    "### Rzz ゲート"
   ]
  },
  {
   "cell_type": "code",
   "execution_count": 88,
   "metadata": {},
   "outputs": [
    {
     "output_type": "execute_result",
     "data": {
      "text/plain": "Counter({'00': 100})"
     },
     "metadata": {},
     "execution_count": 88
    }
   ],
   "source": [
    "from blueqat import Circuit\n",
    "\n",
    "evo = (Z[0]*Z[1]).to_term().get_time_evolution()\n",
    "\n",
    "c = Circuit()\n",
    "evo(c, math.pi/4)\n",
    "c.m[:].run(shots=100)"
   ]
  },
  {
   "cell_type": "markdown",
   "metadata": {},
   "source": [
    "上手く実装できました。"
   ]
  },
  {
   "cell_type": "code",
   "execution_count": null,
   "metadata": {},
   "outputs": [],
   "source": []
  }
 ],
 "metadata": {
  "colab": {
   "collapsed_sections": [],
   "name": "007_02_fullgate.ipynb",
   "provenance": []
  },
  "kernelspec": {
   "display_name": "Python 3.7.6 64-bit ('dwave': conda)",
   "language": "python",
   "name": "python37664bitdwavecondaaa252b8d749942f1b803140f9f138e1e"
  },
  "language_info": {
   "codemirror_mode": {
    "name": "ipython",
    "version": 3
   },
   "file_extension": ".py",
   "mimetype": "text/x-python",
   "name": "python",
   "nbconvert_exporter": "python",
   "pygments_lexer": "ipython3",
   "version": "3.7.6-final"
  }
 },
 "nbformat": 4,
 "nbformat_minor": 1
}