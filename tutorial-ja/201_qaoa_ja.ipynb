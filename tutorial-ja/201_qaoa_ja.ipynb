{
 "cells": [
  {
   "cell_type": "markdown",
   "metadata": {
    "colab_type": "text",
    "id": "NjHnSAbHrInP"
   },
   "source": [
    "# QAOA\n",
    "VQEアルゴリズムとほぼ同じですが、利用する量子回路であるAnsatzにQAOA専用の組合せ最適化問題向けのものを利用します。\n",
    "\n",
    "## 今回学ぶこと\n",
    "1. QAOAの仕組み\n",
    "2. 簡単な例題でQAOAの実装をする\n",
    "\n",
    "## Blueqatのインストール\n",
    "pipからBlueqatをインストールします。今回は追加でObaqもインストールします。"
   ]
  },
  {
   "cell_type": "code",
   "execution_count": 1,
   "metadata": {},
   "outputs": [
    {
     "name": "stdout",
     "output_type": "stream",
     "text": [
      "Requirement already satisfied: blueqat in /home/ec2-user/anaconda3/envs/python3/lib/python3.6/site-packages (0.3.13)\r\n",
      "Requirement already satisfied: obaq in /home/ec2-user/anaconda3/envs/python3/lib/python3.6/site-packages (0.0.11.dev0)\r\n",
      "Requirement already satisfied: scipy>=1.1.0 in /home/ec2-user/anaconda3/envs/python3/lib/python3.6/site-packages (from blueqat) (1.1.0)\r\n",
      "Requirement already satisfied: numpy~=1.12 in /home/ec2-user/anaconda3/envs/python3/lib/python3.6/site-packages (from blueqat) (1.18.3)\r\n"
     ]
    }
   ],
   "source": [
    "!pip install blueqat obaq"
   ]
  },
  {
   "cell_type": "markdown",
   "metadata": {},
   "source": [
    "----"
   ]
  },
  {
   "cell_type": "markdown",
   "metadata": {
    "colab_type": "text",
    "id": "NjHnSAbHrInP"
   },
   "source": [
    "## 量子断熱計算\n",
    "QAOAは時間発展の量子断熱計算と呼ばれる仕組みを使います。   \n",
    "現時刻をt、全体のスケジュールをTとし、ハミルトニアンは二つを使います。準備する初期のハミルトニアン $H_{start}$とし、解きたい問題を入れたハミルトニアンを $H_{final}$ とします。その時に、下記のように初期のハミルトニアンから解きたい問題のハミルトニアンへと少しずつ入れ替えていきます。\n",
    "\n",
    "$$\n",
    "H_{temp} = (1-\\frac{t}{T})H_{start} + \\frac{t}{T}H_{final}\n",
    "$$\n",
    "\n",
    "\n",
    "$T\\rightarrow\\infty$ のとき、基底状態は以下のような固有状態になります。\n",
    "\n",
    "$$\n",
    "H_{temp}\\mid \\psi \\rangle = E_{0temp}\\mid \\psi \\rangle\n",
    "$$\n",
    "\n",
    "この2つのハミルトニアンを入れ替える過程を時間発展演算子を利用して作ります。\n",
    "\n",
    "$$\n",
    "\\mid \\psi_{t+1} \\rangle = e^{-iHt}  \\mid \\psi_t \\rangle\n",
    "$$"
   ]
  },
  {
   "cell_type": "markdown",
   "metadata": {
    "colab_type": "text",
    "id": "NjHnSAbHrInP"
   },
   "source": [
    "## 量子回路\n",
    "量子回路は、\n",
    "\n",
    "1. 初期状態の準備\n",
    "2. QAOA Ansatz\n",
    "\n",
    "から構成されます。\n",
    "\n",
    "```\n",
    "|0> ---[初期状態の準備]---[QAOA Ansatz]---[測定]\n",
    "```\n",
    "\n",
    "より詳しく中身を見ると、具体的な回路例を使って、\n",
    "\n",
    "```\n",
    "|0> --H--  --RZZ--RZ--RX- -RZZ--RZ--RX--  --[測定]\n",
    "|0> --H--  --*----RZ--RX- -*----RZ--RX--  --[測定]\n",
    "```\n",
    "\n",
    "このようになっており、一番左が初期状態の準備、次がQAOA Ansatzの1ステップ目、その次がQAOA Ansatzの2ステップ目です。最後に測定をして解を求めます。"
   ]
  },
  {
   "cell_type": "markdown",
   "metadata": {},
   "source": [
    "## 2つのハミルトニアン\n",
    "今回は初期のハミルトニアン（ミキサーハミルトニアン）と、解きたい問題のハミルトニアン（コストハミルトニアン）を使います。ミキサーハミルトニアンは問題の制約条件によって選び方を変えます。コストハミルトニアンは問題において最小化したい値を定式化します。"
   ]
  },
  {
   "cell_type": "markdown",
   "metadata": {},
   "source": [
    "## ミキサーハミルトニアンと初期状態の準備\n",
    "ミキサーハミルトニアンは問題の探索の仕方を決めるためのものです。量子アニーリングでは、Xをミキサーハミルトニアンとして、量子ビットの値を反転させながら答えを探索します。\n",
    "\n",
    "ミキサーハミルトニアンを問題の制約条件によって決めると、初期状態が決まります。初期状態の準備は、ミキサーハミルトニアンの固有状態を設定します。上記XをミキサーハミルトニアンとしたときのXミキサーを利用する場合、初期状態に設定する固有状態$\\mid \\psi \\rangle$は$\\mid + \\rangle$などを選びます。\n",
    "\n"
   ]
  },
  {
   "cell_type": "markdown",
   "metadata": {},
   "source": [
    "## コストハミルトニアン\n",
    "コストハミルトニアンは問題によって定式化を変えます。社会問題をベースとして組合せ最適化問題と呼ばれる種類の問題を、物理のイジングモデルと呼ばれるモデルの上に落とし込みます。コストハミルトニアンはZ演算子の期待値が+1と-1であることを利用して、問題の条件を全てZもしくはZZ演算子を使って表現します。\n",
    "\n",
    "```\n",
    "hamiltonian = -Z(0) - Z(0)*Z(1)\n",
    "```\n",
    "\n",
    "のように、単体のZの前に「バイアス」を設定し、複数のZの前に「ウェイト」を設定します。"
   ]
  },
  {
   "cell_type": "markdown",
   "metadata": {
    "colab_type": "text",
    "id": "NjHnSAbHrInP"
   },
   "source": [
    "## QAOA Ansatzとハミルトニアンの時間発展\n",
    "QAOA Ansatzの中には問題設定をしたコストハミルトニアンと探索の仕方を決めるミキサーハミルトニアンが時間発展演算子と呼ばれる形に変形され格納されています。\n",
    "\n",
    "$X$ゲートの時間発展は$RX(\\theta)$ゲートのように角度を含むゲートを利用します。また、2量子ビットは$XX$ゲートの時間発展も、$RXX(\\theta)$のように角度を含むものになります。"
   ]
  },
  {
   "cell_type": "markdown",
   "metadata": {},
   "source": [
    "## ステップ数\n",
    "量子断熱計算は通常アナログの過程を時間発展演算子を利用して離散化しています。より精度を上げるためには、分割数を増やすことで精度を上げられますが、回路が長くなるので、その分計算時間がかかります。QAOAでもステップ数を設定することで精度を上げることができます。ステップ数はQAOA Ansatzの中の繰り返しの回数に対応しています。"
   ]
  },
  {
   "cell_type": "markdown",
   "metadata": {},
   "source": [
    "## Xミキサー\n",
    "代表的なミキサーにXミキサーがあります。\n",
    "\n",
    "$$\n",
    "X\\mid 0 \\rangle = \n",
    "\\begin{bmatrix}\n",
    "0&1\\\\\n",
    "1&0\n",
    "\\end{bmatrix}\n",
    "\\begin{bmatrix}\n",
    "1\\\\\n",
    "0\n",
    "\\end{bmatrix}\n",
    "=\n",
    "\\begin{bmatrix}\n",
    "0\\\\\n",
    "1\n",
    "\\end{bmatrix}\n",
    "$$\n",
    "\n",
    "これは量子ビットの値を反転させるため、単体の量子ビットに作用させて使います。初期状態も単体の量子ビットにHゲートを作用させて$\\mid + \\rangle$状態を作ります。"
   ]
  },
  {
   "cell_type": "markdown",
   "metadata": {},
   "source": [
    "## XYミキサー\n",
    "XYミキサーは二つの状態を入れ替えながら探索を行います。(XX+YY)/2は、"
   ]
  },
  {
   "cell_type": "markdown",
   "metadata": {},
   "source": [
    "$$\n",
    "X_0X_1 + Y_0Y_1 = \n",
    "\\begin{bmatrix}\n",
    "0&1\\\\\n",
    "1&0\n",
    "\\end{bmatrix}\n",
    "\\otimes\n",
    "\\begin{bmatrix}\n",
    "0&1\\\\\n",
    "1&0\n",
    "\\end{bmatrix}\n",
    "+\n",
    "\\begin{bmatrix}\n",
    "0&-i\\\\\n",
    "i&0\n",
    "\\end{bmatrix}\n",
    "\\otimes\n",
    "\\begin{bmatrix}\n",
    "0&-i\\\\\n",
    "i&0\n",
    "\\end{bmatrix}\n",
    "=\n",
    "\\begin{bmatrix}\n",
    "0&0&0&1\\\\\n",
    "0&0&1&0\\\\\n",
    "0&1&0&0\\\\\n",
    "1&0&0&0\n",
    "\\end{bmatrix}\n",
    "+\n",
    "\\begin{bmatrix}\n",
    "0&0&0&-1\\\\\n",
    "0&0&1&0\\\\\n",
    "0&1&0&0\\\\\n",
    "-1&0&0&0\n",
    "\\end{bmatrix}\n",
    "$$\n",
    "\n",
    "ですので、足し合わせて2で割ると、\n",
    "\n",
    "$$\n",
    "(X_0X_1 + Y_0Y_1)/2 \n",
    "=\n",
    "\\begin{bmatrix}\n",
    "0&0&0&0\\\\\n",
    "0&0&1&0\\\\\n",
    "0&1&0&0\\\\\n",
    "0&0&0&0\n",
    "\\end{bmatrix}\n",
    "$$\n",
    "\n",
    "となりました。こちらは、01と10状態を交換しながら探索を行います。初期状態は固有状態として、01と10のもつれ状態を選びます。また、\n",
    "\n",
    "$$\n",
    "(X_0X_1 - Y_0Y_1)/2 = \n",
    "\\begin{bmatrix}\n",
    "0&0&0&1\\\\\n",
    "0&0&0&0\\\\\n",
    "0&0&0&0\\\\\n",
    "1&0&0&0\n",
    "\\end{bmatrix}\n",
    "$$\n",
    "\n",
    "となり、こちらは00と11の状態を交換します。初期状態は00と11のもつれ状態を選びます。"
   ]
  },
  {
   "cell_type": "markdown",
   "metadata": {},
   "source": [
    "## 例題：量子アニーリング\n",
    "\n",
    "ObaqにQaoaQaoaAnsatzを入れました。QaoaQaoaAnsatzは初期状態では量子アニーリングに設定されています。mixerにXというものを使い、初期状態に|+>を設定しています。初期状態の|+>は全ての量子ビットにアダマールゲートHをかけることで実現します。\n",
    "\n",
    "```\n",
    "|0> --H--  --RZZ--RZ--RX- -RZZ--RZ--RX--  --[測定]\n",
    "|0> --H--  --*--------RX- -*--------RX--  --[測定]\n",
    "```"
   ]
  },
  {
   "cell_type": "code",
   "execution_count": 8,
   "metadata": {},
   "outputs": [
    {
     "name": "stdout",
     "output_type": "stream",
     "text": [
      "(((0, 0), 0.5248588835345177), ((1, 1), 0.2273829345062457), ((0, 1), 0.2126896364367128), ((1, 0), 0.035068545522521914))\n"
     ]
    }
   ],
   "source": [
    "import numpy as np\n",
    "from blueqat import Circuit\n",
    "from blueqat.pauli import X, Y, Z, I\n",
    "from blueqat.pauli import qubo_bit as q\n",
    "from blueqat.vqe import Vqe\n",
    "from obaq.ansatz import *\n",
    "\n",
    "#mixerの準備\n",
    "Xmixer = X[0]+X[1]\n",
    "Xinit = Circuit(2).h[0,1]\n",
    "\n",
    "h = -Z(0) -Z(0)*Z(1)\n",
    "step = 2\n",
    "\n",
    "result = Vqe(QaoaQaoaAnsatz(h, step, Xinit, Xmixer)).run()\n",
    "print(result.most_common(12))"
   ]
  },
  {
   "cell_type": "markdown",
   "metadata": {},
   "source": [
    "また、初期状態とミキサーを指定しない場合は量子アニーリングが採用されます。"
   ]
  },
  {
   "cell_type": "code",
   "execution_count": 10,
   "metadata": {},
   "outputs": [
    {
     "name": "stdout",
     "output_type": "stream",
     "text": [
      "(((0, 0), 0.5520992030571237), ((1, 1), 0.28865065110869187), ((0, 1), 0.1506319265155627), ((1, 0), 0.008618219318620222))\n"
     ]
    }
   ],
   "source": [
    "result = Vqe(QaoaQaoaAnsatz(h, step)).run()\n",
    "print(result.most_common(12))"
   ]
  },
  {
   "cell_type": "markdown",
   "metadata": {},
   "source": [
    "## 例題：XYミキサー\n",
    "次に同じ問題でXYミキサーを使ってみます。初期状態にはもつれ状態を指定します。ミキサーには(XX+YY)/2のハミルトニアンを渡します。"
   ]
  },
  {
   "cell_type": "code",
   "execution_count": 11,
   "metadata": {},
   "outputs": [
    {
     "name": "stdout",
     "output_type": "stream",
     "text": [
      "(((0, 1), 0.9999999999999984), ((1, 0), 1.5018775220873225e-18), ((1, 1), 3.466673890819865e-33))\n"
     ]
    }
   ],
   "source": [
    "#mixerの準備\n",
    "XYmixer = 0.5*X[0]*X[1] + 0.5*Y[0]*Y[1]\n",
    "XYinit = Circuit().h[0].cx[0,1].x[0]\n",
    "\n",
    "result = Vqe(QaoaQaoaAnsatz(h, step, XYinit, XYmixer)).run()\n",
    "print(result.most_common(12))"
   ]
  },
  {
   "cell_type": "markdown",
   "metadata": {},
   "source": [
    "となりました。本来は(0,0)が出て欲しいところですが、01と10で制約をかけましたので、01と10の答えの中から正解に近いものを探そうとしています。"
   ]
  }
 ],
 "metadata": {
  "colab": {
   "collapsed_sections": [],
   "name": "022_algo_qaoa.ipynb",
   "provenance": [],
   "version": "0.3.2"
  },
  "kernelspec": {
   "display_name": "conda_python3",
   "language": "python",
   "name": "conda_python3"
  },
  "language_info": {
   "codemirror_mode": {
    "name": "ipython",
    "version": 3
   },
   "file_extension": ".py",
   "mimetype": "text/x-python",
   "name": "python",
   "nbconvert_exporter": "python",
   "pygments_lexer": "ipython3",
   "version": "3.6.5"
  }
 },
 "nbformat": 4,
 "nbformat_minor": 1
}
