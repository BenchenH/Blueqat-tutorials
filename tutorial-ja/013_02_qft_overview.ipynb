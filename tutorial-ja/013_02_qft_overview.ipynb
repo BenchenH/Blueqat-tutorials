{
 "nbformat": 4,
 "nbformat_minor": 2,
 "metadata": {
  "language_info": {
   "name": "python",
   "codemirror_mode": {
    "name": "ipython",
    "version": 3
   }
  },
  "orig_nbformat": 2,
  "file_extension": ".py",
  "mimetype": "text/x-python",
  "name": "python",
  "npconvert_exporter": "python",
  "pygments_lexer": "ipython3",
  "version": 3
 },
 "cells": [
  {
   "cell_type": "markdown",
   "metadata": {},
   "source": [
    "# 量子フーリエ変換（概要）\n",
    "ここでは量子フーリエ変換について説明します。"
   ]
  },
  {
   "cell_type": "markdown",
   "metadata": {},
   "source": []
  },
  {
   "cell_type": "markdown",
   "metadata": {},
   "source": [
    "## 離散フーリエ変換\n",
    "関数を三角関数の和で書き直すためにフーリエ変換というものを使います。   \n",
    "具体的に言うと三角関数の和で書き直したとき、各三角関数の角振動数とその係数を取り出すということをします。\n",
    "\n",
    "例えば sin2x なら 2, 1 を取り出すという操作です。\n",
    "sinx + sin3x なら 1, 1 と 3, 1 を取り出す操作です。\n",
    "\n",
    "このフーリエ変換は全ての点を考えるのに対し有限個の点のみで考えるフーリエ変換を離散フーリエ変換と言います。\n",
    "\n",
    "例えば 5sin2x を考えます。これは離散フーリエ変換をすると 5, 2 が取り出せることがわかります。具体的に計算してみます。\n",
    "\n",
    "このグラフは以下のようになります。\n",
    "\n",
    "<img src=\"https://qiita-user-contents.imgix.net/https%3A%2F%2Fqiita-image-store.s3.ap-northeast-1.amazonaws.com%2F0%2F517405%2Fecd93d6d-11d6-0418-2a35-2100383acd06.png?ixlib=rb-1.2.2&auto=format&gif-q=60&q=75&s=7ae37421c295692ee627c3e12dba1a83\">\n",
    "\n",
    "これを16分割で離散フーリエ変換します。\n",
    "\n",
    "<img src=\"https://qiita-user-contents.imgix.net/https%3A%2F%2Fqiita-image-store.s3.ap-northeast-1.amazonaws.com%2F0%2F517405%2Fc9fa7740-e50a-9661-979d-d9819b7776dc.png?ixlib=rb-1.2.2&auto=format&gif-q=60&q=75&s=5ddaf7e32081a85c6d1c7b04271de027\">\n",
    "\n",
    "各点の y 座標を $x_j$ と置くと\n",
    "\n",
    "<img src=\"./img/013_02/013_02_0.png\" width=\"15%\">\n",
    "\n",
    "となります。\n",
    "\n",
    "これを離散フーリエ変換すると\n",
    "\n",
    "<img src=\"./img/013_02/013_02_1.png\" width=\"40%\">\n",
    "\n",
    "となるので $|y_k|/2$ のグラフをかくと\n",
    "\n",
    "<img src=\"https://qiita-user-contents.imgix.net/https%3A%2F%2Fqiita-image-store.s3.ap-northeast-1.amazonaws.com%2F0%2F517405%2F803b4786-3773-5146-b1db-32a017ea43f2.png?ixlib=rb-1.2.2&auto=format&gif-q=60&q=75&s=e86a155a4bdd33073d1a530f1bad2416\">\n",
    "\n",
    "上のグラフは振動数 2、 振幅 5 なのできちんと表せることがわかります。"
   ]
  },
  {
   "cell_type": "markdown",
   "metadata": {},
   "source": [
    "## 量子フーリエ変換\n",
    "次に離散フーリエ変換から量子フーリエ変換を考えます。\n",
    "上の各 $x_j$ を各ビットに埋め込むことを考えます。\n",
    "\n",
    "すなわち入力する状態を以下のようにします。\n",
    "\n",
    "<img src=\"./img/013_02/013_02_2.png\" width=\"15%\">\n",
    "\n",
    "この $x_j$ を離散フーリエ変換すると\n",
    "\n",
    "<img src=\"./img/013_02/013_02_3.png\" width=\"20%\">\n",
    "\n",
    "となる。また、y について\n",
    "\n",
    "<img src=\"./img/013_02/013_02_4.png\" width=\"15%\">\n",
    "\n",
    "と置くと、\n",
    "\n",
    "<img src=\"./img/013_02/013_02_5.png\" width=\"30%\">\n",
    "\n",
    "括弧の部分に注目して以下の変換\n",
    "\n",
    "<img src=\"./img/013_02/013_02_6.png\" width=\"25%\">\n",
    "\n",
    "のことを量子フーリエ変換と言います。"
   ]
  },
  {
   "cell_type": "markdown",
   "metadata": {},
   "source": [
    "## 回路の作成\n",
    "上の式をゲートで実装するために以下のように式を変換します。\n",
    "\n",
    "<img src=\"./img/013_02/013_02_7.png\" width=\"85%\">\n",
    "\n",
    "回路は以下のようになります。\n",
    "\n",
    "<img src=\"./img/013_02/013_02_8.png\" width=\"85%\">\n",
    "\n",
    "j を量子フーリエ変換する場合は j を 2進数表示した $j=i_1...i_n$ を入力とします。\n",
    "また Rn は以下の位相ゲートとします。\n",
    "\n",
    "<img src=\"./img/013_02/013_02_9.png\" width=\"15%\">\n",
    "\n",
    "以上の回路で量子フーリエ変換を実装できます。"
   ]
  },
  {
   "cell_type": "code",
   "execution_count": null,
   "metadata": {},
   "outputs": [],
   "source": []
  }
 ]
}