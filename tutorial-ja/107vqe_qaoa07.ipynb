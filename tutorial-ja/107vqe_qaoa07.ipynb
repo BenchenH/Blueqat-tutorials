{
  "nbformat": 4,
  "nbformat_minor": 0,
  "metadata": {
    "colab": {
      "name": "107vqe_qaoa07.ipynb",
      "provenance": []
    },
    "kernelspec": {
      "name": "python3",
      "display_name": "Python 3"
    },
    "accelerator": "GPU"
  },
  "cells": [
    {
      "cell_type": "markdown",
      "metadata": {
        "colab_type": "text",
        "id": "lBwwBUo60S_7"
      },
      "source": [
        "#Variational Quantum Eigensolver(VQE)、QAOAセミナー 2-7（中級設定編）"
      ]
    },
    {
      "cell_type": "markdown",
      "metadata": {
        "id": "jXcCXsl40WIJ",
        "colab_type": "text"
      },
      "source": [
        "##2-7 中級設定\n",
        "変分アルゴリズムを使い続けていると、様々な設定をしたくなってきます。今回は古典最適化部分を見てみたいと思います。\n",
        "\n",
        "##2-7-1 古典最適化\n",
        "変分アルゴリズムの内部構造は大きく分けて、\n",
        "\n",
        "１、パラメータ付きの短い量子回路\n",
        "２、量子回路を集計し、期待値を計算、次のパラメータの提案\n",
        "\n",
        "です。次のトライアルのパラメータを渡すのは最適化アルゴリズムですが、それは古典で実行されます。"
      ]
    },
    {
      "cell_type": "code",
      "metadata": {
        "id": "C4lZga3R0aJn",
        "colab_type": "code",
        "colab": {
          "base_uri": "https://localhost:8080/",
          "height": 136
        },
        "outputId": "c708fea1-0e4e-40c5-a9bf-e5890ab015d5"
      },
      "source": [
        "!pip install blueqat"
      ],
      "execution_count": 1,
      "outputs": [
        {
          "output_type": "stream",
          "text": [
            "Collecting blueqat\n",
            "\u001b[?25l  Downloading https://files.pythonhosted.org/packages/f6/73/20f9cff48caee1f69190f2e1ea93c4d7d0a745fc48defb5d3072d8337583/blueqat-0.3.13-py3-none-any.whl (50kB)\n",
            "\r\u001b[K     |██████▌                         | 10kB 28.5MB/s eta 0:00:01\r\u001b[K     |█████████████                   | 20kB 33.0MB/s eta 0:00:01\r\u001b[K     |███████████████████▍            | 30kB 39.6MB/s eta 0:00:01\r\u001b[K     |█████████████████████████▉      | 40kB 44.7MB/s eta 0:00:01\r\u001b[K     |████████████████████████████████| 51kB 9.7MB/s \n",
            "\u001b[?25hRequirement already satisfied: scipy>=1.1.0 in /usr/local/lib/python3.6/dist-packages (from blueqat) (1.4.1)\n",
            "Requirement already satisfied: numpy~=1.12 in /usr/local/lib/python3.6/dist-packages (from blueqat) (1.17.5)\n",
            "Installing collected packages: blueqat\n",
            "Successfully installed blueqat-0.3.13\n"
          ],
          "name": "stdout"
        }
      ]
    },
    {
      "cell_type": "code",
      "metadata": {
        "id": "KJZziOsN0WY4",
        "colab_type": "code",
        "colab": {
          "base_uri": "https://localhost:8080/",
          "height": 85
        },
        "outputId": "7d8a4bb8-f8be-4e09-b002-6d249f24cac2"
      },
      "source": [
        "import numpy as np\n",
        "from blueqat import Circuit, vqe\n",
        "from blueqat.pauli import X, Y, Z, I\n",
        "from blueqat.pauli import qubo_bit as q\n",
        "from blueqat.vqe import AnsatzBase, Vqe\n",
        "\n",
        "class QubitAnsatz(AnsatzBase):\n",
        "    def __init__(self, hamiltonian):\n",
        "        super().__init__(hamiltonian, 4)\n",
        "        self.step = 1\n",
        "\n",
        "    def get_circuit(self, params):\n",
        "        a, b, c, d = params\n",
        "        return Circuit().ry(a)[0].rz(b)[0].ry(c)[1].rz(d)[1]\n",
        "\n",
        "h = -3*q(0)-3*q(1)-2*q(0)*q(1)\n",
        "h = h.to_expr().simplify()\n",
        "minimizer=vqe.get_scipy_minimizer(method=\"COBYLA\",options={\"tol\":5.0e-4})\n",
        "runner = Vqe(QubitAnsatz(h),minimizer=minimizer)\n",
        "result = runner.run()\n",
        "\n",
        "print('Result by VQE')\n",
        "print(runner.ansatz.get_energy(result.circuit, runner.sampler))\n",
        "\n",
        "# Hamiltonian to matrix\n",
        "mat = h.to_matrix()\n",
        "\n",
        "# Calculate by numpy\n",
        "print('Result by numpy')\n",
        "print(np.linalg.eigh(mat)[0][0])"
      ],
      "execution_count": 2,
      "outputs": [
        {
          "output_type": "stream",
          "text": [
            "Result by VQE\n",
            "-7.999999802743004\n",
            "Result by numpy\n",
            "-8.0\n"
          ],
          "name": "stdout"
        }
      ]
    },
    {
      "cell_type": "markdown",
      "metadata": {
        "id": "Uyoz-H_b0p8U",
        "colab_type": "text"
      },
      "source": [
        "\n",
        "上記では古典最適化のアルゴリズムを指定できています。主にscipyから選べます。\n",
        "\n",
        "https://docs.scipy.org/doc/scipy/reference/generated/scipy.optimize.minimize.html\n",
        "\n",
        "'Nelder-Mead', 'Powell', 'CG', 'BFGS', 'L-BFGS-B', 'TNC', 'COBYLA', 'SLSQP'\n",
        "\n",
        "この辺りを見れば良さそうです。自分の好きなソルバーを組み込むことができます。\n",
        "\n",
        "```python\n",
        "def hyperopt_minimizer(objective, n_params):\n",
        "    from hyperopt import fmin, Trials, tpe, hp\n",
        "    trials = Trials()\n",
        "    best = fmin(objective, [hp.uniform(f'p{i}', 0., 2 * np.pi) for i in range(n_params)],\n",
        "            algo=tpe.suggest, max_evals=10000, trials=trials, verbose=1)\n",
        "    return list(best.values())\n",
        "```"
      ]
    },
    {
      "cell_type": "markdown",
      "metadata": {
        "id": "9ffi99Fu0sEJ",
        "colab_type": "text"
      },
      "source": [
        "##2-7-2 numbaバックエンドの採用\n",
        "単純に高速化できます。元は、"
      ]
    },
    {
      "cell_type": "code",
      "metadata": {
        "id": "CG6vRlY319Va",
        "colab_type": "code",
        "colab": {}
      },
      "source": [
        "from blueqat import BlueqatGlobalSetting\n",
        "BlueqatGlobalSetting.set_default_backend('numpy')"
      ],
      "execution_count": 0,
      "outputs": []
    },
    {
      "cell_type": "code",
      "metadata": {
        "id": "-4QAYrLH0Zfu",
        "colab_type": "code",
        "colab": {
          "base_uri": "https://localhost:8080/",
          "height": 34
        },
        "outputId": "00d80419-2753-4641-f044-19d2bb043fe5"
      },
      "source": [
        "import time\n",
        "from blueqat import vqe\n",
        "from blueqat.pauli import qubo_bit as q\n",
        "\n",
        "hamiltonian = q(0)*q(1)*q(2)*q(3)\n",
        "step = 10\n",
        "\n",
        "start = time.time()\n",
        "result = vqe.Vqe(vqe.QaoaAnsatz(hamiltonian, step)).run()\n",
        "end = time.time()\n",
        "\n",
        "print(end - start)"
      ],
      "execution_count": 11,
      "outputs": [
        {
          "output_type": "stream",
          "text": [
            "20.231501579284668\n"
          ],
          "name": "stdout"
        }
      ]
    },
    {
      "cell_type": "markdown",
      "metadata": {
        "id": "wE-dDw0g04W3",
        "colab_type": "text"
      },
      "source": [
        "こちらはハミルトニアンを作ってvqeでstep = 10で実行しています。次にnumbaです。"
      ]
    },
    {
      "cell_type": "code",
      "metadata": {
        "id": "3qkyLxVl0w9x",
        "colab_type": "code",
        "colab": {}
      },
      "source": [
        "from blueqat import BlueqatGlobalSetting\n",
        "BlueqatGlobalSetting.set_default_backend('numba')"
      ],
      "execution_count": 0,
      "outputs": []
    },
    {
      "cell_type": "code",
      "metadata": {
        "id": "5mzGue-r0-bt",
        "colab_type": "code",
        "colab": {}
      },
      "source": [
        "import time\n",
        "from blueqat import vqe\n",
        "from blueqat.pauli import qubo_bit as q\n",
        "\n",
        "hamiltonian = q(0)*q(1)*q(2)*q(3)\n",
        "step = 10\n",
        "\n",
        "start = time.time()\n",
        "result = vqe.Vqe(vqe.QaoaAnsatz(hamiltonian, step)).run()\n",
        "end = time.time()\n",
        "\n",
        "print(end - start)"
      ],
      "execution_count": 0,
      "outputs": []
    },
    {
      "cell_type": "markdown",
      "metadata": {
        "id": "iutJBE3x1Hl0",
        "colab_type": "text"
      },
      "source": [
        "速くなりました。\n",
        "\n",
        "詳しくはこちらをみてください。\n",
        "「blueqatでいろいろベンチマークとってみる。最適化とかGPUとか。」\n",
        "https://qiita.com/YuichiroMinato/items/f08420957896b96e6874"
      ]
    }
  ]
}