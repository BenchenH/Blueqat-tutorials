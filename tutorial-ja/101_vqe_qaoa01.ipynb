{
  "nbformat": 4,
  "nbformat_minor": 0,
  "metadata": {
    "colab": {
      "name": "100vqe_qaoa01.ipynb",
      "provenance": []
    },
    "kernelspec": {
      "name": "python3",
      "display_name": "Python 3"
    }
  },
  "cells": [
    {
      "cell_type": "markdown",
      "metadata": {
        "id": "MA9LAxN2objO",
        "colab_type": "text"
      },
      "source": [
        "#Variational Quantum Eigensolver(VQE)、QAOAセミナー 2-1（理論編）"
      ]
    },
    {
      "cell_type": "markdown",
      "metadata": {
        "id": "W0XuQay4f2i2",
        "colab_type": "text"
      },
      "source": [
        "##はじめに\n",
        "2020年の初頭現在で実用的に量子コンピュータで解ける問題は「変分アルゴリズム」と呼ばれるVQEやQAOAと言った量子コンピュータと古典コンピュータをハイブリッドで利用したものが主流になっています。ここでは実用性を重視して、これらの量子古典ハイブリッドアルゴリズムの使い方を見てみたいと思います。"
      ]
    },
    {
      "cell_type": "markdown",
      "metadata": {
        "id": "DDNxkH4RgpQP",
        "colab_type": "text"
      },
      "source": [
        "###概要\n",
        "量子古典ハイブリッドアルゴリズムのVQE(Variational Quantum Eigensolver)は、現在の量子コンピュータはエラーがまだ多いため、従来利用されると思われていた「位相推定」アルゴリズムの代替として開発され、2013年に当時ハーバード大学（現在はトロント大学）のアラン・アスプル・グジック教授のチームによって開発されました。\n",
        "\n",
        "現在の量子コンピュータはエラーが多く、長い量子回路を組むとエラーが蓄積し正しい答えを得ることができません。想定されていたアルゴリズムは全て長い回路が基本となっていました。それに対して、短い量子回路をたくさん計算し、それを集計し、最適化をかけることで同じ機能を実現するVQEアルゴリズムが現在の主流となっています。\n",
        "\n",
        "<img width=\"489\" alt=\"スクリーンショット 2020-02-29 14.42.40.png\" src=\"https://qiita-image-store.s3.ap-northeast-1.amazonaws.com/0/218694/f4f0b63b-0bc9-6f26-cacb-58cfd44f02c7.png\">"
      ]
    },
    {
      "cell_type": "markdown",
      "metadata": {
        "id": "O69dKNrTh4TE",
        "colab_type": "text"
      },
      "source": [
        "##固有値・固有ベクトル問題\n",
        "VQEで解ける問題は、「固有値・固有ベクトル問題」と呼ばれるもので、ある行列に対する固有値と固有ベクトルを見つけることができれば様々な問題を解くことができます。ある与えられた行列$H$に対して、固有値を$E_0$、固有ベクトルを$\\mid \\psi \\rangle$としたときに、\n",
        "\n",
        "$$H \\mid \\psi \\rangle = E_0 \\mid \\psi \\rangle$$\n",
        "\n",
        "を満たすような、$E_0$と$\\psi$を見つけるのが目的です。$H$はハミルトニアン、$\\mid \\psi \\rangle$は状態ベクトル（波動関数）と呼ばれ、状態ベクトルの固有ベクトルのことを固有状態と呼びます。"
      ]
    },
    {
      "cell_type": "markdown",
      "metadata": {
        "id": "GuCdv3hVh9gV",
        "colab_type": "text"
      },
      "source": [
        "##実用的に解ける問題\n",
        "VQEは汎用的なアルゴリズムでハミルトニアン$H$が与えられれば本来どのような固有値・固有ベクトルも探せるはずですが、実際には最適化計算で探索するパラーメータの範囲がとても広いため、与えられたハミルトニアン$H$と求める固有ベクトルである$\\mid \\psi \\rangle$の間にある程度の関連性がないと実質的に解くことができません。\n",
        "\n",
        "2020年初頭現在で解くことができると言われているのが、「量子化学計算」と「組合せ最適化計算」と呼ばれる２種類で、それぞれ与えられたハミルトニアン$H$と求めたい固有状態$\\mid \\psi \\rangle$の間に関連性を見出すことができ、それらをある程度定式化することができています。\n",
        "\n",
        "上記の固有状態を作り出すためには量子回路を組んで、その結果として固有状態$\\mid \\psi \\rangle$を得ますが、この量子回路のことを特に、「ansatz（アンザッツ）」と呼びます。量子化学では、UCCansatzと呼ばれるUCC(Unitary Coupled Cluster)理論を利用しansatzを構成し、組合せ最適化では、QAOAansatzと呼ばれるQAOA(Quantum Approximate Optimization Algorithm)理論を利用してansatzを組み立てます。\n",
        "\n",
        "実質的に行っていることは似通っていますが、特に後者はQAOAという名前で呼ばれることが通常です。ここでは、VQEとQAOAを中心に理論の下準備と実際の活用をblueqatSDK( https://github.com/blueqat/blueqat )を利用して解説していきます。"
      ]
    },
    {
      "cell_type": "markdown",
      "metadata": {
        "id": "MccAlI9Lo24g",
        "colab_type": "text"
      },
      "source": [
        "##変分アルゴリズム2-1（理論編）\n",
        "手計算を中心に理論を確認します。主に変分アルゴリズムと呼ばれるVQEとQAOAはほぼ同じ手順で実行をすることが可能です。苦手な方はこの章は飛ばしても結構です。主に学ぶ内容は、\n",
        "\n",
        "・ハミルトニアンについて  \n",
        "・ansatzについて\n",
        "\n",
        "の二つです。最後に簡単な例題を実行してみます。"
      ]
    },
    {
      "cell_type": "markdown",
      "metadata": {
        "id": "0Qg7brqfozGz",
        "colab_type": "text"
      },
      "source": [
        "##blueqatのインストール\n",
        "今後例題にはblueqatを使います。\n",
        "\n",
        "https://github.com/Blueqat/Blueqat\n",
        "\n",
        "インストールは、"
      ]
    },
    {
      "cell_type": "code",
      "metadata": {
        "id": "mJ_jzoSqoXqS",
        "colab_type": "code",
        "colab": {
          "base_uri": "https://localhost:8080/",
          "height": 136
        },
        "outputId": "a069a03a-c29b-41fd-c974-3f5a3038a4df"
      },
      "source": [
        "!pip3 install blueqat"
      ],
      "execution_count": 1,
      "outputs": [
        {
          "output_type": "stream",
          "text": [
            "Collecting blueqat\n",
            "\u001b[?25l  Downloading https://files.pythonhosted.org/packages/f6/73/20f9cff48caee1f69190f2e1ea93c4d7d0a745fc48defb5d3072d8337583/blueqat-0.3.13-py3-none-any.whl (50kB)\n",
            "\r\u001b[K     |██████▌                         | 10kB 21.8MB/s eta 0:00:01\r\u001b[K     |█████████████                   | 20kB 1.3MB/s eta 0:00:01\r\u001b[K     |███████████████████▍            | 30kB 1.6MB/s eta 0:00:01\r\u001b[K     |█████████████████████████▉      | 40kB 1.5MB/s eta 0:00:01\r\u001b[K     |████████████████████████████████| 51kB 1.6MB/s \n",
            "\u001b[?25hRequirement already satisfied: scipy>=1.1.0 in /usr/local/lib/python3.6/dist-packages (from blueqat) (1.4.1)\n",
            "Requirement already satisfied: numpy~=1.12 in /usr/local/lib/python3.6/dist-packages (from blueqat) (1.17.5)\n",
            "Installing collected packages: blueqat\n",
            "Successfully installed blueqat-0.3.13\n"
          ],
          "name": "stdout"
        }
      ]
    },
    {
      "cell_type": "markdown",
      "metadata": {
        "id": "hl6QLQsspQvn",
        "colab_type": "text"
      },
      "source": [
        "で、完了します。"
      ]
    },
    {
      "cell_type": "markdown",
      "metadata": {
        "id": "KcjxhjsEpWRY",
        "colab_type": "text"
      },
      "source": [
        "##2-1-1 下準備１：量子ビットと状態ベクトル\n",
        "量子コンピュータで利用される量子ビットは|0>状態と|1>状態を持っていてベクトルで表現できます。\n",
        "\n",
        "$$\n",
        "\\mid 0 \\rangle =\n",
        "\\begin{bmatrix}\n",
        "1 \\\\\n",
        "0\n",
        "\\end{bmatrix},\n",
        "\\mid 1 \\rangle =\n",
        "\\begin{bmatrix}\n",
        "0 \\\\\n",
        "1\n",
        "\\end{bmatrix}\n",
        "$$\n",
        "\n",
        "また、任意の量子ビットは重ね合わせて量子状態を表現できます。\n",
        "\n",
        "\n",
        "$$\n",
        "\\mid \\psi \\rangle = \\alpha \\mid 0 \\rangle + \\beta \\mid 1 \\rangle =\n",
        "\\alpha \n",
        "\\begin{bmatrix}\n",
        "1 \\\\\n",
        "0\n",
        "\\end{bmatrix}\n",
        "+ \\beta\n",
        "\\begin{bmatrix}\n",
        "0 \\\\\n",
        "1\n",
        "\\end{bmatrix}\n",
        "=\n",
        "\\begin{bmatrix}\n",
        "\\alpha \\\\\n",
        "\\beta\n",
        "\\end{bmatrix}\n",
        "$$\n",
        "\n",
        "$\\mid \\psi \\rangle$は状態ベクトル(波動関数）と呼ばれ量子ビットの量子状態を表します。$\\alpha$と$\\beta$は複素数で「確率振幅」と呼ばれ、二乗するとその対応する計算基底の出現確率になり、$|\\alpha|^2$や$|\\beta|^2$は「測定」をすることで取得できます。また、\n",
        "\n",
        "$$\n",
        "|\\alpha|^2+|\\beta|^2 = 1\n",
        "$$\n",
        "\n",
        "を満たします。例えば、100回計算して、0が45回、1が55回でたら、$|\\alpha|^2$の期待値は0.45、$|\\beta|^2$の期待値は0.55と計算できます。実際の状態ベクトルは直接測定をすることはできないため、通常は何度も計算を実行して統計的なサンプルを取ります（シミュレータでは直接状態ベクトルを取る機能もありますが、サイズの大きいものは取れません）。"
      ]
    },
    {
      "cell_type": "markdown",
      "metadata": {
        "id": "tUt3nsBUprIp",
        "colab_type": "text"
      },
      "source": [
        "##2-1-2 下準備2：状態ベクトルの操作と量子ゲート\n",
        "状態ベクトルを操作するには、量子ゲートを利用します。変分アルゴリズムでは基本のパウリゲート、任意回転ゲート、アダマールゲートを主に利用します。\n",
        "\n",
        "パウリゲートはXYZの３種類があり、それぞれブロッホ球でのXYZ軸周りでの180度の回転を意味し、対応する行列は、\n",
        "\n",
        "$$\n",
        "X=\n",
        "\\begin{bmatrix}\n",
        "0&1 \\\\\n",
        "1&0\n",
        "\\end{bmatrix},\n",
        "Y=\n",
        "\\begin{bmatrix}\n",
        "0&-i \\\\\n",
        "i&0\n",
        "\\end{bmatrix},\n",
        "Z=\n",
        "\\begin{bmatrix}\n",
        "1&0 \\\\\n",
        "0&-1\n",
        "\\end{bmatrix}\n",
        "$$\n",
        "\n",
        "となります。また、XYZ軸周りに任意回転にしたのが、RX,RY,RZゲートで、\n",
        "\n",
        "$$\n",
        "Rx(\\theta) = \\left( \\begin{array}{cc} \\cos\\left(\\frac{\\theta}{2}\\right) &\n",
        "-i\\sin\\left(\\frac{\\theta}{2}\\right)\\\\\n",
        "-i\\sin\\left(\\frac{\\theta}{2}\\right) &\n",
        "\\cos\\left(\\frac{\\theta}{2}\\right) \\end{array} \\right),\n",
        "Ry(\\theta) = \\left( \\begin{array}{cc} \\cos\\left(\\frac{\\theta}{2}\\right) &\n",
        "-\\sin\\left(\\frac{\\theta}{2}\\right)\\\\\n",
        "\\sin\\left(\\frac{\\theta}{2}\\right) &\n",
        "\\cos\\left(\\frac{\\theta}{2}\\right) \\end{array} \\right),\n",
        "Rz(\\theta) = \\left( \\begin{array}{cc} e^{-i\\frac{\\theta}{2}} & 0\\\\ 0 & e^{i\\frac{\\theta}{2}} \\end{array} \\right)\n",
        "$$\n",
        "\n",
        "となります。アダマールゲートは、\n",
        "\n",
        "$$\n",
        "H =\n",
        "\\frac{1}{\\sqrt{2}} \n",
        "\\begin{bmatrix}\n",
        "1&1 \\\\\n",
        "1&-1\n",
        "\\end{bmatrix}\n",
        "$$\n",
        "\n",
        "となります。主にX軸とZ軸の間で変換を行います。状態ベクトルにこれらの量子ゲートを作用させることで量子状態を変化させることができます。\n",
        "\n",
        "$$\n",
        "X\n",
        "\\begin{bmatrix}\n",
        "1 \\\\\n",
        "0\n",
        "\\end{bmatrix}\n",
        "=\n",
        "\\begin{bmatrix}\n",
        "0&1 \\\\\n",
        "1&0\n",
        "\\end{bmatrix}\n",
        "\\begin{bmatrix}\n",
        "1 \\\\\n",
        "0\n",
        "\\end{bmatrix}\n",
        "=\n",
        "\\begin{bmatrix}\n",
        "0 \\\\\n",
        "1\n",
        "\\end{bmatrix}\n",
        "$$"
      ]
    },
    {
      "cell_type": "markdown",
      "metadata": {
        "id": "59nNwaLnp3Z7",
        "colab_type": "text"
      },
      "source": [
        "##2-1-3 下準備３：複数量子ビットの状態ベクトルとテンソル積\n",
        "上記の状態ベクトルは１量子ビットの時のものです。２量子ビット以上の状態ベクトルはテンソル積を使って表現します。\n",
        "\n",
        "$$\n",
        "\\begin{bmatrix}\n",
        "a \\\\\n",
        "b\n",
        "\\end{bmatrix}\n",
        "\\otimes\n",
        "\\begin{bmatrix}\n",
        "c \\\\\n",
        "d\n",
        "\\end{bmatrix}\n",
        "=\n",
        "\\begin{bmatrix}\n",
        "a*\n",
        "\\begin{bmatrix}\n",
        "c\\\\\n",
        "d\n",
        "\\end{bmatrix}\n",
        " \\\\\n",
        "b*\n",
        "\\begin{bmatrix}\n",
        "c\\\\\n",
        "d\n",
        "\\end{bmatrix}\n",
        "\\end{bmatrix}\n",
        "=\n",
        "\\begin{bmatrix}\n",
        "ac \\\\\n",
        "ad \\\\\n",
        "bc \\\\\n",
        "bd\n",
        "\\end{bmatrix}\n",
        "$$\n",
        "\n",
        "３量子ビット以上の場合も同様です。\n",
        "\n",
        "$$\n",
        "\\begin{bmatrix}\n",
        "a \\\\\n",
        "b\n",
        "\\end{bmatrix}\n",
        "\\otimes\n",
        "\\begin{bmatrix}\n",
        "c \\\\\n",
        "d\n",
        "\\end{bmatrix}\n",
        "\\otimes\n",
        "\\begin{bmatrix}\n",
        "e \\\\\n",
        "f\n",
        "\\end{bmatrix}\n",
        "=\n",
        "\\begin{bmatrix}\n",
        "ac *\n",
        "\\begin{bmatrix}\n",
        "e \\\\\n",
        "f\n",
        "\\end{bmatrix} \\\\\n",
        "ad*\n",
        "\\begin{bmatrix}\n",
        "e \\\\\n",
        "f\n",
        "\\end{bmatrix} \\\\\n",
        "bc*\n",
        "\\begin{bmatrix}\n",
        "e \\\\\n",
        "f\n",
        "\\end{bmatrix} \\\\\n",
        "bd*\n",
        "\\begin{bmatrix}\n",
        "e \\\\\n",
        "f\n",
        "\\end{bmatrix}\n",
        "\\end{bmatrix}\n",
        "=\n",
        "\\begin{bmatrix}\n",
        "ace\\\\\n",
        "acf\\\\\n",
        "ade\\\\\n",
        "adf\\\\\n",
        "bce\\\\\n",
        "bcf\\\\\n",
        "bde\\\\\n",
        "bdf\n",
        "\\end{bmatrix}\n",
        "$$\n",
        "\n",
        "量子ゲートもテンソル積をとれます。ハミルトニアンの計算の際に利用します。\n",
        "\n",
        "$$\n",
        "\\begin{bmatrix}\n",
        "a&b \\\\\n",
        "c&d\n",
        "\\end{bmatrix}\n",
        "\\otimes\n",
        "\\begin{bmatrix}\n",
        "e&f \\\\\n",
        "g&h\n",
        "\\end{bmatrix} \\\\\n",
        "=\n",
        "\\begin{bmatrix}\n",
        "a*\n",
        "\\begin{bmatrix}\n",
        "e&f \\\\\n",
        "g&h\n",
        "\\end{bmatrix}\n",
        "&b*\n",
        "\\begin{bmatrix}\n",
        "e&f \\\\\n",
        "g&h\n",
        "\\end{bmatrix}\n",
        "\\\\\n",
        "c*\n",
        "\\begin{bmatrix}\n",
        "e&f \\\\\n",
        "g&h\n",
        "\\end{bmatrix}\n",
        "&d*\n",
        "\\begin{bmatrix}\n",
        "e&f \\\\\n",
        "g&h\n",
        "\\end{bmatrix}\n",
        "\\end{bmatrix}\n",
        "=\n",
        "\\begin{bmatrix}\n",
        "ae&af&be&bf\\\\\n",
        "ag&ah&bg&bh\\\\\n",
        "ce&cf&de&df\\\\\n",
        "cg&ch&dg&dh\n",
        "\\end{bmatrix}\n",
        "$$\n"
      ]
    },
    {
      "cell_type": "markdown",
      "metadata": {
        "id": "X17kayfpqRSy",
        "colab_type": "text"
      },
      "source": [
        "##2-1-4 量子変分原理\n",
        "今回固有値を直接求めるのは厳しいので、間接的に固有値の期待値にできるだけ近づける最適化計算に落とし込みます。量子変分原理より、任意の状態ベクトルにおけるハミルトニアンの期待値は基底状態を上回るというのがあります。\n",
        "\n",
        "$$\n",
        "\\langle \\Psi (\\theta) \\mid H \\mid \\Psi (\\theta) \\rangle \\geq E_0\n",
        "$$\n",
        "\n",
        "これは、与えられたハミルトニアン$H$に対して任意の状態ベクトルは常に最小の固有値の期待値を上回るということを示しています。ハミルトニアン$H$は与えられた式なので、私たちにできるのは状態ベクトル$\\mid \\Psi (\\theta) \\rangle$をできるだけ固有状態に近づけるということです。これにより、できるだけ固有状態に近い状態ベクトルを角度の最適化計算として探していくのが今回の目的です。"
      ]
    },
    {
      "cell_type": "markdown",
      "metadata": {
        "id": "v0A_R2_SqUHY",
        "colab_type": "text"
      },
      "source": [
        "##2-1-5 変分アルゴリズムの計算手順\n",
        "変分アルゴリズムの計算手順は、\n",
        "\n",
        "１、パラメータ$\\theta$を導入した量子回路（ansatz）を準備（量子計算）\n",
        "２、量子ビットの測定値からハミルトニアン$H$の期待値$\\langle \\Psi (\\theta) \\mid H \\mid \\Psi (\\theta) \\rangle$を計算（古典計算）\n",
        "３、古典最適化計算により、ハミルトニアン$H$の期待値を最小にするパラメータ$\\theta$を探索（古典計算）\n",
        "\n",
        "のように、量子計算と古典計算のハイブリッドで成り立っています。\n",
        "\n",
        "<img width=\"489\" alt=\"スクリーンショット 2020-02-29 14.42.40.png\" src=\"https://qiita-image-store.s3.ap-northeast-1.amazonaws.com/0/218694/f4f0b63b-0bc9-6f26-cacb-58cfd44f02c7.png\">\n",
        "\n",
        "引用：https://arxiv.org/pdf/1304.3061.pdf\n",
        "\n",
        "注意点は、VQEは量子回路はハミルトニアン$H$がユニタリ行列の場合の期待値しか計算できません。ハミルトニアン$H$は通常エルミート行列で与えられるので、ユニタリ行列の和に分解する必要があります。\n"
      ]
    },
    {
      "cell_type": "markdown",
      "metadata": {
        "id": "l8RAlCSWqfw6",
        "colab_type": "text"
      },
      "source": [
        "##2-1-6 ansatz（アンザッツ）\n",
        "ansatz（アンザッツ）は、状態ベクトルを作るための、主に任意回転ゲートでパラメータ化された量子回路で、ハミルトニアン$H$の期待値を求めるための測定値を提供します。"
      ]
    },
    {
      "cell_type": "markdown",
      "metadata": {
        "id": "TkFEVmsRqiG_",
        "colab_type": "text"
      },
      "source": [
        "##2-1-7 ハミルトニアン\n",
        "ハミルトニアン$H$はパウリゲートXYZと単位行列Iから構成される行列です。今回の変分アルゴリズムは、このハミルトニアン$H$の固有状態である状態ベクトルから導き出される固有値の期待値を求めることを目的としています。"
      ]
    },
    {
      "cell_type": "markdown",
      "metadata": {
        "id": "sZ5EK05HqkP0",
        "colab_type": "text"
      },
      "source": [
        "##2-1-8 ハミルトニアンの期待値\n",
        "ある状態ベクトル$\\mid \\psi \\rangle$とハミルトニアン$H$が与えられた時のハミルトニアン$H$の期待値は、\n",
        "\n",
        "$$\n",
        "\\langle \\psi (\\theta) \\mid H \\mid \\psi (\\theta) \\rangle\n",
        "$$\n",
        "\n",
        "の簡単な計算によってもとまります。\n"
      ]
    },
    {
      "cell_type": "markdown",
      "metadata": {
        "id": "kuMGGhyZqpIp",
        "colab_type": "text"
      },
      "source": [
        "##2-1-9 例題：１量子ビットのansatzを使ってハミルトニアンZの期待値を求める\n",
        "ansatzを使った任意の状態ベクトルにおけるハミルトニアンが$H = Z$の場合の期待値は、\n",
        "\n",
        "$$\n",
        "\\langle \\psi \\mid H \\mid \\psi \\rangle = \n",
        "\\begin{bmatrix}\n",
        "\\alpha^* & \\beta^*\n",
        "\\end{bmatrix}\n",
        "\\begin{bmatrix}\n",
        "1&0\\\\\n",
        "0&-1\n",
        "\\end{bmatrix}\n",
        "\\begin{bmatrix}\n",
        "\\alpha\\\\\n",
        "\\beta\n",
        "\\end{bmatrix}\n",
        "= |\\alpha|^2 - |\\beta|^2\n",
        "$$\n",
        "\n",
        "となります。ここで、$|\\alpha|^2$は0がでる確率、$|\\beta|^2$は1が出る確率に対応します。"
      ]
    },
    {
      "cell_type": "markdown",
      "metadata": {
        "id": "BYZ_g5DfqzJJ",
        "colab_type": "text"
      },
      "source": [
        "##2-1-10 例題２：１量子ビットのansatzを使ってハミルトニアンXの期待値を求める\n",
        "ハミルトニアンが$H = X$の場合のハミルトニアン$H$の期待値は、\n",
        "\n",
        "$$\n",
        "\\langle \\psi \\mid H \\mid \\psi \\rangle = \n",
        "\\begin{bmatrix}\n",
        "\\alpha^* & \\beta^*\n",
        "\\end{bmatrix}\n",
        "\\begin{bmatrix}\n",
        "0&1\\\\\n",
        "1&0\n",
        "\\end{bmatrix}\n",
        "\\begin{bmatrix}\n",
        "\\alpha\\\\\n",
        "\\beta\n",
        "\\end{bmatrix}\n",
        "= \\alpha^* \\beta + \\alpha \\beta^*\n",
        "$$\n",
        "\n",
        "となりますが、通常の測定ではこの値を求めることができませんので、ハミルトニアンの変形を通じて解を得ます。\n",
        "\n"
      ]
    },
    {
      "cell_type": "markdown",
      "metadata": {
        "id": "aNJtRgrCryOI",
        "colab_type": "text"
      },
      "source": [
        "##2-1-11 ハミルトニアンの変形\n",
        "ハミルトニアン$H$が$Z$の場合には、期待値の計算ができますが、XやYの場合には求めることができません。そこでハミルトニアンの変形を利用します。\n",
        "\n",
        "$$\n",
        "X = HZH\n",
        "$$\n",
        "\n",
        "より、\n",
        "\n",
        "$$\n",
        "\\langle \\psi \\mid X \\mid \\psi \\rangle \\\\\n",
        "= \\langle \\psi \\mid HZH \\mid \\psi \\rangle\\\\\n",
        "= \\langle \\psi' \\mid Z \\mid \\psi' \\rangle\n",
        "$$\n",
        "\n",
        "のように状態ベクトルを変形することで対応できます。Yの場合は、\n",
        "\n",
        "$$\n",
        "Y = RX(-\\pi/2) Z RX(\\pi/2)\n",
        "$$\n",
        "\n",
        "と、なり同様に、\n",
        "\n",
        "\n",
        "$$\n",
        "\\langle \\psi \\mid Y \\mid \\psi \\rangle \\\\\n",
        "= \\langle \\psi \\mid RX(-\\pi/2) Z RX(\\pi/2) \\mid \\psi \\rangle\\\\\n",
        "= \\langle \\psi'' \\mid Z \\mid \\psi'' \\rangle\n",
        "$$\n",
        "\n",
        "とすることができます。これらは、量子回路の測定の直前に上記のHやRXゲートを入れて測定を行うことで期待値を計算することができます。\n"
      ]
    },
    {
      "cell_type": "markdown",
      "metadata": {
        "id": "ZQFpnT4hr7Rb",
        "colab_type": "text"
      },
      "source": [
        "##2-1-12 線形結合\n",
        "実際にはハミルトニアン$H$はエルミート行列で与えられ、ユニタリ行列の和の形で与えられ、下記のように分解できます。\n",
        "\n",
        "$$\n",
        "\\langle \\psi \\mid aH_1 + bH_2 \\mid \\psi \\rangle \\\\ = \\langle \\psi \\mid aH_1 \\mid \\psi \\rangle + \\langle \\psi \\mid bH_2 \\mid \\psi \\rangle \\\\ = a\\langle \\psi \\mid H_1 \\mid \\psi \\rangle + b\\langle \\psi \\mid H_2 \\mid \\psi \\rangle\n",
        "$$\n",
        "\n",
        "これを使えば、複雑なハミルトニアンの場合でも、\n",
        "\n",
        "$$\n",
        "H = 1.2 X_0 Z_2 + 2.5 Z_0 X_1 Y_2 - 3.4 Z_2 X_1\n",
        "$$\n",
        "\n",
        "期待値は、\n",
        "\n",
        "$$\n",
        "\\langle \\psi \\mid 1.2 X_0 Z_2 + 2.5 Z_0 X_1 Y_2 - 3.4 Z_2 X_1 \\mid \\psi \\rangle\\\\\n",
        "= 1.2\\langle \\psi \\mid X_0 Z_2 \\mid \\psi \\rangle + 2.5 \\langle \\psi \\mid Z_0 X_1 Y_2\\mid \\psi \\rangle - 3.4 \\langle \\psi \\mid Z_2 X_1 \\mid \\psi \\rangle\n",
        "$$\n",
        "\n",
        "のように個別に計算をして和を求めることで計算できます。\n"
      ]
    },
    {
      "cell_type": "markdown",
      "metadata": {
        "id": "CHlW-P20sMUy",
        "colab_type": "text"
      },
      "source": [
        "##2-1-13 例：任意のansatzで実装\n",
        "ハミルトニアン$H$に対して対応したansatzを使わないと太平洋から一円玉を見つけるような作業になってしまいますが、ここでは例題として１量子ビットのハミルトニアン$H$の固有値を求めてみます。求めたいハミルトニアン$H$は、\n",
        "\n",
        "```python\n",
        "from blueqat.pauli import X, Y, Z, I\n",
        "\n",
        "h = 1.23 * I - 4.56 * X(0) + 2.45 * Y(0) + 2.34 * Z(0)\n",
        "```\n",
        "\n",
        "のように作ってみました。読み込まれたのはパウリゲートで行列が対応します。パウリゲートの後ろの数字はそれぞれを適用する量子ビットの通し番号です。上記のハミルトニアン$H$は参考として行列表記は、\n",
        "\n",
        "```python\n",
        "[[ 3.57,   -4.56-2.45j]\n",
        " [-4.56+2.45j, -1.11  ]]\n",
        "```\n",
        "\n",
        "となります。そして、ansatzはこれから探しますが探し方はパラメータを割り振ってそれを探します。1量子ビットの任意の状態ベクトルは極座標で２つの角度があれば表現できます。\n",
        "\n",
        "```python\n",
        "Circuit().ry(a)[0].rz(b)[0]\n",
        "```\n",
        "\n",
        "としてみます。上記は0番目の量子ビットに、Ryゲートを角度aで、Rzゲートを角度bで適用します。aとbでいい値が見つかれば、上記のansatzはハミルトニアンの期待値に対していい答えを返します。\n",
        "\n",
        "全体の実装は、\n",
        "\n"
      ]
    },
    {
      "cell_type": "code",
      "metadata": {
        "id": "-TmnjLaisgH1",
        "colab_type": "code",
        "colab": {
          "base_uri": "https://localhost:8080/",
          "height": 85
        },
        "outputId": "669ab3de-3f4e-430f-827b-bd75e6e778fb"
      },
      "source": [
        "import numpy as np\n",
        "from blueqat import Circuit\n",
        "from blueqat.pauli import X, Y, Z, I\n",
        "from blueqat.vqe import AnsatzBase, Vqe\n",
        "\n",
        "class OneQubitAnsatz(AnsatzBase):\n",
        "    def __init__(self, hamiltonian):\n",
        "        super().__init__(hamiltonian.to_expr(), 2)\n",
        "        self.step = 1\n",
        "\n",
        "    def get_circuit(self, params):\n",
        "        a, b = params\n",
        "        return Circuit().ry(a)[0].rz(b)[0] #パラメータでansatzを作る\n",
        "\n",
        "\n",
        "# ハミルトニアン\n",
        "h = 1.23 * I - 4.56 * X(0) + 2.45 * Y(0) + 2.34 * Z(0)\n",
        "runner = Vqe(OneQubitAnsatz(h))\n",
        "result = runner.run()\n",
        "\n",
        "print('Result by VQE')\n",
        "print(runner.ansatz.get_energy(result.circuit, runner.sampler))\n",
        "\n",
        "# これ以降は確認のために\n",
        "mat = h.to_matrix()\n",
        "\n",
        "# Calculate by numpy\n",
        "print('Result by numpy')\n",
        "print(np.linalg.eigh(mat)[0][0])"
      ],
      "execution_count": 3,
      "outputs": [
        {
          "output_type": "stream",
          "text": [
            "Result by VQE\n",
            "-4.450814236864202\n",
            "Result by numpy\n",
            "-4.450818602983201\n"
          ],
          "name": "stdout"
        }
      ]
    },
    {
      "cell_type": "markdown",
      "metadata": {
        "id": "okS8fH_XsaVJ",
        "colab_type": "text"
      },
      "source": [
        "となり、ほぼ近い値が固有値として求まっているのがわかります。実際には、上記のように任意でハミルトニアン$H$を書くことは多くないので定式化にルールを定めます。今後は全てblueqatで自動でやってくれますので、理解だけすれば実装は下記のように非常に簡単に実装できます。"
      ]
    },
    {
      "cell_type": "code",
      "metadata": {
        "id": "FpsXbuiOqTK6",
        "colab_type": "code",
        "colab": {
          "base_uri": "https://localhost:8080/",
          "height": 34
        },
        "outputId": "a0733f0a-be88-4c2c-955b-59b26606fe10"
      },
      "source": [
        "from blueqat import vqe\n",
        "from blueqat.pauli import Z\n",
        "\n",
        "H = Z(0)*Z(1) #ハミルトニアン\n",
        "step = 2\n",
        "\n",
        "result = vqe.Vqe(vqe.QaoaAnsatz(H, step)).run()\n",
        "print(result.most_common(12))"
      ],
      "execution_count": 2,
      "outputs": [
        {
          "output_type": "stream",
          "text": [
            "(((1, 0), 0.499883822557386), ((0, 1), 0.499883822557386), ((0, 0), 0.00011617744261394092), ((1, 1), 0.00011617744261394092))\n"
          ],
          "name": "stdout"
        }
      ]
    },
    {
      "cell_type": "markdown",
      "metadata": {
        "id": "-bGJkmeRsRbT",
        "colab_type": "text"
      },
      "source": [
        "これ以降はansatzとハミルトニアンの関連に触れながら実問題を見ていきます。実問題でこれからみるのは、\n",
        "\n",
        "１、量子化学計算  \n",
        "２、組合せ最適化問題\n",
        "\n",
        "になります。"
      ]
    },
    {
      "cell_type": "code",
      "metadata": {
        "id": "z9KSdEUssR44",
        "colab_type": "code",
        "colab": {}
      },
      "source": [
        ""
      ],
      "execution_count": 0,
      "outputs": []
    }
  ]
}