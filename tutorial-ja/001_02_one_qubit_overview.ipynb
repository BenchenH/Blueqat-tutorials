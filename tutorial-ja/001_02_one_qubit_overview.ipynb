{
 "nbformat": 4,
 "nbformat_minor": 2,
 "metadata": {
  "language_info": {
   "name": "python",
   "codemirror_mode": {
    "name": "ipython",
    "version": 3
   }
  },
  "orig_nbformat": 2,
  "file_extension": ".py",
  "mimetype": "text/x-python",
  "name": "python",
  "npconvert_exporter": "python",
  "pygments_lexer": "ipython3",
  "version": 3
 },
 "cells": [
  {
   "cell_type": "markdown",
   "metadata": {},
   "source": [
    "# １量子ビットの基本の操作を覚える（概要）\n",
    "ここでは 1量子ビット操作の概要を説明します。\n",
    "\n",
    "## 量子ビット\n",
    "古典コンピュータは1bitに対して0または1の値を入力することができます。\n",
    "\n",
    "量子ビットでは1bitのことを1qubitと言い、ベクトルで表現します。   \n",
    "$|0\\rangle$, $|1\\rangle$ はそれぞれ\n",
    "\n",
    "<img src=\"./img/001/001_02_0.png\" width=\"25%\">\n",
    "\n",
    "と表します。\n",
    "\n",
    "一般的に1qubitには $|0\\rangle$, $|1\\rangle$ と複素数 $a,b$ を用いて $a|0\\rangle+b|1\\rangle$ で表せます。   \n",
    "ただし、\n",
    "\n",
    "<img src=\"./img/001/001_02_1.png\" width=\"12%\">\n",
    "\n",
    "である必要があります。"
   ]
  },
  {
   "cell_type": "markdown",
   "metadata": {},
   "source": [
    "## 回路の作成\n",
    "初期値を $|0\\rangle$ とします。\n",
    "\n",
    "回路はゲートと呼ばれる行列をかけて作ります。試しにXゲートをかけてみます。   \n",
    "Xゲートは以下のような行列です。\n",
    "\n",
    "<img src=\"./img/001/001_02_2.png\" width=\"13%\">\n",
    "\n",
    "これを $|0\\rangle$ にかけると\n",
    "\n",
    "<img src=\"./img/001/001_02_3.png\" width=\"35%\">\n",
    "\n",
    "と $|1\\rangle$ に反転できることがわかります。"
   ]
  },
  {
   "cell_type": "markdown",
   "metadata": {},
   "source": [
    "## 観測\n",
    "量子コンピュータでは確率的に 0,1 が出力されますがこの出力させる操作を観測と言います。   \n",
    "0,1 それぞれの出力される確率は $a|0\\rangle+b|1\\rangle$ に対して、それぞれ $|a|^2, |b|^2$ となります。\n",
    "\n",
    "例えば以下のようなビットを考えます。\n",
    "\n",
    "<img src=\"./img/001/001_02_4.png\" width=\"28%\">\n",
    "\n",
    "これを1回観測すると 0,1 が出力される確率はそれぞれ 1/2 となります。   \n",
    "つまり100回観測した場合は 0,1 はそれぞれ 50回ずつ出力されます。"
   ]
  },
  {
   "cell_type": "markdown",
   "metadata": {},
   "source": [
    "## 状態ベクトル\n",
    "一般的に上記で述べたベクトルを状態ベクトルと言います。\n",
    "\n",
    "回路を作成し最終的にできた状態ベクトルは観測をした場合に 0,1 で出力されます。"
   ]
  },
  {
   "cell_type": "code",
   "execution_count": null,
   "metadata": {},
   "outputs": [],
   "source": []
  }
 ]
}