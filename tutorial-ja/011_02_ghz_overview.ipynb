{
 "nbformat": 4,
 "nbformat_minor": 2,
 "metadata": {
  "language_info": {
   "name": "python",
   "codemirror_mode": {
    "name": "ipython",
    "version": 3
   }
  },
  "orig_nbformat": 2,
  "file_extension": ".py",
  "mimetype": "text/x-python",
  "name": "python",
  "npconvert_exporter": "python",
  "pygments_lexer": "ipython3",
  "version": 3
 },
 "cells": [
  {
   "cell_type": "markdown",
   "metadata": {},
   "source": [
    "# ３量子ビットの量子もつれGHZ状態（概要）\n",
    "グリーンバーガー＝ホーン＝ツァイリンガー状態、GHZ状態の説明をします。"
   ]
  },
  {
   "cell_type": "markdown",
   "metadata": {},
   "source": [
    "## GHZ状態\n",
    "３量子ビットのもつれとしてGHZ状態というものがあります。\n",
    "具体的な式は以下のようになります。\n",
    "\n",
    "<img src=\"./img/011/011_02_0.png\" width=\"23%\">\n",
    "\n",
    "式の導出は難しいですが以下のようになります。\n",
    "\n",
    "<img src=\"./img/011/011_02_1.png\" width=\"60%\">"
   ]
  },
  {
   "cell_type": "code",
   "execution_count": null,
   "metadata": {},
   "outputs": [],
   "source": []
  }
 ]
}