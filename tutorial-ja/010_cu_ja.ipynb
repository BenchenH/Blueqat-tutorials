{
 "cells": [
  {
   "cell_type": "markdown",
   "metadata": {
    "colab_type": "text",
    "id": "NjHnSAbHrInP"
   },
   "source": [
    "# CU1, CU2, CU3 ゲート\n",
    "制御付きの任意回転ゲートを学びます"
   ]
  },
  {
   "cell_type": "markdown",
   "metadata": {},
   "source": [
    "## 今回学ぶこと\n",
    "1. CU1,CU2,CU3ゲートについて\n",
    "2. 回路を作成"
   ]
  },
  {
   "cell_type": "markdown",
   "metadata": {},
   "source": [
    "## インストール\n",
    "Blueqatのインストールは簡単です。pipからインストールを行います。"
   ]
  },
  {
   "cell_type": "code",
   "execution_count": 2,
   "metadata": {
    "colab": {
     "base_uri": "https://localhost:8080/",
     "height": 136
    },
    "colab_type": "code",
    "collapsed": true,
    "id": "Z2z6oBnToiqa",
    "outputId": "413f3f56-1b22-40f7-fcff-4621af4596d4"
   },
   "outputs": [
    {
     "name": "stdout",
     "output_type": "stream",
     "text": [
      "Requirement already satisfied: blueqat in /home/ec2-user/anaconda3/envs/python3/lib/python3.6/site-packages (0.3.13)\n",
      "Requirement already satisfied: scipy>=1.1.0 in /home/ec2-user/anaconda3/envs/python3/lib/python3.6/site-packages (from blueqat) (1.1.0)\n",
      "Requirement already satisfied: numpy~=1.12 in /home/ec2-user/anaconda3/envs/python3/lib/python3.6/site-packages (from blueqat) (1.18.3)\n",
      "\u001b[33mWARNING: You are using pip version 20.0.2; however, version 20.1 is available.\n",
      "You should consider upgrading via the '/home/ec2-user/anaconda3/envs/python3/bin/python -m pip install --upgrade pip' command.\u001b[0m\n"
     ]
    }
   ],
   "source": [
    "!pip install blueqat"
   ]
  },
  {
   "cell_type": "markdown",
   "metadata": {},
   "source": [
    "### CU1, CU2, CU3\n",
    "CU1, CU2, CU3 ゲートは以下で実装できます。\n",
    "\n",
    "| CU1 | CU2 | CU3 |\n",
    "|:-:|:-:|:-:|\n",
    "|`cu1(λ)`or`cphase(λ)`|`cu2(φ,λ)`|`cu3(φ,λ,θ)`|\n",
    "\n",
    "$\\theta, \\lambda, \\phi$ に関しては1量子ゲートのときと同じです。"
   ]
  },
  {
   "cell_type": "markdown",
   "metadata": {},
   "source": [
    "###### CU1 ゲート"
   ]
  },
  {
   "cell_type": "code",
   "execution_count": 37,
   "metadata": {},
   "outputs": [
    {
     "data": {
      "text/plain": [
       "Counter({'00': 100})"
      ]
     },
     "execution_count": 37,
     "metadata": {},
     "output_type": "execute_result"
    }
   ],
   "source": [
    "from blueqat import Circuit\n",
    "import math\n",
    "\n",
    "Circuit().cu1(math.pi)[0,1].m[:].run(shots=100)\n",
    "#or\n",
    "Circuit().cphase(math.pi)[0,1].m[:].run(shots=100)"
   ]
  },
  {
   "cell_type": "markdown",
   "metadata": {},
   "source": [
    "###### CU2 ゲート"
   ]
  },
  {
   "cell_type": "code",
   "execution_count": 39,
   "metadata": {},
   "outputs": [
    {
     "data": {
      "text/plain": [
       "Counter({'00': 100})"
      ]
     },
     "execution_count": 39,
     "metadata": {},
     "output_type": "execute_result"
    }
   ],
   "source": [
    "from blueqat import Circuit\n",
    "import math\n",
    "\n",
    "Circuit().cu2(0,math.pi)[0,1].m[:].run(shots=100)"
   ]
  },
  {
   "cell_type": "markdown",
   "metadata": {},
   "source": [
    "###### CU3 ゲート"
   ]
  },
  {
   "cell_type": "code",
   "execution_count": 42,
   "metadata": {},
   "outputs": [
    {
     "data": {
      "text/plain": [
       "Counter({'00': 100})"
      ]
     },
     "execution_count": 42,
     "metadata": {},
     "output_type": "execute_result"
    }
   ],
   "source": [
    "from blueqat import Circuit\n",
    "import math\n",
    "\n",
    "Circuit().cu3(math.pi/2,0,math.pi)[0,1].m[:].run(shots=100)"
   ]
  },
  {
   "cell_type": "markdown",
   "metadata": {},
   "source": [
    "## CU1, CU2, CU3 ゲート\n",
    "制御ゲートは「コントロールビット」と「ターゲットビット」で構成されます。 \n",
    "\n",
    "コントロールビットは2量子ビットを用います。これらは1ビット目が $|1\\rangle$ のときに2ビット目を変換させるゲートです。   \n",
    "例としてよく使う CXゲートを紹介します。\n",
    "\n",
    "<img src=\"./img/007/007_0.png\" width=\"60%\">\n",
    "\n",
    "見てわかる通り1ビット目が $|1\\rangle$ のときに2ビット目にXゲートを施しているのがわかります。   \n",
    "それ以外の制御ゲートも1ビット目が $|1\\rangle$ のときに2ビット目にそれぞれのゲートを施してます。"
   ]
  }
 ],
 "metadata": {
  "colab": {
   "collapsed_sections": [],
   "name": "007_02_fullgate.ipynb",
   "provenance": []
  },
  "kernelspec": {
   "display_name": "conda_python3",
   "language": "python",
   "name": "conda_python3"
  },
  "language_info": {
   "codemirror_mode": {
    "name": "ipython",
    "version": 3
   },
   "file_extension": ".py",
   "mimetype": "text/x-python",
   "name": "python",
   "nbconvert_exporter": "python",
   "pygments_lexer": "ipython3",
   "version": "3.6.5"
  }
 },
 "nbformat": 4,
 "nbformat_minor": 1
}
