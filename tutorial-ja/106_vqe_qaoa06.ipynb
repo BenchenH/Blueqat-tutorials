{
  "nbformat": 4,
  "nbformat_minor": 0,
  "metadata": {
    "colab": {
      "name": "106vqe_qaoa06.ipynb",
      "provenance": []
    },
    "kernelspec": {
      "name": "python3",
      "display_name": "Python 3"
    }
  },
  "cells": [
    {
      "cell_type": "markdown",
      "metadata": {
        "id": "ZnODbF2Hyrre",
        "colab_type": "text"
      },
      "source": [
        "#Variational Quantum Eigensolver(VQE)、QAOAセミナー 2-6（組合せ最適化問題編4）"
      ]
    },
    {
      "cell_type": "markdown",
      "metadata": {
        "id": "j392IPADyrh0",
        "colab_type": "text"
      },
      "source": [
        "2-5-5 Quantum Alternating Operator Ansatz\n",
        "上記はなかなか答えが出ませんでした。ここでは、正答率を大きく上げる方法を確認します。ハミルトニアンの制約条件を定式化から外すできます。前述の交通最適化問題などは３つのルートから１つのルートを選ぶという制約式が正答率を下げる原因でしたが、今回はその制約式を減らすテクニックを確認します。\n",
        "\n",
        "XX+YYゲートを導入することで、01と10を入れ替える操作をできます。時間発展を見ても、入れ替え操作が見れます。最初から00と11をださず、01と10のみで計算をします。\n",
        "\n",
        "<img src=\"https://qiita-user-contents.imgix.net/https%3A%2F%2Fqiita-image-store.s3.ap-northeast-1.amazonaws.com%2F0%2F88256%2F0b4a9d82-8ebf-8191-23d7-dbb76396e9d1.png?ixlib=rb-1.2.2&auto=format&gif-q=60&q=75&w=1400&fit=max&s=616a52dfc97ba36e01aba646f9affdac\">\n",
        "\n",
        "引用：https://qiita.com/gyu-don/items/c51a9e3d5d16a6d5baf6\n",
        "\n",
        "これらの操作を導入して簡単な問題を解いてみます。\n",
        "\n"
      ]
    },
    {
      "cell_type": "markdown",
      "metadata": {
        "id": "KnFuYDDZy9p-",
        "colab_type": "text"
      },
      "source": [
        "\n",
        "##2-5-6 Quantum Alternating Operator Ansatzの例題\n",
        "今回は初期状態に|10>と|01>のもつれ状態を採用し、途中のmixerにXYミキサーというXX+YYの時間発展を導入したものを利用してみます。"
      ]
    },
    {
      "cell_type": "code",
      "metadata": {
        "id": "wG4hCQkBzLj-",
        "colab_type": "code",
        "colab": {
          "base_uri": "https://localhost:8080/",
          "height": 136
        },
        "outputId": "bd14daa7-3acd-47da-e13e-8353adf15763"
      },
      "source": [
        "!pip install blueqat"
      ],
      "execution_count": 1,
      "outputs": [
        {
          "output_type": "stream",
          "text": [
            "Collecting blueqat\n",
            "\u001b[?25l  Downloading https://files.pythonhosted.org/packages/f6/73/20f9cff48caee1f69190f2e1ea93c4d7d0a745fc48defb5d3072d8337583/blueqat-0.3.13-py3-none-any.whl (50kB)\n",
            "\r\u001b[K     |██████▌                         | 10kB 21.3MB/s eta 0:00:01\r\u001b[K     |█████████████                   | 20kB 1.8MB/s eta 0:00:01\r\u001b[K     |███████████████████▍            | 30kB 2.6MB/s eta 0:00:01\r\u001b[K     |█████████████████████████▉      | 40kB 1.7MB/s eta 0:00:01\r\u001b[K     |████████████████████████████████| 51kB 1.7MB/s \n",
            "\u001b[?25hRequirement already satisfied: numpy~=1.12 in /usr/local/lib/python3.6/dist-packages (from blueqat) (1.17.5)\n",
            "Requirement already satisfied: scipy>=1.1.0 in /usr/local/lib/python3.6/dist-packages (from blueqat) (1.4.1)\n",
            "Installing collected packages: blueqat\n",
            "Successfully installed blueqat-0.3.13\n"
          ],
          "name": "stdout"
        }
      ]
    },
    {
      "cell_type": "code",
      "metadata": {
        "id": "A8bqofq7ynKG",
        "colab_type": "code",
        "colab": {
          "base_uri": "https://localhost:8080/",
          "height": 102
        },
        "outputId": "db644b72-f9db-48a0-fb42-46828d4f34d9"
      },
      "source": [
        "import numpy as np\n",
        "from blueqat import Circuit\n",
        "from blueqat.pauli import X, Y, Z, I\n",
        "from blueqat.pauli import qubo_bit as q\n",
        "from blueqat.vqe import AnsatzBase, Vqe\n",
        "\n",
        "def an(index):\n",
        "    return 0.5 * X[index] + 0.5j * Y[index]\n",
        "\n",
        "def cr(index):\n",
        "    return 0.5 * X[index] - 0.5j * Y[index]\n",
        "\n",
        "op = (cr(1) * an(0) + cr(0) * an(1)).to_expr().simplify()\n",
        "\n",
        "class QaoaQaoaAnsatz(AnsatzBase):\n",
        "    def __init__(self, hamiltonian, step=1, init_circuit=None):\n",
        "        super().__init__(hamiltonian, step * 2)\n",
        "        self.hamiltonian = hamiltonian.to_expr().simplify()\n",
        "        if not self.check_hamiltonian():\n",
        "            raise ValueError(\"Hamiltonian terms are not commutable\")\n",
        "\n",
        "        self.step = step\n",
        "        self.n_qubits = self.hamiltonian.max_n() + 1\n",
        "        if init_circuit:\n",
        "            self.init_circuit = init_circuit\n",
        "            if init_circuit.n_qubits > self.n_qubits:\n",
        "                self.n_qubits = init_circuit.n_qubits\n",
        "        else:\n",
        "            self.init_circuit = Circuit(self.n_qubits).h[:]\n",
        "        self.init_circuit.make_cache()\n",
        "        self.time_evolutions = [term.get_time_evolution() for term in self.hamiltonian]\n",
        "        self.time_evolutions2 = [term.get_time_evolution() for term in op]\n",
        "    def check_hamiltonian(self):\n",
        "        \"\"\"Check hamiltonian is commutable. This condition is required for QaoaAnsatz\"\"\"\n",
        "        return self.hamiltonian.is_all_terms_commutable()\n",
        "\n",
        "    def get_circuit(self, params):\n",
        "        c = self.init_circuit.copy()\n",
        "        betas = params[:self.step]\n",
        "        gammas = params[self.step:]\n",
        "        for beta, gamma in zip(betas, gammas):\n",
        "            beta *= np.pi\n",
        "            gamma *= 2 * np.pi\n",
        "            for evo in self.time_evolutions:\n",
        "                evo(c, gamma)\n",
        "            for evo2 in self.time_evolutions2:\n",
        "                evo2(c, beta)\n",
        "        return c\n",
        "\n",
        "h = -3*q(0)-3*q(1)-2*q(0)*q(1)\n",
        "h = h.to_expr().simplify()\n",
        "runner = Vqe(QaoaQaoaAnsatz(h,4,Circuit().h[0].cx[0,1].x[0]))\n",
        "result = runner.run()\n",
        "\n",
        "# get probability\n",
        "print(result.most_common(12))\n",
        "\n",
        "print('Result by QAOA')\n",
        "print(runner.ansatz.get_energy(result.circuit, runner.sampler))\n",
        "\n",
        "# Hamiltonian to matrix\n",
        "mat = h.to_matrix()\n",
        "\n",
        "# Calculate by numpy\n",
        "print('Result by numpy')\n",
        "print(np.linalg.eigh(mat)[0][0])"
      ],
      "execution_count": 2,
      "outputs": [
        {
          "output_type": "stream",
          "text": [
            "(((1, 0), 0.49999999999999883), ((0, 1), 0.49999999999999867), ((1, 1), 1.6023737137301796e-31), ((0, 0), 1.203706215242022e-31))\n",
            "Result by QAOA\n",
            "-2.999999999999993\n",
            "Result by numpy\n",
            "-8.0\n"
          ],
          "name": "stdout"
        }
      ]
    },
    {
      "cell_type": "markdown",
      "metadata": {
        "id": "Pvz6c0zKzO43",
        "colab_type": "text"
      },
      "source": [
        "通常、最小基底状態は-8を選びますが、上記は|01>と|10>のもつれ状態を利用しているため、制約条件をハード制約としてもち、|00>と|11>をとることができないため、QAOAで得られる最小値の期待値は-3となっています。\n",
        "\n",
        "このように、通常ソフト制約として出てくるはずのハード制約をかすことで、正答率を大幅に上げることができます。回路自体は長くなっています。\n",
        "\n",
        "<img width=\"1281\" alt=\"スクリーンショット 2020-02-25 0.39.32.png\" src=\"https://qiita-image-store.s3.ap-northeast-1.amazonaws.com/0/218694/85efc267-c34d-dbc8-1bb0-25bc22cfb1c0.png\">"
      ]
    },
    {
      "cell_type": "markdown",
      "metadata": {
        "id": "cxaXmWR4zTYz",
        "colab_type": "text"
      },
      "source": [
        "このように、通常ソフト制約として出てくるはずのハード制約をかすことで、正答率を大幅に上げることができます。回路自体は長くなっています。\n",
        "\n",
        "<img width=\"1281\" alt=\"スクリーンショット 2020-02-25 0.39.32.png\" src=\"https://qiita-image-store.s3.ap-northeast-1.amazonaws.com/0/218694/85efc267-c34d-dbc8-1bb0-25bc22cfb1c0.png\">"
      ]
    },
    {
      "cell_type": "markdown",
      "metadata": {
        "id": "A9M2QO-Fzaa6",
        "colab_type": "text"
      },
      "source": [
        "##2-5-7 量子もつれを使った制約条件項なしの交通最適化計算\n",
        "ケーススタディとして交通最適を取り上げます。\n",
        "量子アニーリングでは探索はほぼランダムで行われます。初期状態は|+>からスタートし、途中過程の探索は$\\sigma_x$の横磁場を使います。\n",
        "\n",
        "しかしここでは、ルート選択は１つだけを選ぶわけですから、$q_0$か$q_1$の片方は1で、もう片方は0となるのが条件としてついてきます。また、$q_2$と$q_3$も同様です。\n",
        "\n",
        "ここで、量子回路でまず量子もつれを作ります。量子もつれは多くのパターンから限られた組み合わせだけが出るように調整できるのでした。簡単な例として、"
      ]
    },
    {
      "cell_type": "code",
      "metadata": {
        "id": "-1q4bT_0zFr-",
        "colab_type": "code",
        "colab": {
          "base_uri": "https://localhost:8080/",
          "height": 34
        },
        "outputId": "58a039b5-7198-4862-9021-439fa8d45824"
      },
      "source": [
        "from blueqat import Circuit\n",
        "Circuit().h[0].cx[0,1].m[:].run(shots=100)"
      ],
      "execution_count": 3,
      "outputs": [
        {
          "output_type": "execute_result",
          "data": {
            "text/plain": [
              "Counter({'00': 53, '11': 47})"
            ]
          },
          "metadata": {
            "tags": []
          },
          "execution_count": 3
        }
      ]
    },
    {
      "cell_type": "markdown",
      "metadata": {
        "id": "XKLwJpgFzeNn",
        "colab_type": "text"
      },
      "source": [
        "こうすると、本来４種類出るところから00と11のみ答えが出ます。\n"
      ]
    },
    {
      "cell_type": "code",
      "metadata": {
        "id": "N9VMjLmpzcSE",
        "colab_type": "code",
        "colab": {
          "base_uri": "https://localhost:8080/",
          "height": 34
        },
        "outputId": "02658b0e-40b6-4630-9e05-4223ed43b3ae"
      },
      "source": [
        "from blueqat import Circuit\n",
        "Circuit().h[0].cx[0,1].x[0].m[:].run(shots=100)"
      ],
      "execution_count": 4,
      "outputs": [
        {
          "output_type": "execute_result",
          "data": {
            "text/plain": [
              "Counter({'01': 37, '10': 63})"
            ]
          },
          "metadata": {
            "tags": []
          },
          "execution_count": 4
        }
      ]
    },
    {
      "cell_type": "markdown",
      "metadata": {
        "id": "1-42sa9AzimO",
        "colab_type": "text"
      },
      "source": [
        "ちょっと形を変えることで、01と10のもつれに変更できます。\n",
        "\n",
        "これを使います。つまり、自動車１と自動車２にそれぞれもつれを活用して、01と10に制限をかけるように初期状態を設定します。\n",
        "\n",
        "今回４量子ビットの回路では、"
      ]
    },
    {
      "cell_type": "code",
      "metadata": {
        "id": "NVZmMV3IzgUk",
        "colab_type": "code",
        "colab": {
          "base_uri": "https://localhost:8080/",
          "height": 34
        },
        "outputId": "53787d5a-afea-4fe0-97d1-1b43f215b2f1"
      },
      "source": [
        "from blueqat import Circuit\n",
        "Circuit().h[0].cx[0,1].x[0].h[2].cx[2,3].x[2].m[:].run(shots=100)"
      ],
      "execution_count": 5,
      "outputs": [
        {
          "output_type": "execute_result",
          "data": {
            "text/plain": [
              "Counter({'0101': 31, '0110': 19, '1001': 26, '1010': 24})"
            ]
          },
          "metadata": {
            "tags": []
          },
          "execution_count": 5
        }
      ]
    },
    {
      "cell_type": "markdown",
      "metadata": {
        "id": "S4Pyz-DdzqC4",
        "colab_type": "text"
      },
      "source": [
        "###入れ替え作業\n",
        "$\\sigma_x$の横磁場での探索の代わりに明示的に(XX+YY)/2というゲートを利用することで、01と10を入れ替えることができます。\n",
        "\n",
        "これにより、初期状態で準備した01と10をひたすら入れ替えながら、量子断熱計算で、ハミルトニアンの最小値を求めるQAOAと組み合わせることができます。\n",
        "\n",
        "###具体的コード\n",
        "具体的な実行コードはこちらです。"
      ]
    },
    {
      "cell_type": "code",
      "metadata": {
        "id": "q0FnoA56znd4",
        "colab_type": "code",
        "colab": {
          "base_uri": "https://localhost:8080/",
          "height": 88
        },
        "outputId": "db1b1222-0d56-47bd-d4eb-6b38287df3cc"
      },
      "source": [
        "import numpy as np\n",
        "from blueqat import Circuit\n",
        "from blueqat.pauli import X, Y, Z, I\n",
        "from blueqat.pauli import qubo_bit as q\n",
        "from blueqat.vqe import AnsatzBase, Vqe\n",
        "\n",
        "def an(index):\n",
        "    return 0.5 * X[index] + 0.5j * Y[index]\n",
        "\n",
        "def cr(index):\n",
        "    return 0.5 * X[index] - 0.5j * Y[index]\n",
        "\n",
        "op1 = (cr(1) * an(0) + cr(0) * an(1)).to_expr().simplify()\n",
        "op2 = (cr(3) * an(2) + cr(2) * an(3)).to_expr().simplify()\n",
        "\n",
        "class QaoaQaoaAnsatz(AnsatzBase):\n",
        "    def __init__(self, hamiltonian, step=1, init_circuit=None):\n",
        "        super().__init__(hamiltonian, step * 2)\n",
        "        self.hamiltonian = hamiltonian.to_expr().simplify()\n",
        "        if not self.check_hamiltonian():\n",
        "            raise ValueError(\"Hamiltonian terms are not commutable\")\n",
        "\n",
        "        self.step = step\n",
        "        self.n_qubits = self.hamiltonian.max_n() + 1\n",
        "        if init_circuit:\n",
        "            self.init_circuit = init_circuit\n",
        "            if init_circuit.n_qubits > self.n_qubits:\n",
        "                self.n_qubits = init_circuit.n_qubits\n",
        "        else:\n",
        "            self.init_circuit = Circuit(self.n_qubits).h[:]\n",
        "        self.init_circuit.make_cache()\n",
        "        self.time_evolutions = [term.get_time_evolution() for term in self.hamiltonian]\n",
        "        self.time_evolutions1 = [term.get_time_evolution() for term in op1]\n",
        "        self.time_evolutions2 = [term.get_time_evolution() for term in op2]\n",
        "    def check_hamiltonian(self):\n",
        "        \"\"\"Check hamiltonian is commutable. This condition is required for QaoaAnsatz\"\"\"\n",
        "        return self.hamiltonian.is_all_terms_commutable()\n",
        "\n",
        "    def get_circuit(self, params):\n",
        "        c = self.init_circuit.copy()\n",
        "        betas = params[:self.step]\n",
        "        gammas = params[self.step:]\n",
        "        for beta, gamma in zip(betas, gammas):\n",
        "            beta *= np.pi\n",
        "            gamma *= 2 * np.pi\n",
        "            for evo in self.time_evolutions:\n",
        "                evo(c, gamma)\n",
        "            for evo1 in self.time_evolutions1:\n",
        "                evo1(c, beta)\n",
        "            for evo2 in self.time_evolutions2:\n",
        "                evo2(c, beta)\n",
        "        return c\n",
        "\n",
        "h = 4*q(0)+4*q(1)+4*q(2)+4*q(3)+4*q(0)*q(1)+4*q(0)*q(2)+8*q(1)*q(2)+2*q(1)*q(3)+2*q(2)*q(3)\n",
        "h = h.to_expr().simplify()\n",
        "runner = Vqe(QaoaQaoaAnsatz(h,4,Circuit().h[0].cx[0,1].x[0].h[2].cx[2,3].x[2]))\n",
        "result = runner.run()\n",
        "\n",
        "# get probability\n",
        "print(result.most_common(12))\n",
        "\n",
        "print('Result by QAOA')\n",
        "print(runner.ansatz.get_energy(result.circuit, runner.sampler))"
      ],
      "execution_count": 8,
      "outputs": [
        {
          "output_type": "stream",
          "text": [
            "(((1, 0, 0, 1), 0.9761439764700606), ((0, 1, 0, 1), 0.013733180421308734), ((0, 1, 1, 0), 0.009597498113593592), ((1, 0, 1, 0), 0.0005253449950314455), ((1, 0, 1, 1), 5.616794126873087e-32), ((1, 1, 0, 1), 3.9317124248001565e-32), ((0, 0, 0, 1), 3.9117168874736404e-32), ((0, 1, 1, 1), 1.7988044180444303e-32), ((1, 0, 0, 0), 1.5407439555097884e-32), ((1, 1, 1, 0), 1.3838542217086112e-32), ((0, 0, 1, 0), 9.151450356468662e-33), ((0, 1, 0, 0), 6.995989893749367e-33))\n",
            "Result by QAOA\n",
            "8.106347725731453\n"
          ],
          "name": "stdout"
        }
      ]
    },
    {
      "cell_type": "markdown",
      "metadata": {
        "id": "Ue0rJrWSz4PZ",
        "colab_type": "text"
      },
      "source": [
        "とても高い確率で制約条件を満たしながら混雑の最も少ないルートが選択されています。\n"
      ]
    },
    {
      "cell_type": "code",
      "metadata": {
        "id": "tndRHOhQzvki",
        "colab_type": "code",
        "colab": {}
      },
      "source": [
        ""
      ],
      "execution_count": 0,
      "outputs": []
    }
  ]
}