{
  "nbformat": 4,
  "nbformat_minor": 0,
  "metadata": {
    "colab": {
      "name": "104vqe_qaoa04.ipynb",
      "provenance": []
    },
    "kernelspec": {
      "name": "python3",
      "display_name": "Python 3"
    }
  },
  "cells": [
    {
      "cell_type": "markdown",
      "metadata": {
        "id": "Wu2b-Co0wkjP",
        "colab_type": "text"
      },
      "source": [
        "#Variational Quantum Eigensolver(VQE)、QAOAセミナー 2-4（組合せ最適化問題編2）"
      ]
    },
    {
      "cell_type": "markdown",
      "metadata": {
        "id": "iz6-RXTawwBb",
        "colab_type": "text"
      },
      "source": [
        "素因数分解を最小値問題に置き換えて解いてみます。\n"
      ]
    },
    {
      "cell_type": "markdown",
      "metadata": {
        "id": "UnVDd39Zwypn",
        "colab_type": "text"
      },
      "source": [
        "###Quantum factorization of 56153 with only 4 qubits\n",
        "Nikesh S. Dattani,1,2,∗ Nathaniel Bryans3,†\n",
        "1Quantum Chemistry Laboratory, Kyoto University, 606-8502, Kyoto, Japan, 2Physical & Theoretical Chemistry Laboratory,\n",
        "Oxford University, OX1 3QZ, Oxford, UK, 3University of Calgary, T2N 4N1, Calgary, Canada. ∗\n",
        "dattani.nike@gmail.com,\n",
        "†\n",
        "nbryans1@gmail.com\n",
        "\n",
        "https://arxiv.org/pdf/1411.6758.pdf\n",
        "\n",
        "###Variational Quantum Factoring\n",
        "Eric R. Anschuetz, Jonathan P. Olson, Alán Aspuru-Guzik, Yudong Cao  \n",
        "(Submitted on 27 Aug 2018)  \n",
        "https://arxiv.org/abs/1808.08927  \n",
        "\n",
        "###Prime Factorization Using Quantum Annealing and Algebraic Geometry\n",
        "https://1qbit.com/wp-content/uploads/2016/09/1QBit-Research-Paper-%E2%80%93-Prime-Factorization-Using-Quantum-Annealing-and-Algebraic-Geometry.pdf"
      ]
    },
    {
      "cell_type": "markdown",
      "metadata": {
        "id": "5I_KgBtww1jc",
        "colab_type": "text"
      },
      "source": [
        "##具体的手順\n",
        "手順はとてもシンプルです。これまでゲート方式はShorのアルゴリズムを使って問題を解いていましたが、そうではなくて最小値問題に落とし込みます。効率的な落とし込みかたがあり、前処理をいれて143の素因数分解は4量子ビットだけで解けます。\n",
        "\n",
        "１、量子ビットを使って二進数で乗算を考える\n",
        "２、桁数の特性を生かしてQUBO問題を簡略化する\n",
        "３、単純化されたQUBO問題をQAOAアルゴリズムにかけて最小基底状態を求める。"
      ]
    },
    {
      "cell_type": "markdown",
      "metadata": {
        "id": "YhkvtWB6w7Zu",
        "colab_type": "text"
      },
      "source": [
        "##１、量子ビットを使って二進数の乗算（143の素因数分解）\n",
        "まず二進数の乗算を考えます。二進数の乗算と加算を学ぶ必要がありますが、乗算は筆算では10進数とほとんど同じです。\n",
        "\n",
        "![11.png](https://qiita-image-store.s3.ap-northeast-1.amazonaws.com/0/218694/1650e6ed-2e63-2bc7-977c-fb20da265c5e.png)\n",
        "\n",
        "これは、m=p*qを考えますが、pを二進数で考えて、一番下と一番上の位は1になることはわかっています。一番上が1は自明で、素数なので一番下の位は0ではない（偶数ではない）です。pとqを二進数で表すと上記のようになります。\n",
        "\n",
        "まずはこれを単純にかけます。$2^0$の位から10進数のようにかけて、ずらして足し合わせてきます。途中carriesというのは桁上がりになります。二進数で1+1をすると桁が上がるので、$Z_{12}$は$2^1$の位から$2^2$の位に上がると言う意味です。"
      ]
    },
    {
      "cell_type": "markdown",
      "metadata": {
        "id": "Lk-rGvlKw_Qg",
        "colab_type": "text"
      },
      "source": [
        "##２、桁数の特性を生かしてイジング問題を簡略化する次に各位を足し合わせます。足し合わせると連立方程式は、\n",
        "\n",
        "$$\n",
        "\\begin{eqnarray}p_1+q_1 &=& 1+2z_{12}\\\\ p_2+p_1q_1+q_2+z_{12} &=& 1+2z_{23}+4z_{24}\\\\ 1+p_2q_1+p_1q_2+1+z_{23} &=& 1+2z_{34}+4z_{35}\\\\ … q_2+p_2+z_{45}+z_{35} &=& 0+2z_{56}+4z_{57}\\\\ 1+z_{56}+z_{46} &=& 0+2z_{67}\\\\ z_{67}+z_{57} &=& 1\\end{eqnarray}\n",
        "$$\n",
        "\n",
        "となります。ここで上から見ていくと、、、まず$p_1+q_1=1+2z_{12}$において、１が確定しているため、$p_1$と$q_1$はどちらかが1であるため、2の位はでてこないため、$z_{12}=0$がわかります。\n",
        "\n",
        "同様に、$p_2+p_1q_1+q_2+z_{12} = 1+2z_{23}+4z_{24}$はまず、上記より$p_1$と$q_1$はどちらかが1でどちらかが0であるため、$p_1q_1=0$がわかる。また、$z_{12}=0$だったため、$p_2+q_2 = 1+2z_{23}+4z_{24}$となる。ここで、前述と同様1が確定しているため、$z_{23}=0,z_{24}=0$がわかります。\n",
        "\n",
        "また、$1+p_2q_1+p_1q_2+1+z_{23} = 1+2z_{34}+4z_{35}$は、$z_{23}=0$より、$1+p_2q_1+p_1q_2 = 2z_{34}+4z_{35}$となる。まず桁数が合わないので$z_{35}=0$となり、$1+p_2q_1+p_1q_2 = 2z_{34}$ここで、左辺に1があるため、$z_{34}$は0でないので1が確定する。\n",
        "\n",
        "これらを進めていってまとめると、下記の式が得られます。\n",
        "\n",
        "$$\n",
        "\\begin{eqnarray}p_1+q_1-1 &=&0\\\\\n",
        "p_2+q_2-1 &=& 0\\\\\n",
        "p_2q_1+p_1q_2-1 &=&0\n",
        "\\end{eqnarray}\n",
        "$$\n",
        "\n",
        "この３つの連立方程式を最小値問題に落とすためには、各方程式を二乗すると必ず0の時に最小になるので、連立方程式から下記のハミルトニアンを得ます。\n",
        "\n",
        "$$\n",
        "H=(p_1+q_1-1)^2 + (p_2+q_2-1)^2+(p_2q_1+p_1q_2-1)^2\\\\=5-3p_1-p_2-q_1+2p_1q_1-3p_2q_1+2p_1p_2q_1-3q_2+p_1q_2+2p_2q_2+2p_2q_1q_2\n",
        "$$\n",
        "\n",
        "これを確認のために、総当たりでコスト計算してみると、バイナリ値で$\\mid 0000 \\rangle$から$\\mid 1111\\rangle$までで、\n",
        "\n",
        "$5,2,4,1,4,3,0,1,2,0,3,1,1,1,1,3$\n",
        "\n",
        "となり、$\\mid 6 \\rangle$と$\\mid 9 \\rangle$の時に$H=0$となるので、先に対応する、$\\mid 0110 \\rangle$と$\\mid 1001 \\rangle$が答えとなり、\n",
        "\n",
        "$p=13,q=11$と$p=11,q=13$が答えとなります。\n"
      ]
    },
    {
      "cell_type": "markdown",
      "metadata": {
        "id": "43be75hMxP8g",
        "colab_type": "text"
      },
      "source": [
        "##３、問題をQAOAアルゴリズムにかけて最小基底状態を求める。\n",
        "\n",
        "実際にQAOAを使って正しいか確認します。"
      ]
    },
    {
      "cell_type": "code",
      "metadata": {
        "id": "gRcUwgTQxPye",
        "colab_type": "code",
        "colab": {
          "base_uri": "https://localhost:8080/",
          "height": 136
        },
        "outputId": "1195c4f6-9c58-403e-e82f-974d498abd83"
      },
      "source": [
        "!pip3 install blueqat"
      ],
      "execution_count": 1,
      "outputs": [
        {
          "output_type": "stream",
          "text": [
            "Collecting blueqat\n",
            "\u001b[?25l  Downloading https://files.pythonhosted.org/packages/f6/73/20f9cff48caee1f69190f2e1ea93c4d7d0a745fc48defb5d3072d8337583/blueqat-0.3.13-py3-none-any.whl (50kB)\n",
            "\r\u001b[K     |██████▌                         | 10kB 15.7MB/s eta 0:00:01\r\u001b[K     |█████████████                   | 20kB 1.4MB/s eta 0:00:01\r\u001b[K     |███████████████████▍            | 30kB 1.6MB/s eta 0:00:01\r\u001b[K     |█████████████████████████▉      | 40kB 1.6MB/s eta 0:00:01\r\u001b[K     |████████████████████████████████| 51kB 1.5MB/s \n",
            "\u001b[?25hRequirement already satisfied: numpy~=1.12 in /usr/local/lib/python3.6/dist-packages (from blueqat) (1.17.5)\n",
            "Requirement already satisfied: scipy>=1.1.0 in /usr/local/lib/python3.6/dist-packages (from blueqat) (1.4.1)\n",
            "Installing collected packages: blueqat\n",
            "Successfully installed blueqat-0.3.13\n"
          ],
          "name": "stdout"
        }
      ]
    },
    {
      "cell_type": "code",
      "metadata": {
        "id": "8laAte7Xwg0y",
        "colab_type": "code",
        "colab": {
          "base_uri": "https://localhost:8080/",
          "height": 54
        },
        "outputId": "c2db6e5c-c73c-4c3d-e451-2d933a7f7587"
      },
      "source": [
        "from blueqat import vqe \n",
        "from blueqat.pauli import qubo_bit as q \n",
        "\n",
        "hamiltonian = -3*q(0)-q(1)-q(2)+2*q(0)*q(2)-3*q(1)*q(2)+2*q(0)*q(1)*q(2)-3*q(3)+q(0)*q(3)+2*q(1)*q(3)+2*q(1)*q(2)*q(3) \n",
        "step = 4 \n",
        "\n",
        "result = vqe.Vqe(vqe.QaoaAnsatz(hamiltonian, step)).run() \n",
        "print(result.most_common(5)) "
      ],
      "execution_count": 2,
      "outputs": [
        {
          "output_type": "stream",
          "text": [
            "(((1, 1, 0, 0), 0.2184939468894782), ((0, 0, 1, 1), 0.2184939468894781), ((1, 0, 0, 1), 0.18033782434124815), ((0, 1, 1, 0), 0.1474805194922803), ((1, 1, 1, 0), 0.04239566140768896))\n"
          ],
          "name": "stdout"
        }
      ]
    },
    {
      "cell_type": "markdown",
      "metadata": {
        "id": "wYHUhBeExWsN",
        "colab_type": "text"
      },
      "source": [
        "ここで、きちんと答えがえら得ていて、0110と1001が十分な確率振幅で得られている。このため量子ゲート方式で基底状態が求まり、素因数分解ができました。\n",
        "\n",
        "ちなみに量子アニーリング方式でも解くことができるが、この場合には上記にある3量子ビットの多体問題の2体問題への分解が必要となる。量子ゲートでは3量子ビットの相互作用をハミルトニアンに入れたまま計算できるので、量子ゲートの方が前処理がとても簡単に済むと言う利点があります。"
      ]
    }
  ]
}