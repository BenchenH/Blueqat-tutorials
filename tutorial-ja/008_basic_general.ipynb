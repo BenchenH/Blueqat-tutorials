{
  "cells": [
    {
      "cell_type": "markdown",
      "metadata": {
        "colab_type": "text",
        "id": "NjHnSAbHrInP"
      },
      "source": [
        "# 加算回路\n",
        "量子コンピュータには従来のコンピュータと同じ計算もできるという特徴があります。加算回路を活用してそれを確認してみましょう。まずは0+0,0+1,1+0,1+1をしてみます。\n",
        "\n",
        "まずはインストールをしましょう。"
      ]
    },
    {
      "cell_type": "code",
      "metadata": {
        "id": "OF-AmKpXtgSJ",
        "colab_type": "code",
        "colab": {}
      },
      "source": [
        "!pip install blueqat"
      ],
      "execution_count": 0,
      "outputs": []
    },
    {
      "cell_type": "markdown",
      "metadata": {
        "colab_type": "text",
        "id": "PKhFYi-drld1"
      },
      "source": [
        "## 2進数の加算回路\n",
        "足し算は桁上がりを担当するccxゲートと、位の足し合わせを実現するcxゲートで実現できます。今回はa+b=cdという回路を考えます。\n",
        "\n",
        "0+0 = 00 => 0000  \n",
        "0+1 = 10 => 0110  \n",
        "1+0 = 10 => 1010  \n",
        "1+1 = 01 =>1101  \n",
        "\n",
        "となります。この４つがでれば正解です。加算回路は四回使うので先に作っておきます。\n",
        "1のようなデータの入力はXゲートを使って実装します。"
      ]
    },
    {
      "cell_type": "code",
      "metadata": {
        "colab_type": "code",
        "id": "O674HiVxjc7P",
        "outputId": "63d75a71-0b78-4b7b-b759-56b2d018e284",
        "colab": {
          "base_uri": "https://localhost:8080/",
          "height": 34
        }
      },
      "source": [
        "from blueqat import Circuit\n",
        "\n",
        "adder = Circuit().ccx[0,1,3].cx[1,2].cx[0,2]\n",
        "\n",
        "#0+0\n",
        "(Circuit() + adder).m[:].run(shots=1)"
      ],
      "execution_count": 3,
      "outputs": [
        {
          "output_type": "execute_result",
          "data": {
            "text/plain": [
              "Counter({'0000': 1})"
            ]
          },
          "metadata": {
            "tags": []
          },
          "execution_count": 3
        }
      ]
    },
    {
      "cell_type": "code",
      "metadata": {
        "id": "xlTAVvSt3iZv",
        "colab_type": "code",
        "outputId": "c6e6810e-4569-4849-da61-ab41e72f83c0",
        "colab": {
          "base_uri": "https://localhost:8080/",
          "height": 34
        }
      },
      "source": [
        "#0+1\n",
        "(Circuit().x[1] + adder).m[:].run(shots=1)"
      ],
      "execution_count": 4,
      "outputs": [
        {
          "output_type": "execute_result",
          "data": {
            "text/plain": [
              "Counter({'0110': 1})"
            ]
          },
          "metadata": {
            "tags": []
          },
          "execution_count": 4
        }
      ]
    },
    {
      "cell_type": "code",
      "metadata": {
        "id": "BtkqFj8n3kBS",
        "colab_type": "code",
        "outputId": "5db803d7-a2dc-417b-95c2-eacf35e160c2",
        "colab": {
          "base_uri": "https://localhost:8080/",
          "height": 34
        }
      },
      "source": [
        "#1+0\n",
        "(Circuit().x[0] + adder).m[:].run(shots=1)"
      ],
      "execution_count": 5,
      "outputs": [
        {
          "output_type": "execute_result",
          "data": {
            "text/plain": [
              "Counter({'1010': 1})"
            ]
          },
          "metadata": {
            "tags": []
          },
          "execution_count": 5
        }
      ]
    },
    {
      "cell_type": "code",
      "metadata": {
        "id": "JnmWCnOf3xGw",
        "colab_type": "code",
        "outputId": "b89c5e8a-899b-47da-faed-dc5a3a5035e5",
        "colab": {
          "base_uri": "https://localhost:8080/",
          "height": 34
        }
      },
      "source": [
        "#1+1\n",
        "(Circuit().x[0].x[1] + adder).m[:].run(shots=1)"
      ],
      "execution_count": 6,
      "outputs": [
        {
          "output_type": "execute_result",
          "data": {
            "text/plain": [
              "Counter({'1101': 1})"
            ]
          },
          "metadata": {
            "tags": []
          },
          "execution_count": 6
        }
      ]
    },
    {
      "cell_type": "markdown",
      "metadata": {
        "id": "OPe8FDu04AtN",
        "colab_type": "text"
      },
      "source": [
        "このようにすべて充しました。これで汎用の加算回路が実現できました。"
      ]
    },
    {
      "cell_type": "markdown",
      "metadata": {},
      "source": [
        "# 概要\n",
        "\n",
        "## 加算器\n",
        "ビットは 0, 1 をとるので 2進数の足し算を考えます。\n",
        "組み合わせは\n",
        "\n",
        "0+0=00,  0+1=01,  1+0=01,  1+1=10\n",
        "\n",
        "となります。\n",
        "これを作成していきます。"
      ]
    },
    {
      "cell_type": "markdown",
      "metadata": {},
      "source": [
        "## 回路の作成（１桁目）\n",
        "まずは上の1桁目から作成します。\n",
        "1桁目を見ると、0, 0, 0, 1 の順になっています。\n",
        "\n",
        "表で表すと以下になります。\n",
        "\n",
        "|X|Y|X+Yの2桁目|\n",
        "|:-:|:-:|:-:|\n",
        "|0|0|0|\n",
        "|0|1|0|\n",
        "|1|0|0|\n",
        "|1|1|1|\n",
        "\n",
        "これを見ると CCXゲートと同じことがわかります。\n",
        "(CCXは入力の頭2つのビットが1ならば3番目のビットを反転させる)\n",
        "\n",
        "このことから入力が 11 の場合は以下の回路を考えることができます。\n",
        "\n",
        "<img src=\"./img/008/008_02_0.png\" width=\"23%\">\n",
        "\n",
        "上から2ビットを入力、残りの1ビットを出力だと考えると上の回路から 1 が出力されるのがわかります。"
      ]
    },
    {
      "cell_type": "markdown",
      "metadata": {},
      "source": [
        "## 回路の作成（２桁目）\n",
        "次にもう一つのくらいを作成します。\n",
        "2桁目を見ると、0, 1, 1, 0 の順になっています。\n",
        "\n",
        "表で表すと以下になります。\n",
        "\n",
        "|X|Y|X+Yの1桁目|\n",
        "|:-:|:-:|:-:|\n",
        "|0|0|0|\n",
        "|0|1|1|\n",
        "|1|0|1|\n",
        "|1|1|0|\n",
        "\n",
        "これを見ると CXゲートと同じことがわかります。\n",
        "(左辺がCXの入力で右辺が出力の2番目のビット)\n",
        "\n",
        "このことから入力が 10 の場合は以下の回路を考えることができます。\n",
        "\n",
        "<img src=\"./img/008/008_02_1.png\" width=\"27%\">\n",
        "\n",
        "上から2ビットを入力、残りの1ビットを出力だと考えると上の回路から 1 が出力されるのがわかります。"
      ]
    },
    {
      "cell_type": "markdown",
      "metadata": {},
      "source": [
        "## 回路の作成（全体）\n",
        "最後に上の二つの回路をまとめます。\n",
        "\n",
        "入力を 00 としてまとめた回路を以下に示します。\n",
        "\n",
        "<img src=\"./img/008/008_02_2.png\" width=\"30%\">\n",
        "\n",
        "上2ビットを入力、残りの2ビットが出力です。\n",
        "始めの CCX は1桁目の部分で残りの 2つの CX は2桁目の部分です。"
      ]
    },
    {
      "cell_type": "code",
      "execution_count": null,
      "metadata": {},
      "outputs": [],
      "source": []
    }
  ],
  "metadata": {
    "colab": {
      "name": "008_basic_general.ipynb",
      "version": "0.3.2",
      "provenance": [],
      "collapsed_sections": []
    },
    "kernelspec": {
      "display_name": "Python 3",
      "language": "python",
      "name": "python3"
    }
  },
  "nbformat": 4,
  "nbformat_minor": 0
}