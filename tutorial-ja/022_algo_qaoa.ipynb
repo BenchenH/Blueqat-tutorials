{
  "cells": [
    {
      "metadata": {
        "colab_type": "text",
        "id": "NjHnSAbHrInP"
      },
      "cell_type": "markdown",
      "source": [
        "## QAOA\n",
        "QAOAはVQEと同様で特定のansatzを組み合わせ最適化問題に使います。\n",
        "量子断熱発展は始点から終点まで基底状態を保ちます。\n",
        "\n",
        "現時刻をt、全体のスケジュールをTとし、初期のハミルトニアンを $H_{start}$、最後のハミルトニアンを $H_{final}$ とします。\n",
        "\n",
        "$$\n",
        "H_{temp} = (1-\\frac{t}{T})H_{start} + \\frac{t}{T}H_{final}\n",
        "$$\n",
        "\n",
        "\n",
        "$T\\rightarrow\\infty$ のとき、基底状態は以下のような固有状態になります。\n",
        "\n",
        "$$\n",
        "H_{temp}\\mid \\psi \\rangle = E_{0temp}\\mid \\psi \\rangle\n",
        "$$\n",
        "\n",
        "時間発展は\n",
        "\n",
        "$$\n",
        "\\mid \\psi_{t+1} \\rangle = U \\mid \\psi_t \\rangle = e^{-iHt}  \\mid \\psi_t \\rangle\n",
        "$$\n",
        "\n",
        "回路は\n",
        "\n",
        "![https___qiita-user-contents.imgix.net_https%3A%2F%2Fqiita-image-store.s3.ap-northeast-1.amazonaws.com%2F0%2F218694%2Fe10f1843-cc16-cdfe-e4a6-e2fbaab6df9f.png_ixlib=rb-1.2.png](https://qiita-image-store.s3.ap-northeast-1.amazonaws.com/0/218694/812819f5-0037-5a30-2690-8ed39c0b1a06.png)\n",
        "\n",
        "1. 状態の設定\n",
        "2. qaoa ansatz\n",
        "\n",
        "の2つの部分にわかれています。\n",
        "\n",
        "qaoa ansatz はさらに2つの部分にわかれていて、\n",
        "\n",
        "1. cost ハミルトニアン\n",
        "2. mixer ハミルトニアン\n",
        "\n",
        "上の例では、Hゲートが設定の部分でその他が ansatz 部分です。\n",
        "\n",
        "ansatz に関しては,\n",
        "CX-Rz-CX-Rz が cost ハミルトニアン で Rx が mixer ハミルトニアンです。\n",
        "\n",
        "cost ハミルトニアンは細かく述べると, CX-Rz-CX の部分が重みの部分で Rz が バイアスの部分です.\n",
        "\n",
        "ここで標準状態として |+> を準備し、 HゲートとXゲート(時間発展させるためRxに変換させます。)を mixer として使います。 \n",
        "\n",
        "簡単な問題をしてみます。"
      ]
    },
    {
      "cell_type": "code",
      "execution_count": 1,
      "metadata": {
        "colab_type": "text",
        "id": "Ke7dyo7rFyUe"
      },
      "outputs": [
        {
          "output_type": "stream",
          "name": "stdout",
          "text": "(((1, 1), 0.9898604494842518), ((1, 0), 0.006673870363175068), ((0, 0), 0.0029313019700286922), ((0, 1), 0.0005343781825440884))\n"
        }
      ],
      "source": [
        "from blueqat import vqe\n",
        "from blueqat.pauli import qubo_bit as q\n",
        "\n",
        "h = 2*q(1)-4*q(0)*q(1)\n",
        "step = 2\n",
        "\n",
        "result = vqe.Vqe(vqe.QaoaAnsatz(h, step)).run()\n",
        "print(result.most_common(12))"
      ]
    },
    {
      "metadata": {
        "id": "tQNIS0GPF1ja",
        "colab_type": "text"
      },
      "cell_type": "markdown",
      "source": [
        "求める解のビットの組み合わせと確率振幅から確率が得られます。"
      ]
    },
    {
      "metadata": {
        "id": "5_HU7GuQF5QE",
        "colab_type": "text"
      },
      "cell_type": "markdown",
      "source": [
        "## QAOAを用いた交通最適化\n",
        "もう一つの例としてフォルクスワーゲン社の交通流最適を参考にしてみましょう。\n",
        "\n",
        "「Quantum Computing at Volkswagen:\n",
        "Traffic Flow Optimization using the D-Wave Quantum Annealer」\n",
        "引用：https://www.dwavesys.com/sites/default/files/VW.pdf\n",
        "\n",
        "ステップは以下のようになります、\n",
        "\n",
        "1. 各車における経路をそれぞれ2つ決める。 (古典)\n",
        "2. 混雑量を計算する。 (古典)\n",
        "3. 1で決めた各車のルートを変えて混雑量を最適化させる。 (QAOA)\n",
        "\n",
        "まずスタート地点をA、ゴール地点をBとして、各経路に0から11まで番号を振っています。\n",
        "各車それぞれ2つずつ経路を考え、混雑量を最適化させることを目標とします。\n",
        "\n",
        "![0_jdvbeWCvUMG-UKis.jpeg](https://qiita-image-store.s3.ap-northeast-1.amazonaws.com/0/218694/d401be2a-5971-ca4f-c00e-63403372bae8.jpeg)\n",
        "\n",
        "car1  \n",
        "route1-1(q0)：s0,s3,s6,s9  \n",
        "route1–2 (q1)：s0,s3,s8,s11  \n",
        "\n",
        "car2  \n",
        "route2–1(q2):s0,s3,s8,s11  \n",
        "route2–2(q3):s2,s7,s10,s11  "
      ]
    },
    {
      "cell_type": "markdown",
      "metadata": {
        "colab": {},
        "colab_type": "code",
        "id": "qzVe_fZMQ0TC"
      },
      "source": [
        "## Mixerを選ぶ\n",
        "提案した2つの経路から1つだけ選ぶので、片方は1でもう片方は0となります。\n",
        "これらの経路を量子ビットで考えるなら $q_0$ と $q_1$ のどちらかは 1 で もう１つは 0 となります。 $q_2$ と $q_3$ も同様に考えます。\n",
        "\n",
        "上記の内容について量子もつれを用います。"
      ]
    },
    {
      "cell_type": "code",
      "execution_count": 2,
      "metadata": {
        "colab_type": "text",
        "id": "PGBkYSP1F7yy"
      },
      "outputs": [
        {
          "output_type": "execute_result",
          "data": {
            "text/plain": "Counter({'00': 50, '11': 50})"
          },
          "metadata": {},
          "execution_count": 2
        }
      ],
      "source": [
        "from blueqat import Circuit\n",
        "Circuit().h[0].cx[0,1].m[:].run(shots=100)"
      ]
    },
    {
      "cell_type": "markdown",
      "metadata": {
        "colab": {
          "base_uri": "https://localhost:8080/",
          "height": 34
        },
        "colab_type": "code",
        "id": "MbkCTqEfR7be",
        "outputId": "ea0697e0-a89a-4515-fada-a55863ada692"
      },
      "source": [
        "この回路は |00> と |11> のもつれを作ります。\n",
        "また Xゲートを使うことで、"
      ]
    },
    {
      "cell_type": "code",
      "execution_count": 3,
      "metadata": {
        "colab_type": "text",
        "id": "0q2SopjVTg9o"
      },
      "outputs": [
        {
          "output_type": "execute_result",
          "data": {
            "text/plain": "Counter({'10': 45, '01': 55})"
          },
          "metadata": {},
          "execution_count": 3
        }
      ],
      "source": [
        "from blueqat import Circuit\n",
        "Circuit().h[0].cx[0,1].x[0].m[:].run(shots=100)\n",
        "\n",
        "#=>Counter({'01': 41, '10': 59})"
      ]
    },
    {
      "cell_type": "markdown",
      "metadata": {},
      "source": [
        "これを使うことで探索空間を制限させることができます。   \n",
        "この量子もつれを各量子ビットに用いることで、以下のように2つもつれを作ることができます。"
      ]
    },
    {
      "cell_type": "code",
      "execution_count": 4,
      "metadata": {},
      "outputs": [
        {
          "output_type": "execute_result",
          "data": {
            "text/plain": "Counter({'1001': 26, '1010': 23, '0110': 31, '0101': 20})"
          },
          "metadata": {},
          "execution_count": 4
        }
      ],
      "source": [
        "from blueqat import Circuit\n",
        "Circuit().h[0].cx[0,1].x[0].h[2].cx[2,3].x[2].m[:].run(shots=100)"
      ]
    },
    {
      "cell_type": "markdown",
      "metadata": {},
      "source": [
        "## cost 関数の混雑量\n",
        "混雑量を計算してみましょう。経路を以下のように考えます。\n",
        "\n",
        "car1  \n",
        "route1-1(q0)：s0,s3,s6,s9  \n",
        "route1–2 (q1)：s0,s3,s8,s11  \n",
        "\n",
        "car2  \n",
        "route2–1(q2):s0,s3,s8,s11  \n",
        "route2–2(q3):s2,s7,s10,s11  \n",
        "\n",
        "考えた経路が何回現れたか見ることで、混雑量を計算できます。\n",
        "\n",
        "s0 から s11 までの経路から、全ての経路の混雑量を2乗して計算することができます。\n",
        "\n",
        "$$\n",
        "h=(q_0+q_1+q_2)^2+(q_0+q_1+q_2)^2+q_0^2+q_0^2+(q_1+q_2)^2+(q_1+q_2+q_3)^2+q_3^2+q_3^2+q_3^2\\\\\n",
        "=4q_0+4q_1+4q_2+4q_3+4q_0q_1+4q_0q_2+8q_1q_2+2q_1q_3+2q_2q_3\n",
        "$$\n",
        "\n",
        "ここで, $0^2=0,1^2=1$ を用いた。\n",
        "\n",
        "これが cost ハミルトニアン です。"
      ]
    },
    {
      "cell_type": "code",
      "execution_count": 8,
      "metadata": {},
      "outputs": [
        {
          "output_type": "stream",
          "name": "stdout",
          "text": "(((1, 0, 0, 1), 0.5678750608374458), ((0, 1, 0, 1), 0.358480123549911), ((1, 0, 1, 0), 0.06843852251604825), ((0, 1, 1, 0), 0.005206293096588184), ((0, 1, 1, 1), 2.3296831016347912e-31), ((1, 1, 0, 1), 1.2330635659635428e-31), ((1, 0, 0, 0), 6.162975822039155e-32), ((0, 1, 0, 0), 4.005934284325449e-32), ((0, 0, 1, 0), 3.7623996265149723e-32), ((0, 0, 0, 1), 2.1128904100813353e-32), ((1, 1, 1, 0), 1.0846701092368921e-32), ((1, 0, 1, 1), 9.870390964984581e-33))\n"
        }
      ],
      "source": [
        "import numpy as np\n",
        "from blueqat import Circuit\n",
        "from blueqat.pauli import X, Y, Z, I\n",
        "from blueqat.pauli import qubo_bit as q\n",
        "from blueqat.vqe import AnsatzBase, Vqe\n",
        "\n",
        "def an(index):\n",
        "    return 0.5 * X[index] + 0.5j * Y[index]\n",
        "\n",
        "def cr(index):\n",
        "    return 0.5 * X[index] - 0.5j * Y[index]\n",
        "\n",
        "op1 = (cr(1) * an(0) + cr(0) * an(1)).to_expr().simplify()\n",
        "op2 = (cr(3) * an(2) + cr(2) * an(3)).to_expr().simplify()\n",
        "\n",
        "class QaoaQaoaAnsatz(AnsatzBase):\n",
        "    def __init__(self, hamiltonian, step=1, init_circuit=None):\n",
        "        super().__init__(hamiltonian, step * 2)\n",
        "        self.hamiltonian = hamiltonian.to_expr().simplify()\n",
        "        if not self.check_hamiltonian():\n",
        "            raise ValueError(\"Hamiltonian terms are not commutable\")\n",
        "\n",
        "        self.step = step\n",
        "        self.n_qubits = self.hamiltonian.max_n() + 1\n",
        "        if init_circuit:\n",
        "            self.init_circuit = init_circuit\n",
        "            if init_circuit.n_qubits > self.n_qubits:\n",
        "                self.n_qubits = init_circuit.n_qubits\n",
        "        else:\n",
        "            self.init_circuit = Circuit(self.n_qubits).h[:]\n",
        "        self.init_circuit.make_cache()\n",
        "        self.time_evolutions = [term.get_time_evolution() for term in self.hamiltonian]\n",
        "        self.time_evolutions1 = [term.get_time_evolution() for term in op1]\n",
        "        self.time_evolutions2 = [term.get_time_evolution() for term in op2]\n",
        "        \n",
        "    def check_hamiltonian(self):\n",
        "        \"\"\"Check hamiltonian is commutable. This condition is required for QaoaAnsatz\"\"\"\n",
        "        return self.hamiltonian.is_all_terms_commutable()\n",
        "\n",
        "    def get_circuit(self, params):\n",
        "        c = self.init_circuit.copy()\n",
        "        betas = params[:self.step]\n",
        "        gammas = params[self.step:]\n",
        "        for beta, gamma in zip(betas, gammas):\n",
        "            beta *= np.pi\n",
        "            gamma *= 2 * np.pi\n",
        "            for evo in self.time_evolutions:\n",
        "                evo(c, gamma)\n",
        "            for evo1 in self.time_evolutions1:\n",
        "                evo1(c, beta)\n",
        "            for evo2 in self.time_evolutions2:\n",
        "                evo2(c, beta)\n",
        "        return c\n",
        "\n",
        "h = 4*q(0)+4*q(1)+4*q(2)+4*q(3)+4*q(0)*q(1)+4*q(0)*q(2)+8*q(1)*q(2)+2*q(1)*q(3)+2*q(2)*q(3)\n",
        "\n",
        "runner = Vqe(QaoaQaoaAnsatz(h.to_expr().simplify(),4,Circuit().h[0].cx[0,1].x[0].h[2].cx[2,3].x[2]))\n",
        "result = runner.run()\n",
        "\n",
        "# get probability\n",
        "print(result.most_common(12))"
      ]
    },
    {
      "cell_type": "markdown",
      "metadata": {},
      "source": [
        "## 古典最適化部分\n",
        "最適化は古典コンピュータの最適化アルゴリズムのよって行われます。"
      ]
    },
    {
      "cell_type": "code",
      "execution_count": null,
      "metadata": {},
      "outputs": [],
      "source": [
        "minimizer=vqe.get_scipy_minimizer(method=\"COBYLA\",options={\"tol\":5.0e-4})\n",
        "runner = Vqe(QubitAnsatz(cost),minimizer=minimizer)\n",
        "result = runner.run()"
      ]
    },
    {
      "cell_type": "markdown",
      "metadata": {},
      "source": [
        "blueqat では scipy から optimizer を選択できます。\n",
        "\n",
        "https://docs.scipy.org/doc/scipy/reference/generated/scipy.optimize.minimize.html\n",
        "\n",
        "'Nelder-Mead', 'Powell', 'CG', 'BFGS', 'L-BFGS-B', 'TNC', 'COBYLA', 'SLSQP'\n",
        "\n",
        "もし独自の optimizer を用いる場合、 blueqat での vqe 用のベイズオプティマイザである \"hyperopt\" を使いましょう。"
      ]
    },
    {
      "cell_type": "code",
      "execution_count": 5,
      "metadata": {},
      "outputs": [
        {
          "output_type": "stream",
          "name": "stdout",
          "text": "Collecting hyperopt\n\u001b[?25l  Downloading https://files.pythonhosted.org/packages/90/d5/c7e276f4f7bc65ac26391c435245e5ef8911b4393e3df5a74906c48afeaf/hyperopt-0.2.4-py2.py3-none-any.whl (964kB)\n\u001b[K     |████████████████████████████████| 972kB 888kB/s \n\u001b[?25hCollecting networkx>=2.2\n  Using cached https://files.pythonhosted.org/packages/41/8f/dd6a8e85946def36e4f2c69c84219af0fa5e832b018c970e92f2ad337e45/networkx-2.4-py3-none-any.whl\nRequirement already satisfied: scipy in /anaconda3/envs/mdr/lib/python3.7/site-packages (from hyperopt) (1.3.3)\nCollecting future\n\u001b[?25l  Downloading https://files.pythonhosted.org/packages/45/0b/38b06fd9b92dc2b68d58b75f900e97884c45bedd2ff83203d933cf5851c9/future-0.18.2.tar.gz (829kB)\n\u001b[K     |████████████████████████████████| 829kB 4.5MB/s \n\u001b[?25hCollecting cloudpickle\n  Downloading https://files.pythonhosted.org/packages/c6/a5/bb99276ec2685e11d34e4aefc0d9238626843ea51f974aa59c68317d34b2/cloudpickle-1.4.1-py3-none-any.whl\nCollecting tqdm\n\u001b[?25l  Downloading https://files.pythonhosted.org/packages/4a/1c/6359be64e8301b84160f6f6f7936bbfaaa5e9a4eab6cbc681db07600b949/tqdm-4.45.0-py2.py3-none-any.whl (60kB)\n\u001b[K     |████████████████████████████████| 61kB 4.9MB/s \n\u001b[?25hRequirement already satisfied: numpy in /anaconda3/envs/mdr/lib/python3.7/site-packages (from hyperopt) (1.17.4)\nRequirement already satisfied: six in /anaconda3/envs/mdr/lib/python3.7/site-packages (from hyperopt) (1.13.0)\nRequirement already satisfied: decorator>=4.3.0 in /anaconda3/envs/mdr/lib/python3.7/site-packages (from networkx>=2.2->hyperopt) (4.4.1)\nBuilding wheels for collected packages: future\n  Building wheel for future (setup.py) ... \u001b[?25ldone\n\u001b[?25h  Created wheel for future: filename=future-0.18.2-cp37-none-any.whl size=491057 sha256=50eec7093ce883ffa5bf635b3f1c83985bd35b429aff5cd5a369d600d60c703d\n  Stored in directory: /Users/kei/Library/Caches/pip/wheels/8b/99/a0/81daf51dcd359a9377b110a8a886b3895921802d2fc1b2397e\nSuccessfully built future\nInstalling collected packages: networkx, future, cloudpickle, tqdm, hyperopt\nSuccessfully installed cloudpickle-1.4.1 future-0.18.2 hyperopt-0.2.4 networkx-2.4 tqdm-4.45.0\n"
        }
      ],
      "source": [
        "!pip install hyperopt"
      ]
    },
    {
      "cell_type": "markdown",
      "metadata": {},
      "source": [
        "とりあえず関数を作ります。"
      ]
    },
    {
      "cell_type": "markdown",
      "metadata": {},
      "source": [
        "def hyperopt_minimizer(objective, n_params):\n",
        "    from hyperopt import fmin, Trials, tpe, hp\n",
        "    trials = Trials()\n",
        "    best = fmin(objective, [hp.uniform(f'p{i}', 0., 2 * np.pi) for i in range(n_params)],\n",
        "            algo=tpe.suggest, max_evals=100, trials=trials, verbose=1)\n",
        "    return list(best.values())\n",
        "```\n",
        "\n",
        "設定をすることで使えます。\n",
        "\n",
        "```python\n",
        "h = 2*q(1)-4*q(0)*q(1)\n",
        "\n",
        "runner = Vqe(QubitAnsatz(h),minimizer=hyperopt_minimizer)\n",
        "result = runner.run()\n",
        "\n",
        "print('Result by VQE')\n",
        "print(runner.ansatz.get_energy(result.circuit, runner.sampler))\n",
        "```\n",
        "\n",
        "```\n",
        "100%|██████████| 100/100 [00:00<00:00, 184.33it/s, best loss: -1.9999826942162187]\n",
        "Result by VQE\n",
        "-1.9999826942162187\n",
        "```"
      ]
    },
    {
      "cell_type": "code",
      "execution_count": null,
      "metadata": {},
      "outputs": [],
      "source": []
    }
  ],
  "metadata": {
    "colab": {
      "name": "022_algo_qaoa.ipynb",
      "version": "0.3.2",
      "provenance": [],
      "collapsed_sections": []
    },
    "kernelspec": {
      "display_name": "Python 3",
      "language": "python",
      "name": "python3"
    }
  },
  "nbformat": 4,
  "nbformat_minor": 0
}