{
 "cells": [
  {
   "cell_type": "markdown",
   "metadata": {
    "colab_type": "text",
    "id": "NjHnSAbHrInP"
   },
   "source": [
    "## QAOA\n",
    "\n",
    "QAOAはVQEと同様で特定のansatzを組み合わせ最適化問題に使います。   \n",
    "量子断熱発展を使うことで始点から終点まで基底状態を保つことができます。\n",
    "\n",
    "現時刻をt、全体のスケジュールをTとし、初期のハミルトニアンを $H_{start}$、最後のハミルトニアンを $H_{final}$ とします。\n",
    "\n",
    "$$\n",
    "H_{temp} = (1-\\frac{t}{T})H_{start} + \\frac{t}{T}H_{final}\n",
    "$$\n",
    "\n",
    "\n",
    "$T\\rightarrow\\infty$ のとき、基底状態は以下のような固有状態になります。\n",
    "\n",
    "$$\n",
    "H_{temp}\\mid \\psi \\rangle = E_{0temp}\\mid \\psi \\rangle\n",
    "$$\n",
    "\n",
    "ここで時間発展は以下のようになります。\n",
    "\n",
    "$$\n",
    "\\mid \\psi_{t+1} \\rangle = U \\mid \\psi_t \\rangle = e^{-iHt}  \\mid \\psi_t \\rangle\n",
    "$$\n",
    "\n",
    "回路については\n",
    "\n",
    "![https___qiita-user-contents.imgix.net_https%3A%2F%2Fqiita-image-store.s3.ap-northeast-1.amazonaws.com%2F0%2F218694%2Fe10f1843-cc16-cdfe-e4a6-e2fbaab6df9f.png_ixlib=rb-1.2.png](https://qiita-image-store.s3.ap-northeast-1.amazonaws.com/0/218694/f1de7c18-1b0f-8212-b30d-208c0d88e94c.png)\n",
    "\n",
    "1. 状態の設定\n",
    "2. qaoa ansatz\n",
    "\n",
    "の2つの部分にわかれています。\n",
    "\n",
    "また、qaoa ansatz はさらに2つの部分にわかれていて、\n",
    "\n",
    "1. cost ハミルトニアン\n",
    "2. mixer ハミルトニアン\n",
    "\n",
    "上の例では、Hゲートが設定の部分でその他が ansatz 部分です。\n",
    "\n",
    "ansatz に関しては、CX-Rz-CX-Rz が cost ハミルトニアン で Rx が mixer ハミルトニアンとなります。\n",
    "cost ハミルトニアンは細かく述べると, CX-Rz-CX の部分が重みの部分で Rz が バイアスの部分です.\n",
    "\n",
    "ここで標準状態として |+> を準備し、 HゲートとXゲート(時間発展させるためRxに変換させます。)を mixer として使います。 \n",
    "\n",
    "簡単な問題をしてみます。"
   ]
  },
  {
   "cell_type": "code",
   "execution_count": 14,
   "metadata": {
    "collapsed": true
   },
   "outputs": [
    {
     "name": "stdout",
     "output_type": "stream",
     "text": [
      "Requirement already satisfied: blueqat in /home/ec2-user/anaconda3/envs/python3/lib/python3.6/site-packages (0.3.13)\r\n",
      "Requirement already satisfied: obaq in /home/ec2-user/anaconda3/envs/python3/lib/python3.6/site-packages (0.0.11.dev0)\r\n",
      "Requirement already satisfied: scipy>=1.1.0 in /home/ec2-user/anaconda3/envs/python3/lib/python3.6/site-packages (from blueqat) (1.1.0)\r\n",
      "Requirement already satisfied: numpy~=1.12 in /home/ec2-user/anaconda3/envs/python3/lib/python3.6/site-packages (from blueqat) (1.18.3)\r\n"
     ]
    }
   ],
   "source": [
    "!pip install blueqat obaq"
   ]
  },
  {
   "cell_type": "code",
   "execution_count": 7,
   "metadata": {
    "colab_type": "text",
    "id": "Ke7dyo7rFyUe"
   },
   "outputs": [
    {
     "name": "stdout",
     "output_type": "stream",
     "text": [
      "(((1, 1), 0.975929633353178), ((1, 0), 0.015300121678013385), ((0, 0), 0.007080945393067879), ((0, 1), 0.0016892995757399336))\n"
     ]
    }
   ],
   "source": [
    "from blueqat import vqe\n",
    "from blueqat.pauli import qubo_bit as q\n",
    "\n",
    "h = 2*q(1)-4*q(0)*q(1)\n",
    "step = 2\n",
    "\n",
    "result = vqe.Vqe(vqe.QaoaAnsatz(h, step)).run()\n",
    "print(result.most_common(12))"
   ]
  },
  {
   "cell_type": "markdown",
   "metadata": {
    "colab_type": "text",
    "id": "tQNIS0GPF1ja"
   },
   "source": [
    "求める解のビットの組み合わせと確率振幅から確率が得られます。"
   ]
  },
  {
   "cell_type": "markdown",
   "metadata": {},
   "source": [
    "## 基本の量子アニーリング\n",
    "\n",
    "Obaqというツールの中にQaoaQaoaAnsatzというものを入れてみました。QaoaQaoaAnsatzは初期状態では量子アニーリングに設定されています。mixerにXというものを使い、初期状態に|+>を設定しています。\n",
    "mixerはXを使います。Xは量子ビットの0と1を反転させる操作に対応します。\n",
    "\n",
    "また、初期状態の|+>は全ての量子ビットにアダマールゲートHをかけることで実現します。今回定式化はblueqat機能を使って、QUBO形式でやってみます。"
   ]
  },
  {
   "cell_type": "code",
   "execution_count": 22,
   "metadata": {},
   "outputs": [
    {
     "name": "stdout",
     "output_type": "stream",
     "text": [
      "(((1, 1), 0.9862018661764347), ((0, 0), 0.010840899546257964), ((0, 1), 0.0024879737729535134), ((1, 0), 0.00046926050435334776))\n"
     ]
    }
   ],
   "source": [
    "import numpy as np\n",
    "from blueqat import Circuit\n",
    "from blueqat.pauli import X, Y, Z, I\n",
    "from blueqat.pauli import qubo_bit as q\n",
    "from blueqat.vqe import Vqe\n",
    "from obaq.ansatz import *\n",
    "\n",
    "h = 2*q(1)-4*q(0)*q(1)\n",
    "step = 2\n",
    "\n",
    "result = Vqe(QaoaQaoaAnsatz(h,step)).run()\n",
    "print(result.most_common(12))"
   ]
  },
  {
   "cell_type": "markdown",
   "metadata": {},
   "source": [
    "練習のために一応同じ設定をしてみると、"
   ]
  },
  {
   "cell_type": "code",
   "execution_count": 23,
   "metadata": {},
   "outputs": [
    {
     "name": "stdout",
     "output_type": "stream",
     "text": [
      "(((1, 1), 0.769567560217707), ((0, 0), 0.19853901331586488), ((1, 0), 0.027124354625384886), ((0, 1), 0.004769071841041183))\n"
     ]
    }
   ],
   "source": [
    "h = -q(0) - q(0)*q(1)\n",
    "\n",
    "#mixerの準備\n",
    "mixer = X[0]+X[1]\n",
    "initial_state = Circuit(2).h[0,1]\n",
    "\n",
    "runner = Vqe(QaoaQaoaAnsatz(h.to_expr().simplify(), 2, initial_state, mixer))\n",
    "result = runner.run()\n",
    "print(result.most_common(12))"
   ]
  },
  {
   "cell_type": "markdown",
   "metadata": {},
   "source": [
    "２量子ビット使い、mixerで量子ビットの両方にXを指定します。\n",
    "また、初期状態にはアダマールをかけて準備します。\n",
    "同じような答えが出るはずです。"
   ]
  },
  {
   "cell_type": "markdown",
   "metadata": {},
   "source": [
    "## mixerを変えてみる\n",
    "mixerを変えてみましょう。mixerを変えることで量子ビットの探索を変えることができます。これによって、従来のXでの量子ビットの反転以外の操作もすることができます。おさらいにXゲートを見てみると、\n",
    "\n",
    "$$\n",
    "X\\mid 0 \\rangle = \n",
    "\\begin{bmatrix}\n",
    "0&1\\\\\n",
    "1&0\n",
    "\\end{bmatrix}\n",
    "\\begin{bmatrix}\n",
    "1\\\\\n",
    "0\n",
    "\\end{bmatrix}\n",
    "=\n",
    "\\begin{bmatrix}\n",
    "0\\\\\n",
    "1\n",
    "\\end{bmatrix}\n",
    "$$\n",
    "\n",
    "のように、量子ビットのベクトル[1,0]を[0,1]に反転させることができます。量子断熱過程では、上記のXハミルトニアンを時間発展演算子$e^{-iXt}$を使って時間発展しています。時間発展させることで、直感的にはかき混ぜ効果の強さを制御できます。\n",
    "\n",
    "次にmixerを(XX+YY)/2という俗にいうXYmixerにしてみます。これは01と10を交換するゲートに対応します。こちらは２量子ビットゲートなので、例えば、片方の量子ビットを0に、もう片方を1にします。\n",
    "\n",
    "$$\n",
    "q_0 = \n",
    "\\begin{bmatrix}\n",
    "1\\\\\n",
    "0\n",
    "\\end{bmatrix}\n",
    ",q_1 = \n",
    "\\begin{bmatrix}\n",
    "0\\\\\n",
    "1\n",
    "\\end{bmatrix}\n",
    "$$\n",
    "\n",
    "次にXYmixerの使い方を見てみます。XYmixerは(XX+YY)/2というゲート操作に対応します。テンソル積を使って表現ができます。\n",
    "\n",
    "$$\n",
    "\\begin{bmatrix}\n",
    "a&b \\\\\n",
    "c&d\n",
    "\\end{bmatrix}\n",
    "\\otimes\n",
    "\\begin{bmatrix}\n",
    "e&f \\\\\n",
    "g&h\n",
    "\\end{bmatrix} \\\\\n",
    "=\n",
    "\\begin{bmatrix}\n",
    "a*\n",
    "\\begin{bmatrix}\n",
    "e&f \\\\\n",
    "g&h\n",
    "\\end{bmatrix}\n",
    "&b*\n",
    "\\begin{bmatrix}\n",
    "e&f \\\\\n",
    "g&h\n",
    "\\end{bmatrix}\n",
    "\\\\\n",
    "c*\n",
    "\\begin{bmatrix}\n",
    "e&f \\\\\n",
    "g&h\n",
    "\\end{bmatrix}\n",
    "&d*\n",
    "\\begin{bmatrix}\n",
    "e&f \\\\\n",
    "g&h\n",
    "\\end{bmatrix}\n",
    "\\end{bmatrix}\n",
    "=\n",
    "\\begin{bmatrix}\n",
    "ae&af&be&bf\\\\\n",
    "ag&ah&bg&bh\\\\\n",
    "ce&cf&de&df\\\\\n",
    "cg&ch&dg&dh\n",
    "\\end{bmatrix}\n",
    "$$\n",
    "\n",
    "ちなみに基本的にハミルトニアンに利用できるのは、パウリ演算子です。\n",
    "\n",
    "$$\n",
    "X=\n",
    "\\begin{bmatrix}\n",
    "0&1 \\\\\n",
    "1&0\n",
    "\\end{bmatrix},\n",
    "Y=\n",
    "\\begin{bmatrix}\n",
    "0&-i \\\\\n",
    "i&0\n",
    "\\end{bmatrix},\n",
    "Z=\n",
    "\\begin{bmatrix}\n",
    "1&0 \\\\\n",
    "0&-1\n",
    "\\end{bmatrix}\n",
    "$$\n",
    "\n",
    "これらを組み合わせてやります。やってみると、\n",
    "\n",
    "$$\n",
    "X_0X_1 = \n",
    "\\begin{bmatrix}\n",
    "0&1\\\\\n",
    "1&0\n",
    "\\end{bmatrix}\n",
    "\\otimes\n",
    "\\begin{bmatrix}\n",
    "0&1\\\\\n",
    "1&0\n",
    "\\end{bmatrix}\n",
    "=\n",
    "\\begin{bmatrix}\n",
    "0&0&0&1\\\\\n",
    "0&0&1&0\\\\\n",
    "0&1&0&0\\\\\n",
    "1&0&0&0\n",
    "\\end{bmatrix}\n",
    "$$\n",
    "\n",
    "また、\n",
    "\n",
    "$$\n",
    "Y_0Y_1 = \n",
    "\\begin{bmatrix}\n",
    "0&-i\\\\\n",
    "i&0\n",
    "\\end{bmatrix}\n",
    "\\otimes\n",
    "\\begin{bmatrix}\n",
    "0&-i\\\\\n",
    "i&0\n",
    "\\end{bmatrix}\n",
    "=\n",
    "\\begin{bmatrix}\n",
    "0&0&0&-1\\\\\n",
    "0&0&1&0\\\\\n",
    "0&1&0&0\\\\\n",
    "-1&0&0&0\n",
    "\\end{bmatrix}\n",
    "$$\n",
    "\n",
    "ということで、上記を足し合わせて2で割ると、\n",
    "\n",
    "$$\n",
    "(X_0X_1 + Y_0Y_1)/2 \n",
    "=\n",
    "\\begin{bmatrix}\n",
    "0&0&0&0\\\\\n",
    "0&0&1&0\\\\\n",
    "0&1&0&0\\\\\n",
    "0&0&0&0\n",
    "\\end{bmatrix}\n",
    "$$\n",
    "\n",
    "となりました。4*4の行列は、|00>,|01>,|10>,|11>の量子状態のベクトル要素を新しい量子状態のベクトル要素に変換しますが、ここでは特に|01>が|10>に、|10>が|01>に変換される操作になっています。\n",
    "\n",
    "これを使ってみます。ここで大事なのが、mixerに対応した量子状態を準備する必要があります。上記の行列に対応する自明な量子状態の一つとして、[0,1,1,0]があります。これは、"
   ]
  },
  {
   "cell_type": "markdown",
   "metadata": {},
   "source": [
    "```python\n",
    "Circuit().h[0].cx[0,1].x[0]\n",
    "```\n",
    "\n",
    "として量子もつれを使って作ることができます。"
   ]
  },
  {
   "cell_type": "code",
   "execution_count": 25,
   "metadata": {},
   "outputs": [
    {
     "name": "stdout",
     "output_type": "stream",
     "text": [
      "(((1, 0), 0.9999979423375291), ((0, 1), 2.057662469107359e-06), ((0, 0), 3.8515701477840927e-32), ((1, 1), 7.703719777548941e-34))\n"
     ]
    }
   ],
   "source": [
    "h = -q(0) - q(0)*q(1)\n",
    "\n",
    "#mixerの準備\n",
    "XYmixer = 0.5*X[0]*X[1] + 0.5*Y[0]*Y[1]\n",
    "XYinitial_state = Circuit().h[0].cx[0,1].x[0]\n",
    "\n",
    "runner = Vqe(QaoaQaoaAnsatz(h.to_expr().simplify(), 2, XYinitial_state, XYmixer))\n",
    "result = runner.run()\n",
    "print(result.most_common(12))"
   ]
  },
  {
   "cell_type": "markdown",
   "metadata": {},
   "source": [
    "となりました。本来は(1,1)が出て欲しいところですが、01と10で制約をかけてしまいましたので、コスト関数としてのハミルトニアンの結果が反映されていません。これは正しい操作で、いかにmixerと初期状態の制約が強いかというのを確認できます。問題設定のハミルトニアンをちょっと変えてみて、"
   ]
  },
  {
   "cell_type": "code",
   "execution_count": 26,
   "metadata": {},
   "outputs": [
    {
     "name": "stdout",
     "output_type": "stream",
     "text": [
      "(((1, 0), 0.49999999999999883), ((0, 1), 0.49999999999999883), ((0, 0), 7.703719777548942e-32), ((1, 1), 7.703719777548942e-32))\n"
     ]
    }
   ],
   "source": [
    "h = q(0)+q(1)\n",
    "\n",
    "#mixerの準備\n",
    "XYmixer = 0.5*X[0]*X[1] + 0.5*Y[0]*Y[1]\n",
    "XYinitial_state = Circuit().h[0].cx[0,1].x[0]\n",
    "\n",
    "runner = Vqe(QaoaQaoaAnsatz(h.to_expr().simplify(), 2, XYinitial_state, XYmixer))\n",
    "result = runner.run()\n",
    "print(result.most_common(12))"
   ]
  },
  {
   "cell_type": "markdown",
   "metadata": {},
   "source": [
    "こんなふうにすれば正しく答えも出ます。\n",
    "\n",
    "## (XX-YY)/2も\n",
    "XX-YYをやってみると、\n",
    "\n",
    "$$\n",
    "(X_0X_1 - Y_0Y_1)/2 = \n",
    "\\begin{bmatrix}\n",
    "0&0&0&1\\\\\n",
    "0&0&0&0\\\\\n",
    "0&0&0&0\\\\\n",
    "1&0&0&0\n",
    "\\end{bmatrix}\n",
    "$$\n",
    "\n",
    "と、なり|00>と|11>の交換になります。下記のように|00>と|11>のもつれを作ると、これに対応した制約がかかります。初期状態とmixerを調整して、"
   ]
  },
  {
   "cell_type": "code",
   "execution_count": 27,
   "metadata": {},
   "outputs": [
    {
     "name": "stdout",
     "output_type": "stream",
     "text": [
      "(((0, 0), 0.9999999999999984), ((1, 1), 5.05765025770774e-19), ((0, 1), 2.234078735489194e-32), ((1, 0), 5.007417848383253e-33))\n"
     ]
    }
   ],
   "source": [
    "h = q(0)+q(1)\n",
    "\n",
    "#mixerの準備\n",
    "XY2mixer = 0.5*X[0]*X[1] - 0.5*Y[0]*Y[1]\n",
    "XY2initial_state = Circuit().h[0].cx[0,1]\n",
    "\n",
    "runner = Vqe(QaoaQaoaAnsatz(h.to_expr().simplify(), 2, XY2initial_state, XY2mixer))\n",
    "result = runner.run()\n",
    "print(result.most_common(12))"
   ]
  },
  {
   "cell_type": "markdown",
   "metadata": {},
   "source": [
    "こちらは、問題ハミルトニアンのコスト関数の条件と、制約条件を両方満たしたものがきれいに出ています。"
   ]
  },
  {
   "cell_type": "markdown",
   "metadata": {
    "colab_type": "text",
    "id": "5_HU7GuQF5QE"
   },
   "source": [
    "## QAOAを用いた交通最適化\n",
    "もう一つの例としてフォルクスワーゲン社の交通流最適を参考にしてみましょう。\n",
    "\n",
    "「Quantum Computing at Volkswagen:\n",
    "Traffic Flow Optimization using the D-Wave Quantum Annealer」   \n",
    "引用：https://www.dwavesys.com/sites/default/files/VW.pdf\n",
    "\n",
    "ステップは以下のようになります、\n",
    "\n",
    "1. 各車における経路をそれぞれ2つ決める。 (古典)\n",
    "2. 混雑量を計算する。 (古典)\n",
    "3. 1で決めた各車のルートを変えて混雑量を最適化させる。 (QAOA)\n",
    "\n",
    "まずスタート地点をA、ゴール地点をBとして、各経路に0から11まで番号を振っています。\n",
    "各車それぞれ2つずつ経路を考え、混雑量を最適化させることを目標とします。\n",
    "\n",
    "![0_jdvbeWCvUMG-UKis.jpeg](https://qiita-image-store.s3.ap-northeast-1.amazonaws.com/0/218694/d401be2a-5971-ca4f-c00e-63403372bae8.jpeg)\n",
    "\n",
    "```python\n",
    "car1  \n",
    "route1-1 (q0)：s0,s3,s6,s9  \n",
    "route1–2 (q1)：s0,s3,s8,s11  \n",
    "\n",
    "car2  \n",
    "route2–1 (q2):s0,s3,s8,s11  \n",
    "route2–2 (q3):s2,s7,s10,s11\n",
    "```"
   ]
  },
  {
   "cell_type": "markdown",
   "metadata": {
    "colab": {},
    "colab_type": "code",
    "id": "qzVe_fZMQ0TC"
   },
   "source": [
    "## Mixerを選ぶ\n",
    "提案した2つの経路から1つだけ選ぶので、片方は1でもう片方は0となります。\n",
    "これらの経路を量子ビットで考えるなら $q_0$ と $q_1$ のどちらかは 1 で もう１つは 0 となります。 $q_2$ と $q_3$ も同様に考えます。MixerはXYmixerを選びます。\n",
    "\n",
    "初期状態は量子もつれを用います。"
   ]
  },
  {
   "cell_type": "code",
   "execution_count": 12,
   "metadata": {
    "colab_type": "text",
    "id": "0q2SopjVTg9o"
   },
   "outputs": [
    {
     "data": {
      "text/plain": [
       "Counter({'01': 47, '10': 53})"
      ]
     },
     "execution_count": 12,
     "metadata": {},
     "output_type": "execute_result"
    }
   ],
   "source": [
    "from blueqat import Circuit\n",
    "Circuit().h[0].cx[0,1].x[0].m[:].run(shots=100)"
   ]
  },
  {
   "cell_type": "markdown",
   "metadata": {},
   "source": [
    "この回路は |01> と |10> のもつれを作ります。これを使うことで探索空間を制限させることができます。この量子もつれを各量子ビットに用いることで、以下のように2つもつれを作ることができます。"
   ]
  },
  {
   "cell_type": "code",
   "execution_count": 13,
   "metadata": {},
   "outputs": [
    {
     "data": {
      "text/plain": [
       "Counter({'0110': 31, '1010': 22, '0101': 19, '1001': 28})"
      ]
     },
     "execution_count": 13,
     "metadata": {},
     "output_type": "execute_result"
    }
   ],
   "source": [
    "from blueqat import Circuit\n",
    "Circuit().h[0].cx[0,1].x[0].h[2].cx[2,3].x[2].m[:].run(shots=100)"
   ]
  },
  {
   "cell_type": "markdown",
   "metadata": {},
   "source": [
    "## cost 関数の混雑量\n",
    "混雑量を計算してみましょう。経路を以下のように考えます。\n",
    "\n",
    "car1  \n",
    "route1-1(q0)：s0,s3,s6,s9  \n",
    "route1–2 (q1)：s0,s3,s8,s11  \n",
    "\n",
    "car2  \n",
    "route2–1(q2):s0,s3,s8,s11  \n",
    "route2–2(q3):s2,s7,s10,s11  \n",
    "\n",
    "考えた経路が何回現れたか見ることで、混雑量を計算できます。\n",
    "\n",
    "s0 から s11 までの経路から、全ての経路の混雑量を2乗して計算することができます。\n",
    "\n",
    "$$\n",
    "h=(q_0+q_1+q_2)^2+(q_0+q_1+q_2)^2+q_0^2+q_0^2+(q_1+q_2)^2+(q_1+q_2+q_3)^2+q_3^2+q_3^2+q_3^2\\\\\n",
    "=4q_0+4q_1+4q_2+4q_3+4q_0q_1+4q_0q_2+8q_1q_2+2q_1q_3+2q_2q_3\n",
    "$$\n",
    "\n",
    "ここで, $0^2=0,1^2=1$ を用いた。\n",
    "\n",
    "これが cost ハミルトニアン です。これをかけることで、問題を解くことができます。"
   ]
  },
  {
   "cell_type": "code",
   "execution_count": 29,
   "metadata": {},
   "outputs": [
    {
     "name": "stdout",
     "output_type": "stream",
     "text": [
      "(((1, 0, 0, 1), 0.70698278558037), ((1, 0, 1, 0), 0.21683907324924093), ((0, 1, 0, 1), 0.04656599490568942), ((0, 1, 1, 0), 0.029612146264695514), ((1, 0, 1, 1), 2.0029671421627247e-32), ((1, 0, 0, 0), 1.0014835710813626e-32), ((0, 0, 0, 1), 9.039251682133586e-33), ((1, 1, 1, 0), 7.592095925388722e-33), ((0, 1, 1, 1), 5.248159098455218e-33), ((1, 1, 0, 1), 3.9634837409346916e-33), ((0, 1, 0, 0), 3.274080905458301e-33), ((0, 0, 1, 0), 3.14225521611568e-33))\n"
     ]
    }
   ],
   "source": [
    "import numpy as np\n",
    "from blueqat import Circuit\n",
    "from blueqat.pauli import X, Y, Z, I\n",
    "from blueqat.pauli import qubo_bit as q\n",
    "from blueqat.vqe import AnsatzBase, Vqe\n",
    "from obaq.ansatz import *\n",
    "\n",
    "#mixerの準備\n",
    "XYinit = Circuit().h[0].cx[0,1].x[0].h[2].cx[2,3].x[2]\n",
    "XYmixer = 0.5*X[0]*X[1] + 0.5*Y[0]*Y[1] + 0.5*X[2]*X[3] + 0.5*Y[2]*Y[3]\n",
    "\n",
    "h = 4*q(0)+4*q(1)+4*q(2)+4*q(3)+4*q(0)*q(1)+4*q(0)*q(2)+8*q(1)*q(2)+2*q(1)*q(3)+2*q(2)*q(3)\n",
    "\n",
    "runner = Vqe(QaoaQaoaAnsatz(h, 2, XYinit, XYmixer))\n",
    "result = runner.run()\n",
    "\n",
    "print(result.most_common(12))"
   ]
  },
  {
   "cell_type": "markdown",
   "metadata": {},
   "source": [
    "1001という正解のルートが出ました。"
   ]
  }
 ],
 "metadata": {
  "colab": {
   "collapsed_sections": [],
   "name": "022_algo_qaoa.ipynb",
   "provenance": [],
   "version": "0.3.2"
  },
  "kernelspec": {
   "display_name": "conda_python3",
   "language": "python",
   "name": "conda_python3"
  },
  "language_info": {
   "codemirror_mode": {
    "name": "ipython",
    "version": 3
   },
   "file_extension": ".py",
   "mimetype": "text/x-python",
   "name": "python",
   "nbconvert_exporter": "python",
   "pygments_lexer": "ipython3",
   "version": "3.6.5"
  }
 },
 "nbformat": 4,
 "nbformat_minor": 1
}
