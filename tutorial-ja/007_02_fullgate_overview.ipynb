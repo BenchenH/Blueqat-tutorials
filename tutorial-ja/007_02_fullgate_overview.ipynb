{
 "nbformat": 4,
 "nbformat_minor": 2,
 "metadata": {
  "language_info": {
   "name": "python",
   "codemirror_mode": {
    "name": "ipython",
    "version": 3
   }
  },
  "orig_nbformat": 2,
  "file_extension": ".py",
  "mimetype": "text/x-python",
  "name": "python",
  "npconvert_exporter": "python",
  "pygments_lexer": "ipython3",
  "version": 3
 },
 "cells": [
  {
   "cell_type": "markdown",
   "metadata": {},
   "source": [
    "# 全量子ゲート早見表（概要）\n",
    "ここでは各ゲートの行列表示とビットの対応を説明します。"
   ]
  },
  {
   "cell_type": "markdown",
   "metadata": {},
   "source": [
    "## X, Y, Z ゲート\n",
    "\n",
    "<img src=\"./img/007/007_02_0.png\" width=\"45%\">\n",
    "\n",
    "これを施すと\n",
    "\n",
    "<img src=\"./img/007/007_02_1.png\" width=\"45%\">\n",
    "\n",
    "Xゲートは 0 と 1 を入れ替える古典の NOT ゲートに当たります。   \n",
    "Zゲートは 1 だけ符号を変えることができるゲートです。\n",
    "\n",
    "この二つは非常によく使います。"
   ]
  },
  {
   "cell_type": "markdown",
   "metadata": {},
   "source": [
    "## H ゲート\n",
    "量子状態の重ね合わせに必要なゲートです。\n",
    "\n",
    "<img src=\"./img/007/007_02_2.png\" width=\"40%\">\n",
    "\n",
    "見てわかる通り $|0\\rangle, |1\\rangle$ をそれぞれ重ね合わせの状態に変換しています。\n",
    "これもとても重要なゲートです。\n",
    "\n",
    "アダマールゲートとも言います。(Hadamard)"
   ]
  },
  {
   "cell_type": "markdown",
   "metadata": {},
   "source": [
    "## S, S†, T, T† ゲート\n",
    "\n",
    "<img src=\"./img/007/007_02_3.png\" width=\"60%\">\n",
    "\n",
    "これを施すと\n",
    "\n",
    "<img src=\"./img/007/007_02_4.png\" width=\"65%\">\n",
    "\n",
    "見てわかる通り $|1\\rangle$ のみ変換して状態ベクトルは変化していますが、観測した値自体は変化しません。   \n",
    "このような複素数部分のことを位相と言います。\n",
    "\n",
    "この複素数の部分を動かすゲートを位相ゲートとも呼びます。"
   ]
  },
  {
   "cell_type": "markdown",
   "metadata": {},
   "source": [
    "## Rx, Ry, Rz ゲート\n",
    "ビットを各軸周りに回転させるゲートです。\n",
    "\n",
    "<img src=\"./img/007/007_02_5.png\" width=\"80%\">\n",
    "\n",
    "各軸周りに回転できるので1量子ビットの全ての状態はこのゲートの組み合わせで作ることができます。"
   ]
  },
  {
   "cell_type": "markdown",
   "metadata": {},
   "source": [
    "## U1, U2, U3 ゲート\n",
    "ゲートを汎用的に使うために U1, U2, U3 ゲートというものが blueqatにはあります。\n",
    "U1, U2, U3 はそれぞれ以下のように表します。\n",
    "\n",
    "<img src=\"./img/007/007_02_6.png\" width=\"85%\">\n",
    "\n",
    "U1ゲートは一般の位相ゲートとなります。\n",
    "\n",
    "U2, U3ゲートに関しては bloch球を考えれば回転方向がわかります。   \n",
    "U2 は2個、U3 は3個のパラメータを用いるので全ての状態を考えることができます。"
   ]
  },
  {
   "cell_type": "markdown",
   "metadata": {},
   "source": [
    "## CX, CY, CZ, CRx, CRy, CRz, CU1, CU2, CU3 ゲート\n",
    "制御ゲートは「コントロールゲート」と「ターゲットゲート」で構成されます。 \n",
    "\n",
    "Controll ゲートは2量子ビットを用います。これらは1ビット目が $|1\\rangle$ のときに2ビット目を変換させるゲートです。   \n",
    "例としてよく使う CXゲートを紹介します。\n",
    "\n",
    "<img src=\"./img/007/007_0.png\" width=\"60%\">\n",
    "\n",
    "見てわかる通り1ビット目が $|1\\rangle$ のときに2ビット目にXゲートを施しているのがわかります。   \n",
    "それ以外の制御ゲートも1ビット目が $|1\\rangle$ のときに2ビット目にそれぞれのゲートを施してます。"
   ]
  },
  {
   "cell_type": "markdown",
   "metadata": {},
   "source": [
    "## SWAP ゲート\n",
    "Swap ゲートは2量子ビットを交換するゲートです。\n",
    "\n",
    "<img src=\"./img/006/006_1.png\" width=\"50%\">"
   ]
  },
  {
   "cell_type": "markdown",
   "metadata": {},
   "source": [
    "## CCX ゲート（Toffoli ゲート）\n",
    "コントロールゲートを二つ持ったゲートです。\n",
    "\n",
    "<img src=\"./img/007/007_02_7.png\" width=\"60%\">\n",
    "\n",
    "行列の右下にXゲートが入っていることがわかります。\n",
    "\n",
    "これは1ビット目と2ビット目がともに $|1\\rangle$ ならば3ビット目にXゲートを施します。別名Toffoliゲートとも呼ばれます。\n",
    "\n",
    "行列を大きくして同様のことをすると複数ビットの制御ゲートを作ることができます。"
   ]
  },
  {
   "cell_type": "code",
   "execution_count": null,
   "metadata": {},
   "outputs": [],
   "source": []
  }
 ]
}