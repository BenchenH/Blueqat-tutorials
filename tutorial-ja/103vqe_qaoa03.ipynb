{
  "nbformat": 4,
  "nbformat_minor": 0,
  "metadata": {
    "colab": {
      "name": "103vqe_qaoa03.ipynb",
      "provenance": []
    },
    "kernelspec": {
      "name": "python3",
      "display_name": "Python 3"
    }
  },
  "cells": [
    {
      "cell_type": "markdown",
      "metadata": {
        "id": "Z57Y5-H3uuOV",
        "colab_type": "text"
      },
      "source": [
        "#Variational Quantum Eigensolver(VQE)、QAOAセミナー 2-3（組合せ最適化問題編）"
      ]
    },
    {
      "cell_type": "markdown",
      "metadata": {
        "id": "23QCMzt_u3KT",
        "colab_type": "text"
      },
      "source": [
        "変分アルゴリズムの応用として組合せ最適化問題があります。多くの人に馴染みのある問題なので、量子コンピュータは正直どっから手をつけていいかわからんと思うひとおすすめです。\n",
        "\n",
        "組合せ最適化問題は、多くの選択肢からベストな答えを選ぶ問題で、社会問題をうまく定式化し、最小値問題を解くことで最適な組合せを得ることができます。主に選択肢を選んだ状態を１、選ばない状態を0としますが、様々な条件をつけながら問題を解きます。"
      ]
    },
    {
      "cell_type": "markdown",
      "metadata": {
        "id": "9Jbvpe9mu6qB",
        "colab_type": "text"
      },
      "source": [
        "##2-4-1 例：VQEで組合せ最適化問題の定式化\n",
        "定式化はハミルトニアンをコスト関数として扱い、最小値を返す量子ビットの組合せを解とします。ルールは、\n",
        "\n",
        "・イジングモデルに落とし込む\n",
        "・Zを使う\n",
        "・最終的にはZの代わりにQUBOを使う\n",
        "\n",
        "です。今回は通常VQEを組合せ最適化問題としてはあまり利用しませんが、例題のハミルトニアンを実行してみます。\n",
        "\n",
        "```python\n",
        "h = -Z(0) - Z(0)*Z(1)\n",
        "```\n",
        "\n",
        "Zの後ろの数字は、量子ビットの通し番号を表します。0番目と1番目の量子ビットの２つを使っています。また、問題設定で大事なのは、Zの前の係数です。\n",
        "\n",
        "Z(0)の前は-1のバイアス\n",
        "Z(0)*Z(1)の前は-1のウェイト\n",
        "\n",
        "が設定されています。Zは期待値として-1か+1のどちらかをとります。hはより小さい値を取ると正解になります。最終的な答えは、Z(0),Z(1)の値で場合わけすると、\n",
        "\n",
        "Z(0) | Z(1) | h\n",
        "--:|:----:|:--\n",
        "-1|-1|0\n",
        "-1|1|2\n",
        "1|-1|0\n",
        "1|1|-2\n",
        "\n",
        "VQEは上記の表で最小となるZ(0)=1,Z(1)=1の時-2となるものを計算で求めてくれます。今回ansatzはa,b,c,dの４パラメータを利用した極座標表記のものを使ってみます。ansatzを含む全体のコードは、"
      ]
    },
    {
      "cell_type": "code",
      "metadata": {
        "id": "opzc-Mvfu_gd",
        "colab_type": "code",
        "colab": {
          "base_uri": "https://localhost:8080/",
          "height": 136
        },
        "outputId": "79113e2c-7380-470a-e7b0-d7a06f95da3d"
      },
      "source": [
        "!pip3 install blueqat"
      ],
      "execution_count": 2,
      "outputs": [
        {
          "output_type": "stream",
          "text": [
            "Collecting blueqat\n",
            "\u001b[?25l  Downloading https://files.pythonhosted.org/packages/f6/73/20f9cff48caee1f69190f2e1ea93c4d7d0a745fc48defb5d3072d8337583/blueqat-0.3.13-py3-none-any.whl (50kB)\n",
            "\r\u001b[K     |██████▌                         | 10kB 16.4MB/s eta 0:00:01\r\u001b[K     |█████████████                   | 20kB 1.8MB/s eta 0:00:01\r\u001b[K     |███████████████████▍            | 30kB 2.3MB/s eta 0:00:01\r\u001b[K     |█████████████████████████▉      | 40kB 1.7MB/s eta 0:00:01\r\u001b[K     |████████████████████████████████| 51kB 1.6MB/s \n",
            "\u001b[?25hRequirement already satisfied: numpy~=1.12 in /usr/local/lib/python3.6/dist-packages (from blueqat) (1.17.5)\n",
            "Requirement already satisfied: scipy>=1.1.0 in /usr/local/lib/python3.6/dist-packages (from blueqat) (1.4.1)\n",
            "Installing collected packages: blueqat\n",
            "Successfully installed blueqat-0.3.13\n"
          ],
          "name": "stdout"
        }
      ]
    },
    {
      "cell_type": "code",
      "metadata": {
        "id": "qIc5WG5dumej",
        "colab_type": "code",
        "colab": {
          "base_uri": "https://localhost:8080/",
          "height": 51
        },
        "outputId": "69061199-2601-4f8d-ca3a-afcc65a354e6"
      },
      "source": [
        "import numpy as np\n",
        "from blueqat import Circuit\n",
        "from blueqat.pauli import X, Y, Z, I\n",
        "from blueqat.vqe import AnsatzBase, Vqe\n",
        "\n",
        "class OneQubitAnsatz(AnsatzBase):\n",
        "    def __init__(self, hamiltonian):\n",
        "        super().__init__(hamiltonian.to_expr(), 4)\n",
        "        self.step = 1\n",
        "\n",
        "    def get_circuit(self, params):\n",
        "        a, b, c, d = params\n",
        "        return Circuit().ry(a)[0].rz(b)[0].ry(c)[1].rz(d)[1]\n",
        "\n",
        "\n",
        "# この定式化が大事\n",
        "h = -Z(0) - Z(0)*Z(1)\n",
        "runner = Vqe(OneQubitAnsatz(h))\n",
        "result = runner.run()\n",
        "\n",
        "print('Result by VQE')\n",
        "print(runner.ansatz.get_energy(result.circuit, runner.sampler))"
      ],
      "execution_count": 4,
      "outputs": [
        {
          "output_type": "stream",
          "text": [
            "Result by VQE\n",
            "-1.99999508430852\n"
          ],
          "name": "stdout"
        }
      ]
    },
    {
      "cell_type": "markdown",
      "metadata": {
        "id": "6xNoXOE4vHUZ",
        "colab_type": "text"
      },
      "source": [
        "約-2が答えとして出てきましたので、正解です。今回は例題として任意の量子状態を使いましたが、通常はQAOAを使います。そして実際にはより大きな問題を解きます。上記問題は役にたたなさそうですが、Z(0)をAさん、Z(1)をBさんに見立てて、Aさんはグループ１に属し、BさんはAさんと同じグループに属するという条件をつけた分類問題と同じです。\n",
        "\n",
        "ただ、このままでは毎回問題を解くのが大変なので様々な工夫が必要です、それをみていきましょう。\n"
      ]
    },
    {
      "cell_type": "markdown",
      "metadata": {
        "id": "3DOTeXadvJzG",
        "colab_type": "text"
      },
      "source": [
        "##2-4-2 定式化は0と1のバイナリ値で\n",
        "定式化は組合せ最適化問題を+1と-1の値の組合せで表される式に落とし込みます。ただ、課題があります。物理学で使われるイジングモデルは-1,+1を利用しますが、通常の産業用では0と1を計算として利用します（計算基底）。幸い-1と+1は自動的に変換ができますので、01を使っても組合せ最適化問題としては問題がありません。\n",
        "\n",
        "01で定式化をするのをQUBOと呼びます。QUBOは量子ビットの01を利用できます。係数は様々な呼び方がありますが「バイアス」と「ウェイト（結合荷重）」と呼びます。定式化で作るのは「コスト関数」と呼びたいと思います。\n",
        "\n",
        "-1と+1でかかれたイジング式を0と1で書かれたQUBO式に変換するには、イジングのZを下記のように変換するだけでできます。\n",
        "\n",
        "$$\n",
        "q = \\frac{Z + 1}{2}\n",
        "$$\n",
        "\n",
        "これで、-1の時が0に、1の時は1のままで変換されます。定式化は社会問題をQUBO形式で、コスト関数を作ることで実現でき、コスト関数は01の値をとる量子ビットに設定するバイアスとウェイトを設定することで実現できます。この手法は量子コンピュータに限ったことではないので普通の計算に慣れている人でも受け入れられやすいでしょう。"
      ]
    },
    {
      "cell_type": "markdown",
      "metadata": {
        "id": "cvKkwYayvOga",
        "colab_type": "text"
      },
      "source": [
        "##2-4-3 QUBO式のプログラミング\n",
        "別の問題をQUBOで解いてみるため、blueqatの機能を利用します。QUBOへの変換はZを代入して書き換えればいいだけでした。\n",
        "\n",
        "今回のときたいコスト関数は、\n",
        "\n",
        "```python\n",
        "h = -3*q(0)-3*q(1)-2*q(0)*q(1)\n",
        "```\n",
        "\n",
        "明らかにq(0)=1,q(1)=1の時に最小値-3-3-2=-8を取ります。上記のコスト関数は以前のように-1と+1ではなく、0と1で考えることができるので簡単です。これをVQEで解くことで、最小値の期待値-8が得られます。"
      ]
    },
    {
      "cell_type": "code",
      "metadata": {
        "id": "rkYdYTbWu-F4",
        "colab_type": "code",
        "colab": {
          "base_uri": "https://localhost:8080/",
          "height": 85
        },
        "outputId": "b3644963-3ce1-4900-e7a9-a60c44a3cb55"
      },
      "source": [
        "import numpy as np\n",
        "from blueqat import Circuit\n",
        "from blueqat.pauli import X, Y, Z, I\n",
        "from blueqat.pauli import qubo_bit as q\n",
        "from blueqat.vqe import AnsatzBase, Vqe\n",
        "\n",
        "class QubitAnsatz(AnsatzBase):\n",
        "    def __init__(self, hamiltonian):\n",
        "        super().__init__(hamiltonian, 4)\n",
        "        self.step = 1\n",
        "\n",
        "    def get_circuit(self, params):\n",
        "        a, b, c, d = params\n",
        "        return Circuit().ry(a)[0].rz(b)[0].ry(c)[1].rz(d)[1]\n",
        "\n",
        "h = -3*q(0)-3*q(1)-2*q(0)*q(1)\n",
        "h = h.to_expr().simplify()\n",
        "runner = Vqe(QubitAnsatz(h))\n",
        "result = runner.run()\n",
        "\n",
        "print('Result by VQE')\n",
        "print(runner.ansatz.get_energy(result.circuit, runner.sampler))\n",
        "\n",
        "# Hamiltonian to matrix\n",
        "mat = h.to_matrix()\n",
        "\n",
        "# Calculate by numpy\n",
        "print('Result by numpy')\n",
        "print(np.linalg.eigh(mat)[0][0])"
      ],
      "execution_count": 5,
      "outputs": [
        {
          "output_type": "stream",
          "text": [
            "Result by VQE\n",
            "-7.986060449670348\n",
            "Result by numpy\n",
            "-8.0\n"
          ],
          "name": "stdout"
        }
      ]
    },
    {
      "cell_type": "markdown",
      "metadata": {
        "id": "DYsNMr6QvUnh",
        "colab_type": "text"
      },
      "source": [
        "正しく得られています。実際にはansatzを作るのが難しかったり、その他定式化に有利な回路を作るためにQAOAを利用するのが無難です。"
      ]
    },
    {
      "cell_type": "markdown",
      "metadata": {
        "id": "etA_TEnsvWzL",
        "colab_type": "text"
      },
      "source": [
        "##2-5 QAOA\n",
        "VQEはansatzを高度化することで問題特化型のアルゴリズムとして発展をさせることができます。ここでは、VQEの変分法をベースに、ansatzを組合せ最適化問題に特化した形で発展をしたQAOA(Quantum Approximate Opitmization Alogirthm)をみてみます。"
      ]
    },
    {
      "cell_type": "markdown",
      "metadata": {
        "id": "9e4vdEK9vZq8",
        "colab_type": "text"
      },
      "source": [
        "##2-5-1 量子断熱計算\n",
        "量子断熱計算は、状態ベクトルを断続的に変化させることで基底状態をキープしたまま時間発展を行うことができる理論です。\n",
        "\n",
        "初期状態のハミルトニアンを$H_{start}$として、最終的に求めたい問題のハミルトニアンを$H_{fin}$としたときに、時間$t$と全体のスケジュール$T$から、\n",
        "\n",
        "$$\n",
        "H_{temp} = (1-\\frac{t}{T})H_{start} + \\frac{t}{T}H_{fin}\n",
        "$$\n",
        "\n",
        "としたときに$T\\rightarrow\\infty$とすれば、時間発展で変化させた状態ベクトルが、その瞬間瞬間のハミルトニアンに追従し、固有状態をとり固有値$\\lambda$を持つようにすることができます。\n",
        "\n",
        "$$\n",
        "H_{temp}\\mid \\psi \\rangle = E_{0temp}\\mid \\psi \\rangle\n",
        "$$\n",
        "\n",
        "時間発展計算は、\n",
        "\n",
        "$$\n",
        "\\mid \\psi_{t+1} \\rangle = U \\mid \\psi_t \\rangle = e^{-iHt}  \\mid \\psi_t \\rangle\n",
        "$$\n",
        "\n",
        "となります。課題は基底状態と第一励起状態が最接近する部分ですが、$E_1(t)-E_0(t)$のエネルギー差に注意して計算することによって、基底状態をキープできます。\n"
      ]
    },
    {
      "cell_type": "markdown",
      "metadata": {
        "id": "FA9B9idIvgTH",
        "colab_type": "text"
      },
      "source": [
        "##2-5-2 QAOA\n",
        "QAOAは上記の量子断熱計算の時間発展計算をansatzとして変分アルゴリズムに適用したものです。\n",
        "\n",
        "![https___qiita-user-contents.imgix.net_https%3A%2F%2Fqiita-image-store.s3.ap-northeast-1.amazonaws.com%2F0%2F218694%2Fe10f1843-cc16-cdfe-e4a6-e2fbaab6df9f.png_ixlib=rb-1.2.png](https://qiita-image-store.s3.ap-northeast-1.amazonaws.com/0/218694/812819f5-0037-5a30-2690-8ed39c0b1a06.png)\n",
        "\n",
        "一番左のHは初期の固有状態を作っています。これに対応するハミルトニアンはXです。また、CX-Rz-CXは問題設定のハミルトニアンのウェイトに対応し、次のRzはハミルトニアンのバイアスに対応しています。Rxは上記のハミルトニアンXを時間発展させたものです。\n",
        "\n",
        "試しにblueqatに用意されたQaoaAnsatzをみてみます。ハミルトニアンは今回Z演算子から構成されており、自動的にハミルトニアンから時間発展のansatzを構成しているのがみて取れます。\n",
        "\n",
        "一番左のHは初期の固有状態を作っています。これに対応するハミルトニアンはXです。また、CX-Rz-CXは問題設定のハミルトニアンのウェイトに対応し、次のRzはハミルトニアンのバイアスに対応しています。Rxは上記のハミルトニアンXを時間発展させたものです。\n",
        "\n",
        "試しにblueqatに用意されたQaoaAnsatzをみてみます。ハミルトニアンは今回Z演算子から構成されており、自動的にハミルトニアンから時間発展のansatzを構成しているのがみて取れます。\n",
        "\n",
        "```python\n",
        "class QaoaAnsatz(AnsatzBase):\n",
        "    def __init__(self, hamiltonian, step=1, init_circuit=None):\n",
        "        super().__init__(hamiltonian, step * 2)\n",
        "        self.hamiltonian = hamiltonian.to_expr().simplify()\n",
        "        if not self.check_hamiltonian():\n",
        "            raise ValueError(\"Hamiltonian terms are not commutable\")\n",
        "\n",
        "        self.step = step\n",
        "        self.n_qubits = self.hamiltonian.max_n() + 1\n",
        "        if init_circuit:\n",
        "            self.init_circuit = init_circuit\n",
        "            if init_circuit.n_qubits > self.n_qubits:\n",
        "                self.n_qubits = init_circuit.n_qubits\n",
        "        else:\n",
        "            self.init_circuit = Circuit(self.n_qubits).h[:]\n",
        "        self.init_circuit.make_cache()\n",
        "        self.time_evolutions = [term.get_time_evolution() for term in self.hamiltonian]\n",
        "\n",
        "    def check_hamiltonian(self):\n",
        "        \"\"\"Check hamiltonian is commutable. This condition is required for QaoaAnsatz\"\"\"\n",
        "        return self.hamiltonian.is_all_terms_commutable()\n",
        "\n",
        "    def get_circuit(self, params):\n",
        "        c = self.init_circuit.copy()\n",
        "        betas = params[:self.step]\n",
        "        gammas = params[self.step:]\n",
        "        for beta, gamma in zip(betas, gammas):\n",
        "            beta *= np.pi\n",
        "            gamma *= 2 * np.pi\n",
        "            for evo in self.time_evolutions:\n",
        "                evo(c, gamma)\n",
        "            c.rx(beta)[:]\n",
        "        return c\n",
        "```\n",
        "\n",
        "ライブラリ側で適切な計算をしてくれているので、これ以降は、ほぼSDK側で処理されたQAOAを使った計算をしてみます。今回はQUBO形式でQAOAライブラリを実行します。今回は簡単な定式化を解いてみましょう。\n",
        "\n",
        "```python\n",
        "cost = -3*q(0)-3*q(1)-2*q(0)*q(1)\n",
        "```\n",
        "\n",
        "明らかにq(0)=1,q(1)=1の時に最小値-3-3-2=-8を取ります。上記のコスト関数は以前のように-1と+1ではなく、0と1で考えることができるので簡単です。\n",
        "\n",
        "設定するのは、q(0)とq(1)に-3のバイアスを設定し、q(0)*q(1)に-2のウェイトを設定します。\n"
      ]
    },
    {
      "cell_type": "code",
      "metadata": {
        "id": "mcfRj-T-vSfz",
        "colab_type": "code",
        "colab": {
          "base_uri": "https://localhost:8080/",
          "height": 34
        },
        "outputId": "73f0d2c4-2d2a-4fd2-f6b5-21822297b472"
      },
      "source": [
        "from blueqat import vqe\n",
        "from blueqat.pauli import qubo_bit as q\n",
        "\n",
        "h = -3*q(0)-3*q(1)-2*q(0)*q(1)\n",
        "step = 2\n",
        "\n",
        "result = vqe.Vqe(vqe.QaoaAnsatz(h, step)).run()\n",
        "print(result.most_common(12))"
      ],
      "execution_count": 6,
      "outputs": [
        {
          "output_type": "stream",
          "text": [
            "(((1, 1), 0.9552579305295982), ((0, 0), 0.02975250342490814), ((0, 1), 0.0074947830227465335), ((1, 0), 0.007494783022746532))\n"
          ],
          "name": "stdout"
        }
      ]
    },
    {
      "cell_type": "markdown",
      "metadata": {
        "id": "pgvdZYqGvtHP",
        "colab_type": "text"
      },
      "source": [
        "ハミルトニアンの設定と時間発展の分割を指定しました。回路はちょっと複雑になりました。\n",
        "\n",
        "<img src=\"https://qiita-user-contents.imgix.net/https%3A%2F%2Fqiita-image-store.s3.ap-northeast-1.amazonaws.com%2F0%2F218694%2Fe10f1843-cc16-cdfe-e4a6-e2fbaab6df9f.png?ixlib=rb-1.2.2&auto=format&gif-q=60&q=75&w=1400&fit=max&s=70b8e0d93e68b022e8635d26cd100dbc\">\n",
        "\n",
        "これをQAOAで解くことで、量子ビットが共に1の時、最小値-8が得られます。最初の数字が答えの候補で、次の数字はそれが現れる確率です。(1,1)の組合せが最大確率になっているので正解です。01の量子ビットでの定式化をして、あとはツールに任せればいいというのが分かりました。最初はツールに任せて定式化を頑張りましょう！"
      ]
    }
  ]
}