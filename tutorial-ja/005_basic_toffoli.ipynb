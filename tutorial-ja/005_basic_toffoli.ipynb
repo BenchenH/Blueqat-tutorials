{
  "nbformat": 4,
  "nbformat_minor": 0,
  "metadata": {
    "colab": {
      "name": "005_basic_toffoli.ipynb",
      "version": "0.3.2",
      "provenance": [],
      "collapsed_sections": []
    },
    "kernelspec": {
      "display_name": "Python 3",
      "language": "python",
      "name": "python3"
    }
  },
  "cells": [
    {
      "cell_type": "markdown",
      "metadata": {
        "colab_type": "text",
        "id": "NjHnSAbHrInP"
      },
      "source": [
        "# トフォリゲート\n",
        "前回までは1量子ビットと2量子ビットの演算を行なってきました。トフォリゲートは3量子ビットを利用する演算です。\n",
        "\n",
        "実機では2量子ビットゲートまでが実装されますが、トフォリゲートはその1量子ビットゲートと2量子ビットゲートを組み合わせて実装されます。早速見てみましょう。\n",
        "\n",
        "まずはインストールをします。"
      ]
    },
    {
      "cell_type": "code",
      "metadata": {
        "id": "cb3LQWj6mcqF",
        "colab_type": "code",
        "colab": {}
      },
      "source": [
        "!pip install blueqat"
      ],
      "execution_count": 0,
      "outputs": []
    },
    {
      "cell_type": "markdown",
      "metadata": {
        "colab_type": "text",
        "id": "PKhFYi-drld1"
      },
      "source": [
        "## 回路の作成\n",
        "回路はHとCXとTで構成されます。ちょっと長いですががんばってかいてみましょう。\n",
        "\n"
      ]
    },
    {
      "cell_type": "code",
      "metadata": {
        "colab_type": "code",
        "id": "O674HiVxjc7P",
        "outputId": "b51bd10d-729a-4182-e7b3-ca5a376e7d25",
        "colab": {
          "base_uri": "https://localhost:8080/",
          "height": 34
        }
      },
      "source": [
        "from blueqat import Circuit\n",
        "import numpy as np\n",
        "\n",
        "Circuit().x[1:].h[0].cnot[1,0].rz(-np.pi/4)[0].cnot[2,0].rz(np.pi/4)[0].cnot[1,0].rz(-np.pi/4)[0].cnot[2,0].rz(np.pi/4)[:1].h[0].cnot[1,0].cnot[0,1].cnot[1,0].cnot[2,0].rz(-np.pi/4)[0].rz(np.pi/4)[2].cnot[2,0].m[:].run(shots=1)"
      ],
      "execution_count": 3,
      "outputs": [
        {
          "output_type": "execute_result",
          "data": {
            "text/plain": [
              "Counter({'111': 1})"
            ]
          },
          "metadata": {
            "tags": []
          },
          "execution_count": 3
        }
      ]
    },
    {
      "cell_type": "markdown",
      "metadata": {
        "id": "Pj4TW4zHDG7d",
        "colab_type": "text"
      },
      "source": [
        "こちらは1番目、2番目が1の時0番目も1になるという回路です。トフォリゲートはccxとも呼ばれていて、cx回路の「コントロールゲート」に当たるゲートが２つあります。Blueqatでは上記を毎回かいていると大変なので簡略表記がありますので、そちらを描いてみてください。"
      ]
    },
    {
      "cell_type": "code",
      "metadata": {
        "id": "Y8AkbhLAqQic",
        "colab_type": "code",
        "outputId": "f5782b4d-48fb-44a1-95a3-b9dd476c4b79",
        "colab": {
          "base_uri": "https://localhost:8080/",
          "height": 34
        }
      },
      "source": [
        "Circuit().x[:2].ccx[0,1,2].m[:].run(shots=1)"
      ],
      "execution_count": 4,
      "outputs": [
        {
          "output_type": "execute_result",
          "data": {
            "text/plain": [
              "Counter({'111': 1})"
            ]
          },
          "metadata": {
            "tags": []
          },
          "execution_count": 4
        }
      ]
    },
    {
      "cell_type": "markdown",
      "metadata": {
        "id": "JXe-r85-qq8Z",
        "colab_type": "text"
      },
      "source": [
        "このようにとても短い記述で同じゲートを使うことができました。Blueqatではccxゲートの中にきちんと上記の長いゲートが入っているため、実機での実行にもきちんと対応しています。\n"
      ]
    },
    {
      "cell_type": "markdown",
      "metadata": {
        "id": "W7Qtea1-mrXN",
        "colab_type": "text"
      },
      "source": [
        "##CCXをもうちょっと使ってみる\n",
        "CCXを使って0番目と1番目がそれぞれ０の時もやってみましょう。"
      ]
    },
    {
      "cell_type": "code",
      "metadata": {
        "id": "NJPPzzS3m2s_",
        "colab_type": "code",
        "colab": {
          "base_uri": "https://localhost:8080/",
          "height": 34
        },
        "outputId": "0cd52429-96b7-4df7-da70-cdb60dace375"
      },
      "source": [
        "Circuit().x[0].ccx[0,1,2].m[:].run(shots=1)"
      ],
      "execution_count": 7,
      "outputs": [
        {
          "output_type": "execute_result",
          "data": {
            "text/plain": [
              "Counter({'100': 1})"
            ]
          },
          "metadata": {
            "tags": []
          },
          "execution_count": 7
        }
      ]
    },
    {
      "cell_type": "markdown",
      "metadata": {
        "id": "4a_oqgIcnC2l",
        "colab_type": "text"
      },
      "source": [
        "この通り、1番目が0の時は2番目は反応せず0のままです。"
      ]
    },
    {
      "cell_type": "code",
      "metadata": {
        "id": "AQokEUHDm8HX",
        "colab_type": "code",
        "colab": {
          "base_uri": "https://localhost:8080/",
          "height": 34
        },
        "outputId": "16be1a3e-fa50-49f2-aa83-abbbced6a644"
      },
      "source": [
        "Circuit().x[1].ccx[0,1,2].m[:].run(shots=1)"
      ],
      "execution_count": 8,
      "outputs": [
        {
          "output_type": "execute_result",
          "data": {
            "text/plain": [
              "Counter({'010': 1})"
            ]
          },
          "metadata": {
            "tags": []
          },
          "execution_count": 8
        }
      ]
    },
    {
      "cell_type": "markdown",
      "metadata": {
        "id": "zkB0A5RHnQNM",
        "colab_type": "text"
      },
      "source": [
        "同様に0番目が0の時も反応なしです。0と1番目の両方が1の時だけ回路が実行されます。以上です。"
      ]
    }
  ]
}