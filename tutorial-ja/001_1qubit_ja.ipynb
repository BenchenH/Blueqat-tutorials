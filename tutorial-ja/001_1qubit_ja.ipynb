{
 "cells": [
  {
   "cell_type": "markdown",
   "metadata": {
    "colab_type": "text",
    "id": "NjHnSAbHrInP"
   },
   "source": [
    "# １量子ビットの操作\n",
    "ここでは一番最初の量子コンピュータの計算の基本を確認したいと思います。"
   ]
  },
  {
   "cell_type": "markdown",
   "metadata": {},
   "source": [
    "## 今回学ぶこと\n",
    "1. 量子回路の作り方\n",
    "2. 作った量子回路から答えを取り出す\n",
    "\n",
    "## Blueqatのインストール\n",
    "pipからBlueqatをインストールします。"
   ]
  },
  {
   "cell_type": "code",
   "execution_count": 1,
   "metadata": {
    "collapsed": true
   },
   "outputs": [
    {
     "name": "stdout",
     "output_type": "stream",
     "text": [
      "Requirement already satisfied: blueqat in /home/ec2-user/anaconda3/envs/python3/lib/python3.6/site-packages (0.3.13)\n",
      "Requirement already satisfied: numpy~=1.12 in /home/ec2-user/anaconda3/envs/python3/lib/python3.6/site-packages (from blueqat) (1.14.6)\n",
      "Requirement already satisfied: scipy>=1.1.0 in /home/ec2-user/anaconda3/envs/python3/lib/python3.6/site-packages (from blueqat) (1.1.0)\n",
      "\u001b[31mnumba 0.49.0 has requirement numpy>=1.15, but you'll have numpy 1.14.6 which is incompatible.\u001b[0m\n",
      "\u001b[33mYou are using pip version 10.0.1, however version 20.1 is available.\n",
      "You should consider upgrading via the 'pip install --upgrade pip' command.\u001b[0m\n"
     ]
    }
   ],
   "source": [
    "!pip install blueqat"
   ]
  },
  {
   "cell_type": "markdown",
   "metadata": {
    "colab_type": "text",
    "id": "PKhFYi-drld1"
   },
   "source": [
    "## 回路の作成\n",
    "量子状態に様々なゲートを施した一覧の流れを量子回路と言います。\n",
    "量子回路の初期値は全てのビットで $|0\\rangle$ です。"
   ]
  },
  {
   "cell_type": "code",
   "execution_count": 2,
   "metadata": {},
   "outputs": [
    {
     "data": {
      "text/plain": [
       "Circuit(0)."
      ]
     },
     "execution_count": 2,
     "metadata": {},
     "output_type": "execute_result"
    }
   ],
   "source": [
    "from blueqat import Circuit\n",
    "\n",
    "#回路を準備はこれで終わりです。\n",
    "Circuit()"
   ]
  },
  {
   "cell_type": "markdown",
   "metadata": {
    "colab_type": "text",
    "id": "xP6vOtYi-uHz"
   },
   "source": [
    "## 回路はゲートと呼ばれるものをつなげます。\n",
    "ゲートは種類が決まっています。まずはxゲートを準備し0番目の量子ビットにかけてみましょう。  \n",
    ".x[\"ここに量子ビットの番号\"]\n",
    "こんな感じでどんどん繋げていきます。"
   ]
  },
  {
   "cell_type": "code",
   "execution_count": 3,
   "metadata": {},
   "outputs": [
    {
     "data": {
      "text/plain": [
       "Circuit(1).x[0]"
      ]
     },
     "execution_count": 3,
     "metadata": {},
     "output_type": "execute_result"
    }
   ],
   "source": [
    "Circuit().x[0]"
   ]
  },
  {
   "cell_type": "markdown",
   "metadata": {},
   "source": [
    "xゲートとzゲートを繋げた場合は以下のようになります。"
   ]
  },
  {
   "cell_type": "code",
   "execution_count": 4,
   "metadata": {},
   "outputs": [
    {
     "data": {
      "text/plain": [
       "Circuit(1).x[0].z[0]"
      ]
     },
     "execution_count": 4,
     "metadata": {},
     "output_type": "execute_result"
    }
   ],
   "source": [
    "Circuit().x[0].z[0]"
   ]
  },
  {
   "cell_type": "markdown",
   "metadata": {},
   "source": [
    "このとき量子回路は以下のようになります。\n",
    "\n",
    "<img src=\"./img/001/001_0.png\" width=\"40%\">"
   ]
  },
  {
   "cell_type": "markdown",
   "metadata": {
    "colab_type": "text",
    "id": "wHrRyYvfuCMC"
   },
   "source": [
    "## 測定と実行\n",
    "量子コンピュータでは確率的に 0,1 が出力されます。答えを確定させるために測定が必要です。測定は.m[:]で行いましょう。また、作ったCircuitはrun()で実行することができます。  \n",
    "run()の中のshots=100は100回計算をするということです。"
   ]
  },
  {
   "cell_type": "code",
   "execution_count": 5,
   "metadata": {
    "colab": {
     "base_uri": "https://localhost:8080/",
     "height": 34
    },
    "colab_type": "code",
    "id": "s4nPf83otvoG",
    "outputId": "606fb557-85c4-41e9-a98d-bfccf3c1d3a8"
   },
   "outputs": [
    {
     "data": {
      "text/plain": [
       "Counter({'1': 100})"
      ]
     },
     "execution_count": 5,
     "metadata": {},
     "output_type": "execute_result"
    }
   ],
   "source": [
    "Circuit().x[0].m[:].run(shots=100)"
   ]
  },
  {
   "cell_type": "markdown",
   "metadata": {
    "colab_type": "text",
    "id": "bnQKAJQuBKNS"
   },
   "source": [
    "こちらは1という答えが100回出ました。\n",
    "つまり1が100%観測されたことになります。\n",
    "このように計算します。"
   ]
  },
  {
   "cell_type": "markdown",
   "metadata": {},
   "source": [
    "# 概要\n",
    "ここでは 1量子ビット操作の概要を説明します。\n",
    "\n",
    "## 量子ビット\n",
    "古典コンピュータは1bitに対して0または1の値を入力することができます。\n",
    "\n",
    "量子ビットでは1bitのことを1qubitと言い、ベクトルで表現します。   \n",
    "$|0\\rangle$, $|1\\rangle$ はそれぞれ\n",
    "\n",
    "<img src=\"./img/001/001_02_0.png\" width=\"25%\">\n",
    "\n",
    "と表します。\n",
    "\n",
    "一般的に1qubitには $|0\\rangle$, $|1\\rangle$ と複素数 $a,b$ を用いて $a|0\\rangle+b|1\\rangle$ で表せます。   \n",
    "ただし、\n",
    "\n",
    "<img src=\"./img/001/001_02_1.png\" width=\"12%\">\n",
    "\n",
    "である必要があります。"
   ]
  },
  {
   "cell_type": "markdown",
   "metadata": {},
   "source": [
    "## 回路の作成\n",
    "初期値を $|0\\rangle$ とします。\n",
    "\n",
    "回路はゲートと呼ばれる行列をかけて作ります。試しにXゲートをかけてみます。   \n",
    "Xゲートは以下のような行列です。\n",
    "\n",
    "<img src=\"./img/001/001_02_2.png\" width=\"13%\">\n",
    "\n",
    "これを $|0\\rangle$ にかけると\n",
    "\n",
    "<img src=\"./img/001/001_02_3.png\" width=\"35%\">\n",
    "\n",
    "と $|1\\rangle$ に反転できることがわかります。"
   ]
  },
  {
   "cell_type": "markdown",
   "metadata": {},
   "source": [
    "## 測定\n",
    "量子コンピュータでは確率的に 0,1 が出力されますがこの出力させる操作を測定と言います。   \n",
    "0,1 それぞれの出力される確率は $a|0\\rangle+b|1\\rangle$ に対して、それぞれ $|a|^2, |b|^2$ となります。\n",
    "\n",
    "例えば以下のようなビットを考えます。\n",
    "\n",
    "<img src=\"./img/001/001_02_4.png\" width=\"28%\">\n",
    "\n",
    "これを1回測定すると 0,1 が出力される確率はそれぞれ 1/2 となります。   \n",
    "つまり100回測定した場合は 0,1 はそれぞれ 50回ずつ出力されます。"
   ]
  },
  {
   "cell_type": "markdown",
   "metadata": {},
   "source": [
    "## 状態ベクトル\n",
    "一般的に上記で述べたベクトルを状態ベクトルと言います。\n",
    "\n",
    "回路を作成し最終的にできた状態ベクトルは測定をした場合に 0,1 で出力されます。\n",
    "\n",
    "Blueqatで状態ベクトルを求めるには、測定をせずに.run()メソッドを実行します。"
   ]
  },
  {
   "cell_type": "code",
   "execution_count": 7,
   "metadata": {},
   "outputs": [
    {
     "data": {
      "text/plain": [
       "array([0.70710678+0.j, 0.70710678+0.j])"
      ]
     },
     "execution_count": 7,
     "metadata": {},
     "output_type": "execute_result"
    }
   ],
   "source": [
    "Circuit().h[0].run()"
   ]
  }
 ],
 "metadata": {
  "colab": {
   "name": "tutorial001_basic_circuit.ipynb",
   "provenance": [],
   "version": "0.3.2"
  },
  "kernelspec": {
   "display_name": "conda_python3",
   "language": "python",
   "name": "conda_python3"
  },
  "language_info": {
   "codemirror_mode": {
    "name": "ipython",
    "version": 3
   },
   "file_extension": ".py",
   "mimetype": "text/x-python",
   "name": "python",
   "nbconvert_exporter": "python",
   "pygments_lexer": "ipython3",
   "version": "3.6.5"
  }
 },
 "nbformat": 4,
 "nbformat_minor": 1
}
