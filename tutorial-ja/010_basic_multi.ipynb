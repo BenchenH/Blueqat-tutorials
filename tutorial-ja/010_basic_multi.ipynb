{
  "cells": [
    {
      "metadata": {
        "colab_type": "text",
        "id": "NjHnSAbHrInP"
      },
      "cell_type": "markdown",
      "source": [
        "# 乗算回路\n",
        "汎用計算機なので掛け算もできます。今回は基本的な回路で２進数の掛け算を見てみましょう。"
      ]
    },
    {
      "metadata": {
        "colab_type": "text",
        "id": "PKhFYi-drld1"
      },
      "cell_type": "markdown",
      "source": [
        "## ２進数の掛け算について\n",
        "考えてみましたが、シンプルです。２つの数をくらいごとにかけてずらして足し合わせます。その際にキャリービットとして桁上がりを考慮します。\n",
        "\n",
        "0*0=0\n",
        "0*1=0\n",
        "1*0=0\n",
        "1*1=1\n",
        "\n",
        "つまり、11のときに1となる回路を作れば良さそうです。これはccxです。あとは各くらいを足し合わせれば大丈夫でしょう。\n",
        "\n"
      ]
    },
    {
      "metadata": {
        "id": "MG6ANG-i8J6s",
        "colab_type": "text"
      },
      "cell_type": "markdown",
      "source": [
        "## 例題\n",
        "習うより慣れろでいきます。まずは、1*2=?をときます。2は2進数で10ですので、01*10=0010。つまり1*2=2となります。\n",
        "\n",
        "\n",
        "\n",
        "```\n",
        "    01\n",
        "*  10\n",
        "-------\n",
        "    00\n",
        " 01\n",
        "-------\n",
        "    0\n",
        " 0\n",
        "-------\n",
        " 0010\n",
        "  ```\n",
        "\n",
        "では、早速実装へ。まずは2進数の数を２つ用意します。a*bを考えますが、aの0のくらいとaの2のくらいを用意して、それぞれa0とa2とします。bも同様です。\n",
        "\n",
        "今回最終的に実現するのは|a,b,x> => |a,b,a*b>ととりあえず目標を置いてみます。求めたいのはx0,x2,x4,x8です。cは途中の計算用のビット。zは桁上がりビットを想定します。\n",
        "\n",
        "<img src=\"./img/010_basic_multi01.png\">\n"
      ]
    },
    {
      "metadata": {
        "colab_type": "code",
        "id": "O674HiVxjc7P",
        "colab": {
          "base_uri": "https://localhost:8080/",
          "height": 34
        },
        "outputId": "e1b98357-9000-40f6-a35e-85c6c4432cd0"
      },
      "cell_type": "code",
      "source": [
        "from blueqat import Circuit\n",
        "\n",
        "C1 = Circuit().ccx[0,1,2].ccx[1,3,5].ccx[0,4,6].ccx[3,4,7].ccx[5,6,8].ccx[7,8,9].cx[2,10].cx[5,11].cx[6,11].cx[7,12].cx[8,12].cx[9,13] \n",
        "\n",
        "#00 * 00 = 0000\n",
        "(Circuit() + C1).m[:].run(shots=100)"
      ],
      "execution_count": 89,
      "outputs": [
        {
          "output_type": "execute_result",
          "data": {
            "text/plain": [
              "Counter({'00000000000000': 100})"
            ]
          },
          "metadata": {
            "tags": []
          },
          "execution_count": 89
        }
      ]
    },
    {
      "metadata": {
        "id": "IgDHp3r57XCM",
        "colab_type": "code",
        "colab": {
          "base_uri": "https://localhost:8080/",
          "height": 34
        },
        "outputId": "49213c4e-535c-4c43-cf1c-1d76a1a5906f"
      },
      "cell_type": "code",
      "source": [
        "#01 * 01 = 0001\n",
        "(Circuit().x[0].x[1] + C1).m[:].run(shots=100)"
      ],
      "execution_count": 81,
      "outputs": [
        {
          "output_type": "execute_result",
          "data": {
            "text/plain": [
              "Counter({'11100000001000': 100})"
            ]
          },
          "metadata": {
            "tags": []
          },
          "execution_count": 81
        }
      ]
    },
    {
      "metadata": {
        "id": "t51TwH7k7Z6q",
        "colab_type": "code",
        "colab": {
          "base_uri": "https://localhost:8080/",
          "height": 34
        },
        "outputId": "1524f8df-048a-4106-aae3-cdd8308fc36e"
      },
      "cell_type": "code",
      "source": [
        "#10 * 01 = 0010\n",
        "(Circuit().x[3].x[1] + C1).m[:].run(shots=100)"
      ],
      "execution_count": 82,
      "outputs": [
        {
          "output_type": "execute_result",
          "data": {
            "text/plain": [
              "Counter({'01010100000100': 100})"
            ]
          },
          "metadata": {
            "tags": []
          },
          "execution_count": 82
        }
      ]
    },
    {
      "metadata": {
        "id": "hbY49XMd7ftR",
        "colab_type": "code",
        "colab": {
          "base_uri": "https://localhost:8080/",
          "height": 34
        },
        "outputId": "33c8f0c4-0161-4f89-b86a-2b6146448d3a"
      },
      "cell_type": "code",
      "source": [
        "#01 * 10 = 0010\n",
        "(Circuit().x[0].x[4] + C1).m[:].run(shots=100)"
      ],
      "execution_count": 83,
      "outputs": [
        {
          "output_type": "execute_result",
          "data": {
            "text/plain": [
              "Counter({'10001010000100': 100})"
            ]
          },
          "metadata": {
            "tags": []
          },
          "execution_count": 83
        }
      ]
    },
    {
      "metadata": {
        "id": "ZuM7g9WJ7jbN",
        "colab_type": "code",
        "colab": {
          "base_uri": "https://localhost:8080/",
          "height": 34
        },
        "outputId": "1b65d457-0232-40a0-fda8-ce1a417b553c"
      },
      "cell_type": "code",
      "source": [
        "#10 * 10 = 0100\n",
        "(Circuit().x[3].x[4] + C1).m[:].run(shots=100) "
      ],
      "execution_count": 84,
      "outputs": [
        {
          "output_type": "execute_result",
          "data": {
            "text/plain": [
              "Counter({'00011001000010': 100})"
            ]
          },
          "metadata": {
            "tags": []
          },
          "execution_count": 84
        }
      ]
    },
    {
      "metadata": {
        "id": "lXgTGsQO7jUy",
        "colab_type": "code",
        "colab": {
          "base_uri": "https://localhost:8080/",
          "height": 34
        },
        "outputId": "b4afb59f-a279-4c50-f35d-1da65682f3f3"
      },
      "cell_type": "code",
      "source": [
        "#11 * 10 = 0110\n",
        "(Circuit().x[0].x[3].x[4] + C1).m[:].run(shots=100)"
      ],
      "execution_count": 86,
      "outputs": [
        {
          "output_type": "execute_result",
          "data": {
            "text/plain": [
              "Counter({'10011011000110': 100})"
            ]
          },
          "metadata": {
            "tags": []
          },
          "execution_count": 86
        }
      ]
    },
    {
      "metadata": {
        "id": "05IWvFtn7quv",
        "colab_type": "code",
        "colab": {
          "base_uri": "https://localhost:8080/",
          "height": 34
        },
        "outputId": "0e3dee56-8fc1-47b2-e2c7-2aa5d36aade0"
      },
      "cell_type": "code",
      "source": [
        "#10 * 11 = 0110\n",
        "(Circuit().x[1].x[3].x[4] + C1).m[:].run(shots=100)"
      ],
      "execution_count": 87,
      "outputs": [
        {
          "output_type": "execute_result",
          "data": {
            "text/plain": [
              "Counter({'01011101000110': 100})"
            ]
          },
          "metadata": {
            "tags": []
          },
          "execution_count": 87
        }
      ]
    },
    {
      "metadata": {
        "id": "lr8RdNwu7tCi",
        "colab_type": "code",
        "colab": {
          "base_uri": "https://localhost:8080/",
          "height": 34
        },
        "outputId": "3bfe992c-9b45-49b3-c5b4-9f96fbd71903"
      },
      "cell_type": "code",
      "source": [
        "#11 * 11 = 1001\n",
        "(Circuit().x[0].x[1].x[3].x[4] + C1).m[:].run(shots=100) "
      ],
      "execution_count": 88,
      "outputs": [
        {
          "output_type": "execute_result",
          "data": {
            "text/plain": [
              "Counter({'11111111111001': 100})"
            ]
          },
          "metadata": {
            "tags": []
          },
          "execution_count": 88
        }
      ]
    },
    {
      "metadata": {
        "id": "OPe8FDu04AtN",
        "colab_type": "text"
      },
      "cell_type": "markdown",
      "source": [
        "どうでしょうか、すべての足し算の場合が4通り出てきました。条件を満たす計算が重ね合わせを使って実現できました。上記は、\n",
        "\n",
        "0+0=00\n",
        "0+1=10\n",
        "1+0=10\n",
        "1+1=01\n",
        "\n",
        "となっています（桁がみづらいですが）。以上で重ね合わせと加算回路を使った計算ができました。"
      ]
    },
    {
      "cell_type": "markdown",
      "metadata": {},
      "source": [
        "# 概要\n",
        "\n",
        "## 乗算器\n",
        "ビットは 0, 1 をとるので 2進数の掛け算を考えます。\n",
        "組み合わせは\n",
        "\n",
        "0×0=0, 0×1=0, 1×0=0, 1×1=1\n",
        "\n",
        "となります。\n",
        "これは加算器の1桁目と同じCCXゲートで表せます。"
      ]
    },
    {
      "cell_type": "markdown",
      "metadata": {},
      "source": [
        "## 乗算器 (2桁×2桁)\n",
        "次は応用で2桁×2桁の乗算を考えてみます。\n",
        "\n",
        "組み合わせは\n",
        "\n",
        "01×00=0000, 01×01=0001, 01×10=0010, 01×11=0011   \n",
        "11×00=0000, 11×01=0011, 11×10=0110, 11×11=1001   \n",
        "01×00=0000, 01×01=0001, 01×10=0010, 01×11=0011   \n",
        "11×00=0000, 11×01=0011, 11×10=0110, 11×11=1001\n",
        "\n",
        "の16通りとなります。\n",
        "\n",
        "### 考え方\n",
        "まず試しに 11 × 10 を筆算で考えてみます。\n",
        "\n",
        "<img src=\"./img/010_02/010_02_0.png\" width=\"15%\">\n",
        "\n",
        "1 と 2 の行を合わせた4回の計算をそれぞれ考えます。   \n",
        "1行目 は 11 × 0 , 2行目は 11 × 1 となります。   \n",
        "各項4つの計算はそれぞれ 1桁の積でできるので全て CCXで実装できます。\n",
        "\n",
        "行目1 と 2 の和に関しては繰り上がりを考えないといけないので加算器で実装します。"
      ]
    },
    {
      "cell_type": "markdown",
      "metadata": {},
      "source": [
        "## 回路の作成（１、２行目）\n",
        "今回は 1 行目だけ考えます。\n",
        "11 × 0 を CCX ゲートを用いて以下の回路を考えます。\n",
        "\n",
        "<img src=\"./img/010_02/010_02_1.png\" width=\"28%\">\n",
        "\n",
        "上から 2 つのビットは 11 の部分で次の 1 ビットは 0 の部分となります。   \n",
        "出力_1 ,出力_2 は 1 × 0 を表しています。\n",
        "\n",
        "これで 1 行目が出力されました。2 行目も同様にしてできます。"
      ]
    },
    {
      "cell_type": "markdown",
      "metadata": {},
      "source": [
        "## 回路の作成（全体）\n",
        "11 × 10 を計算します。\n",
        "上の2つの回路を組み合わせて以下の回路を作ります。\n",
        "\n",
        "<img src=\"./img/010_02/010_02_3.png\" width=\"65%\">\n",
        "\n",
        "左上の操作は 1, 2 行目を計算しています。\n",
        "右下は 1, 2 行目の和を計算しています。"
      ]
    },
    {
      "cell_type": "code",
      "execution_count": null,
      "metadata": {},
      "outputs": [],
      "source": []
    }
  ],
  "metadata": {
    "colab": {
      "name": "010_basic_multi.ipynb",
      "version": "0.3.2",
      "provenance": [],
      "collapsed_sections": []
    },
    "kernelspec": {
      "display_name": "Python 3",
      "language": "python",
      "name": "python3"
    }
  },
  "nbformat": 4,
  "nbformat_minor": 0
}