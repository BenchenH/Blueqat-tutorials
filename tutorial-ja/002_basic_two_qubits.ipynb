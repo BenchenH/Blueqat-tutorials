{
  "cells": [
    {
      "cell_type": "markdown",
      "metadata": {
        "colab_type": "text",
        "id": "NjHnSAbHrInP"
      },
      "source": [
        "# ２量子ビットの基本の操作を覚える\n",
        "ここでは前回に引き続き２量子ビットの計算を覚えます。量子コンピュータでは２量子ビットの操作によってより複雑な計算を行うことができます。"
      ]
    },
    {
      "cell_type": "code",
      "metadata": {
        "id": "kYZeAXN7S724",
        "colab_type": "code",
        "colab": {}
      },
      "source": [
        "!pip install blueqat"
      ],
      "execution_count": 0,
      "outputs": []
    },
    {
      "cell_type": "markdown",
      "metadata": {
        "colab_type": "text",
        "id": "PKhFYi-drld1"
      },
      "source": [
        "## 回路の作成\n",
        "基本回路の作成方法は１量子ビットの場合と同じですが、今回は２量子ビットをつなげます。Blueqatでは最初に量子ビット数を指定する必要がありません（指定しても大丈夫です）。早速CXという回路を作ってみましょう。"
      ]
    },
    {
      "cell_type": "code",
      "metadata": {
        "colab_type": "code",
        "id": "O674HiVxjc7P",
        "outputId": "c8687e8b-005f-4408-e7e3-030ed1757821",
        "colab": {
          "base_uri": "https://localhost:8080/",
          "height": 34
        }
      },
      "source": [
        "from blueqat import Circuit\n",
        "\n",
        "Circuit().cx[0,1].m[:].run(shots=1)"
      ],
      "execution_count": 3,
      "outputs": [
        {
          "output_type": "execute_result",
          "data": {
            "text/plain": [
              "Counter({'00': 1})"
            ]
          },
          "metadata": {
            "tags": []
          },
          "execution_count": 3
        }
      ]
    },
    {
      "cell_type": "markdown",
      "metadata": {
        "id": "Pj4TW4zHDG7d",
        "colab_type": "text"
      },
      "source": [
        "上記回路では00という答えが出ました。回路の中にcx回路が入っていますので２量子ビットで答えが出ます。00は両方とも0という意味です。"
      ]
    },
    {
      "cell_type": "markdown",
      "metadata": {
        "colab_type": "text",
        "id": "xP6vOtYi-uHz"
      },
      "source": [
        "## CX回路について\n",
        "CX回路はCNOT回路とも呼ばれます。.cx[コントロールビット,ターゲットビット]とcxのゲートの中に「コントロールビット」と「ターゲットビット」と呼ばれる量子ビットを指定します。cxゲートはコントロールビットが1の時だけ、ターゲットビットを反転させます。\n",
        "\n",
        "\n",
        "今回は両方とも量子ビットは0からスタートして、cxゲートがかかりました。0番目の量子ビットは0なので、1番目の量子ビットには何も操作がされません。\n",
        "\n",
        "ちなみに回路は以下のようになります。\n",
        "\n",
        "<img src=\"./img/002/002_0.png\" width=\"25%\">"
      ]
    },
    {
      "cell_type": "markdown",
      "metadata": {
        "colab_type": "text",
        "id": "wHrRyYvfuCMC"
      },
      "source": [
        "## 再びCX回路\n",
        "CX回路の効果を実感するために最初に0番目の量子ビットにXゲートを適用して0を1にしておきます。それからCX回路をかけてみましょう。\n"
      ]
    },
    {
      "cell_type": "code",
      "metadata": {
        "colab_type": "code",
        "id": "s4nPf83otvoG",
        "outputId": "b34052f2-b8a4-41f7-f0c1-1ad11c52a071",
        "colab": {
          "base_uri": "https://localhost:8080/",
          "height": 34
        }
      },
      "source": [
        "Circuit().x[0].cx[0,1].m[:].run(shots=1)"
      ],
      "execution_count": 4,
      "outputs": [
        {
          "output_type": "execute_result",
          "data": {
            "text/plain": [
              "Counter({'11': 1})"
            ]
          },
          "metadata": {
            "tags": []
          },
          "execution_count": 4
        }
      ]
    },
    {
      "cell_type": "markdown",
      "metadata": {
        "id": "bnQKAJQuBKNS",
        "colab_type": "text"
      },
      "source": [
        "今度は11という答えが出て両方が1になりました。これは、0番目の量子ビットがまずXゲートによって1になり、それに反応してCX回路が1番目の量子ビットを0から1に反転させたため、答えが11となっています。"
      ]
    },
    {
      "cell_type": "markdown",
      "metadata": {
        "id": "j7qObHmWBWoX",
        "colab_type": "text"
      },
      "source": [
        "## （応用）量子ビットの数を指定する\n",
        "量子ビットの数を最初から指定することもできます。その際にはCircuit()のなかに引数を設定しましょう。"
      ]
    },
    {
      "cell_type": "code",
      "metadata": {
        "id": "uzaQ3WSwBYgf",
        "colab_type": "code",
        "outputId": "c9a95b03-9e45-4003-cee3-6a1935f42c6a",
        "colab": {
          "base_uri": "https://localhost:8080/",
          "height": 34
        }
      },
      "source": [
        "Circuit(3).x[0].cx[0,1].m[:].run(shots=1)"
      ],
      "execution_count": 5,
      "outputs": [
        {
          "output_type": "execute_result",
          "data": {
            "text/plain": [
              "Counter({'110': 1})"
            ]
          },
          "metadata": {
            "tags": []
          },
          "execution_count": 5
        }
      ]
    },
    {
      "cell_type": "markdown",
      "metadata": {
        "id": "7SL_2kj7BnuQ",
        "colab_type": "text"
      },
      "source": [
        "110となりました。最初の2量子ビットは計算に使用されましたが、最後の量子ビットは使用されないままでした。以上です。"
      ]
    },
    {
      "cell_type": "markdown",
      "metadata": {},
      "source": [
        "# 概要\n",
        "ここでは２量子ビットの計算を説明します。\n",
        "\n",
        "## 量子ビット\n",
        "２量子ビットの場合は 00, 01, 10, 11 は以下のような状態ベクトルで表します。\n",
        "\n",
        "<img src=\"./img/002/002_02_0.png\" width=\"50%\">\n",
        "\n",
        "00 の状態ベクトルはテンソル積を用いると以下のように計算できます。\n",
        "\n",
        "<img src=\"./img/002/002_02_1.png\" width=\"50%\">"
      ]
    },
    {
      "cell_type": "markdown",
      "metadata": {},
      "source": [
        "## CX回路\n",
        "CXゲートはコントロールビットが1ならばターゲットビットにXゲートを施すものです。\n",
        "\n",
        "CXゲートは以下のような行列です。\n",
        "\n",
        "<img src=\"./img/002/002_02_2.png\" width=\"20%\">\n",
        "\n",
        "00 にCXゲートを施すと以下のようになります。\n",
        "\n",
        "<img src=\"./img/002/002_02_3.png\" width=\"43%\">\n",
        "\n",
        "この場合コントロールビットは0なので何も変化しません。\n",
        "\n",
        "次に 10 にCXゲートを施すと以下のようになります。\n",
        "\n",
        "<img src=\"./img/002/002_02_4.png\" width=\"43%\">\n",
        "\n",
        "この場合コントロールビットは1なのでターゲットビットが反転して1になっているのがわかります。"
      ]
    },
    {
      "cell_type": "markdown",
      "metadata": {},
      "source": [
        "## 観測\n",
        "２量子ビットの場合の観測は 00, 01, 10, 11 が確率的に観測されます。   \n",
        "それぞれ出力される確率は１量子ビットの場合と同じように各係数の絶対値の2乗となります。\n",
        "\n",
        "例えば以下のような状態ベクトルを考えます。\n",
        "\n",
        "<img src=\"./img/002/002_02_5.png\" width=\"40%\">\n",
        "\n",
        "これを1回観測すると 00, 01, 10, 11 が出力される確率は 1/4 となります。"
      ]
    },
    {
      "cell_type": "markdown",
      "metadata": {},
      "source": [
        "## 2量子ビット以上の場合\n",
        "３量子ビットの場合で最初の２量子ビットにCXゲートをかけるとします。\n",
        "100 にCXを施したとき計算は以下のようになります。\n",
        "\n",
        "<img src=\"./img/002/002_02_6.png\" width=\"45%\">\n",
        "\n",
        "上の式から最後のビットには何も変化しない行列Iを施して計算していることがわかります。"
      ]
    },
    {
      "cell_type": "code",
      "execution_count": null,
      "metadata": {},
      "outputs": [],
      "source": []
    }
  ],
  "metadata": {
    "colab": {
      "name": "002_basic_two_qubits.ipynb",
      "version": "0.3.2",
      "provenance": []
    },
    "kernelspec": {
      "display_name": "Python 3",
      "language": "python",
      "name": "python3"
    }
  },
  "nbformat": 4,
  "nbformat_minor": 0
}