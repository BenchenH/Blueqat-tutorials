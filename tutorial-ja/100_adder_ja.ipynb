{
 "cells": [
  {
   "cell_type": "markdown",
   "metadata": {
    "colab_type": "text",
    "id": "NjHnSAbHrInP"
   },
   "source": [
    "# たし算\n",
    "量子コンピュータには従来のコンピュータと同じ計算もできるという特徴があります。たし算の回路を確認します。"
   ]
  },
  {
   "cell_type": "markdown",
   "metadata": {},
   "source": [
    "## 今回学ぶこと\n",
    "1. 量子ゲートを使って二進数のたし算を実装\n",
    "2. 量子の重ね合わせを使って1つの回路で複数のたし算"
   ]
  },
  {
   "cell_type": "markdown",
   "metadata": {},
   "source": [
    "## Blueqatのインストール\n",
    "pipからBlueqatをインストールします。"
   ]
  },
  {
   "cell_type": "code",
   "execution_count": 2,
   "metadata": {
    "colab": {},
    "colab_type": "code",
    "collapsed": true,
    "id": "OF-AmKpXtgSJ"
   },
   "outputs": [
    {
     "name": "stdout",
     "output_type": "stream",
     "text": [
      "Requirement already satisfied: blueqat in /home/ec2-user/anaconda3/envs/python3/lib/python3.6/site-packages (0.3.13)\n",
      "Requirement already satisfied: numpy~=1.12 in /home/ec2-user/anaconda3/envs/python3/lib/python3.6/site-packages (from blueqat) (1.18.3)\n",
      "Requirement already satisfied: scipy>=1.1.0 in /home/ec2-user/anaconda3/envs/python3/lib/python3.6/site-packages (from blueqat) (1.1.0)\n",
      "\u001b[33mWARNING: You are using pip version 20.0.2; however, version 20.1 is available.\n",
      "You should consider upgrading via the '/home/ec2-user/anaconda3/envs/python3/bin/python -m pip install --upgrade pip' command.\u001b[0m\n"
     ]
    }
   ],
   "source": [
    "!pip install blueqat"
   ]
  },
  {
   "cell_type": "markdown",
   "metadata": {
    "colab_type": "text",
    "id": "PKhFYi-drld1"
   },
   "source": [
    "## 二進数のたし算\n",
    "たし算は桁上がりを実行するccxゲートと、位の足し合わせを実行するcxゲートを使います。今回はa+b=cdという二進数のたし算の量子回路を行います。今回はaとbの値によって4種類のたし算を実装します。それぞれのたし算は、\n",
    "\n",
    "0+0 = 00 => 0000  \n",
    "0+1 = 01 => 0101  \n",
    "1+0 = 01 => 1001  \n",
    "1+1 = 10 => 1110  \n",
    "\n",
    "となります。4量子ビットのビット列で表現し、前半の2量子ビットが入力値aとbで、後半の2量子ビットが出力値cとdです。aとbを入力する回路と、実際にたし合わせを実現する回路を別に作り、何度か使い回します。1のようなデータの入力はXゲートを使って0を反転させて実装します。"
   ]
  },
  {
   "cell_type": "markdown",
   "metadata": {},
   "source": [
    "たし算の回路部分はこのようになります。*はコントロールビットです。\n",
    "\n",
    "```\n",
    "a ---*---*------- a\n",
    "b ---*---|---*--- b\n",
    "0 ---X---|---|--- c\n",
    "0 -------X---X--- d\n",
    "```\n",
    "\n",
    "aとbにXゲートを使ってデータを入れると、ccx回路で桁上がり、cx回路で位のたし合わせを行います。"
   ]
  },
  {
   "cell_type": "code",
   "execution_count": 6,
   "metadata": {
    "colab": {
     "base_uri": "https://localhost:8080/",
     "height": 34
    },
    "colab_type": "code",
    "id": "O674HiVxjc7P",
    "outputId": "63d75a71-0b78-4b7b-b759-56b2d018e284"
   },
   "outputs": [],
   "source": [
    "#ツールの読み込み\n",
    "from blueqat import Circuit\n",
    "\n",
    "#たし算部分を実現します。\n",
    "adder = Circuit().ccx[0,1,2].cx[0,3].cx[1,3]"
   ]
  },
  {
   "cell_type": "code",
   "execution_count": 13,
   "metadata": {
    "colab": {
     "base_uri": "https://localhost:8080/",
     "height": 34
    },
    "colab_type": "code",
    "id": "O674HiVxjc7P",
    "outputId": "63d75a71-0b78-4b7b-b759-56b2d018e284"
   },
   "outputs": [
    {
     "data": {
      "text/plain": [
       "Counter({'0000': 100})"
      ]
     },
     "execution_count": 13,
     "metadata": {},
     "output_type": "execute_result"
    }
   ],
   "source": [
    "#0+0\n",
    "(Circuit() + adder).m[:].run(shots=100)"
   ]
  },
  {
   "cell_type": "code",
   "execution_count": 14,
   "metadata": {
    "colab": {
     "base_uri": "https://localhost:8080/",
     "height": 34
    },
    "colab_type": "code",
    "id": "xlTAVvSt3iZv",
    "outputId": "c6e6810e-4569-4849-da61-ab41e72f83c0"
   },
   "outputs": [
    {
     "data": {
      "text/plain": [
       "Counter({'0101': 100})"
      ]
     },
     "execution_count": 14,
     "metadata": {},
     "output_type": "execute_result"
    }
   ],
   "source": [
    "#0+1\n",
    "(Circuit().x[1] + adder).m[:].run(shots=100)"
   ]
  },
  {
   "cell_type": "code",
   "execution_count": 15,
   "metadata": {
    "colab": {
     "base_uri": "https://localhost:8080/",
     "height": 34
    },
    "colab_type": "code",
    "id": "BtkqFj8n3kBS",
    "outputId": "5db803d7-a2dc-417b-95c2-eacf35e160c2"
   },
   "outputs": [
    {
     "data": {
      "text/plain": [
       "Counter({'1001': 100})"
      ]
     },
     "execution_count": 15,
     "metadata": {},
     "output_type": "execute_result"
    }
   ],
   "source": [
    "#1+0\n",
    "(Circuit().x[0] + adder).m[:].run(shots=100)"
   ]
  },
  {
   "cell_type": "code",
   "execution_count": 16,
   "metadata": {
    "colab": {
     "base_uri": "https://localhost:8080/",
     "height": 34
    },
    "colab_type": "code",
    "id": "JnmWCnOf3xGw",
    "outputId": "b89c5e8a-899b-47da-faed-dc5a3a5035e5"
   },
   "outputs": [
    {
     "data": {
      "text/plain": [
       "Counter({'1110': 100})"
      ]
     },
     "execution_count": 16,
     "metadata": {},
     "output_type": "execute_result"
    }
   ],
   "source": [
    "#1+1\n",
    "(Circuit().x[0,1] + adder).m[:].run(shots=100)"
   ]
  },
  {
   "cell_type": "markdown",
   "metadata": {
    "colab_type": "text",
    "id": "OPe8FDu04AtN"
   },
   "source": [
    "このように、たし算が実装できました。"
   ]
  },
  {
   "cell_type": "markdown",
   "metadata": {
    "colab_type": "text",
    "id": "OPe8FDu04AtN"
   },
   "source": [
    "## 重ね合わせを利用したたし算\n",
    "ここで、Xゲートでデータを一つ一つ入れる代わりに、Hゲートを使ってたし算をしてみます。"
   ]
  },
  {
   "cell_type": "code",
   "execution_count": 17,
   "metadata": {},
   "outputs": [
    {
     "data": {
      "text/plain": [
       "Counter({'0101': 27, '1110': 30, '0000': 24, '1001': 19})"
      ]
     },
     "execution_count": 17,
     "metadata": {},
     "output_type": "execute_result"
    }
   ],
   "source": [
    "#Xゲートの代わりにHゲートを入力に使う\n",
    "(Circuit().h[0,1] + adder).m[:].run(shots=100)"
   ]
  },
  {
   "cell_type": "markdown",
   "metadata": {},
   "source": [
    "アダマールゲートを利用すると4つのたし算が大体1/4ずつ答えとして出てきました。このように汎用たし算回路を作ると、重ね合わせ状態を利用した計算を実行できます。"
   ]
  },
  {
   "cell_type": "markdown",
   "metadata": {},
   "source": [
    "## もつれを利用したたし算\n",
    "次にHゲートの代わりにa+b=1となるたし算を量子のもつれを使って行ってみます。"
   ]
  },
  {
   "cell_type": "code",
   "execution_count": 19,
   "metadata": {},
   "outputs": [
    {
     "data": {
      "text/plain": [
       "Counter({'0101': 41, '1001': 59})"
      ]
     },
     "execution_count": 19,
     "metadata": {},
     "output_type": "execute_result"
    }
   ],
   "source": [
    "#01と10のもつれを作る\n",
    "(Circuit().h[0].cx[0,1].x[0] + adder).m[:].run(shots=100)"
   ]
  },
  {
   "cell_type": "markdown",
   "metadata": {},
   "source": [
    "このように、入力値が01と10がもつれているので、この2つのたし算が約1/2ずつ出てきます。"
   ]
  },
  {
   "cell_type": "markdown",
   "metadata": {},
   "source": [
    "--------"
   ]
  },
  {
   "cell_type": "markdown",
   "metadata": {},
   "source": [
    "## 解説：回路の作成（１桁目）\n",
    "まずは上の1桁目から作成します。\n",
    "1桁目を見ると、0, 0, 0, 1 の順になっています。\n",
    "\n",
    "表で表すと以下になります。\n",
    "\n",
    "|X|Y|X+Yの2桁目|\n",
    "|:-:|:-:|:-:|\n",
    "|0|0|0|\n",
    "|0|1|0|\n",
    "|1|0|0|\n",
    "|1|1|1|\n",
    "\n",
    "これを見ると CCXゲートと同じことがわかります。\n",
    "(CCXは入力の頭2つのビットが1ならば3番目のビットを反転させる)\n",
    "\n",
    "このことから入力が 11 の場合は以下の回路を考えることができます。\n",
    "\n",
    "<img src=\"./img/008/008_02_0.png\" width=\"23%\">\n",
    "\n",
    "上から2ビットを入力、残りの1ビットを出力だと考えると上の回路から 1 が出力されるのがわかります。"
   ]
  },
  {
   "cell_type": "markdown",
   "metadata": {},
   "source": [
    "## 解説：回路の作成（２桁目）\n",
    "次にもう一つのくらいを作成します。\n",
    "2桁目を見ると、0, 1, 1, 0 の順になっています。\n",
    "\n",
    "表で表すと以下になります。\n",
    "\n",
    "|X|Y|X+Yの1桁目|\n",
    "|:-:|:-:|:-:|\n",
    "|0|0|0|\n",
    "|0|1|1|\n",
    "|1|0|1|\n",
    "|1|1|0|\n",
    "\n",
    "これを見ると CXゲートと同じことがわかります。\n",
    "(左辺がCXの入力で右辺が出力の2番目のビット)\n",
    "\n",
    "このことから入力が 10 の場合は以下の回路を考えることができます。\n",
    "\n",
    "<img src=\"./img/008/008_02_1.png\" width=\"27%\">\n",
    "\n",
    "上から2ビットを入力、残りの1ビットを出力だと考えると上の回路から 1 が出力されるのがわかります。"
   ]
  },
  {
   "cell_type": "markdown",
   "metadata": {},
   "source": [
    "## 解説：回路の作成（全体）\n",
    "最後に上の二つの回路をまとめます。\n",
    "\n",
    "入力を 00 としてまとめた回路を以下に示します。\n",
    "\n",
    "<img src=\"./img/008/008_02_2.png\" width=\"30%\">\n",
    "\n",
    "上2ビットを入力、残りの2ビットが出力です。\n",
    "始めの CCX は1桁目の部分で残りの 2つの CX は2桁目の部分です。"
   ]
  },
  {
   "cell_type": "markdown",
   "metadata": {},
   "source": [
    "## 解説：重ね合わせ回路の実装\n",
    "量子の重ね合わせを用いると4パターンを一気に操作することができます。\n",
    "\n",
    "式としては以下の物を考えます。\n",
    "\n",
    "<img src=\"./img/009/009_02_0.png\" width=\"35%\">\n",
    "\n",
    "見てわかる通り右辺に入力の4パターンが出てきました。\n",
    "この性質を用いて実装します。\n",
    "\n",
    "回路は以下のようになります。\n",
    "\n",
    "<img src=\"./img/009/009_02_1.png\" width=\"35%\">\n",
    "\n",
    "今まで Xゲートを施していた部分を Hゲートにして 4パターンを作っています。"
   ]
  }
 ],
 "metadata": {
  "colab": {
   "collapsed_sections": [],
   "name": "008_basic_general.ipynb",
   "provenance": [],
   "version": "0.3.2"
  },
  "kernelspec": {
   "display_name": "conda_python3",
   "language": "python",
   "name": "conda_python3"
  },
  "language_info": {
   "codemirror_mode": {
    "name": "ipython",
    "version": 3
   },
   "file_extension": ".py",
   "mimetype": "text/x-python",
   "name": "python",
   "nbconvert_exporter": "python",
   "pygments_lexer": "ipython3",
   "version": "3.6.5"
  }
 },
 "nbformat": 4,
 "nbformat_minor": 1
}
