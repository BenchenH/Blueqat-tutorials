{
  "nbformat": 4,
  "nbformat_minor": 0,
  "metadata": {
    "colab": {
      "name": "051_classical_opt.ipynb",
      "provenance": []
    },
    "kernelspec": {
      "name": "python3",
      "display_name": "Python 3"
    }
  },
  "cells": [
    {
      "cell_type": "markdown",
      "metadata": {
        "id": "WAr8pX3MY4bC",
        "colab_type": "text"
      },
      "source": [
        "#古典最適化アルゴリズムを設定する"
      ]
    },
    {
      "cell_type": "markdown",
      "metadata": {
        "id": "spfbaZ2uY8Xg",
        "colab_type": "text"
      },
      "source": [
        "ここでは、量子古典ハイブリッド計算であるVQEやQAOAで利用される古典最適化アルゴリズムについてみてみたいと思います。"
      ]
    },
    {
      "cell_type": "code",
      "metadata": {
        "id": "PLrhMb4HWmTy",
        "colab_type": "code",
        "colab": {
          "base_uri": "https://localhost:8080/",
          "height": 136
        },
        "outputId": "7b6eba37-77e8-4fda-c3dd-250b9970e2a5"
      },
      "source": [
        "!pip install blueqat"
      ],
      "execution_count": 1,
      "outputs": [
        {
          "output_type": "stream",
          "text": [
            "Collecting blueqat\n",
            "\u001b[?25l  Downloading https://files.pythonhosted.org/packages/f6/73/20f9cff48caee1f69190f2e1ea93c4d7d0a745fc48defb5d3072d8337583/blueqat-0.3.13-py3-none-any.whl (50kB)\n",
            "\r\u001b[K     |██████▌                         | 10kB 16.8MB/s eta 0:00:01\r\u001b[K     |█████████████                   | 20kB 1.7MB/s eta 0:00:01\r\u001b[K     |███████████████████▍            | 30kB 2.5MB/s eta 0:00:01\r\u001b[K     |█████████████████████████▉      | 40kB 1.7MB/s eta 0:00:01\r\u001b[K     |████████████████████████████████| 51kB 1.6MB/s \n",
            "\u001b[?25hRequirement already satisfied: numpy~=1.12 in /usr/local/lib/python3.6/dist-packages (from blueqat) (1.17.5)\n",
            "Requirement already satisfied: scipy>=1.1.0 in /usr/local/lib/python3.6/dist-packages (from blueqat) (1.4.1)\n",
            "Installing collected packages: blueqat\n",
            "Successfully installed blueqat-0.3.13\n"
          ],
          "name": "stdout"
        }
      ]
    },
    {
      "cell_type": "markdown",
      "metadata": {
        "id": "PAtDORE3ae49",
        "colab_type": "text"
      },
      "source": [
        "ansatzの実行の際にminimizerを指定するだけで変更できます。"
      ]
    },
    {
      "cell_type": "code",
      "metadata": {
        "id": "h7NQ9kuEZW42",
        "colab_type": "code",
        "colab": {
          "base_uri": "https://localhost:8080/",
          "height": 85
        },
        "outputId": "dd1079f1-af57-40e2-da28-d428da53711a"
      },
      "source": [
        "import numpy as np\n",
        "from blueqat import Circuit\n",
        "from blueqat.pauli import X, Y, Z, I\n",
        "from blueqat.pauli import qubo_bit as q\n",
        "from blueqat.vqe import AnsatzBase, Vqe, get_scipy_minimizer\n",
        "\n",
        "class QubitAnsatz(AnsatzBase):\n",
        "    def __init__(self, hamiltonian):\n",
        "        super().__init__(hamiltonian, 4)\n",
        "        self.step = 1\n",
        "\n",
        "    def get_circuit(self, params):\n",
        "        a, b, c, d = params\n",
        "        return Circuit().ry(a)[0].rz(b)[0].ry(c)[1].rz(d)[1]\n",
        "\n",
        "h = -3*q(0)-3*q(1)-2*q(0)*q(1)\n",
        "h = h.to_expr().simplify()\n",
        "minimizer = get_scipy_minimizer(method=\"COBYLA\",options={\"tol\":5.0e-4})\n",
        "runner = Vqe(QubitAnsatz(h),minimizer=minimizer)\n",
        "result = runner.run()\n",
        "\n",
        "print('Result by VQE')\n",
        "print(runner.ansatz.get_energy(result.circuit, runner.sampler))\n",
        "\n",
        "# Hamiltonian to matrix\n",
        "mat = h.to_matrix()\n",
        "\n",
        "# Calculate by numpy\n",
        "print('Result by numpy')\n",
        "print(np.linalg.eigh(mat)[0][0])"
      ],
      "execution_count": 6,
      "outputs": [
        {
          "output_type": "stream",
          "text": [
            "Result by VQE\n",
            "-7.999999735323875\n",
            "Result by numpy\n",
            "-8.0\n"
          ],
          "name": "stdout"
        }
      ]
    },
    {
      "cell_type": "markdown",
      "metadata": {
        "id": "K685AxwIaljb",
        "colab_type": "text"
      },
      "source": [
        "##その他の最適化ソルバーの実装\n",
        "その他を実装するには下記のように関数を用意して、minimizerとして利用します。今回はベイズ最適化を対象として、hyperoptを導入してみます。"
      ]
    },
    {
      "cell_type": "code",
      "metadata": {
        "id": "aV8SOqfRaAl3",
        "colab_type": "code",
        "colab": {
          "base_uri": "https://localhost:8080/",
          "height": 170
        },
        "outputId": "717e0578-246f-4b7c-8bd7-dbfc02e605a6"
      },
      "source": [
        "!pip install hyperopt"
      ],
      "execution_count": 7,
      "outputs": [
        {
          "output_type": "stream",
          "text": [
            "Requirement already satisfied: hyperopt in /usr/local/lib/python3.6/dist-packages (0.1.2)\n",
            "Requirement already satisfied: six in /usr/local/lib/python3.6/dist-packages (from hyperopt) (1.12.0)\n",
            "Requirement already satisfied: networkx in /usr/local/lib/python3.6/dist-packages (from hyperopt) (2.4)\n",
            "Requirement already satisfied: scipy in /usr/local/lib/python3.6/dist-packages (from hyperopt) (1.4.1)\n",
            "Requirement already satisfied: tqdm in /usr/local/lib/python3.6/dist-packages (from hyperopt) (4.28.1)\n",
            "Requirement already satisfied: pymongo in /usr/local/lib/python3.6/dist-packages (from hyperopt) (3.10.1)\n",
            "Requirement already satisfied: future in /usr/local/lib/python3.6/dist-packages (from hyperopt) (0.16.0)\n",
            "Requirement already satisfied: numpy in /usr/local/lib/python3.6/dist-packages (from hyperopt) (1.17.5)\n",
            "Requirement already satisfied: decorator>=4.3.0 in /usr/local/lib/python3.6/dist-packages (from networkx->hyperopt) (4.4.1)\n"
          ],
          "name": "stdout"
        }
      ]
    },
    {
      "cell_type": "code",
      "metadata": {
        "id": "10pef-zmaC4_",
        "colab_type": "code",
        "colab": {}
      },
      "source": [
        "def hyperopt_minimizer(objective, n_params):\n",
        "    from hyperopt import fmin, Trials, tpe, hp\n",
        "    trials = Trials()\n",
        "    best = fmin(objective, [hp.uniform(f'p{i}', 0., 2 * np.pi) for i in range(n_params)],\n",
        "            algo=tpe.suggest, max_evals=100, trials=trials, verbose=1)\n",
        "    return list(best.values())"
      ],
      "execution_count": 0,
      "outputs": []
    },
    {
      "cell_type": "code",
      "metadata": {
        "id": "1g5HGGY-Zt9P",
        "colab_type": "code",
        "colab": {
          "base_uri": "https://localhost:8080/",
          "height": 102
        },
        "outputId": "afa276c3-3605-44d8-d8cd-cd97d9549193"
      },
      "source": [
        "runner = Vqe(QubitAnsatz(h),minimizer=hyperopt_minimizer)\n",
        "result = runner.run()\n",
        "\n",
        "print('Result by VQE')\n",
        "print(runner.ansatz.get_energy(result.circuit, runner.sampler))\n",
        "\n",
        "# Hamiltonian to matrix\n",
        "mat = h.to_matrix()\n",
        "\n",
        "# Calculate by numpy\n",
        "print('Result by numpy')\n",
        "print(np.linalg.eigh(mat)[0][0])"
      ],
      "execution_count": 20,
      "outputs": [
        {
          "output_type": "stream",
          "text": [
            "100%|██████████| 100/100 [00:01<00:00, 92.32it/s, best loss: -7.923665959252247]\n",
            "Result by VQE\n",
            "-7.923665959252247\n",
            "Result by numpy\n",
            "-8.0\n"
          ],
          "name": "stdout"
        }
      ]
    },
    {
      "cell_type": "markdown",
      "metadata": {
        "id": "7MCJJcpCbM3h",
        "colab_type": "text"
      },
      "source": [
        "このように無事導入ができました。"
      ]
    }
  ]
}