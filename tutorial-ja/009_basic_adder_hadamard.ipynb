{
 "cells": [
  {
   "cell_type": "markdown",
   "metadata": {
    "colab_type": "text",
    "id": "NjHnSAbHrInP"
   },
   "source": [
    "# 重ね合わせを使った足し算\n",
    "前回はXゲートを使ってデータを用意して加算回路を実現しました。量子コンピュータの特徴を使って重ね合わせを利用した加算回路を実現してみてどのような挙動をするのかをみてみましょう。"
   ]
  },
  {
   "cell_type": "markdown",
   "metadata": {
    "colab_type": "text",
    "id": "PKhFYi-drld1"
   },
   "source": [
    "## 重ね合わせを使った2進数の加算回路\n",
    "今回はa+b=cdという回路のaとbにHゲートを適用して重ね合わせ状態で計算をしてみます。計算自体は100回やってみます。\n",
    "\n",
    "\n"
   ]
  },
  {
   "cell_type": "code",
   "execution_count": 1,
   "metadata": {
    "collapsed": true
   },
   "outputs": [
    {
     "name": "stdout",
     "output_type": "stream",
     "text": [
      "Requirement already satisfied: blueqat in /home/ec2-user/anaconda3/envs/python3/lib/python3.6/site-packages (0.3.13)\n",
      "Requirement already satisfied: scipy>=1.1.0 in /home/ec2-user/anaconda3/envs/python3/lib/python3.6/site-packages (from blueqat) (1.1.0)\n",
      "Requirement already satisfied: numpy~=1.12 in /home/ec2-user/anaconda3/envs/python3/lib/python3.6/site-packages (from blueqat) (1.18.3)\n",
      "\u001b[33mWARNING: You are using pip version 20.0.2; however, version 20.1 is available.\n",
      "You should consider upgrading via the '/home/ec2-user/anaconda3/envs/python3/bin/python -m pip install --upgrade pip' command.\u001b[0m\n"
     ]
    }
   ],
   "source": [
    "!pip install blueqat"
   ]
  },
  {
   "cell_type": "code",
   "execution_count": 2,
   "metadata": {
    "colab": {
     "base_uri": "https://localhost:8080/",
     "height": 34
    },
    "colab_type": "code",
    "id": "O674HiVxjc7P",
    "outputId": "e9b2304a-46e5-46e8-f2c5-7d43f5d26283"
   },
   "outputs": [
    {
     "data": {
      "text/plain": [
       "Counter({'1010': 30, '0110': 20, '0000': 25, '1101': 25})"
      ]
     },
     "execution_count": 2,
     "metadata": {},
     "output_type": "execute_result"
    }
   ],
   "source": [
    "from blueqat import Circuit\n",
    "\n",
    "adder = Circuit().ccx[0,1,3].cx[1,2].cx[0,2]\n",
    "\n",
    "#重ね合わせ\n",
    "(Circuit().h[0].h[1] + adder).m[:].run(shots=100)"
   ]
  },
  {
   "cell_type": "markdown",
   "metadata": {
    "colab_type": "text",
    "id": "OPe8FDu04AtN"
   },
   "source": [
    "どうでしょうか、すべての足し算の場合が4通り出てきました。条件を満たす計算が重ね合わせを使って実現できました。上記は、\n",
    "\n",
    "0+0=00\n",
    "0+1=10\n",
    "1+0=10\n",
    "1+1=01\n",
    "\n",
    "となっています（桁がみづらいですが）。以上で重ね合わせと加算回路を使った計算ができました。"
   ]
  },
  {
   "cell_type": "markdown",
   "metadata": {},
   "source": [
    "# 概要\n",
    "\n",
    "## 回路の実装\n",
    "前回4つのパターンを実装しましたがこれらは全て X ゲートで操作しています。   \n",
    "量子の重ね合わせを用いると4パターンを一気に操作することができます。\n",
    "\n",
    "式としては以下の物を考えます。\n",
    "\n",
    "<img src=\"./img/009/009_02_0.png\" width=\"35%\">\n",
    "\n",
    "見てわかる通り右辺に入力の4パターンが出てきました。\n",
    "この性質を用いて実装します。\n",
    "\n",
    "回路は以下のようになります。\n",
    "\n",
    "<img src=\"./img/009/009_02_1.png\" width=\"35%\">\n",
    "\n",
    "今まで Xゲートを施していた部分を Hゲートにして 4パターンを作っています。"
   ]
  },
  {
   "cell_type": "code",
   "execution_count": null,
   "metadata": {},
   "outputs": [],
   "source": []
  }
 ],
 "metadata": {
  "colab": {
   "collapsed_sections": [],
   "name": "009_basic_adder_hadamard.ipynb",
   "provenance": [],
   "version": "0.3.2"
  },
  "kernelspec": {
   "display_name": "conda_python3",
   "language": "python",
   "name": "conda_python3"
  },
  "language_info": {
   "codemirror_mode": {
    "name": "ipython",
    "version": 3
   },
   "file_extension": ".py",
   "mimetype": "text/x-python",
   "name": "python",
   "nbconvert_exporter": "python",
   "pygments_lexer": "ipython3",
   "version": "3.6.5"
  }
 },
 "nbformat": 4,
 "nbformat_minor": 1
}
