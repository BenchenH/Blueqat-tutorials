{
  "cells": [
    {
      "metadata": {
        "colab_type": "text",
        "id": "NjHnSAbHrInP"
      },
      "cell_type": "markdown",
      "source": [
        "# 重ね合わせを使った足し算\n",
        "前回はXゲートを使ってデータを用意して加算回路を実現しました。量子コンピュータの特徴を使って重ね合わせを利用した加算回路を実現してみてどのような挙動をするのかをみてみましょう。"
      ]
    },
    {
      "metadata": {
        "colab_type": "text",
        "id": "PKhFYi-drld1"
      },
      "cell_type": "markdown",
      "source": [
        "## 重ね合わせを使った2進数の加算回路\n",
        "今回はa+b=cdという回路のaとbにHゲートを適用して重ね合わせ状態で計算をしてみます。計算自体は100回やってみます。\n",
        "\n",
        "\n"
      ]
    },
    {
      "metadata": {
        "colab_type": "code",
        "id": "O674HiVxjc7P",
        "colab": {
          "base_uri": "https://localhost:8080/",
          "height": 34
        },
        "outputId": "e9b2304a-46e5-46e8-f2c5-7d43f5d26283"
      },
      "cell_type": "code",
      "source": [
        "from blueqat import Circuit\n",
        "\n",
        "adder = Circuit().ccx[0,1,3].cx[1,2].cx[0,2]\n",
        "\n",
        "#重ね合わせ\n",
        "(Circuit().h[0].h[1] + adder).m[:].run(shots=100)"
      ],
      "execution_count": 78,
      "outputs": [
        {
          "output_type": "execute_result",
          "data": {
            "text/plain": [
              "Counter({'0000': 28, '0110': 27, '1010': 20, '1101': 25})"
            ]
          },
          "metadata": {
            "tags": []
          },
          "execution_count": 78
        }
      ]
    },
    {
      "metadata": {
        "id": "OPe8FDu04AtN",
        "colab_type": "text"
      },
      "cell_type": "markdown",
      "source": [
        "どうでしょうか、すべての足し算の場合が4通り出てきました。条件を満たす計算が重ね合わせを使って実現できました。上記は、\n",
        "\n",
        "0+0=00\n",
        "0+1=10\n",
        "1+0=10\n",
        "1+1=01\n",
        "\n",
        "となっています（桁がみづらいですが）。以上で重ね合わせと加算回路を使った計算ができました。"
      ]
    },
    {
      "cell_type": "markdown",
      "metadata": {},
      "source": [
        "# 概要\n",
        "\n",
        "## 回路の実装\n",
        "前回4つのパターンを実装しましたがこれらは全て X ゲートで操作しています。   \n",
        "量子の重ね合わせを用いると4パターンを一気に操作することができます。\n",
        "\n",
        "式としては以下の物を考えます。\n",
        "\n",
        "<img src=\"./img/009/009_02_0.png\" width=\"35%\">\n",
        "\n",
        "見てわかる通り右辺に入力の4パターンが出てきました。\n",
        "この性質を用いて実装します。\n",
        "\n",
        "回路は以下のようになります。\n",
        "\n",
        "<img src=\"./img/009/009_02_1.png\" width=\"35%\">\n",
        "\n",
        "今まで Xゲートを施していた部分を Hゲートにして 4パターンを作っています。"
      ]
    },
    {
      "cell_type": "code",
      "execution_count": null,
      "metadata": {},
      "outputs": [],
      "source": []
    }
  ],
  "metadata": {
    "colab": {
      "name": "009_basic_adder_hadamard.ipynb",
      "version": "0.3.2",
      "provenance": [],
      "collapsed_sections": []
    },
    "kernelspec": {
      "display_name": "Python 3",
      "language": "python",
      "name": "python3"
    }
  },
  "nbformat": 4,
  "nbformat_minor": 0
}