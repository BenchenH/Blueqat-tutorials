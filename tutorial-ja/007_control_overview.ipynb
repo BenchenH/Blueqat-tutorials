{
 "nbformat": 4,
 "nbformat_minor": 2,
 "metadata": {
  "language_info": {
   "name": "python",
   "codemirror_mode": {
    "name": "ipython",
    "version": 3
   }
  },
  "orig_nbformat": 2,
  "file_extension": ".py",
  "mimetype": "text/x-python",
  "name": "python",
  "npconvert_exporter": "python",
  "pygments_lexer": "ipython3",
  "version": 3
 },
 "cells": [
  {
   "cell_type": "markdown",
   "metadata": {},
   "source": [
    "# 制御ゲート（概要）\n",
    "ここでは制御ゲートに関して説明します。\n",
    "\n",
    "制御ゲートはCXゲートのように「コントロールゲート」と「ターゲットゲート」で構成されます。   \n",
    "以下に各制御ゲートの行列表現とビットの対応を述べます。"
   ]
  },
  {
   "cell_type": "markdown",
   "metadata": {},
   "source": [
    "## CX ゲート\n",
    "\n",
    "<img src=\"./img/007/007_0.png\" width=\"60%\">\n",
    "\n",
    "上の式から右下の部分がターゲットビットにかかることがわかります。"
   ]
  },
  {
   "cell_type": "markdown",
   "metadata": {},
   "source": [
    "## CY ゲート\n",
    "\n",
    "<img src=\"./img/007/007_1.png\" width=\"60%\">"
   ]
  },
  {
   "cell_type": "markdown",
   "metadata": {},
   "source": [
    "## CZ ゲート\n",
    "\n",
    "<img src=\"./img/007/007_2.png\" width=\"60%\">\n",
    "\n",
    "CZゲートは対応を見るとわかるように 11 のときのみベクトルが変化します。"
   ]
  },
  {
   "cell_type": "markdown",
   "metadata": {},
   "source": [
    "## CRz ゲート\n",
    "Rx, Ry, Rzゲートのことを回転ゲートと言います。\n",
    "\n",
    "これにも「コントロールゲート」と「ターゲットゲート」を考えて制御ゲートを構成できます。\n",
    "\n",
    "CRz ゲートは以下のような行列になります。\n",
    "\n",
    "<img src=\"./img/007/007_3.png\" width=\"45%\">\n",
    "\n",
    "基本的に考え方は CX ゲートの場合と同じです。"
   ]
  },
  {
   "cell_type": "code",
   "execution_count": null,
   "metadata": {},
   "outputs": [],
   "source": []
  }
 ]
}