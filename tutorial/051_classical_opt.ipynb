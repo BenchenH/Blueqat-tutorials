{
  "nbformat": 4,
  "nbformat_minor": 0,
  "metadata": {
    "colab": {
      "name": "051_classical_opt.ipynb",
      "provenance": []
    },
    "kernelspec": {
      "name": "python3",
      "display_name": "Python 3"
    }
  },
  "cells": [
    {
      "cell_type": "markdown",
      "metadata": {
        "id": "WAr8pX3MY4bC",
        "colab_type": "text"
      },
      "source": [
        "#Set up a classical optimization solver"
      ]
    },
    {
      "cell_type": "markdown",
      "metadata": {
        "id": "spfbaZ2uY8Xg",
        "colab_type": "text"
      },
      "source": [
        "Here we see the classical optimization solver used in VQE or QAOA quantum-classical hybrid algorithms."
      ]
    },
    {
      "cell_type": "code",
      "metadata": {
        "id": "PLrhMb4HWmTy",
        "colab_type": "code",
        "outputId": "119b026a-e905-4b83-f1cb-685cbb0a4d47",
        "colab": {
          "base_uri": "https://localhost:8080/",
          "height": 68
        }
      },
      "source": [
        "!pip install blueqat"
      ],
      "execution_count": 21,
      "outputs": [
        {
          "output_type": "stream",
          "text": [
            "Requirement already satisfied: blueqat in /usr/local/lib/python3.6/dist-packages (0.3.13)\n",
            "Requirement already satisfied: scipy>=1.1.0 in /usr/local/lib/python3.6/dist-packages (from blueqat) (1.4.1)\n",
            "Requirement already satisfied: numpy~=1.12 in /usr/local/lib/python3.6/dist-packages (from blueqat) (1.17.5)\n"
          ],
          "name": "stdout"
        }
      ]
    },
    {
      "cell_type": "markdown",
      "metadata": {
        "id": "PAtDORE3ae49",
        "colab_type": "text"
      },
      "source": [
        "When we calculate the ansatz we just set up the minimizer."
      ]
    },
    {
      "cell_type": "code",
      "metadata": {
        "id": "h7NQ9kuEZW42",
        "colab_type": "code",
        "outputId": "a2526be9-cfdc-4758-f2d2-b421c0df4a53",
        "colab": {
          "base_uri": "https://localhost:8080/",
          "height": 85
        }
      },
      "source": [
        "import numpy as np\n",
        "from blueqat import Circuit\n",
        "from blueqat.pauli import X, Y, Z, I\n",
        "from blueqat.pauli import qubo_bit as q\n",
        "from blueqat.vqe import AnsatzBase, Vqe, get_scipy_minimizer\n",
        "\n",
        "class QubitAnsatz(AnsatzBase):\n",
        "    def __init__(self, hamiltonian):\n",
        "        super().__init__(hamiltonian, 4)\n",
        "        self.step = 1\n",
        "\n",
        "    def get_circuit(self, params):\n",
        "        a, b, c, d = params\n",
        "        return Circuit().ry(a)[0].rz(b)[0].ry(c)[1].rz(d)[1]\n",
        "\n",
        "h = -3*q(0)-3*q(1)-2*q(0)*q(1)\n",
        "h = h.to_expr().simplify()\n",
        "minimizer = get_scipy_minimizer(method=\"COBYLA\",options={\"tol\":5.0e-4})\n",
        "runner = Vqe(QubitAnsatz(h),minimizer=minimizer)\n",
        "result = runner.run()\n",
        "\n",
        "print('Result by VQE')\n",
        "print(runner.ansatz.get_energy(result.circuit, runner.sampler))\n",
        "\n",
        "# Hamiltonian to matrix\n",
        "mat = h.to_matrix()\n",
        "\n",
        "# Calculate by numpy\n",
        "print('Result by numpy')\n",
        "print(np.linalg.eigh(mat)[0][0])"
      ],
      "execution_count": 22,
      "outputs": [
        {
          "output_type": "stream",
          "text": [
            "Result by VQE\n",
            "-7.999999738356178\n",
            "Result by numpy\n",
            "-8.0\n"
          ],
          "name": "stdout"
        }
      ]
    },
    {
      "cell_type": "markdown",
      "metadata": {
        "id": "K685AxwIaljb",
        "colab_type": "text"
      },
      "source": [
        "##Other solvers\n",
        "If you want to use your own solver, it can be set up by making a function. This time we try to use bayesian optimization solver \"hyperopt\"."
      ]
    },
    {
      "cell_type": "code",
      "metadata": {
        "id": "aV8SOqfRaAl3",
        "colab_type": "code",
        "outputId": "65540049-9ade-4fb2-f9bd-ccb73f857726",
        "colab": {
          "base_uri": "https://localhost:8080/",
          "height": 170
        }
      },
      "source": [
        "!pip install hyperopt"
      ],
      "execution_count": 24,
      "outputs": [
        {
          "output_type": "stream",
          "text": [
            "Requirement already satisfied: hyperopt in /usr/local/lib/python3.6/dist-packages (0.1.2)\n",
            "Requirement already satisfied: tqdm in /usr/local/lib/python3.6/dist-packages (from hyperopt) (4.28.1)\n",
            "Requirement already satisfied: future in /usr/local/lib/python3.6/dist-packages (from hyperopt) (0.16.0)\n",
            "Requirement already satisfied: networkx in /usr/local/lib/python3.6/dist-packages (from hyperopt) (2.4)\n",
            "Requirement already satisfied: pymongo in /usr/local/lib/python3.6/dist-packages (from hyperopt) (3.10.1)\n",
            "Requirement already satisfied: six in /usr/local/lib/python3.6/dist-packages (from hyperopt) (1.12.0)\n",
            "Requirement already satisfied: scipy in /usr/local/lib/python3.6/dist-packages (from hyperopt) (1.4.1)\n",
            "Requirement already satisfied: numpy in /usr/local/lib/python3.6/dist-packages (from hyperopt) (1.17.5)\n",
            "Requirement already satisfied: decorator>=4.3.0 in /usr/local/lib/python3.6/dist-packages (from networkx->hyperopt) (4.4.1)\n"
          ],
          "name": "stdout"
        }
      ]
    },
    {
      "cell_type": "code",
      "metadata": {
        "id": "10pef-zmaC4_",
        "colab_type": "code",
        "colab": {}
      },
      "source": [
        "def hyperopt_minimizer(objective, n_params):\n",
        "    from hyperopt import fmin, Trials, tpe, hp\n",
        "    trials = Trials()\n",
        "    best = fmin(objective, [hp.uniform(f'p{i}', 0., 2 * np.pi) for i in range(n_params)],\n",
        "            algo=tpe.suggest, max_evals=100, trials=trials, verbose=1)\n",
        "    return list(best.values())"
      ],
      "execution_count": 0,
      "outputs": []
    },
    {
      "cell_type": "code",
      "metadata": {
        "id": "1g5HGGY-Zt9P",
        "colab_type": "code",
        "outputId": "dc03c61a-9aed-40f9-9410-dc151e7262d6",
        "colab": {
          "base_uri": "https://localhost:8080/",
          "height": 102
        }
      },
      "source": [
        "runner = Vqe(QubitAnsatz(h),minimizer=hyperopt_minimizer)\n",
        "result = runner.run()\n",
        "\n",
        "print('Result by VQE')\n",
        "print(runner.ansatz.get_energy(result.circuit, runner.sampler))\n",
        "\n",
        "# Hamiltonian to matrix\n",
        "mat = h.to_matrix()\n",
        "\n",
        "# Calculate by numpy\n",
        "print('Result by numpy')\n",
        "print(np.linalg.eigh(mat)[0][0])"
      ],
      "execution_count": 26,
      "outputs": [
        {
          "output_type": "stream",
          "text": [
            "100%|██████████| 100/100 [00:01<00:00, 87.43it/s, best loss: -7.879139761619782]\n",
            "Result by VQE\n",
            "-7.879139761619782\n",
            "Result by numpy\n",
            "-8.0\n"
          ],
          "name": "stdout"
        }
      ]
    },
    {
      "cell_type": "markdown",
      "metadata": {
        "id": "7MCJJcpCbM3h",
        "colab_type": "text"
      },
      "source": [
        "We succeded to set up an optimizer."
      ]
    }
  ]
}