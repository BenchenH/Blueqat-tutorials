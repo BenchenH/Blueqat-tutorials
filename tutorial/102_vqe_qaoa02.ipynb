{
  "nbformat": 4,
  "nbformat_minor": 0,
  "metadata": {
    "colab": {
      "name": "102vqe_qaoa02.ipynb",
      "provenance": []
    },
    "kernelspec": {
      "name": "python3",
      "display_name": "Python 3"
    }
  },
  "cells": [
    {
      "cell_type": "markdown",
      "metadata": {
        "id": "0DeQHhKHtIS9",
        "colab_type": "text"
      },
      "source": [
        "#VQE and quantum chemistry"
      ]
    },
    {
      "cell_type": "markdown",
      "metadata": {
        "id": "xoLga_-FtPxy",
        "colab_type": "text"
      },
      "source": [
        "On a quantum chemistry we can make hamiltonian using pauli operators and solve it using VQE. On a chemistry the advanced research on ansatz is done better than other problems and many researchers are working on this problem."
      ]
    },
    {
      "cell_type": "markdown",
      "metadata": {
        "id": "ofFbnPOGqbKf",
        "colab_type": "text"
      },
      "source": [
        "##2-3-1 Install\n",
        "We need to install blueqat, openfermionblueqat and openfermion."
      ]
    },
    {
      "cell_type": "code",
      "metadata": {
        "id": "_NQIdXmptSJU",
        "colab_type": "code",
        "outputId": "db2075c6-9dbe-4e71-9b97-71ff39b2aa28",
        "colab": {
          "base_uri": "https://localhost:8080/",
          "height": 1000
        }
      },
      "source": [
        "!pip3 install blueqat openfermionblueqat openfermion"
      ],
      "execution_count": 1,
      "outputs": [
        {
          "output_type": "stream",
          "text": [
            "Collecting blueqat\n",
            "\u001b[?25l  Downloading https://files.pythonhosted.org/packages/f6/73/20f9cff48caee1f69190f2e1ea93c4d7d0a745fc48defb5d3072d8337583/blueqat-0.3.13-py3-none-any.whl (50kB)\n",
            "\u001b[K     |████████████████████████████████| 51kB 1.7MB/s \n",
            "\u001b[?25hCollecting openfermionblueqat\n",
            "  Downloading https://files.pythonhosted.org/packages/e0/ef/d2a4242ef5f4ff518921dfd608d7841f476e947bc23efc25bd7c3ba0042d/openfermionblueqat-0.2.2-py3-none-any.whl\n",
            "Collecting openfermion\n",
            "\u001b[?25l  Downloading https://files.pythonhosted.org/packages/66/72/e058e3d8ececd54212bb98848e8e8227d4887fed6fe8d87f425a034add8b/openfermion-0.10.0.tar.gz (625kB)\n",
            "\u001b[K     |████████████████████████████████| 634kB 6.6MB/s \n",
            "\u001b[?25hRequirement already satisfied: scipy>=1.1.0 in /usr/local/lib/python3.6/dist-packages (from blueqat) (1.4.1)\n",
            "Requirement already satisfied: numpy~=1.12 in /usr/local/lib/python3.6/dist-packages (from blueqat) (1.17.5)\n",
            "Requirement already satisfied: h5py>=2.8 in /usr/local/lib/python3.6/dist-packages (from openfermion) (2.8.0)\n",
            "Requirement already satisfied: future in /usr/local/lib/python3.6/dist-packages (from openfermion) (0.16.0)\n",
            "Requirement already satisfied: jupyter in /usr/local/lib/python3.6/dist-packages (from openfermion) (1.0.0)\n",
            "Requirement already satisfied: nbformat in /usr/local/lib/python3.6/dist-packages (from openfermion) (5.0.4)\n",
            "Requirement already satisfied: networkx in /usr/local/lib/python3.6/dist-packages (from openfermion) (2.4)\n",
            "Requirement already satisfied: matplotlib in /usr/local/lib/python3.6/dist-packages (from openfermion) (3.1.3)\n",
            "Collecting pubchempy\n",
            "  Downloading https://files.pythonhosted.org/packages/aa/fb/8de3aa9804b614dbc8dc5c16ed061d819cc360e0ddecda3dcd01c1552339/PubChemPy-1.0.4.tar.gz\n",
            "Requirement already satisfied: six in /usr/local/lib/python3.6/dist-packages (from openfermion) (1.12.0)\n",
            "Requirement already satisfied: qtconsole in /usr/local/lib/python3.6/dist-packages (from jupyter->openfermion) (4.6.0)\n",
            "Requirement already satisfied: ipywidgets in /usr/local/lib/python3.6/dist-packages (from jupyter->openfermion) (7.5.1)\n",
            "Requirement already satisfied: jupyter-console in /usr/local/lib/python3.6/dist-packages (from jupyter->openfermion) (5.2.0)\n",
            "Requirement already satisfied: nbconvert in /usr/local/lib/python3.6/dist-packages (from jupyter->openfermion) (5.6.1)\n",
            "Requirement already satisfied: ipykernel in /usr/local/lib/python3.6/dist-packages (from jupyter->openfermion) (4.6.1)\n",
            "Requirement already satisfied: notebook in /usr/local/lib/python3.6/dist-packages (from jupyter->openfermion) (5.2.2)\n",
            "Requirement already satisfied: traitlets>=4.1 in /usr/local/lib/python3.6/dist-packages (from nbformat->openfermion) (4.3.3)\n",
            "Requirement already satisfied: jsonschema!=2.5.0,>=2.4 in /usr/local/lib/python3.6/dist-packages (from nbformat->openfermion) (2.6.0)\n",
            "Requirement already satisfied: jupyter-core in /usr/local/lib/python3.6/dist-packages (from nbformat->openfermion) (4.6.2)\n",
            "Requirement already satisfied: ipython-genutils in /usr/local/lib/python3.6/dist-packages (from nbformat->openfermion) (0.2.0)\n",
            "Requirement already satisfied: decorator>=4.3.0 in /usr/local/lib/python3.6/dist-packages (from networkx->openfermion) (4.4.1)\n",
            "Requirement already satisfied: pyparsing!=2.0.4,!=2.1.2,!=2.1.6,>=2.0.1 in /usr/local/lib/python3.6/dist-packages (from matplotlib->openfermion) (2.4.6)\n",
            "Requirement already satisfied: cycler>=0.10 in /usr/local/lib/python3.6/dist-packages (from matplotlib->openfermion) (0.10.0)\n",
            "Requirement already satisfied: kiwisolver>=1.0.1 in /usr/local/lib/python3.6/dist-packages (from matplotlib->openfermion) (1.1.0)\n",
            "Requirement already satisfied: python-dateutil>=2.1 in /usr/local/lib/python3.6/dist-packages (from matplotlib->openfermion) (2.6.1)\n",
            "Requirement already satisfied: pygments in /usr/local/lib/python3.6/dist-packages (from qtconsole->jupyter->openfermion) (2.1.3)\n",
            "Requirement already satisfied: jupyter-client>=4.1 in /usr/local/lib/python3.6/dist-packages (from qtconsole->jupyter->openfermion) (5.3.4)\n",
            "Requirement already satisfied: ipython>=4.0.0; python_version >= \"3.3\" in /usr/local/lib/python3.6/dist-packages (from ipywidgets->jupyter->openfermion) (5.5.0)\n",
            "Requirement already satisfied: widgetsnbextension~=3.5.0 in /usr/local/lib/python3.6/dist-packages (from ipywidgets->jupyter->openfermion) (3.5.1)\n",
            "Requirement already satisfied: prompt-toolkit<2.0.0,>=1.0.0 in /usr/local/lib/python3.6/dist-packages (from jupyter-console->jupyter->openfermion) (1.0.18)\n",
            "Requirement already satisfied: jinja2>=2.4 in /usr/local/lib/python3.6/dist-packages (from nbconvert->jupyter->openfermion) (2.11.1)\n",
            "Requirement already satisfied: entrypoints>=0.2.2 in /usr/local/lib/python3.6/dist-packages (from nbconvert->jupyter->openfermion) (0.3)\n",
            "Requirement already satisfied: mistune<2,>=0.8.1 in /usr/local/lib/python3.6/dist-packages (from nbconvert->jupyter->openfermion) (0.8.4)\n",
            "Requirement already satisfied: pandocfilters>=1.4.1 in /usr/local/lib/python3.6/dist-packages (from nbconvert->jupyter->openfermion) (1.4.2)\n",
            "Requirement already satisfied: testpath in /usr/local/lib/python3.6/dist-packages (from nbconvert->jupyter->openfermion) (0.4.4)\n",
            "Requirement already satisfied: defusedxml in /usr/local/lib/python3.6/dist-packages (from nbconvert->jupyter->openfermion) (0.6.0)\n",
            "Requirement already satisfied: bleach in /usr/local/lib/python3.6/dist-packages (from nbconvert->jupyter->openfermion) (3.1.0)\n",
            "Requirement already satisfied: tornado>=4.0 in /usr/local/lib/python3.6/dist-packages (from ipykernel->jupyter->openfermion) (4.5.3)\n",
            "Requirement already satisfied: terminado>=0.3.3; sys_platform != \"win32\" in /usr/local/lib/python3.6/dist-packages (from notebook->jupyter->openfermion) (0.8.3)\n",
            "Requirement already satisfied: setuptools in /usr/local/lib/python3.6/dist-packages (from kiwisolver>=1.0.1->matplotlib->openfermion) (45.1.0)\n",
            "Requirement already satisfied: pyzmq>=13 in /usr/local/lib/python3.6/dist-packages (from jupyter-client>=4.1->qtconsole->jupyter->openfermion) (17.0.0)\n",
            "Requirement already satisfied: pexpect; sys_platform != \"win32\" in /usr/local/lib/python3.6/dist-packages (from ipython>=4.0.0; python_version >= \"3.3\"->ipywidgets->jupyter->openfermion) (4.8.0)\n",
            "Requirement already satisfied: simplegeneric>0.8 in /usr/local/lib/python3.6/dist-packages (from ipython>=4.0.0; python_version >= \"3.3\"->ipywidgets->jupyter->openfermion) (0.8.1)\n",
            "Requirement already satisfied: pickleshare in /usr/local/lib/python3.6/dist-packages (from ipython>=4.0.0; python_version >= \"3.3\"->ipywidgets->jupyter->openfermion) (0.7.5)\n",
            "Requirement already satisfied: wcwidth in /usr/local/lib/python3.6/dist-packages (from prompt-toolkit<2.0.0,>=1.0.0->jupyter-console->jupyter->openfermion) (0.1.8)\n",
            "Requirement already satisfied: MarkupSafe>=0.23 in /usr/local/lib/python3.6/dist-packages (from jinja2>=2.4->nbconvert->jupyter->openfermion) (1.1.1)\n",
            "Requirement already satisfied: webencodings in /usr/local/lib/python3.6/dist-packages (from bleach->nbconvert->jupyter->openfermion) (0.5.1)\n",
            "Requirement already satisfied: ptyprocess; os_name != \"nt\" in /usr/local/lib/python3.6/dist-packages (from terminado>=0.3.3; sys_platform != \"win32\"->notebook->jupyter->openfermion) (0.6.0)\n",
            "Building wheels for collected packages: openfermion, pubchempy\n",
            "  Building wheel for openfermion (setup.py) ... \u001b[?25l\u001b[?25hdone\n",
            "  Created wheel for openfermion: filename=openfermion-0.10.0-cp36-none-any.whl size=731375 sha256=a6a7b18652f246d94640f5fa1a2a85b9d71d28a0ea20032213626d14f8ed3f0f\n",
            "  Stored in directory: /root/.cache/pip/wheels/3c/49/cd/098bb337ffcbb70021864403773043df332c065590873f1813\n",
            "  Building wheel for pubchempy (setup.py) ... \u001b[?25l\u001b[?25hdone\n",
            "  Created wheel for pubchempy: filename=PubChemPy-1.0.4-cp36-none-any.whl size=13825 sha256=6f935bbf877c8746569afa0d242dedb965bea20387048f6839b9f8ef47d91339\n",
            "  Stored in directory: /root/.cache/pip/wheels/10/4d/51/6b843681a9a5aef35f0d0fbce243de46f85080036e16118752\n",
            "Successfully built openfermion pubchempy\n",
            "Installing collected packages: blueqat, pubchempy, openfermion, openfermionblueqat\n",
            "Successfully installed blueqat-0.3.13 openfermion-0.10.0 openfermionblueqat-0.2.2 pubchempy-1.0.4\n"
          ],
          "name": "stdout"
        }
      ]
    },
    {
      "cell_type": "markdown",
      "metadata": {
        "id": "HHLJDoRXtXta",
        "colab_type": "text"
      },
      "source": [
        "##2-3-2 Coding\n",
        "Here we use a prepared data provided by openfermion."
      ]
    },
    {
      "cell_type": "code",
      "metadata": {
        "id": "hDacEDd6tVIK",
        "colab_type": "code",
        "outputId": "cdb33658-119e-4c37-caf6-04d06ba417b7",
        "colab": {
          "base_uri": "https://localhost:8080/",
          "height": 283
        }
      },
      "source": [
        "from blueqat import *\n",
        "from openfermion import *\n",
        "from openfermionblueqat import*\n",
        "import numpy as np\n",
        "\n",
        "def get_molecule(bond_len):\n",
        "  geometry = [('H',(0.,0.,0.)),('H',(0.,0.,bond_len))]\n",
        "\n",
        "  description = format(bond_len)\n",
        "  molecule = MolecularData(geometry, \"sto-3g\",1,description=description)\n",
        "\n",
        "  molecule.load()\n",
        "  return molecule\n",
        "\n",
        "x = [];e=[];fullci=[]\n",
        "for bond_len in np.arange(0.2,2.5,0.1):\n",
        "  m = get_molecule(\"{:.2}\".format(bond_len))\n",
        "  h = bravyi_kitaev(get_fermion_operator(m.get_molecular_hamiltonian()))\n",
        "  runner = vqe.Vqe(UCCAnsatz(h,6,Circuit().x[0]))\n",
        "  result = runner.run()\n",
        "  x.append(bond_len)\n",
        "  e.append(runner.ansatz.get_energy(result.circuit,runner.sampler))\n",
        "  fullci.append(m.fci_energy)\n",
        "\n",
        "%matplotlib inline\n",
        "import matplotlib.pyplot as plt\n",
        "plt.plot(x,fullci)\n",
        "plt.plot(x,e,\"o\")"
      ],
      "execution_count": 0,
      "outputs": [
        {
          "output_type": "execute_result",
          "data": {
            "text/plain": [
              "[<matplotlib.lines.Line2D at 0x7fd883233c88>]"
            ]
          },
          "metadata": {
            "tags": []
          },
          "execution_count": 2
        },
        {
          "output_type": "display_data",
          "data": {
            "image/png": "[encoded data removed]",
            "text/plain": [
              "<Figure size 432x288 with 1 Axes>"
            ]
          },
          "metadata": {
            "tags": []
          }
        }
      ]
    },
    {
      "cell_type": "markdown",
      "metadata": {
        "id": "XC1xaDwbtcxb",
        "colab_type": "text"
      },
      "source": [
        "We got a result on the H2 problem."
      ]
    },
    {
      "cell_type": "markdown",
      "metadata": {
        "id": "3vw6h4eytfK2",
        "colab_type": "text"
      },
      "source": [
        "##2-3-3 Checking inside the coding\n",
        "Using MoluculearData function on OpenFermion, we can use prepare data of Sto-3g on H2 molecule."
      ]
    },
    {
      "cell_type": "code",
      "metadata": {
        "id": "U2xwZyAItaMu",
        "colab_type": "code",
        "colab": {}
      },
      "source": [
        "def get_molecule(bond_len):\n",
        "  geometry = [('H',(0.,0.,0.)),('H',(0.,0.,bond_len))]\n",
        "\n",
        "  description = format(bond_len)\n",
        "  molecule = MolecularData(geometry, \"sto-3g\",1,description=description)\n",
        "\n",
        "  molecule.load()\n",
        "  return molecule"
      ],
      "execution_count": 0,
      "outputs": []
    },
    {
      "cell_type": "markdown",
      "metadata": {
        "id": "jy8xNG4Etk2S",
        "colab_type": "text"
      },
      "source": [
        "Here we select 0.4 as the bond length between atoms. We get a formulation on second quantization."
      ]
    },
    {
      "cell_type": "code",
      "metadata": {
        "id": "TO1lSYvbtikE",
        "colab_type": "code",
        "outputId": "51191d25-cec4-4d64-a0c5-99ddeebe83d8",
        "colab": {
          "base_uri": "https://localhost:8080/",
          "height": 646
        }
      },
      "source": [
        "m = get_molecule(0.4)\n",
        "m.get_molecular_hamiltonian()"
      ],
      "execution_count": 0,
      "outputs": [
        {
          "output_type": "execute_result",
          "data": {
            "text/plain": [
              "() 1.322943021475\n",
              "((0, 1), (0, 0)) -1.4820918858979102\n",
              "((1, 1), (1, 0)) -1.4820918858979102\n",
              "((2, 1), (2, 0)) -0.1187350527865787\n",
              "((3, 1), (3, 0)) -0.1187350527865787\n",
              "((0, 1), (0, 1), (0, 0), (0, 0)) 0.36843967630348756\n",
              "((0, 1), (0, 1), (2, 0), (2, 0)) 0.08225771204699692\n",
              "((0, 1), (1, 1), (1, 0), (0, 0)) 0.36843967630348756\n",
              "((0, 1), (1, 1), (3, 0), (2, 0)) 0.08225771204699692\n",
              "((0, 1), (2, 1), (0, 0), (2, 0)) 0.082257712046997\n",
              "((0, 1), (2, 1), (2, 0), (0, 0)) 0.3626667179796745\n",
              "((0, 1), (3, 1), (1, 0), (2, 0)) 0.082257712046997\n",
              "((0, 1), (3, 1), (3, 0), (0, 0)) 0.3626667179796745\n",
              "((1, 1), (0, 1), (0, 0), (1, 0)) 0.36843967630348756\n",
              "((1, 1), (0, 1), (2, 0), (3, 0)) 0.08225771204699692\n",
              "((1, 1), (1, 1), (1, 0), (1, 0)) 0.36843967630348756\n",
              "((1, 1), (1, 1), (3, 0), (3, 0)) 0.08225771204699692\n",
              "((1, 1), (2, 1), (0, 0), (3, 0)) 0.082257712046997\n",
              "((1, 1), (2, 1), (2, 0), (1, 0)) 0.3626667179796745\n",
              "((1, 1), (3, 1), (1, 0), (3, 0)) 0.082257712046997\n",
              "((1, 1), (3, 1), (3, 0), (1, 0)) 0.3626667179796745\n",
              "((2, 1), (0, 1), (0, 0), (2, 0)) 0.36266671797967454\n",
              "((2, 1), (0, 1), (2, 0), (0, 0)) 0.08225771204699726\n",
              "((2, 1), (1, 1), (1, 0), (2, 0)) 0.36266671797967454\n",
              "((2, 1), (1, 1), (3, 0), (0, 0)) 0.08225771204699726\n",
              "((2, 1), (2, 1), (0, 0), (0, 0)) 0.08225771204699728\n",
              "((2, 1), (2, 1), (2, 0), (2, 0)) 0.38272169831413727\n",
              "((2, 1), (3, 1), (1, 0), (0, 0)) 0.08225771204699728\n",
              "((2, 1), (3, 1), (3, 0), (2, 0)) 0.38272169831413727\n",
              "((3, 1), (0, 1), (0, 0), (3, 0)) 0.36266671797967454\n",
              "((3, 1), (0, 1), (2, 0), (1, 0)) 0.08225771204699726\n",
              "((3, 1), (1, 1), (1, 0), (3, 0)) 0.36266671797967454\n",
              "((3, 1), (1, 1), (3, 0), (1, 0)) 0.08225771204699726\n",
              "((3, 1), (2, 1), (0, 0), (1, 0)) 0.08225771204699728\n",
              "((3, 1), (2, 1), (2, 0), (3, 0)) 0.38272169831413727\n",
              "((3, 1), (3, 1), (1, 0), (1, 0)) 0.08225771204699728\n",
              "((3, 1), (3, 1), (3, 0), (3, 0)) 0.38272169831413727"
            ]
          },
          "metadata": {
            "tags": []
          },
          "execution_count": 4
        }
      ]
    },
    {
      "cell_type": "markdown",
      "metadata": {
        "id": "MCcUSNvltukv",
        "colab_type": "text"
      },
      "source": [
        "This is not a hamiltonian with pauli operator, so we need a transformation."
      ]
    },
    {
      "cell_type": "markdown",
      "metadata": {
        "id": "sP1KphQktw8Z",
        "colab_type": "text"
      },
      "source": [
        "##2-3-4 Transformation\n",
        "\n",
        "Bravi-Kitaev transformation or Jordan–Wigner transformation are famous. Now we use the former BK transformation."
      ]
    },
    {
      "cell_type": "code",
      "metadata": {
        "id": "3B3loOfutn2j",
        "colab_type": "code",
        "outputId": "99f7f869-64b7-4297-ac30-52d52b4147ff",
        "colab": {
          "base_uri": "https://localhost:8080/",
          "height": 272
        }
      },
      "source": [
        "h = bravyi_kitaev(get_fermion_operator(m.get_molecular_hamiltonian()))\n",
        "print(h)"
      ],
      "execution_count": 0,
      "outputs": [
        {
          "output_type": "stream",
          "text": [
            "(0.7407724940116754+0j) [] +\n",
            "(0.041128856023498556+0j) [X0 Z1 X2] +\n",
            "(0.041128856023498556+0j) [X0 Z1 X2 Z3] +\n",
            "(0.041128856023498556+0j) [Y0 Z1 Y2] +\n",
            "(0.041128856023498556+0j) [Y0 Z1 Y2 Z3] +\n",
            "(0.23528824284103544+0j) [Z0] +\n",
            "(0.23528824284103542+0j) [Z0 Z1] +\n",
            "(0.18133335898983727+0j) [Z0 Z1 Z2] +\n",
            "(0.18133335898983727+0j) [Z0 Z1 Z2 Z3] +\n",
            "(0.14020450296633868+0j) [Z0 Z2] +\n",
            "(0.14020450296633868+0j) [Z0 Z2 Z3] +\n",
            "(0.18421983815174378+0j) [Z1] +\n",
            "(-0.45353118471995524+0j) [Z1 Z2 Z3] +\n",
            "(0.19136084915706864+0j) [Z1 Z3] +\n",
            "(-0.45353118471995524+0j) [Z2]\n"
          ],
          "name": "stdout"
        }
      ]
    },
    {
      "cell_type": "markdown",
      "metadata": {
        "id": "xWER997LuB9V",
        "colab_type": "text"
      },
      "source": [
        "Now we got a hamiltonian with pauli operator, now we can solve it with VQE. To solve this efficiently we use UCC theory on ansatz. By using a prepared UCCansatz in blueqat we get,"
      ]
    },
    {
      "cell_type": "code",
      "metadata": {
        "id": "97RcOB7Rt4_7",
        "colab_type": "code",
        "outputId": "730c7fd9-0eed-4349-edd0-24aae9f26ba5",
        "colab": {
          "base_uri": "https://localhost:8080/",
          "height": 714
        }
      },
      "source": [
        "runner = vqe.Vqe(UCCAnsatz(h,2,Circuit().x[0]))\n",
        "result = runner.run(verbose = True)"
      ],
      "execution_count": 0,
      "outputs": [
        {
          "output_type": "stream",
          "text": [
            "params: [0.05292822 0.69293649] val: -0.5142646866048539\n",
            "params: [0.05292822 0.69293649] val: -0.5142646866048539\n",
            "params: [1.05292822 0.69293649] val: 0.8011773974437459\n",
            "params: [-1.56510578  0.69293649] val: -0.391150390234131\n",
            "params: [0.05292822 0.69293649] val: -0.5142646866048539\n",
            "params: [-0.56510575  0.69293649] val: -0.8977304830394611\n",
            "params: [-0.56510575  0.69293649] val: -0.8977304830394611\n",
            "params: [-0.56510575  1.69293649] val: 1.1263433928808557\n",
            "params: [-0.56510575 -0.92509751] val: -0.3739824457207399\n",
            "params: [-0.56510575  0.69293649] val: -0.8977304830394611\n",
            "params: [-0.56510575  0.07490252] val: -0.6645405398129258\n",
            "params: [-0.56510575  1.07490249] val: 0.6502494968493011\n",
            "params: [-0.56510575  0.42650545] val: -0.3371306326723218\n",
            "params: [-0.56510575  0.83883452] val: -0.5188368945182854\n",
            "params: [-0.56510575  0.5911689 ] val: -0.723006612107723\n",
            "params: [-0.56510575  0.74866458] val: -0.8515651952459188\n",
            "params: [-0.56510575  0.69517091] val: -0.8981969317962648\n",
            "params: [-0.56510575  0.70634301] val: -0.897747129510898\n",
            "params: [-1.18313973  0.69740533] val: -0.746229241629738\n",
            "params: [-0.56510575  0.69517091] val: -0.8981969317962648\n",
            "params: [-1.18313973  0.69740533] val: -0.746229241629738\n",
            "params: [0.43489423 0.69155555] val: -0.0675824851807392\n",
            "params: [-0.56510575  0.69517091] val: -0.8981969317962648\n",
            "params: [-0.18313976  0.69378997] val: -0.7188123204271055\n",
            "params: [-0.80117372  0.69602439] val: -0.9049963420733075\n",
            "params: [-0.80117372  0.69602439] val: -0.9049963420733075\n",
            "params: [-0.80117372  1.69602439] val: 1.2621240755027043\n",
            "params: [-0.80117372 -0.92200961] val: -0.291223954836067\n",
            "params: [-0.80117372  0.69602439] val: -0.9049963420733075\n",
            "params: [-0.80117372  0.07799041] val: -0.4433620633023846\n",
            "params: [-0.80117372  1.07799039] val: 0.9809286764492423\n",
            "params: [-0.80117372  0.45270877] val: -0.11675869413404844\n",
            "params: [-0.80117372  0.84192241] val: -0.44127255704023494\n",
            "params: [-0.80117372  0.60308609] val: -0.6771437588686717\n",
            "params: [-0.80117372  0.75175247] val: -0.8578763018840084\n",
            "params: [-0.80117372  0.70482634] val: -0.9083099960106484\n",
            "params: [-0.80117372  0.70482634] val: -0.9083099960106484\n",
            "params: [-1.03724168  0.70567982] val: -0.837079229404281\n",
            "params: [-0.41920772  0.7034454 ] val: -0.8514285285577546\n",
            "params: [-0.80117372  0.70482634] val: -0.9083099960106484\n",
            "params: [-0.65527569  0.70429887] val: -0.9117470824158458\n"
          ],
          "name": "stdout"
        }
      ]
    },
    {
      "cell_type": "markdown",
      "metadata": {
        "id": "pogBuf8HuG9y",
        "colab_type": "text"
      },
      "source": [
        "After the optimizing process we get the minimized result. This time we use UCC ansatz with Hamiltonian."
      ]
    },
    {
      "cell_type": "code",
      "metadata": {
        "id": "7aogyg6YuD6S",
        "colab_type": "code",
        "outputId": "48520c01-5ad1-4d42-fc6c-ccf395d1df9b",
        "colab": {
          "base_uri": "https://localhost:8080/",
          "height": 34
        }
      },
      "source": [
        "runner.ansatz.get_energy(result.circuit,runner.sampler)"
      ],
      "execution_count": 0,
      "outputs": [
        {
          "output_type": "execute_result",
          "data": {
            "text/plain": [
              "-0.9117470824158458"
            ]
          },
          "metadata": {
            "tags": []
          },
          "execution_count": 10
        }
      ]
    },
    {
      "cell_type": "markdown",
      "metadata": {
        "id": "gFgZVsk6uMXf",
        "colab_type": "text"
      },
      "source": [
        "Again this is the whole code for H2 UCCansatz"
      ]
    },
    {
      "cell_type": "code",
      "metadata": {
        "id": "uP2XQ8j3uJnr",
        "colab_type": "code",
        "outputId": "83f553f0-957b-4660-b275-4e56a1ef0ab2",
        "colab": {
          "base_uri": "https://localhost:8080/",
          "height": 283
        }
      },
      "source": [
        "from blueqat import *\n",
        "from openfermion import *\n",
        "from openfermionblueqat import*\n",
        "import numpy as np\n",
        "\n",
        "def get_molecule(bond_len):\n",
        "  geometry = [('H',(0.,0.,0.)),('H',(0.,0.,bond_len))]\n",
        "\n",
        "  description = format(bond_len)\n",
        "  molecule = MolecularData(geometry, \"sto-3g\",1,description=description)\n",
        "\n",
        "  molecule.load()\n",
        "  return molecule\n",
        "\n",
        "x = [];e=[];fullci=[]\n",
        "for bond_len in np.arange(0.2,2.5,0.1):\n",
        "  m = get_molecule(\"{:.2}\".format(bond_len))\n",
        "  h = bravyi_kitaev(get_fermion_operator(m.get_molecular_hamiltonian()))\n",
        "  runner = vqe.Vqe(UCCAnsatz(h,6,Circuit().x[0]))\n",
        "  result = runner.run()\n",
        "  x.append(bond_len)\n",
        "  e.append(runner.ansatz.get_energy(result.circuit,runner.sampler))\n",
        "  fullci.append(m.fci_energy)\n",
        "\n",
        "%matplotlib inline\n",
        "import matplotlib.pyplot as plt\n",
        "plt.plot(x,fullci)\n",
        "plt.plot(x,e,\"o\")"
      ],
      "execution_count": 0,
      "outputs": [
        {
          "output_type": "execute_result",
          "data": {
            "text/plain": [
              "[<matplotlib.lines.Line2D at 0x7fd876809668>]"
            ]
          },
          "metadata": {
            "tags": []
          },
          "execution_count": 11
        },
        {
          "output_type": "display_data",
          "data": {
            "image/png": "[encoded data removed]",
            "text/plain": [
              "<Figure size 432x288 with 1 Axes>"
            ]
          },
          "metadata": {
            "tags": []
          }
        }
      ]
    }
  ]
}