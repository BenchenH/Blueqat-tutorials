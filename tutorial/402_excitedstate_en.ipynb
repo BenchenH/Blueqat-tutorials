{
 "cells": [
  {
   "cell_type": "markdown",
   "metadata": {},
   "source": [
    "# Calculating excited states with the Variational Quantum Eigensolver (VQE)\n",
    "\n",
    "VQE optimizes a wave function to minimize the expectation value of Hamiltonian. Therefore, VQE can only calculate the ground state. In this time, we will explain how to calculate the excited state using VQE, and we will show the example of the calculation for the excited state of the hydrogen molecule. \n",
    "\n",
    "## Theoretical Outline\n",
    "This time we will use an [Overlap-based method](https://quantum-journal.org/papers/q-2019-07-01-156/) to calculate the $1^{st}$ excited state. This method uses a penalty term for the overlap between the wavefunctions of the VQE and the ground state. The excited state can be obtained by adding the penalty term to Hamiltonian. An equation is as follows\n",
    "$$\n",
    "\\begin{equation}\n",
    "H^\\prime=H+\\alpha \\vert \\psi_{gs}\\rangle\\langle\\psi_{gs} \\vert\n",
    "\\end{equation}\n",
    "$$\n",
    "The $H$ on the right-hand side is the original Hamiltonian. The second term on the right side evaluates the value of the overlap with the ground-state wave function $ \\vert \\psi_{gs}\\rangle$ (In this tutorial, $ \\vert \\psi_{gs}\\rangle$ is obtained by a classical calculation, but it is also possible to use VQE). $\\alpha$ in the second term is a parameter that represents a penalty, and we take a large enough value about it. By adding the penalty term to the original $H$ term, we define $H^\\prime$.\n",
    "\n",
    "We evaluate the expected value by using the wave function $ \\vert \\psi_{VQE}\\rangle$ obtained from the VQE.\n",
    "$$\n",
    "\\begin{equation}\n",
    "\\langle\\psi_{VQE} \\vert H^\\prime \\vert \\psi_{VQE}\\rangle=\\langle\\psi_{VQE} \\vert H \\vert \\psi_{VQE}\\rangle+\\alpha\\langle\\psi_{VQE} \\vert \\psi_{gs}\\rangle\\langle\\psi_{gs} \\vert \\psi_{VQE}\\rangle\\\\\n",
    "=\\langle\\psi_{VQE} \\vert H \\vert \\psi_{VQE}\\rangle+\\alpha \\vert \\langle\\psi_{gs} \\vert \\psi_{VQE}\\rangle \\vert ^2\n",
    "\\end{equation}\n",
    "$$\n",
    "Since the excited state is orthogonal to the ground state, the second term in the above equation is zero if $ \\vert \\psi_{VQE}\\rangle$ becomes the excited state. In this time, we will use this expectation value to implement the excited-state calculation of hydrogen molecule in VQE.\n",
    "\n",
    "Incidentally, If the wanted wavefunction is not the $1^{st}$ excited state but the $N^{th}$ excited state, penalty terms are created by using the wavefunction from the ground state to the ${N-1}^{th}$ excited state.\n",
    "$$\n",
    "\\begin{equation}\n",
    "H^\\prime=H+\\sum_{i=gs}^{N-1}\\alpha_i \\vert \\psi_{i}\\rangle\\langle\\psi_{i} \\vert \n",
    "\\end{equation}\n",
    "$$\n",
    "\n",
    "## Preparation\n",
    "Install the necessary libraries. The Hamiltonian is obtained with OpenFermion."
   ]
  },
  {
   "cell_type": "markdown",
   "metadata": {},
   "source": [
    "Import the necessary libraries. The optimization of VQE uses SciPy minimize."
   ]
  },
  {
   "cell_type": "code",
   "execution_count": 1,
   "metadata": {
    "tags": []
   },
   "outputs": [
    {
     "output_type": "stream",
     "name": "stdout",
     "text": "Defaulting to user installation because normal site-packages is not writeable\nRequirement already satisfied: blueqat in /home/kanno/.local/lib/python3.8/site-packages (0.3.17)\nRequirement already satisfied: openfermion in /home/kanno/.local/lib/python3.8/site-packages (0.11.0)\nRequirement already satisfied: scipy>=1.1.0 in /home/kanno/.local/lib/python3.8/site-packages (from blueqat) (1.4.1)\nRequirement already satisfied: numpy~=1.12 in /home/kanno/.local/lib/python3.8/site-packages (from blueqat) (1.18.4)\nRequirement already satisfied: networkx in /home/kanno/.local/lib/python3.8/site-packages (from openfermion) (2.4)\nRequirement already satisfied: pubchempy in /home/kanno/.local/lib/python3.8/site-packages (from openfermion) (1.0.4)\nRequirement already satisfied: h5py>=2.8 in /home/kanno/.local/lib/python3.8/site-packages (from openfermion) (2.10.0)\nRequirement already satisfied: requests~=2.18 in /usr/lib/python3/dist-packages (from openfermion) (2.22.0)\nRequirement already satisfied: decorator>=4.3.0 in /home/kanno/.local/lib/python3.8/site-packages (from networkx->openfermion) (4.4.2)\nRequirement already satisfied: six in /usr/lib/python3/dist-packages (from h5py>=2.8->openfermion) (1.14.0)\n"
    }
   ],
   "source": [
    "!pip3 install blueqat openfermion"
   ]
  },
  {
   "cell_type": "code",
   "execution_count": 2,
   "metadata": {},
   "outputs": [
    {
     "output_type": "error",
     "ename": "KeyboardInterrupt",
     "evalue": "",
     "traceback": [
      "\u001b[0;31m---------------------------------------------------------------------------\u001b[0m",
      "\u001b[0;31mKeyboardInterrupt\u001b[0m                         Traceback (most recent call last)",
      "\u001b[0;32m<ipython-input-2-5b850747a420>\u001b[0m in \u001b[0;36m<module>\u001b[0;34m\u001b[0m\n\u001b[0;32m----> 1\u001b[0;31m \u001b[0;32mfrom\u001b[0m \u001b[0mblueqat\u001b[0m \u001b[0;32mimport\u001b[0m \u001b[0mCircuit\u001b[0m\u001b[0;34m\u001b[0m\u001b[0;34m\u001b[0m\u001b[0m\n\u001b[0m\u001b[1;32m      2\u001b[0m \u001b[0;32mfrom\u001b[0m \u001b[0mopenfermion\u001b[0m\u001b[0;34m.\u001b[0m\u001b[0mhamiltonians\u001b[0m \u001b[0;32mimport\u001b[0m \u001b[0mMolecularData\u001b[0m\u001b[0;34m\u001b[0m\u001b[0;34m\u001b[0m\u001b[0m\n\u001b[1;32m      3\u001b[0m \u001b[0;32mfrom\u001b[0m \u001b[0mopenfermion\u001b[0m\u001b[0;34m.\u001b[0m\u001b[0mtransforms\u001b[0m \u001b[0;32mimport\u001b[0m \u001b[0mget_fermion_operator\u001b[0m\u001b[0;34m,\u001b[0m \u001b[0mjordan_wigner\u001b[0m\u001b[0;34m,\u001b[0m \u001b[0mget_sparse_operator\u001b[0m\u001b[0;34m\u001b[0m\u001b[0;34m\u001b[0m\u001b[0m\n\u001b[1;32m      4\u001b[0m \u001b[0;32mimport\u001b[0m \u001b[0mnumpy\u001b[0m \u001b[0;32mas\u001b[0m \u001b[0mnp\u001b[0m\u001b[0;34m\u001b[0m\u001b[0;34m\u001b[0m\u001b[0m\n\u001b[1;32m      5\u001b[0m \u001b[0;32mfrom\u001b[0m \u001b[0mscipy\u001b[0m\u001b[0;34m.\u001b[0m\u001b[0moptimize\u001b[0m \u001b[0;32mimport\u001b[0m \u001b[0mminimize\u001b[0m\u001b[0;34m\u001b[0m\u001b[0;34m\u001b[0m\u001b[0m\n",
      "\u001b[0;32m~/.local/lib/python3.8/site-packages/blueqat/__init__.py\u001b[0m in \u001b[0;36m<module>\u001b[0;34m\u001b[0m\n\u001b[1;32m     13\u001b[0m \u001b[0;31m# limitations under the License.\u001b[0m\u001b[0;34m\u001b[0m\u001b[0;34m\u001b[0m\u001b[0;34m\u001b[0m\u001b[0m\n\u001b[1;32m     14\u001b[0m \u001b[0;34m\u001b[0m\u001b[0m\n\u001b[0;32m---> 15\u001b[0;31m \u001b[0;32mfrom\u001b[0m \u001b[0;34m.\u001b[0m\u001b[0mcircuit\u001b[0m \u001b[0;32mimport\u001b[0m \u001b[0mCircuit\u001b[0m\u001b[0;34m,\u001b[0m \u001b[0mBlueqatGlobalSetting\u001b[0m\u001b[0;34m\u001b[0m\u001b[0;34m\u001b[0m\u001b[0m\n\u001b[0m\u001b[1;32m     16\u001b[0m \u001b[0;32mfrom\u001b[0m \u001b[0;34m.\u001b[0m \u001b[0;32mimport\u001b[0m \u001b[0mpauli\u001b[0m\u001b[0;34m\u001b[0m\u001b[0;34m\u001b[0m\u001b[0m\n\u001b[1;32m     17\u001b[0m \u001b[0;32mfrom\u001b[0m \u001b[0;34m.\u001b[0m \u001b[0;32mimport\u001b[0m \u001b[0mutils\u001b[0m\u001b[0;34m\u001b[0m\u001b[0;34m\u001b[0m\u001b[0m\n",
      "\u001b[0;32m~/.local/lib/python3.8/site-packages/blueqat/circuit.py\u001b[0m in \u001b[0;36m<module>\u001b[0;34m\u001b[0m\n\u001b[1;32m     21\u001b[0m \u001b[0;32mfrom\u001b[0m \u001b[0mtyping\u001b[0m \u001b[0;32mimport\u001b[0m \u001b[0mCallable\u001b[0m\u001b[0;34m\u001b[0m\u001b[0;34m\u001b[0m\u001b[0m\n\u001b[1;32m     22\u001b[0m \u001b[0;32mfrom\u001b[0m \u001b[0;34m.\u001b[0m \u001b[0;32mimport\u001b[0m \u001b[0mgate\u001b[0m\u001b[0;34m\u001b[0m\u001b[0;34m\u001b[0m\u001b[0m\n\u001b[0;32m---> 23\u001b[0;31m \u001b[0;32mfrom\u001b[0m \u001b[0;34m.\u001b[0m\u001b[0mbackends\u001b[0m\u001b[0;34m.\u001b[0m\u001b[0mnumpy_backend\u001b[0m \u001b[0;32mimport\u001b[0m \u001b[0mNumPyBackend\u001b[0m\u001b[0;34m\u001b[0m\u001b[0;34m\u001b[0m\u001b[0m\n\u001b[0m\u001b[1;32m     24\u001b[0m \u001b[0;32mfrom\u001b[0m \u001b[0;34m.\u001b[0m\u001b[0mbackends\u001b[0m\u001b[0;34m.\u001b[0m\u001b[0mnumba_backend\u001b[0m \u001b[0;32mimport\u001b[0m \u001b[0mnumba_backend_lazy\u001b[0m\u001b[0;34m\u001b[0m\u001b[0;34m\u001b[0m\u001b[0m\n\u001b[1;32m     25\u001b[0m \u001b[0;32mfrom\u001b[0m \u001b[0;34m.\u001b[0m\u001b[0mbackends\u001b[0m\u001b[0;34m.\u001b[0m\u001b[0mqasm_output_backend\u001b[0m \u001b[0;32mimport\u001b[0m \u001b[0mQasmOutputBackend\u001b[0m\u001b[0;34m\u001b[0m\u001b[0;34m\u001b[0m\u001b[0m\n",
      "\u001b[0;32m~/.local/lib/python3.8/site-packages/blueqat/backends/numpy_backend.py\u001b[0m in \u001b[0;36m<module>\u001b[0;34m\u001b[0m\n\u001b[1;32m     18\u001b[0m \u001b[0;32mimport\u001b[0m \u001b[0mwarnings\u001b[0m\u001b[0;34m\u001b[0m\u001b[0;34m\u001b[0m\u001b[0m\n\u001b[1;32m     19\u001b[0m \u001b[0;34m\u001b[0m\u001b[0m\n\u001b[0;32m---> 20\u001b[0;31m \u001b[0;32mimport\u001b[0m \u001b[0mnumpy\u001b[0m \u001b[0;32mas\u001b[0m \u001b[0mnp\u001b[0m\u001b[0;34m\u001b[0m\u001b[0;34m\u001b[0m\u001b[0m\n\u001b[0m\u001b[1;32m     21\u001b[0m \u001b[0;34m\u001b[0m\u001b[0m\n\u001b[1;32m     22\u001b[0m \u001b[0;32mfrom\u001b[0m \u001b[0;34m.\u001b[0m\u001b[0;34m.\u001b[0m\u001b[0mgate\u001b[0m \u001b[0;32mimport\u001b[0m \u001b[0;34m*\u001b[0m\u001b[0;34m\u001b[0m\u001b[0;34m\u001b[0m\u001b[0m\n",
      "\u001b[0;32m~/.local/lib/python3.8/site-packages/numpy/__init__.py\u001b[0m in \u001b[0;36m<module>\u001b[0;34m\u001b[0m\n\u001b[1;32m    140\u001b[0m     \u001b[0;32mfrom\u001b[0m \u001b[0;34m.\u001b[0m \u001b[0;32mimport\u001b[0m \u001b[0m_distributor_init\u001b[0m\u001b[0;34m\u001b[0m\u001b[0;34m\u001b[0m\u001b[0m\n\u001b[1;32m    141\u001b[0m \u001b[0;34m\u001b[0m\u001b[0m\n\u001b[0;32m--> 142\u001b[0;31m     \u001b[0;32mfrom\u001b[0m \u001b[0;34m.\u001b[0m \u001b[0;32mimport\u001b[0m \u001b[0mcore\u001b[0m\u001b[0;34m\u001b[0m\u001b[0;34m\u001b[0m\u001b[0m\n\u001b[0m\u001b[1;32m    143\u001b[0m     \u001b[0;32mfrom\u001b[0m \u001b[0;34m.\u001b[0m\u001b[0mcore\u001b[0m \u001b[0;32mimport\u001b[0m \u001b[0;34m*\u001b[0m\u001b[0;34m\u001b[0m\u001b[0;34m\u001b[0m\u001b[0m\n\u001b[1;32m    144\u001b[0m     \u001b[0;32mfrom\u001b[0m \u001b[0;34m.\u001b[0m \u001b[0;32mimport\u001b[0m \u001b[0mcompat\u001b[0m\u001b[0;34m\u001b[0m\u001b[0;34m\u001b[0m\u001b[0m\n",
      "\u001b[0;32m~/.local/lib/python3.8/site-packages/numpy/core/__init__.py\u001b[0m in \u001b[0;36m<module>\u001b[0;34m\u001b[0m\n\u001b[1;32m     22\u001b[0m \u001b[0;34m\u001b[0m\u001b[0m\n\u001b[1;32m     23\u001b[0m \u001b[0;32mtry\u001b[0m\u001b[0;34m:\u001b[0m\u001b[0;34m\u001b[0m\u001b[0;34m\u001b[0m\u001b[0m\n\u001b[0;32m---> 24\u001b[0;31m     \u001b[0;32mfrom\u001b[0m \u001b[0;34m.\u001b[0m \u001b[0;32mimport\u001b[0m \u001b[0mmultiarray\u001b[0m\u001b[0;34m\u001b[0m\u001b[0;34m\u001b[0m\u001b[0m\n\u001b[0m\u001b[1;32m     25\u001b[0m \u001b[0;32mexcept\u001b[0m \u001b[0mImportError\u001b[0m \u001b[0;32mas\u001b[0m \u001b[0mexc\u001b[0m\u001b[0;34m:\u001b[0m\u001b[0;34m\u001b[0m\u001b[0;34m\u001b[0m\u001b[0m\n\u001b[1;32m     26\u001b[0m     \u001b[0;32mimport\u001b[0m \u001b[0msys\u001b[0m\u001b[0;34m\u001b[0m\u001b[0;34m\u001b[0m\u001b[0m\n",
      "\u001b[0;32m/usr/lib/python3.8/importlib/_bootstrap.py\u001b[0m in \u001b[0;36m_find_and_load\u001b[0;34m(name, import_)\u001b[0m\n",
      "\u001b[0;32m/usr/lib/python3.8/importlib/_bootstrap.py\u001b[0m in \u001b[0;36m_find_and_load_unlocked\u001b[0;34m(name, import_)\u001b[0m\n",
      "\u001b[0;32m/usr/lib/python3.8/importlib/_bootstrap.py\u001b[0m in \u001b[0;36m_load_unlocked\u001b[0;34m(spec)\u001b[0m\n",
      "\u001b[0;32m/usr/lib/python3.8/importlib/_bootstrap_external.py\u001b[0m in \u001b[0;36mexec_module\u001b[0;34m(self, module)\u001b[0m\n",
      "\u001b[0;32m/usr/lib/python3.8/importlib/_bootstrap_external.py\u001b[0m in \u001b[0;36mget_code\u001b[0;34m(self, fullname)\u001b[0m\n",
      "\u001b[0;32m/usr/lib/python3.8/importlib/_bootstrap_external.py\u001b[0m in \u001b[0;36m_compile_bytecode\u001b[0;34m(data, name, bytecode_path, source_path)\u001b[0m\n",
      "\u001b[0;31mKeyboardInterrupt\u001b[0m: "
     ]
    }
   ],
   "source": [
    "from blueqat import Circuit\n",
    "from openfermion.hamiltonians import MolecularData\n",
    "from openfermion.transforms import get_fermion_operator, jordan_wigner, get_sparse_operator\n",
    "import numpy as np\n",
    "from scipy.optimize import minimize"
   ]
  },
  {
   "cell_type": "markdown",
   "metadata": {},
   "source": [
    "## Ansatz definition and molecular information acquisition\n",
    "Define the functions for calculating VQE and obtaining information about the molecule. The calculations are performed using Hardware Efficient Ansatz. The initial wavefunction is set to a triplet state $|1010\\rangle$.\n",
    "The molecular information is obtained using OpenFermion. The basis set is STO-3G."
   ]
  },
  {
   "cell_type": "code",
   "execution_count": 4,
   "metadata": {},
   "outputs": [],
   "source": [
    "def HEA(params,n_qubits,n_depth):\n",
    "    #Wave function initialization |1010>\n",
    "    circ=Circuit().x[1, 3]\n",
    "\n",
    "    #Circuit creation\n",
    "    params_devided=np.array_split(params,n_depth)\n",
    "    for params_one_depth in params_devided:\n",
    "        for i,param in enumerate(params_one_depth):\n",
    "            if i < n_qubits:\n",
    "                circ.ry(param)[i]\n",
    "            else:\n",
    "                circ.rz(param)[i%n_qubits]\n",
    "        for qbit in range(n_qubits):\n",
    "            if qbit < n_qubits-1:\n",
    "                circ.cz[qbit,qbit+1]\n",
    "    \n",
    "    #Running the circuit\n",
    "    wf = circ.run(backend=\"numpy\")\n",
    "    return wf\n",
    "\n",
    "def get_molecule(length):\n",
    "    geometry = [('H',(0.,0.,0.)),('H',(0.,0.,length))]\n",
    "    try:\n",
    "        description = f'{length:.2f}'\n",
    "        molecule = MolecularData(geometry, \"sto-3g\",1,description=description)\n",
    "        molecule.load()\n",
    "    except:\n",
    "        description = f'{length:.1f}'\n",
    "        molecule = MolecularData(geometry, \"sto-3g\",1,description=description)\n",
    "        molecule.load()\n",
    "    return molecule"
   ]
  },
  {
   "cell_type": "markdown",
   "metadata": {},
   "source": [
    "## Expected value and cost function\n",
    "The expected value is calculated using the wave function obtained by VQE. In the expected value calculation, the term concerning the overlap between the ground state and the VQE wave functions is added to the original expected value of the Hamiltonian."
   ]
  },
  {
   "cell_type": "code",
   "execution_count": 5,
   "metadata": {},
   "outputs": [],
   "source": [
    "def expect_exited_state(wf,hamiltonian,penalty,wf_gs):\n",
    "    #Calculating Hamiltonian+penalty \n",
    "    hamiltonian_overlap= np.vdot(wf, hamiltonian.dot(wf)).real+penalty*np.abs(np.vdot(wf_gs,wf))**2\n",
    "    return hamiltonian_overlap\n",
    "\n",
    "def cost(params,hamiltonian,n_qubits,n_depth,penalty,wf_gs):\n",
    "    wf=HEA(params,n_qubits,n_depth)\n",
    "    return expect_exited_state(wf,hamiltonian,penalty,wf_gs)"
   ]
  },
  {
   "cell_type": "markdown",
   "metadata": {},
   "source": [
    "## Calculation execution and plotting\n",
    "Run VQE on each bond length (this will take a few minutes). This time, the wave function of the ground state is classically obtained, but it can be calculated by VQE. The penalty value is 10 Hartree.\n",
    "After the calculation, compare the calculated results of VQE, ground state, and first excited state for energy and bond length."
   ]
  },
  {
   "cell_type": "code",
   "execution_count": 7,
   "metadata": {},
   "outputs": [
    {
     "data": {
      "text/plain": [
       "<matplotlib.legend.Legend at 0x17516b28548>"
      ]
     },
     "execution_count": 7,
     "metadata": {},
     "output_type": "execute_result"
    },
    {
     "data": {
      "image/png": "[encoded data removed]",
      "text/plain": [
       "<Figure size 432x288 with 1 Axes>"
      ]
     },
     "metadata": {
      "needs_background": "light"
     },
     "output_type": "display_data"
    }
   ],
   "source": [
    "#For recording bond length, VQE, ground state and 1st excited state results\n",
    "bond_len_list = [];VQE_energy_list=[];gs_list=[];es_list=[]\n",
    "#Execute the calculation for each bond length\n",
    "for bond_len in np.arange(0.2,2.5,0.1):\n",
    "    molecule = get_molecule(bond_len)\n",
    "    #Determination of the number of bits, depth, initial parameter, and penalty\n",
    "    n_qubits=molecule.n_qubits\n",
    "    n_depth=4\n",
    "    init_params=np.random.rand(n_qubits*n_depth)*0.1\n",
    "    penalty=10\n",
    "    #Hamiltonian Definition\n",
    "    hamiltonian_gs = get_sparse_operator(jordan_wigner(get_fermion_operator(molecule.get_molecular_hamiltonian())))\n",
    "\n",
    "    #Obtaining the eigenvalues and eigenvectors using classical calculation\n",
    "    eigen_energy, eigen_vec =np.linalg.eigh((hamiltonian_gs).toarray())\n",
    "    #Obtaining the wave function of the ground state\n",
    "    wf_gs=eigen_vec.T[np.argmin(eigen_energy)]\n",
    "\n",
    "    #Optimization run\n",
    "    result=minimize(cost,x0=init_params,args=(hamiltonian_gs,n_qubits,n_depth,penalty,wf_gs))\n",
    "\n",
    "    #Recording bond length, VQE, ground state and 1st excited state results\n",
    "    bond_len_list.append(bond_len)\n",
    "    VQE_energy_list.append(result.fun)\n",
    "    gs_list.append(sorted(eigen_energy)[0])\n",
    "    es_list.append(sorted(eigen_energy)[1])\n",
    "\n",
    "#Plotting\n",
    "import matplotlib.pyplot as plt\n",
    "plt.plot(bond_len_list,gs_list,label=\"Ground state\",color=\"black\")\n",
    "plt.plot(bond_len_list,es_list,label=\"Exited state\",color=\"blue\")\n",
    "plt.plot(bond_len_list,VQE_energy_list, marker=\"o\",label=\"VQE\",color=\"red\",linestyle='None')\n",
    "plt.xlabel(\"Bond length (Angstrom)\")\n",
    "plt.ylabel(\"Energy (Hartree)\")\n",
    "plt.legend()"
   ]
  },
  {
   "cell_type": "markdown",
   "metadata": {},
   "source": [
    "The results are in good agreement with the exact value of the excited states. While the method used here is the Overlap-based method,  there are various methods to calculate the excited states. Hence, you can try a method that suits your purpose by referencing the papers, for example, [this review](https://arxiv.org/abs/1808.10402)."
   ]
  }
 ],
 "metadata": {
  "kernelspec": {
   "display_name": "Python 3",
   "language": "python",
   "name": "python3"
  },
  "language_info": {
   "codemirror_mode": {
    "name": "ipython",
    "version": 3
   },
   "file_extension": ".py",
   "mimetype": "text/x-python",
   "name": "python",
   "nbconvert_exporter": "python",
   "pygments_lexer": "ipython3",
   "version": "3.7.4"
  }
 },
 "nbformat": 4,
 "nbformat_minor": 2
}