{
  "nbformat": 4,
  "nbformat_minor": 0,
  "metadata": {
    "colab": {
      "name": "101_vqe_qaoa01.ipynb",
      "provenance": []
    },
    "kernelspec": {
      "name": "python3",
      "display_name": "Python 3"
    }
  },
  "cells": [
    {
      "cell_type": "markdown",
      "metadata": {
        "id": "MA9LAxN2objO",
        "colab_type": "text"
      },
      "source": [
        "#Variational Quantum Eigensolver & QAOA / Introduction"
      ]
    },
    {
      "cell_type": "markdown",
      "metadata": {
        "id": "W0XuQay4f2i2",
        "colab_type": "text"
      },
      "source": [
        "##Introduction\n",
        "The existing quantum computer in 2020 has a lot of error and it looks difficult to run an algorithm with a deep circuit. Instead we usually use a quantum-classical hybrid algorithm called variational algorithm. Here we are going to learn a practical hybrid algorithm on blueqat."
      ]
    },
    {
      "cell_type": "markdown",
      "metadata": {
        "id": "DDNxkH4RgpQP",
        "colab_type": "text"
      },
      "source": [
        "###Overview\n",
        "Variational Quantum Eigensolver(VQE) is developed as an alternate algorithm of \"Quantum Phase Estimation\" which solve an eigenvalue of Matrix from a state vector.\n",
        "\n",
        "The existing quantum computer has a lot of error on the result, so VQE run many short circuit to avoid errors and optimize the parameter of circuit. By using this method VQE can solve the problem on Eigenvector and Eigenvalue on quantum-classical hybrid.\n",
        "\n",
        "###Reference\n",
        "A variational eigenvalue solver on a quantum processor  \n",
        "Alberto Peruzzo, Jarrod McClean, Peter Shadbolt, Man-Hong Yung, Xiao-Qi Zhou, Peter J. Love, Alán Aspuru-Guzik, Jeremy L. O'Brien  \n",
        "(Submitted on 10 Apr 2013)\n",
        "https://arxiv.org/abs/1304.3061"
      ]
    },
    {
      "cell_type": "markdown",
      "metadata": {
        "id": "O69dKNrTh4TE",
        "colab_type": "text"
      },
      "source": [
        "##Eigenvalue and eigenvector\n",
        "The problem VQE solves is eigenvalue and eigenvector. If a matrix is given and one can find its eigenvector, many problems can be solved by using this method. \n",
        "\n",
        "Now with the given matrix $H$, Eigenvalue$E_0$ and Eigenvector$\\mid \\psi \\rangle$ satisfy this equation.\n",
        "\n",
        "$$H \\mid \\psi \\rangle = E_0 \\mid \\psi \\rangle$$\n",
        "\n",
        "We want to find this $E_0$ and $\\psi$ using this algorithm. $H$ is called Hamiltonian and $\\mid \\psi \\rangle$ is called State Vector (Wave function)."
      ]
    },
    {
      "cell_type": "markdown",
      "metadata": {
        "id": "GuCdv3hVh9gV",
        "colab_type": "text"
      },
      "source": [
        "##What solved?\n",
        "VQE is a very general algorithm to solve the eigenvalue and eigenvector problem. But actually it is very difficult to find the eigenstate from a variety of parameters. Practially without any relation between hamiltonian $H$ and state vector $\\mid \\psi \\rangle$ provided by ansatz, we cannot solve the problem efficiently.\n",
        "\n",
        "Now we have two types of problems which this relation is found, \"quantum chemistry\" and \"combinatorial optimization problem\". These problems show relation between ansatz and hamiltonian.\n",
        "\n",
        "To get the eigenstate we make an quantum circuit and get the eigenstate $\\mid \\psi \\rangle$. We calle it ansatz. Quantum chemistry has UCC ansatz and combinatorial optimization has QAOA(Quantum Approximate Optimization Algorithm) ansatz.\n",
        "\n",
        "These two are similar but especially when you use this ansatz on optimization problem it is called QAOA.\n",
        "\n",
        "Now we try to use these VQE and QAOA algorithm on blueqat SDK ( https://github.com/blueqat/blueqat )"
      ]
    },
    {
      "cell_type": "markdown",
      "metadata": {
        "id": "MccAlI9Lo24g",
        "colab_type": "text"
      },
      "source": [
        "##Variational Algorithm2-1（Theory）\n",
        "Now we start a basic theory. VQE and QAOA algorithms are so called variational algorithm and can run almost the same steps. The point to learn is\n",
        "\n",
        "1. About Hamiltonian\n",
        "2. About Ansatz\n",
        "\n",
        "Let's see a simple example."
      ]
    },
    {
      "cell_type": "markdown",
      "metadata": {
        "id": "0Qg7brqfozGz",
        "colab_type": "text"
      },
      "source": [
        "##Installing blueqat\n",
        "We use blueqat\n",
        "\n",
        "https://github.com/Blueqat/Blueqat\n",
        "\n",
        "We can install it using this command,"
      ]
    },
    {
      "cell_type": "code",
      "metadata": {
        "id": "mJ_jzoSqoXqS",
        "colab_type": "code",
        "outputId": "a069a03a-c29b-41fd-c974-3f5a3038a4df",
        "colab": {
          "base_uri": "https://localhost:8080/",
          "height": 136
        }
      },
      "source": [
        "!pip3 install blueqat"
      ],
      "execution_count": 0,
      "outputs": [
        {
          "output_type": "stream",
          "text": [
            "Collecting blueqat\n",
            "\u001b[?25l  Downloading https://files.pythonhosted.org/packages/f6/73/20f9cff48caee1f69190f2e1ea93c4d7d0a745fc48defb5d3072d8337583/blueqat-0.3.13-py3-none-any.whl (50kB)\n",
            "\r\u001b[K     |██████▌                         | 10kB 21.8MB/s eta 0:00:01\r\u001b[K     |█████████████                   | 20kB 1.3MB/s eta 0:00:01\r\u001b[K     |███████████████████▍            | 30kB 1.6MB/s eta 0:00:01\r\u001b[K     |█████████████████████████▉      | 40kB 1.5MB/s eta 0:00:01\r\u001b[K     |████████████████████████████████| 51kB 1.6MB/s \n",
            "\u001b[?25hRequirement already satisfied: scipy>=1.1.0 in /usr/local/lib/python3.6/dist-packages (from blueqat) (1.4.1)\n",
            "Requirement already satisfied: numpy~=1.12 in /usr/local/lib/python3.6/dist-packages (from blueqat) (1.17.5)\n",
            "Installing collected packages: blueqat\n",
            "Successfully installed blueqat-0.3.13\n"
          ],
          "name": "stdout"
        }
      ]
    },
    {
      "cell_type": "markdown",
      "metadata": {
        "id": "KcjxhjsEpWRY",
        "colab_type": "text"
      },
      "source": [
        "##2-1-1 qubit and state vector\n",
        "Qubit is used in quantum computer and can take a superposition of |0> state and |1> state. It can be written in a form of vertical vector.\n",
        "\n",
        "$$\n",
        "\\mid 0 \\rangle =\n",
        "\\begin{bmatrix}\n",
        "1 \\\\\n",
        "0\n",
        "\\end{bmatrix},\n",
        "\\mid 1 \\rangle =\n",
        "\\begin{bmatrix}\n",
        "0 \\\\\n",
        "1\n",
        "\\end{bmatrix}\n",
        "$$\n",
        "\n",
        "By using this we can write a state vector as a superposition of two states.\n",
        "\n",
        "\n",
        "$$\n",
        "\\mid \\psi \\rangle = \\alpha \\mid 0 \\rangle + \\beta \\mid 1 \\rangle =\n",
        "\\alpha \n",
        "\\begin{bmatrix}\n",
        "1 \\\\\n",
        "0\n",
        "\\end{bmatrix}\n",
        "+ \\beta\n",
        "\\begin{bmatrix}\n",
        "0 \\\\\n",
        "1\n",
        "\\end{bmatrix}\n",
        "=\n",
        "\\begin{bmatrix}\n",
        "\\alpha \\\\\n",
        "\\beta\n",
        "\\end{bmatrix}\n",
        "$$\n",
        "\n",
        "$\\mid \\psi \\rangle$ is called state vecor and shows the state of qubit. $\\alpha$ and $\\beta$ are complex number and called probability amplituted. We can get the value of $|\\alpha|^2$ and $|\\beta|^2$ by measurement. $|\\alpha|^2$ and $|\\beta|^2$ satisfy,\n",
        "\n",
        "$$\n",
        "|\\alpha|^2+|\\beta|^2 = 1\n",
        "$$\n",
        "\n",
        "If we calcurate 100times and get 0 as 45times and 1 as 55times, expectation value of $|\\alpha|^2$ is 0.45 and that of $|\\beta|^2$ is 0.55. Basically we cannot get the direct state vector, we have to get it from samples."
      ]
    },
    {
      "cell_type": "markdown",
      "metadata": {
        "id": "tUt3nsBUprIp",
        "colab_type": "text"
      },
      "source": [
        "##2-1-2 Operation of state vecotor and quantum gate\n",
        "To operate a state vector, we use quantum gate. In a variational algorithm we use pauli gates, rotation gates and hadamard gate.\n",
        "\n",
        "Pauli gate consists of 3 operators of XYZ. And these are 180 degree rotation around each axis. Each pauli operators are,\n",
        "\n",
        "$$\n",
        "X=\n",
        "\\begin{bmatrix}\n",
        "0&1 \\\\\n",
        "1&0\n",
        "\\end{bmatrix},\n",
        "Y=\n",
        "\\begin{bmatrix}\n",
        "0&-i \\\\\n",
        "i&0\n",
        "\\end{bmatrix},\n",
        "Z=\n",
        "\\begin{bmatrix}\n",
        "1&0 \\\\\n",
        "0&-1\n",
        "\\end{bmatrix}\n",
        "$$\n",
        "\n",
        "RX,RY,RZ gate are rotation gate operators,\n",
        "\n",
        "$$\n",
        "Rx(\\theta) = \\left( \\begin{array}{cc} \\cos\\left(\\frac{\\theta}{2}\\right) &\n",
        "-i\\sin\\left(\\frac{\\theta}{2}\\right)\\\\\n",
        "-i\\sin\\left(\\frac{\\theta}{2}\\right) &\n",
        "\\cos\\left(\\frac{\\theta}{2}\\right) \\end{array} \\right),\n",
        "Ry(\\theta) = \\left( \\begin{array}{cc} \\cos\\left(\\frac{\\theta}{2}\\right) &\n",
        "-\\sin\\left(\\frac{\\theta}{2}\\right)\\\\\n",
        "\\sin\\left(\\frac{\\theta}{2}\\right) &\n",
        "\\cos\\left(\\frac{\\theta}{2}\\right) \\end{array} \\right),\n",
        "Rz(\\theta) = \\left( \\begin{array}{cc} e^{-i\\frac{\\theta}{2}} & 0\\\\ 0 & e^{i\\frac{\\theta}{2}} \\end{array} \\right)\n",
        "$$\n",
        "\n",
        "Hadamard gate is,\n",
        "\n",
        "$$\n",
        "H =\n",
        "\\frac{1}{\\sqrt{2}} \n",
        "\\begin{bmatrix}\n",
        "1&1 \\\\\n",
        "1&-1\n",
        "\\end{bmatrix}\n",
        "$$\n",
        "\n",
        "Basically Hadamard gate convert data between X axis and Z axis. By applying these operation on state vector, the state vector can be changed.\n",
        "\n",
        "$$\n",
        "X\n",
        "\\begin{bmatrix}\n",
        "1 \\\\\n",
        "0\n",
        "\\end{bmatrix}\n",
        "=\n",
        "\\begin{bmatrix}\n",
        "0&1 \\\\\n",
        "1&0\n",
        "\\end{bmatrix}\n",
        "\\begin{bmatrix}\n",
        "1 \\\\\n",
        "0\n",
        "\\end{bmatrix}\n",
        "=\n",
        "\\begin{bmatrix}\n",
        "0 \\\\\n",
        "1\n",
        "\\end{bmatrix}\n",
        "$$"
      ]
    },
    {
      "cell_type": "markdown",
      "metadata": {
        "id": "59nNwaLnp3Z7",
        "colab_type": "text"
      },
      "source": [
        "##2-1-3 State vector of multiple qubits and tensor product\n",
        "We saw about 1qubit, now we see multiple qubits. To get the state vector on multiple qubits we use tensor product.\n",
        "\n",
        "$$\n",
        "\\begin{bmatrix}\n",
        "a \\\\\n",
        "b\n",
        "\\end{bmatrix}\n",
        "\\otimes\n",
        "\\begin{bmatrix}\n",
        "c \\\\\n",
        "d\n",
        "\\end{bmatrix}\n",
        "=\n",
        "\\begin{bmatrix}\n",
        "a*\n",
        "\\begin{bmatrix}\n",
        "c\\\\\n",
        "d\n",
        "\\end{bmatrix}\n",
        " \\\\\n",
        "b*\n",
        "\\begin{bmatrix}\n",
        "c\\\\\n",
        "d\n",
        "\\end{bmatrix}\n",
        "\\end{bmatrix}\n",
        "=\n",
        "\\begin{bmatrix}\n",
        "ac \\\\\n",
        "ad \\\\\n",
        "bc \\\\\n",
        "bd\n",
        "\\end{bmatrix}\n",
        "$$\n",
        "\n",
        "Over 3qubits we use the same method.\n",
        "\n",
        "$$\n",
        "\\begin{bmatrix}\n",
        "a \\\\\n",
        "b\n",
        "\\end{bmatrix}\n",
        "\\otimes\n",
        "\\begin{bmatrix}\n",
        "c \\\\\n",
        "d\n",
        "\\end{bmatrix}\n",
        "\\otimes\n",
        "\\begin{bmatrix}\n",
        "e \\\\\n",
        "f\n",
        "\\end{bmatrix}\n",
        "=\n",
        "\\begin{bmatrix}\n",
        "ac *\n",
        "\\begin{bmatrix}\n",
        "e \\\\\n",
        "f\n",
        "\\end{bmatrix} \\\\\n",
        "ad*\n",
        "\\begin{bmatrix}\n",
        "e \\\\\n",
        "f\n",
        "\\end{bmatrix} \\\\\n",
        "bc*\n",
        "\\begin{bmatrix}\n",
        "e \\\\\n",
        "f\n",
        "\\end{bmatrix} \\\\\n",
        "bd*\n",
        "\\begin{bmatrix}\n",
        "e \\\\\n",
        "f\n",
        "\\end{bmatrix}\n",
        "\\end{bmatrix}\n",
        "=\n",
        "\\begin{bmatrix}\n",
        "ace\\\\\n",
        "acf\\\\\n",
        "ade\\\\\n",
        "adf\\\\\n",
        "bce\\\\\n",
        "bcf\\\\\n",
        "bde\\\\\n",
        "bdf\n",
        "\\end{bmatrix}\n",
        "$$\n",
        "\n",
        "The gate operators can use tensor product to get the unitary matrix on multiple qubits.\n",
        "\n",
        "$$\n",
        "\\begin{bmatrix}\n",
        "a&b \\\\\n",
        "c&d\n",
        "\\end{bmatrix}\n",
        "\\otimes\n",
        "\\begin{bmatrix}\n",
        "e&f \\\\\n",
        "g&h\n",
        "\\end{bmatrix} \\\\\n",
        "=\n",
        "\\begin{bmatrix}\n",
        "a*\n",
        "\\begin{bmatrix}\n",
        "e&f \\\\\n",
        "g&h\n",
        "\\end{bmatrix}\n",
        "&b*\n",
        "\\begin{bmatrix}\n",
        "e&f \\\\\n",
        "g&h\n",
        "\\end{bmatrix}\n",
        "\\\\\n",
        "c*\n",
        "\\begin{bmatrix}\n",
        "e&f \\\\\n",
        "g&h\n",
        "\\end{bmatrix}\n",
        "&d*\n",
        "\\begin{bmatrix}\n",
        "e&f \\\\\n",
        "g&h\n",
        "\\end{bmatrix}\n",
        "\\end{bmatrix}\n",
        "=\n",
        "\\begin{bmatrix}\n",
        "ae&af&be&bf\\\\\n",
        "ag&ah&bg&bh\\\\\n",
        "ce&cf&de&df\\\\\n",
        "cg&ch&dg&dh\n",
        "\\end{bmatrix}\n",
        "$$\n"
      ]
    },
    {
      "cell_type": "markdown",
      "metadata": {
        "id": "X17kayfpqRSy",
        "colab_type": "text"
      },
      "source": [
        "##2-1-4 Quantum variational method\n",
        "It is very difficult to directly get the eigenvalue now, we calculate the expectation value of it using variational method.\n",
        "\n",
        "$$\n",
        "\\langle \\Psi (\\theta) \\mid H \\mid \\Psi (\\theta) \\rangle \\geq E_0\n",
        "$$\n",
        "\n",
        "It shows that the expectation value of given hamiltonian $H$ is always over the minimum eigenvalue. The hamiltonian is usually a given formulation, we can just operate on state vector to find a better one closer to the eigenvector."
      ]
    },
    {
      "cell_type": "markdown",
      "metadata": {
        "id": "v0A_R2_SqUHY",
        "colab_type": "text"
      },
      "source": [
        "##2-1-5 Steps of variational algorithm\n",
        "The step to use the variational algorithm is,\n",
        "\n",
        "1. Prepare an ansatz with parameter$\\theta$ (quantum)\n",
        "2. Calculate expectation value $\\langle \\Psi (\\theta) \\mid H \\mid \\Psi (\\theta) \\rangle$ of hamiltonian $H$ by the measurement.(classical)\n",
        "3. By the classical optimization, find the minimum value of expectation value and give another parameter$\\theta$ to the parameterized circuit.(classical)\n",
        "\n",
        "The point is that usually given hamiltonian $H$ is hermite matrix and can be decomposited into linear combination of unitary matrix.\n"
      ]
    },
    {
      "cell_type": "markdown",
      "metadata": {
        "id": "l8RAlCSWqfw6",
        "colab_type": "text"
      },
      "source": [
        "##2-1-6 ansatz\n",
        "Ansatz is a parameterized quantum circuit with rotation gate which create the state vector. The state vector provides measurement value to estimate the expectation value of Hamiltonian."
      ]
    },
    {
      "cell_type": "markdown",
      "metadata": {
        "id": "TkFEVmsRqiG_",
        "colab_type": "text"
      },
      "source": [
        "##2-1-7 Hamiltonian\n",
        "Hamiltonian is a matrix consists of XYZ pauli gate and I identity matrix. Now the variational algorithm is to get the expectation value of eigenvalue and state vector as the eigenstate of this matrix."
      ]
    },
    {
      "cell_type": "markdown",
      "metadata": {
        "id": "sZ5EK05HqkP0",
        "colab_type": "text"
      },
      "source": [
        "##2-1-8 Expectation value of hamiltonian\n",
        "If a state vector$\\mid \\psi \\rangle$ and hamiltonian $H$ is given, the expectation value of hamiltonian is simply,\n",
        "\n",
        "$$\n",
        "\\langle \\psi (\\theta) \\mid H \\mid \\psi (\\theta) \\rangle\n",
        "$$"
      ]
    },
    {
      "cell_type": "markdown",
      "metadata": {
        "id": "kuMGGhyZqpIp",
        "colab_type": "text"
      },
      "source": [
        "##2-1-9 Example: Calculate the expectation value of Z using ansatz\n",
        "By using an ansatz, the expectation value of Z is calculated as,\n",
        "\n",
        "$$\n",
        "\\langle \\psi \\mid H \\mid \\psi \\rangle = \n",
        "\\begin{bmatrix}\n",
        "\\alpha^* & \\beta^*\n",
        "\\end{bmatrix}\n",
        "\\begin{bmatrix}\n",
        "1&0\\\\\n",
        "0&-1\n",
        "\\end{bmatrix}\n",
        "\\begin{bmatrix}\n",
        "\\alpha\\\\\n",
        "\\beta\n",
        "\\end{bmatrix}\n",
        "= |\\alpha|^2 - |\\beta|^2\n",
        "$$\n",
        "\n",
        "$|\\alpha|^2$ is the probability to get 0 and $|\\beta|^2$ is the probability to get 1."
      ]
    },
    {
      "cell_type": "markdown",
      "metadata": {
        "id": "BYZ_g5DfqzJJ",
        "colab_type": "text"
      },
      "source": [
        "##2-1-10 Example2: Calculate the expectation value of X using ansatz\n",
        "The expecation value of $H = X$ is,\n",
        "\n",
        "$$\n",
        "\\langle \\psi \\mid H \\mid \\psi \\rangle = \n",
        "\\begin{bmatrix}\n",
        "\\alpha^* & \\beta^*\n",
        "\\end{bmatrix}\n",
        "\\begin{bmatrix}\n",
        "0&1\\\\\n",
        "1&0\n",
        "\\end{bmatrix}\n",
        "\\begin{bmatrix}\n",
        "\\alpha\\\\\n",
        "\\beta\n",
        "\\end{bmatrix}\n",
        "= \\alpha^* \\beta + \\alpha \\beta^*\n",
        "$$\n",
        "\n",
        "But we cannot get these amplitude directly from the measurement.\n",
        "\n"
      ]
    },
    {
      "cell_type": "markdown",
      "metadata": {
        "id": "aNJtRgrCryOI",
        "colab_type": "text"
      },
      "source": [
        "##2-1-11 deformation of hamiltonian\n",
        "If the hamiltonian$H$ is $Z$, we can easily get the expectation value. But if $H$ is X or Y it is difficult to get the expectation value. So we need a deformation of the hamiltonian. X gate satisfy,\n",
        "\n",
        "$$\n",
        "X = HZH\n",
        "$$\n",
        "\n",
        "And we use it for hamiltonian\n",
        "\n",
        "$$\n",
        "\\langle \\psi \\mid X \\mid \\psi \\rangle \\\\\n",
        "= \\langle \\psi \\mid HZH \\mid \\psi \\rangle\\\\\n",
        "= \\langle \\psi' \\mid Z \\mid \\psi' \\rangle\n",
        "$$\n",
        "\n",
        "H can be included into the state vector, and Y gate also satisfy,\n",
        "\n",
        "$$\n",
        "Y = RX(-\\pi/2) Z RX(\\pi/2)\n",
        "$$\n",
        "\n",
        "And we get,\n",
        "\n",
        "$$\n",
        "\\langle \\psi \\mid Y \\mid \\psi \\rangle \\\\\n",
        "= \\langle \\psi \\mid RX(-\\pi/2) Z RX(\\pi/2) \\mid \\psi \\rangle\\\\\n",
        "= \\langle \\psi'' \\mid Z \\mid \\psi'' \\rangle\n",
        "$$\n",
        "\n",
        "Actually we can realize it by just putting H or RX gate before the measurement. \n"
      ]
    },
    {
      "cell_type": "markdown",
      "metadata": {
        "id": "ZQFpnT4hr7Rb",
        "colab_type": "text"
      },
      "source": [
        "##2-1-12　Linear combination\n",
        "The hamiltonian is usually given in Hermite matrix and it is a linear combination of unitary matrix. This can be decomposited into,\n",
        "\n",
        "$$\n",
        "\\langle \\psi \\mid aH_1 + bH_2 \\mid \\psi \\rangle \\\\ = \\langle \\psi \\mid aH_1 \\mid \\psi \\rangle + \\langle \\psi \\mid bH_2 \\mid \\psi \\rangle \\\\ = a\\langle \\psi \\mid H_1 \\mid \\psi \\rangle + b\\langle \\psi \\mid H_2 \\mid \\psi \\rangle\n",
        "$$\n",
        "\n",
        "Using this a complicated matrix like,\n",
        "\n",
        "$$\n",
        "H = 1.2 X_0 Z_2 + 2.5 Z_0 X_1 Y_2 - 3.4 Z_2 X_1\n",
        "$$\n",
        "\n",
        "can be calculated like,\n",
        "\n",
        "$$\n",
        "\\langle \\psi \\mid 1.2 X_0 Z_2 + 2.5 Z_0 X_1 Y_2 - 3.4 Z_2 X_1 \\mid \\psi \\rangle\\\\\n",
        "= 1.2\\langle \\psi \\mid X_0 Z_2 \\mid \\psi \\rangle + 2.5 \\langle \\psi \\mid Z_0 X_1 Y_2\\mid \\psi \\rangle - 3.4 \\langle \\psi \\mid Z_2 X_1 \\mid \\psi \\rangle\n",
        "$$\n"
      ]
    },
    {
      "cell_type": "markdown",
      "metadata": {
        "id": "CHlW-P20sMUy",
        "colab_type": "text"
      },
      "source": [
        "##2-1-13 Example: random hamiltonian and ansatz\n",
        "If we don't see about the relation between Hamiltonian $H$ and Ansatz, it would be a very difficult task to solve. Here we use only 1qubit to find the minimum eigenvalue of a very simple hamiltonian $H$.\n",
        "\n",
        "```python\n",
        "from blueqat.pauli import X, Y, Z, I\n",
        "\n",
        "h = 1.23 * I - 4.56 * X(0) + 2.45 * Y(0) + 2.34 * Z(0)\n",
        "```\n",
        "\n",
        "This is a very simple hamiltonian with just 1qbit. The number after the Pauli operator denotes the number of qubit. This hamiltonian is written in a matrix expression as,\n",
        "\n",
        "```python\n",
        "[[ 3.57,   -4.56-2.45j]\n",
        " [-4.56+2.45j, -1.11  ]]\n",
        "```\n",
        "\n",
        "And to find the minimum expectation value of this hamiltonian, we use an ansatz. This time we just use 1qbit and need just 2 angle parameters.\n",
        "\n",
        "```python\n",
        "Circuit().ry(a)[0].rz(b)[0]\n",
        "```\n",
        "\n",
        "We apply two rotation operators on 0th qubit. Ry gate with angle a and Rz gate with angle b on 0th qubit. If we can find a good value of a and b, the hamiltonian takes a good expectation value of Hamiltonian.\n",
        "\n",
        "Now we have the code as,\n",
        "\n"
      ]
    },
    {
      "cell_type": "code",
      "metadata": {
        "id": "-TmnjLaisgH1",
        "colab_type": "code",
        "outputId": "669ab3de-3f4e-430f-827b-bd75e6e778fb",
        "colab": {
          "base_uri": "https://localhost:8080/",
          "height": 85
        }
      },
      "source": [
        "import numpy as np\n",
        "from blueqat import Circuit\n",
        "from blueqat.pauli import X, Y, Z, I\n",
        "from blueqat.vqe import AnsatzBase, Vqe\n",
        "\n",
        "class OneQubitAnsatz(AnsatzBase):\n",
        "    def __init__(self, hamiltonian):\n",
        "        super().__init__(hamiltonian.to_expr(), 2)\n",
        "        self.step = 1\n",
        "\n",
        "    def get_circuit(self, params):\n",
        "        a, b = params\n",
        "        return Circuit().ry(a)[0].rz(b)[0] #making ansatz with 2 parameters\n",
        "\n",
        "\n",
        "# Hamiltonian\n",
        "h = 1.23 * I - 4.56 * X(0) + 2.45 * Y(0) + 2.34 * Z(0)\n",
        "runner = Vqe(OneQubitAnsatz(h))\n",
        "result = runner.run()\n",
        "\n",
        "print('Result by VQE')\n",
        "print(runner.ansatz.get_energy(result.circuit, runner.sampler))\n",
        "\n",
        "# For check\n",
        "mat = h.to_matrix()\n",
        "\n",
        "# Calculate by numpy\n",
        "print('Result by numpy')\n",
        "print(np.linalg.eigh(mat)[0][0])"
      ],
      "execution_count": 0,
      "outputs": [
        {
          "output_type": "stream",
          "text": [
            "Result by VQE\n",
            "-4.450814236864202\n",
            "Result by numpy\n",
            "-4.450818602983201\n"
          ],
          "name": "stdout"
        }
      ]
    },
    {
      "cell_type": "markdown",
      "metadata": {
        "id": "okS8fH_XsaVJ",
        "colab_type": "text"
      },
      "source": [
        "And we get the very similar value as the actual eigenvalue. Normally we have specific rules on Hamiltonian and Ansatz. Blueqat do most of these formulation and calculation automatically."
      ]
    },
    {
      "cell_type": "code",
      "metadata": {
        "id": "FpsXbuiOqTK6",
        "colab_type": "code",
        "outputId": "a0733f0a-be88-4c2c-955b-59b26606fe10",
        "colab": {
          "base_uri": "https://localhost:8080/",
          "height": 34
        }
      },
      "source": [
        "from blueqat import vqe\n",
        "from blueqat.pauli import Z\n",
        "\n",
        "H = Z(0)*Z(1) #Hamiltonian\n",
        "step = 2\n",
        "\n",
        "result = vqe.Vqe(vqe.QaoaAnsatz(H, step)).run()\n",
        "print(result.most_common(12))"
      ],
      "execution_count": 0,
      "outputs": [
        {
          "output_type": "stream",
          "text": [
            "(((1, 0), 0.499883822557386), ((0, 1), 0.499883822557386), ((0, 0), 0.00011617744261394092), ((1, 1), 0.00011617744261394092))\n"
          ],
          "name": "stdout"
        }
      ]
    },
    {
      "cell_type": "markdown",
      "metadata": {
        "id": "-bGJkmeRsRbT",
        "colab_type": "text"
      },
      "source": [
        "Now we see an actual practical prolems.\n",
        "\n",
        "1. Quantum Chemistry on VQE\n",
        "2. Combinatorial Optimization on QAOA"
      ]
    }
  ]
}