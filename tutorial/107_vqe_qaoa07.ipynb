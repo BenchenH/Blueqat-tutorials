{
  "nbformat": 4,
  "nbformat_minor": 0,
  "metadata": {
    "colab": {
      "name": "107_vqe_qaoa07.ipynb",
      "provenance": []
    },
    "kernelspec": {
      "name": "python3",
      "display_name": "Python 3"
    },
    "accelerator": "GPU"
  },
  "cells": [
    {
      "cell_type": "markdown",
      "metadata": {
        "colab_type": "text",
        "id": "lBwwBUo60S_7"
      },
      "source": [
        "#Variational Quantum Eigensolver & QAOA / Classical setting part"
      ]
    },
    {
      "cell_type": "markdown",
      "metadata": {
        "id": "jXcCXsl40WIJ",
        "colab_type": "text"
      },
      "source": [
        "Now we see a setting of classical optimization part and some speed up on backend.\n",
        "\n",
        "##Classical Optimization\n",
        "Inside of the variational method, the steps for the algorithm is,\n",
        "\n",
        "1. Short parametrized quantum circuit\n",
        "2. Calculate expectation value using the result of the circuit. And then give the next proposed parameter using classical optimization algorithm."
      ]
    },
    {
      "cell_type": "code",
      "metadata": {
        "id": "C4lZga3R0aJn",
        "colab_type": "code",
        "outputId": "f6ff8eb6-1f0e-42dd-8c04-6344b520c0a3",
        "colab": {
          "base_uri": "https://localhost:8080/",
          "height": 136
        }
      },
      "source": [
        "!pip install blueqat"
      ],
      "execution_count": 1,
      "outputs": [
        {
          "output_type": "stream",
          "text": [
            "Collecting blueqat\n",
            "\u001b[?25l  Downloading https://files.pythonhosted.org/packages/f6/73/20f9cff48caee1f69190f2e1ea93c4d7d0a745fc48defb5d3072d8337583/blueqat-0.3.13-py3-none-any.whl (50kB)\n",
            "\r\u001b[K     |██████▌                         | 10kB 22.2MB/s eta 0:00:01\r\u001b[K     |█████████████                   | 20kB 28.0MB/s eta 0:00:01\r\u001b[K     |███████████████████▍            | 30kB 32.5MB/s eta 0:00:01\r\u001b[K     |█████████████████████████▉      | 40kB 37.0MB/s eta 0:00:01\r\u001b[K     |████████████████████████████████| 51kB 8.1MB/s \n",
            "\u001b[?25hRequirement already satisfied: scipy>=1.1.0 in /usr/local/lib/python3.6/dist-packages (from blueqat) (1.4.1)\n",
            "Requirement already satisfied: numpy~=1.12 in /usr/local/lib/python3.6/dist-packages (from blueqat) (1.17.5)\n",
            "Installing collected packages: blueqat\n",
            "Successfully installed blueqat-0.3.13\n"
          ],
          "name": "stdout"
        }
      ]
    },
    {
      "cell_type": "code",
      "metadata": {
        "id": "KJZziOsN0WY4",
        "colab_type": "code",
        "outputId": "4da1de87-0769-4f0b-c89f-ab2302898b73",
        "colab": {
          "base_uri": "https://localhost:8080/",
          "height": 85
        }
      },
      "source": [
        "import numpy as np\n",
        "from blueqat import Circuit, vqe\n",
        "from blueqat.pauli import X, Y, Z, I\n",
        "from blueqat.pauli import qubo_bit as q\n",
        "from blueqat.vqe import AnsatzBase, Vqe\n",
        "\n",
        "class QubitAnsatz(AnsatzBase):\n",
        "    def __init__(self, hamiltonian):\n",
        "        super().__init__(hamiltonian, 4)\n",
        "        self.step = 1\n",
        "\n",
        "    def get_circuit(self, params):\n",
        "        a, b, c, d = params\n",
        "        return Circuit().ry(a)[0].rz(b)[0].ry(c)[1].rz(d)[1]\n",
        "\n",
        "h = -3*q(0)-3*q(1)-2*q(0)*q(1)\n",
        "h = h.to_expr().simplify()\n",
        "minimizer=vqe.get_scipy_minimizer(method=\"COBYLA\",options={\"tol\":5.0e-4})\n",
        "runner = Vqe(QubitAnsatz(h),minimizer=minimizer)\n",
        "result = runner.run()\n",
        "\n",
        "print('Result by VQE')\n",
        "print(runner.ansatz.get_energy(result.circuit, runner.sampler))\n",
        "\n",
        "# Hamiltonian to matrix\n",
        "mat = h.to_matrix()\n",
        "\n",
        "# Calculate by numpy\n",
        "print('Result by numpy')\n",
        "print(np.linalg.eigh(mat)[0][0])"
      ],
      "execution_count": 2,
      "outputs": [
        {
          "output_type": "stream",
          "text": [
            "Result by VQE\n",
            "-7.999999845198036\n",
            "Result by numpy\n",
            "-8.0\n"
          ],
          "name": "stdout"
        }
      ]
    },
    {
      "cell_type": "markdown",
      "metadata": {
        "id": "Uyoz-H_b0p8U",
        "colab_type": "text"
      },
      "source": [
        "\n",
        "Scipy is used for the default optimization and possible to change it from the list.\n",
        "\n",
        "https://docs.scipy.org/doc/scipy/reference/generated/scipy.optimize.minimize.html\n",
        "\n",
        "'Nelder-Mead', 'Powell', 'CG', 'BFGS', 'L-BFGS-B', 'TNC', 'COBYLA', 'SLSQP'\n",
        "\n",
        "And if you want to use your own optimizer you can use it by making a function.\n",
        "\n",
        "```python\n",
        "def hyperopt_minimizer(objective, n_params):\n",
        "    from hyperopt import fmin, Trials, tpe, hp\n",
        "    trials = Trials()\n",
        "    best = fmin(objective, [hp.uniform(f'p{i}', 0., 2 * np.pi) for i in range(n_params)],\n",
        "            algo=tpe.suggest, max_evals=10000, trials=trials, verbose=1)\n",
        "    return list(best.values())\n",
        "```"
      ]
    },
    {
      "cell_type": "markdown",
      "metadata": {
        "colab_type": "text",
        "id": "eR0x9aokfyqJ"
      },
      "source": [
        "##Numba backend\n",
        "Blueqat has a numba backend to achieve simple speed up on long quantum circuit."
      ]
    },
    {
      "cell_type": "code",
      "metadata": {
        "colab_type": "code",
        "id": "AK-hRCBefyd_",
        "colab": {}
      },
      "source": [
        "from blueqat import BlueqatGlobalSetting\n",
        "BlueqatGlobalSetting.set_default_backend('numpy')"
      ],
      "execution_count": 0,
      "outputs": []
    },
    {
      "cell_type": "code",
      "metadata": {
        "colab_type": "code",
        "outputId": "00d80419-2753-4641-f044-19d2bb043fe5",
        "id": "QRDl5c46fx_X",
        "colab": {
          "base_uri": "https://localhost:8080/",
          "height": 34
        }
      },
      "source": [
        "import time\n",
        "from blueqat import vqe\n",
        "from blueqat.pauli import qubo_bit as q\n",
        "\n",
        "hamiltonian = q(0)*q(1)*q(2)*q(3)\n",
        "step = 10\n",
        "\n",
        "start = time.time()\n",
        "result = vqe.Vqe(vqe.QaoaAnsatz(hamiltonian, step)).run()\n",
        "end = time.time()\n",
        "\n",
        "print(end - start)"
      ],
      "execution_count": 0,
      "outputs": [
        {
          "output_type": "stream",
          "text": [
            "20.231501579284668\n"
          ],
          "name": "stdout"
        }
      ]
    },
    {
      "cell_type": "markdown",
      "metadata": {
        "colab_type": "text",
        "id": "LbXHAR-ffx8N"
      },
      "source": [
        "This is 10steps VQE. Now we see numba backend on the same hamiltonian."
      ]
    },
    {
      "cell_type": "code",
      "metadata": {
        "colab_type": "code",
        "id": "kk6utM0Dfx4p",
        "colab": {}
      },
      "source": [
        "from blueqat import BlueqatGlobalSetting\n",
        "BlueqatGlobalSetting.set_default_backend('numba')"
      ],
      "execution_count": 0,
      "outputs": []
    },
    {
      "cell_type": "code",
      "metadata": {
        "colab_type": "code",
        "id": "x8_bU2-zfx1T",
        "colab": {}
      },
      "source": [
        "import time\n",
        "from blueqat import vqe\n",
        "from blueqat.pauli import qubo_bit as q\n",
        "\n",
        "hamiltonian = q(0)*q(1)*q(2)*q(3)\n",
        "step = 10\n",
        "\n",
        "start = time.time()\n",
        "result = vqe.Vqe(vqe.QaoaAnsatz(hamiltonian, step)).run()\n",
        "end = time.time()\n",
        "\n",
        "print(end - start)"
      ],
      "execution_count": 0,
      "outputs": []
    }
  ]
}