{
 "cells": [
  {
   "cell_type": "markdown",
   "metadata": {
    "colab_type": "text",
    "id": "NjHnSAbHrInP"
   },
   "source": [
    "# Subtractor\n",
    "Quantum computers have the function of being able to perform the same calculations as conventional computers. Check the circuit for Subtractor."
   ]
  },
  {
   "cell_type": "markdown",
   "metadata": {},
   "source": [
    "## What we'll learn this time\n",
    "1. Implementing Binary Subtractor Using Quantum Gates\n",
    "2. Using quantum superposition, we can realize multiple Substractor in a single circuit"
   ]
  },
  {
   "cell_type": "markdown",
   "metadata": {},
   "source": [
    "## Install Blueqat\n",
    "Install Blueqat from pip."
   ]
  },
  {
   "cell_type": "code",
   "execution_count": 1,
   "metadata": {
    "colab": {},
    "colab_type": "code",
    "collapsed": true,
    "id": "OF-AmKpXtgSJ"
   },
   "outputs": [
    {
     "name": "stdout",
     "output_type": "stream",
     "text": [
      "Requirement already satisfied: blueqat in /home/ec2-user/anaconda3/envs/python3/lib/python3.6/site-packages (0.3.13)\n",
      "Requirement already satisfied: numpy~=1.12 in /home/ec2-user/anaconda3/envs/python3/lib/python3.6/site-packages (from blueqat) (1.18.3)\n",
      "Requirement already satisfied: scipy>=1.1.0 in /home/ec2-user/anaconda3/envs/python3/lib/python3.6/site-packages (from blueqat) (1.1.0)\n",
      "\u001b[33mWARNING: You are using pip version 20.0.2; however, version 20.1 is available.\n",
      "You should consider upgrading via the '/home/ec2-user/anaconda3/envs/python3/bin/python -m pip install --upgrade pip' command.\u001b[0m\n"
     ]
    }
   ],
   "source": [
    "!pip install blueqat"
   ]
  },
  {
   "cell_type": "markdown",
   "metadata": {
    "colab_type": "text",
    "id": "PKhFYi-drld1"
   },
   "source": [
    "## Subtraction of binary numbers\n",
    "Subtractor uses a CCX gate to perform minus sign or a plus sign and a CX gate to perform Subtraction. In this case, we will do a quantum circuit of binary Subtraction, a-b = cd. This time, we will implement four types of Subtraction according to the values of a and b. Each Subtraction is,\n",
    "\n",
    "0-0 = 00 => 0000  \n",
    "0-1 = 11 => 0111  \n",
    "1-0 = 01 => 1001  \n",
    "1-1 = 00 => 1100  \n",
    "\n",
    "The first two qubits are the input values a and b, and the second two qubits are the output values c and d. I've built a separate circuit for the input of a and b and a circuit for the addition, and used it several times. For data input, use the X gate to flip 0 to 1."
   ]
  },
  {
   "cell_type": "markdown",
   "metadata": {},
   "source": [
    "The circuit part of the additon looks like this. * is a controlled bit.\n",
    "\n",
    "```\n",
    "a ---X---*---X---*------- a\n",
    "b -------*-------|---*--- b\n",
    "0 -------X-------|---|--- c\n",
    "0 ---------------X---X--- d\n",
    "```"
   ]
  },
  {
   "cell_type": "code",
   "execution_count": 5,
   "metadata": {
    "colab": {
     "base_uri": "https://localhost:8080/",
     "height": 34
    },
    "colab_type": "code",
    "id": "O674HiVxjc7P",
    "outputId": "63d75a71-0b78-4b7b-b759-56b2d018e284"
   },
   "outputs": [],
   "source": [
    "#import tools\n",
    "from blueqat import Circuit\n",
    "\n",
    "#subtraction part\n",
    "subtractor = Circuit().x[0].ccx[0,1,2].x[0].cx[0,3].cx[1,3]"
   ]
  },
  {
   "cell_type": "code",
   "execution_count": 6,
   "metadata": {
    "colab": {
     "base_uri": "https://localhost:8080/",
     "height": 34
    },
    "colab_type": "code",
    "id": "O674HiVxjc7P",
    "outputId": "63d75a71-0b78-4b7b-b759-56b2d018e284"
   },
   "outputs": [
    {
     "output_type": "execute_result",
     "data": {
      "text/plain": "Counter({'0000': 100})"
     },
     "metadata": {},
     "execution_count": 6
    }
   ],
   "source": [
    "#0-0\n",
    "(Circuit() + subtractor).m[:].run(shots=100)"
   ]
  },
  {
   "cell_type": "code",
   "execution_count": 7,
   "metadata": {
    "colab": {
     "base_uri": "https://localhost:8080/",
     "height": 34
    },
    "colab_type": "code",
    "id": "xlTAVvSt3iZv",
    "outputId": "c6e6810e-4569-4849-da61-ab41e72f83c0"
   },
   "outputs": [
    {
     "output_type": "execute_result",
     "data": {
      "text/plain": "Counter({'0111': 100})"
     },
     "metadata": {},
     "execution_count": 7
    }
   ],
   "source": [
    "#0-1\n",
    "(Circuit().x[1] + subtractor).m[:].run(shots=100)"
   ]
  },
  {
   "cell_type": "code",
   "execution_count": 8,
   "metadata": {
    "colab": {
     "base_uri": "https://localhost:8080/",
     "height": 34
    },
    "colab_type": "code",
    "id": "BtkqFj8n3kBS",
    "outputId": "5db803d7-a2dc-417b-95c2-eacf35e160c2"
   },
   "outputs": [
    {
     "output_type": "execute_result",
     "data": {
      "text/plain": "Counter({'1001': 100})"
     },
     "metadata": {},
     "execution_count": 8
    }
   ],
   "source": [
    "#1-0\n",
    "(Circuit().x[0] + subtractor).m[:].run(shots=100)"
   ]
  },
  {
   "cell_type": "code",
   "execution_count": 9,
   "metadata": {
    "colab": {
     "base_uri": "https://localhost:8080/",
     "height": 34
    },
    "colab_type": "code",
    "id": "JnmWCnOf3xGw",
    "outputId": "b89c5e8a-899b-47da-faed-dc5a3a5035e5"
   },
   "outputs": [
    {
     "output_type": "execute_result",
     "data": {
      "text/plain": "Counter({'1100': 100})"
     },
     "metadata": {},
     "execution_count": 9
    }
   ],
   "source": [
    "#1-1\n",
    "(Circuit().x[0,1] + subtractor).m[:].run(shots=100)"
   ]
  },
  {
   "cell_type": "markdown",
   "metadata": {
    "colab_type": "text",
    "id": "OPe8FDu04AtN"
   },
   "source": [
    "As you can see, we were able to calculate."
   ]
  },
  {
   "cell_type": "markdown",
   "metadata": {
    "colab_type": "text",
    "id": "OPe8FDu04AtN"
   },
   "source": [
    "## subtraction using superposition\n",
    "Now, instead of filling in the data one by one with the X-gate, let's use the H-gate to do the subtraction."
   ]
  },
  {
   "cell_type": "code",
   "execution_count": 10,
   "metadata": {},
   "outputs": [
    {
     "output_type": "execute_result",
     "data": {
      "text/plain": "Counter({'1001': 18, '0000': 21, '1100': 36, '0111': 25})"
     },
     "metadata": {},
     "execution_count": 10
    }
   ],
   "source": [
    "#Use H gate as input instead of X gate\n",
    "(Circuit().h[0,1] + subtractor).m[:].run(shots=100)"
   ]
  },
  {
   "cell_type": "markdown",
   "metadata": {},
   "source": [
    "Using the Hadamal Gate, I got 4 answers, about 1/4 each. If you create a universal subtraction circuit like this, you can perform calculations using the superposition state."
   ]
  },
  {
   "cell_type": "markdown",
   "metadata": {},
   "source": [
    "## subtraction using entanglement\n",
    "Next, instead of the H-gate, we try to subtract a-b=0 using quantum entanglement."
   ]
  },
  {
   "cell_type": "code",
   "execution_count": 11,
   "metadata": {},
   "outputs": [
    {
     "output_type": "execute_result",
     "data": {
      "text/plain": "Counter({'1100': 51, '0000': 49})"
     },
     "metadata": {},
     "execution_count": 11
    }
   ],
   "source": [
    "#Make an entangled state of 00 and 11\n",
    "(Circuit().h[0].cx[0,1] + subtractor).m[:].run(shots=100)"
   ]
  },
  {
   "cell_type": "markdown",
   "metadata": {},
   "source": [
    "Since the input values 00 and 11 are entangled, the addition of these two will come out about half by half."
   ]
  },
  {
   "cell_type": "markdown",
   "metadata": {},
   "source": [
    "--------"
   ]
  }
 ],
 "metadata": {
  "colab": {
   "collapsed_sections": [],
   "name": "008_basic_general.ipynb",
   "provenance": [],
   "version": "0.3.2"
  },
  "kernelspec": {
   "display_name": "Python 3.7.6 64-bit ('dwave': conda)",
   "language": "python",
   "name": "python37664bitdwavecondaaa252b8d749942f1b803140f9f138e1e"
  },
  "language_info": {
   "codemirror_mode": {
    "name": "ipython",
    "version": 3
   },
   "file_extension": ".py",
   "mimetype": "text/x-python",
   "name": "python",
   "nbconvert_exporter": "python",
   "pygments_lexer": "ipython3",
   "version": "3.7.6-final"
  }
 },
 "nbformat": 4,
 "nbformat_minor": 1
}